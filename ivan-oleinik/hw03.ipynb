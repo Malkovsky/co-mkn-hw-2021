{
 "cells": [
  {
   "cell_type": "code",
   "execution_count": 147,
   "metadata": {},
   "outputs": [],
   "source": [
    "import numpy as np\n",
    "import cvxpy as cp"
   ]
  },
  {
   "cell_type": "markdown",
   "metadata": {},
   "source": [
    "**1**"
   ]
  },
  {
   "cell_type": "markdown",
   "metadata": {},
   "source": [
    "Хотим минимизировать $c^T x$ при условии $Ax = b, x \\ge 0$.\n",
    "\n",
    "$L(x, \\lambda, \\mu) = c^T x - \\lambda^T x + \\mu^T (Ax - b)$\n",
    "\n",
    "$q(\\lambda, \\mu) = \\begin{cases} -\\mu^T b,\\ c^T - \\lambda^T + \\mu^T A = 0\\\\ -\\infty,\\ c^T - \\lambda^T + \\mu^T A \\neq 0 \\end{cases} $\n",
    "\n",
    "Двойственная задача: хотим максимизировать $-\\mu^T b$ при условии $c^T - \\lambda^T + \\mu^T A = 0, \\lambda \\ge 0$."
   ]
  },
  {
   "cell_type": "code",
   "execution_count": 148,
   "metadata": {},
   "outputs": [],
   "source": [
    "def solve_dual_task(A, b, c):\n",
    "    mu, lambda_ = cp.Variable(A.shape[0]), cp.Variable(A.shape[1])\n",
    "    cp.Problem(\n",
    "        cp.Minimize(mu.T @ b),\n",
    "        [c.T - lambda_.T + mu.T @ A == 0, lambda_ >= 0]\n",
    "    ).solve()\n",
    "    return mu.value, lambda_.value"
   ]
  },
  {
   "cell_type": "code",
   "execution_count": 149,
   "metadata": {},
   "outputs": [],
   "source": [
    "A = np.array([[3, 2], [3, 4]]) \n",
    "b = np.array([4, 6])\n",
    "c = np.array([41, 13])"
   ]
  },
  {
   "cell_type": "code",
   "execution_count": 150,
   "metadata": {},
   "outputs": [
    {
     "data": {
      "text/plain": [
       "(array([-20.83333333,   7.16666667]),\n",
       " array([ 1.98992768e-10, -9.81393086e-11]))"
      ]
     },
     "execution_count": 150,
     "metadata": {},
     "output_type": "execute_result"
    }
   ],
   "source": [
    "solve_dual_task(A, b, c)"
   ]
  },
  {
   "cell_type": "markdown",
   "metadata": {},
   "source": [
    "Заметим, что для ненулевых $\\lambda_i$ соответствующий $x_i = 0$, значит, достаточно решить систему $Ax = b$ для остальных."
   ]
  },
  {
   "cell_type": "code",
   "execution_count": 151,
   "metadata": {},
   "outputs": [],
   "source": [
    "def solve(A, b, c):\n",
    "    _, lambda_ = solve_dual_task(A, b, c)\n",
    "    x = np.zeros(A.shape[1])\n",
    "    zero_lambda = np.isclose(lambda_, 0)\n",
    "    A_ = A[:, zero_lambda].T\n",
    "    x[zero_lambda] = np.linalg.inv(A_ @ A_.T) @ A_ @ b\n",
    "    return x"
   ]
  },
  {
   "cell_type": "code",
   "execution_count": 152,
   "metadata": {},
   "outputs": [
    {
     "data": {
      "text/plain": [
       "array([0.66666667, 1.        ])"
      ]
     },
     "execution_count": 152,
     "metadata": {},
     "output_type": "execute_result"
    }
   ],
   "source": [
    "solve(A, b, c)"
   ]
  },
  {
   "cell_type": "markdown",
   "metadata": {},
   "source": [
    "**2**"
   ]
  },
  {
   "cell_type": "markdown",
   "metadata": {},
   "source": [
    "Хотим минимизировть максимальное из расстояний от центра до точек."
   ]
  },
  {
   "cell_type": "code",
   "execution_count": 199,
   "metadata": {},
   "outputs": [],
   "source": [
    "def min_ball(X):\n",
    "    c = cp.Variable((1, X.shape[1]))\n",
    "    r = cp.Problem(\n",
    "        cp.Minimize(\n",
    "            cp.max(cp.sum((c - X) ** 2, 1))\n",
    "        )\n",
    "    )\n",
    "    r.solve()\n",
    "    return c.value, np.sqrt(r.value)"
   ]
  },
  {
   "cell_type": "code",
   "execution_count": 200,
   "metadata": {},
   "outputs": [
    {
     "data": {
      "text/plain": [
       "(array([[2.97910181e-10, 1.17539003e-04, 2.13752644e-04]]), 5.000000006248471)"
      ]
     },
     "execution_count": 200,
     "metadata": {},
     "output_type": "execute_result"
    }
   ],
   "source": [
    "min_ball(np.array([\n",
    "    [0, 3, 4],\n",
    "    [5, 0, 0],\n",
    "    [-5, 0, 0],\n",
    "    [-1, 0, -2],\n",
    "    [1, 0, 2]\n",
    "]))"
   ]
  },
  {
   "cell_type": "markdown",
   "metadata": {},
   "source": [
    "**3**"
   ]
  },
  {
   "cell_type": "markdown",
   "metadata": {},
   "source": [
    "Хотим максимизироваать $\\min \\limits_{y_i = 1} a^T x_i - \\max \\limits_{y_i = 0} a^T x_i$, что то же самое что минимизировать $p - q$ при условии $p \\ge \\max \\limits_{y_i = 0} a^T x_i, q \\le \\min \\limits_{y_i = 1} a^T x_i$. Будем считать что вектор $a$ лежит в единичном шаре."
   ]
  },
  {
   "cell_type": "code",
   "execution_count": 226,
   "metadata": {},
   "outputs": [],
   "source": [
    "def SVM(X, Y):\n",
    "    a = cp.Variable((1, X.shape[1]))\n",
    "    p, q = cp.Variable(2)\n",
    "    cp.Problem(cp.Minimize(p - q),\n",
    "               [p >= a @ x for x in X[Y == 0]] + \\\n",
    "               [q <= a @ x for x in X[Y == 1]] + \\\n",
    "               [cp.norm(a) <= 1]).solve()\n",
    "    return a.value"
   ]
  },
  {
   "cell_type": "code",
   "execution_count": 227,
   "metadata": {},
   "outputs": [
    {
     "data": {
      "text/plain": [
       "array([[0.49436073, 0.73467497, 0.46460753]])"
      ]
     },
     "execution_count": 227,
     "metadata": {},
     "output_type": "execute_result"
    }
   ],
   "source": [
    "SVM(np.array([[1, 2, 4], [3, 5, 6], [7, 8, -3]]), np.array([0, 1, 1]))"
   ]
  }
 ],
 "metadata": {
  "kernelspec": {
   "display_name": "Python 3",
   "language": "python",
   "name": "python3"
  },
  "language_info": {
   "codemirror_mode": {
    "name": "ipython",
    "version": 3
   },
   "file_extension": ".py",
   "mimetype": "text/x-python",
   "name": "python",
   "nbconvert_exporter": "python",
   "pygments_lexer": "ipython3",
   "version": "3.8.3"
  }
 },
 "nbformat": 4,
 "nbformat_minor": 4
}
