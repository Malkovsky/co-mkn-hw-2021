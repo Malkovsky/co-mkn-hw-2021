{
 "cells": [
  {
   "cell_type": "code",
   "execution_count": 217,
   "metadata": {},
   "outputs": [],
   "source": [
    "import numpy as np\n",
    "from scipy.optimize import minimize"
   ]
  },
  {
   "cell_type": "code",
   "execution_count": 218,
   "metadata": {},
   "outputs": [],
   "source": [
    "class Matrix:\n",
    "    __array_priority__ = 1\n",
    "    \n",
    "    def __init__(self, matrix):\n",
    "        self.m, self.n = matrix.shape\n",
    "        self.matrix = matrix.copy()\n",
    "        self.data = [(i, j, matrix[i][j]) for i in range(self.m) for j in range(self.n) if matrix[i][j]]\n",
    "        \n",
    "    def T(self):\n",
    "        res = np.zeros((self.n, self.m))\n",
    "        for i, j, val in self.data:\n",
    "            res[j][i] = val\n",
    "        return Matrix(res)\n",
    "    \n",
    "    def __matmul__(self, other):\n",
    "        assert self.n == other.shape[0]\n",
    "        res = np.zeros(self.m)\n",
    "        for i, j, val in self.data:\n",
    "            res[i] += other[j] * val\n",
    "        return res\n",
    "        \n",
    "    def __rmatmul__(self, other):\n",
    "        assert self.m == other.shape[0]\n",
    "        res = np.zeros(self.n)\n",
    "        for i, j, val in self.data:\n",
    "            res[j] += other[i] * val\n",
    "        return res"
   ]
  },
  {
   "cell_type": "code",
   "execution_count": 219,
   "metadata": {},
   "outputs": [],
   "source": [
    "matrix = np.array(\n",
    "    [\n",
    "        [1., 4., 0.], \n",
    "        [2., 1., 0.], \n",
    "        [0., 1., 0.5]\n",
    "    ]\n",
    ")\n",
    "M = Matrix(matrix)\n",
    "v = np.array([1., 2., 3.])\n",
    "\n",
    "assert np.all(M.T().matrix == matrix.T)\n",
    "assert np.all(Matrix(matrix) @ v == matrix @ v)\n",
    "assert np.all(v @ Matrix(matrix) == v @ matrix)"
   ]
  },
  {
   "cell_type": "code",
   "execution_count": 220,
   "metadata": {},
   "outputs": [],
   "source": [
    "def ConjGrad(A, b):\n",
    "    x = np.zeros(A.m)\n",
    "    AT = A.T()\n",
    "    b = AT @ b\n",
    "    v = AT @ (A @ x) - b\n",
    "    v_norm = np.dot(v, v)\n",
    "    d = v\n",
    "    \n",
    "    for i in range(len(b)):\n",
    "        Ad = AT @ (A @ d)\n",
    "        alpha = v_norm / (d @ Ad)\n",
    "        v = v - alpha * Ad\n",
    "        x = x - alpha * d\n",
    "        new_v_norm = np.dot(v, v)\n",
    "        d = v + (new_v_norm / v_norm) * d\n",
    "        v_norm = new_v_norm\n",
    "    return x"
   ]
  },
  {
   "cell_type": "code",
   "execution_count": 222,
   "metadata": {},
   "outputs": [],
   "source": [
    "np.random.seed(2)\n",
    "for i in range(50):\n",
    "    m = 5\n",
    "    A = Matrix(np.array(np.random.rand(m, m)))\n",
    "    b = np.random.rand(m)\n",
    "    \n",
    "    assert np.abs(np.linalg.norm(A @ ConjGrad(A, b) - b) - \\\n",
    "                  minimize(lambda x: np.linalg.norm(A @ x - b), np.zeros(m)).fun) < 1e-5"
   ]
  }
 ],
 "metadata": {
  "kernelspec": {
   "display_name": "Python 3",
   "language": "python",
   "name": "python3"
  },
  "language_info": {
   "codemirror_mode": {
    "name": "ipython",
    "version": 3
   },
   "file_extension": ".py",
   "mimetype": "text/x-python",
   "name": "python",
   "nbconvert_exporter": "python",
   "pygments_lexer": "ipython3",
   "version": "3.8.3"
  }
 },
 "nbformat": 4,
 "nbformat_minor": 1
}