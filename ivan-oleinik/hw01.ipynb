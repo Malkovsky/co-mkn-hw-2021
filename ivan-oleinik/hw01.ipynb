{
 "cells": [
  {
   "cell_type": "code",
   "execution_count": 171,
   "metadata": {},
   "outputs": [],
   "source": [
    "EPS = 1e-10\n",
    "\n",
    "def eq_zero(x):\n",
    "    return abs(x) < EPS\n",
    "\n",
    "def lt_zero(x):\n",
    "    return x < -EPS\n",
    "\n",
    "def gt_zero(x):\n",
    "    return x > EPS"
   ]
  },
  {
   "cell_type": "code",
   "execution_count": 172,
   "metadata": {},
   "outputs": [
    {
     "name": "stdout",
     "output_type": "stream",
     "text": [
      "bisection: 3th root of -0.001 is -0.099609375\n",
      "bisection: 2th root of 100 is 10.000000894069672\n",
      "bisection: 1th root of -239.3 is -239.3\n",
      "newton: 3th root of -0.001 is -0.1\n",
      "newton: 2th root of 100 is 10.0\n",
      "newton: 1th root of -239.3 is -239.3\n"
     ]
    }
   ],
   "source": [
    "def bisection(f, l, r, iterations=100):\n",
    "    assert l <= r\n",
    "    if eq_zero(f(l)):\n",
    "        return l\n",
    "    if eq_zero(f(r)):\n",
    "        return r\n",
    "    assert lt_zero(f(l) * f(r))\n",
    "    for _ in range(iterations):\n",
    "        m = (l + r) / 2\n",
    "        if eq_zero(f(m)):\n",
    "            return m\n",
    "        if lt_zero(f(l) * f(m)):\n",
    "            r = m\n",
    "        else:\n",
    "            l = m\n",
    "    return l\n",
    "\n",
    "def newton(f, df, x0=0, iterations=100):\n",
    "    x = x0\n",
    "    for _ in range(iterations):\n",
    "        x -= f(x) / df(x)\n",
    "    return x\n",
    "\n",
    "def root(a, k, method):\n",
    "    assert method in ['bisection', 'newton']\n",
    "    assert k > 0 and (gt_zero(a) or k % 2 == 1)\n",
    "    if method == 'bisection':\n",
    "        l, r = 0., max(1., abs(a))\n",
    "        if lt_zero(a):\n",
    "            l, r = -r, -l\n",
    "        return bisection(lambda x: x ** k - a, l, r)\n",
    "    if method == 'newton':\n",
    "        f = lambda x: x ** k - a\n",
    "        df = lambda x: k * x ** (k - 1)\n",
    "        return newton(f, df, a)\n",
    "\n",
    "def show_root(a, k, method):\n",
    "    print(f'{method}: {k}th root of {a} is {root(a, k, method)}')\n",
    "\n",
    "show_root(a=-.001, k=3, method='bisection')\n",
    "show_root(a=100, k=2, method='bisection')\n",
    "show_root(a=-239.30, k=1, method='bisection')\n",
    "show_root(a=-.001, k=3, method='newton')\n",
    "show_root(a=100, k=2, method='newton')\n",
    "show_root(a=-239.30, k=1, method='newton')"
   ]
  },
  {
   "cell_type": "code",
   "execution_count": 173,
   "metadata": {},
   "outputs": [
    {
     "data": {
      "text/plain": [
       "[(-2.6457564575645756, -2.64569645696457),\n",
       " (-1.7320673206732067, -1.7320073200732007),\n",
       " (1.7320073200732002, 1.732067320673207),\n",
       " (2.6456964569645693, 2.645756457564575)]"
      ]
     },
     "execution_count": 173,
     "metadata": {},
     "output_type": "execute_result"
    }
   ],
   "source": [
    "C = 100000\n",
    "\n",
    "def get_intervals_with_roots(f, l, r):\n",
    "    assert l < r\n",
    "    intervals = []\n",
    "    ls = np.linspace(l, r, C)\n",
    "    for i in range(C - 1):\n",
    "        ll, rr = ls[i], ls[i + 1]\n",
    "        if lt_zero(f(rr) * f(ll)):\n",
    "            intervals.append((ll, rr))\n",
    "    return intervals\n",
    "\n",
    "p = lambda coefs, x: sum(c * x ** i for i, c in enumerate(coefs[::-1]))\n",
    "dp = lambda coefs, x: sum((i + 1) * c * x ** i for i, c in enumerate(coefs[::-1][:-1]))\n",
    "\n",
    "L, R = -3, 3\n",
    "coefs = [1, 1, -10, -10, 21, 21]\n",
    "p_coefs = lambda x: p(coefs, x)\n",
    "intervals = get_intervals_with_roots(p_coefs, L, R)\n",
    "intervals"
   ]
  },
  {
   "cell_type": "code",
   "execution_count": 174,
   "metadata": {},
   "outputs": [
    {
     "name": "stdout",
     "output_type": "stream",
     "text": [
      "roots:\n",
      "-2.645750832508325\n",
      "-1.7320485704857047\n",
      "1.7320513830138302\n",
      "2.6457517700177\n"
     ]
    }
   ],
   "source": [
    "print('roots:')\n",
    "for i in intervals:\n",
    "    print(bisection(p_coefs, *i))"
   ]
  },
  {
   "cell_type": "code",
   "execution_count": 175,
   "metadata": {},
   "outputs": [
    {
     "name": "stdout",
     "output_type": "stream",
     "text": [
      "global minima is -24 at -3\n"
     ]
    }
   ],
   "source": [
    "dp_coefs = lambda x: dp(coefs, x)\n",
    "candidates = [L, R]\n",
    "candidates += [bisection(dp_coefs, *i) for i in  get_intervals_with_roots(dp_coefs, L, R)]\n",
    "argmin = min(candidates, key=p_coefs)\n",
    "print(f'global minima is {p_coefs(argmin)} at {argmin}')"
   ]
  },
  {
   "cell_type": "code",
   "execution_count": 176,
   "metadata": {},
   "outputs": [
    {
     "name": "stdout",
     "output_type": "stream",
     "text": [
      "bisection: 110.76493266641712\n",
      "newton: 110.76493266641181\n",
      "ternar: 110.76493266641184\n"
     ]
    }
   ],
   "source": [
    "f = lambda a, b, c, d, x: np.exp(a * x) + np.exp(-b * x) + c * (x - d) ** 2\n",
    "df = lambda a, b, c, d, x: a * np.exp(a * x) - b * np.exp(-b * x) + 2 * c * (x - d)\n",
    "d2f = lambda a, b, c, d, x: a ** 2 * np.exp(a * x) + b ** 2 * np.exp(-b * x) + 2 * c\n",
    "\n",
    "a, b, c, d = 1, 2, 3, -7\n",
    "f_abcd = lambda x: f(a, b, c, d, x)\n",
    "df_abcd = lambda x: df(a, b, c, d, x)\n",
    "d2f_abcd = lambda x: d2f(a, b, c, d, x)\n",
    "\n",
    "L, R = -100, 100\n",
    "print('bisection:', f_abcd(bisection(df_abcd, L, R)))\n",
    "print('newton:', f_abcd(newton(df_abcd, d2f_abcd)))\n",
    "\n",
    "l, r = L, R\n",
    "while gt_zero(r - l):\n",
    "    ll, rr = (2 * l + r) / 3, (2 * r + l) / 3\n",
    "    if f_abcd(ll) > f_abcd(rr):\n",
    "        l = ll\n",
    "    else:\n",
    "        r = rr\n",
    "print('ternar:', f_abcd(l))"
   ]
  }
 ],
 "metadata": {
  "kernelspec": {
   "display_name": "Python 3",
   "language": "python",
   "name": "python3"
  },
  "language_info": {
   "codemirror_mode": {
    "name": "ipython",
    "version": 3
   },
   "file_extension": ".py",
   "mimetype": "text/x-python",
   "name": "python",
   "nbconvert_exporter": "python",
   "pygments_lexer": "ipython3",
   "version": "3.8.3"
  }
 },
 "nbformat": 4,
 "nbformat_minor": 4
}
