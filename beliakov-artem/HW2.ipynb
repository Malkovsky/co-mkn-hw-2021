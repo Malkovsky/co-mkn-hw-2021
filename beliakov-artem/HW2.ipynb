{
 "cells": [
  {
   "cell_type": "code",
   "execution_count": 4,
   "id": "ed4dea53-73ba-4a28-8a6c-d0eb03cd4d0e",
   "metadata": {},
   "outputs": [],
   "source": [
    "import numpy as np\n",
    "from copy import copy"
   ]
  },
  {
   "cell_type": "code",
   "execution_count": 3,
   "id": "62bb1368-4ce6-4267-840b-7299fc1c3b6e",
   "metadata": {},
   "outputs": [],
   "source": [
    "class Matrix:\n",
    "    def __init__(self, A):\n",
    "        self.A = A\n",
    "        self.n = A.shape[0]\n",
    "        assert A.shape[0] == A.shape[1], \"matrix must be square\"\n",
    "        \n",
    "        self.cells = []\n",
    "        for i in range(self.n):\n",
    "            for j in range(self.n):\n",
    "                if (A[i, j] != 0):\n",
    "                    self.cells.append((i, j, A[i, j]))\n",
    "    \n",
    "    def mul_right(self, v):\n",
    "        u = np.zeros(self.n)\n",
    "        \n",
    "        for (i, j, a) in self.cells:\n",
    "            u[i] += a * v[j]\n",
    "        return u\n",
    "    \n",
    "    def mul_left(self, v):\n",
    "        u = np.zeros(self.n)\n",
    "        \n",
    "        for (i, j, a) in self.cells:\n",
    "            u[j] += v[i] * a\n",
    "        return u\n",
    "    \n",
    "    def mul_both(self, v, u):\n",
    "        r = 0\n",
    "        for (i, j, a) in self.cells:\n",
    "            r += v[i] * a * u[j]\n",
    "        return r"
   ]
  },
  {
   "cell_type": "code",
   "execution_count": 64,
   "id": "71c9c502-bef7-4fd6-b745-31ae61c85d4e",
   "metadata": {},
   "outputs": [],
   "source": [
    "def conjugate_gradient(A, b, x_0):\n",
    "    x = x_0\n",
    "    A = Matrix(A)\n",
    "    n = A.n\n",
    "    v = (A.mul_right(x) - b)\n",
    "    d = v\n",
    "    v_norm = np.dot(v, v)\n",
    "    \n",
    "    result = [x.copy()]\n",
    "    for i in range(n):\n",
    "        if (np.allclose(d, np.zeros(n))):\n",
    "            break\n",
    "        alpha = v_norm / A.mul_both(d, d)\n",
    "        x = x - alpha * d\n",
    "        v = v - alpha * A.mul_right(d)\n",
    "        v_norm_new = np.dot(v, v)\n",
    "\n",
    "        d = v + (v_norm_new / v_norm) * d\n",
    "        v_norm = v_norm_new\n",
    "        result.append(x.copy())\n",
    "    return result   "
   ]
  },
  {
   "cell_type": "code",
   "execution_count": 65,
   "id": "b86cadb5-eecc-4db7-ba39-fdec6ca5f3e5",
   "metadata": {},
   "outputs": [],
   "source": [
    "A = np.array([[1, 1], [1, 1]])\n",
    "b = np.array([1, 1])\n",
    "x_0 = np.array([2, 2])"
   ]
  },
  {
   "cell_type": "code",
   "execution_count": 66,
   "id": "2601012b-d0a9-488c-9c19-22b7fa898add",
   "metadata": {},
   "outputs": [
    {
     "data": {
      "text/plain": [
       "[array([2, 2]), array([0.5, 0.5])]"
      ]
     },
     "execution_count": 66,
     "metadata": {},
     "output_type": "execute_result"
    }
   ],
   "source": [
    "conjugate_gradient(A, b, x_0)"
   ]
  },
  {
   "cell_type": "code",
   "execution_count": null,
   "id": "35f7eb95-4f05-4bd5-9f56-9253c5522380",
   "metadata": {},
   "outputs": [],
   "source": []
  }
 ],
 "metadata": {
  "kernelspec": {
   "display_name": "Python 3 (ipykernel)",
   "language": "python",
   "name": "python3"
  },
  "language_info": {
   "codemirror_mode": {
    "name": "ipython",
    "version": 3
   },
   "file_extension": ".py",
   "mimetype": "text/x-python",
   "name": "python",
   "nbconvert_exporter": "python",
   "pygments_lexer": "ipython3",
   "version": "3.9.7"
  }
 },
 "nbformat": 4,
 "nbformat_minor": 5
}
