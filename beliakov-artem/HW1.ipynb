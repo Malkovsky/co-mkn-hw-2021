{
 "cells": [
  {
   "cell_type": "markdown",
   "id": "5570b4dc-8388-4298-8263-3ef182b57678",
   "metadata": {},
   "source": [
    "#### Task1 "
   ]
  },
  {
   "cell_type": "code",
   "execution_count": 59,
   "id": "51357d52-0ae9-461e-a5b7-2117d095b258",
   "metadata": {},
   "outputs": [],
   "source": [
    "from math import exp"
   ]
  },
  {
   "cell_type": "code",
   "execution_count": 26,
   "id": "1aacadf8-7911-45ce-a590-8e909e26179f",
   "metadata": {},
   "outputs": [],
   "source": [
    "INF = 10\n",
    "EPS = 1e-8\n",
    "ITERATIONS_NUM = 1000"
   ]
  },
  {
   "cell_type": "code",
   "execution_count": 65,
   "id": "09e4ba40-631e-4e2e-800f-dc8d1653a0e7",
   "metadata": {},
   "outputs": [],
   "source": [
    "class Differentiable:\n",
    "    def __init__(self, derivatives):\n",
    "        self.derivatives = derivatives\n",
    "    def __call__(self, x):\n",
    "        return self.derivatives[0](x)\n",
    "    def grad(self):\n",
    "        if (len(self.derivatives) == 1):\n",
    "            raise Exception(\"no derivatives were provided\")\n",
    "        return Differentiable(self.derivatives[1:])\n",
    "\n",
    "class Polynom:\n",
    "    def __init__(self, coefs):\n",
    "        self.coefs = coefs\n",
    "        self._degree = len(coefs) - 1\n",
    "    def __call__(self, x):\n",
    "        res = 0\n",
    "        for i, coef in enumerate(self.coefs):\n",
    "            res += (x ** i) * coef\n",
    "        return res\n",
    "    def get_degree(self):\n",
    "        return self._degree\n",
    "    def grad(self):\n",
    "        grad_coefs = [0] * self._degree\n",
    "        for i in range(1, self._degree + 1):\n",
    "            grad_coefs[i - 1] = self.coefs[i] * i\n",
    "        return Polynom(grad_coefs)"
   ]
  },
  {
   "cell_type": "code",
   "execution_count": 43,
   "id": "b2197037-65a6-447a-935a-0508c1887b7c",
   "metadata": {},
   "outputs": [],
   "source": [
    "def bisec(p, l, r):\n",
    "    assert p(r) * p(l) < 0\n",
    "    sign = 1 if p(r) > 0 else -1\n",
    "\n",
    "    while (r - l > EPS):\n",
    "        m = (r + l) / 2\n",
    "        if (p(m) * sign > 0):\n",
    "            r = m\n",
    "        else:\n",
    "            l = m\n",
    "    return l\n",
    "\n",
    "def newton(p):\n",
    "    x = 1\n",
    "    p_grad = p.grad()\n",
    "    \n",
    "    for i in range(ITERATIONS_NUM):\n",
    "        x = x - p(x) / p_grad(x)\n",
    "    return x"
   ]
  },
  {
   "cell_type": "code",
   "execution_count": 44,
   "id": "974d1efc-3e75-464f-afc4-1154b2e73d39",
   "metadata": {},
   "outputs": [],
   "source": [
    "def get_polynom(k, a):\n",
    "    coefs = [0] * (k + 1)\n",
    "    coefs[k] = 1\n",
    "    coefs[0] = -a\n",
    "    return Polynom(coefs)"
   ]
  },
  {
   "cell_type": "code",
   "execution_count": 45,
   "id": "779a77cc-f4a3-4cb6-8229-13a6913607b8",
   "metadata": {},
   "outputs": [],
   "source": [
    "p = get_polynom(2, 2)"
   ]
  },
  {
   "cell_type": "code",
   "execution_count": 46,
   "id": "856e73fa-676b-40c0-9d08-cd02f576fa0e",
   "metadata": {},
   "outputs": [
    {
     "name": "stdout",
     "output_type": "stream",
     "text": [
      "bisec: 1.414213553071022\n",
      "newton: 1.414213562373095\n"
     ]
    }
   ],
   "source": [
    "print(f'bisec: {bisec(p, 0, INF)}')\n",
    "print(f'newton: {newton(p)}')"
   ]
  },
  {
   "cell_type": "markdown",
   "id": "5e6f8345-2893-4388-82b5-5e8f46c31a79",
   "metadata": {},
   "source": [
    "### Task2"
   ]
  },
  {
   "cell_type": "code",
   "execution_count": 53,
   "id": "3fb97a6c-e71a-4af7-8895-617d27efb1ad",
   "metadata": {},
   "outputs": [],
   "source": [
    "def get_roots(p):\n",
    "    if (p.get_degree() == 1):\n",
    "        return [-p.coefs[0] / p.coefs[1]]\n",
    "\n",
    "    a = [-INF]\n",
    "    a += get_roots(p.grad())\n",
    "    a.append(INF)\n",
    "    \n",
    "    roots = []\n",
    "    for i in range(len(a) - 1):\n",
    "        roots.append(bisec(p, a[i], a[i + 1]))\n",
    "    return roots"
   ]
  },
  {
   "cell_type": "code",
   "execution_count": 49,
   "id": "e14b67c6-1e00-4443-8d48-7f7abc61cf06",
   "metadata": {},
   "outputs": [],
   "source": [
    "def get_polynom_by_roots(roots):\n",
    "    coefs = [0] * (len(roots) + 1)\n",
    "    for mask in range(1 << len(roots)):\n",
    "        product = 1\n",
    "        bits = 0\n",
    "        for i in range(len(roots)):\n",
    "            if ((mask >> i) & 1):\n",
    "                product *= - roots[i]\n",
    "                bits += 1\n",
    "        coefs[len(roots) - bits] += product\n",
    "    return Polynom(coefs)"
   ]
  },
  {
   "cell_type": "code",
   "execution_count": 55,
   "id": "3ab3c66d-b3d7-40a8-b1fd-d110df4e2fc9",
   "metadata": {},
   "outputs": [
    {
     "data": {
      "text/plain": [
       "[0.9999999987523025,\n",
       " 1.999999993185262,\n",
       " 2.999999996626574,\n",
       " 3.999999993366687,\n",
       " 4.999999993699136]"
      ]
     },
     "execution_count": 55,
     "metadata": {},
     "output_type": "execute_result"
    }
   ],
   "source": [
    "get_roots(get_polynom_by_roots([1, 2, 3, 4, 5]))"
   ]
  },
  {
   "cell_type": "markdown",
   "id": "ba9620de-3784-4b80-a74f-fc148562a412",
   "metadata": {},
   "source": [
    "Понятно, что этот код не работает в самой общей постановке задачи. Как минимум он всегда возвращает столько корней, какой степени полином. Он совершенно не работает в сценарии, когда у нас есть кратные корни. Да и у производной могут быть кратные корни, но мне очень не хотелось разбирать все эти случаи. Так что вот так."
   ]
  },
  {
   "cell_type": "markdown",
   "id": "49264526-cf4a-4cfb-b23a-4972c645736c",
   "metadata": {},
   "source": [
    "### Task03"
   ]
  },
  {
   "cell_type": "code",
   "execution_count": 68,
   "id": "4a1e759f-8aec-49b7-a68f-a9d78f0f81c0",
   "metadata": {},
   "outputs": [],
   "source": [
    "def get_differentiable(a, b, c, d):\n",
    "    def f(x):\n",
    "        return exp(a * x) + exp(- b * x) + c * ((x - d) ** 2)\n",
    "    \n",
    "    def f_grad(x):\n",
    "        return a * exp(a * x) - b * exp(- b * x) + 2 * c * (x - d)\n",
    "    \n",
    "    def f_grad2(x):\n",
    "        return (a ** 2) * exp(a * x) + (b ** 2) * exp(- b * x) + 2 * c \n",
    "    \n",
    "    return Differentiable([f, f_grad, f_grad2])"
   ]
  },
  {
   "cell_type": "code",
   "execution_count": 69,
   "id": "bd90febc-613f-46de-8d68-e4073863d147",
   "metadata": {},
   "outputs": [],
   "source": [
    "f = get_differentiable(1, 1, 1, 1)"
   ]
  },
  {
   "cell_type": "code",
   "execution_count": null,
   "id": "562cadc3-48ed-40b4-9d26-a27aa603cd5d",
   "metadata": {},
   "outputs": [],
   "source": [
    "def ternary_search(f):\n",
    "    l = -INF\n",
    "    r = INF\n",
    "    \n",
    "    while(r - l > EPS):\n",
    "        m1 = l + ((r - l) / 3)\n",
    "        m2 = l + (2 * (r - l) / 3)\n",
    "        if (f(m1) > f(m2)):\n",
    "            l = m1\n",
    "        "
   ]
  },
  {
   "cell_type": "code",
   "execution_count": 72,
   "id": "2e038f67-8cec-4a90-b3d5-bbc0461f5e15",
   "metadata": {},
   "outputs": [
    {
     "name": "stdout",
     "output_type": "stream",
     "text": [
      "bisec:  0.49007306806743145\n",
      "newton:  0.4900730684805478\n"
     ]
    }
   ],
   "source": [
    "print(\"bisec: \", bisec(f.grad(), -INF, INF))\n",
    "print(\"newton: \", newton(f.grad()))"
   ]
  },
  {
   "cell_type": "code",
   "execution_count": null,
   "id": "1b016d61-06ec-4e7f-8050-0e7512ba0749",
   "metadata": {},
   "outputs": [],
   "source": []
  }
 ],
 "metadata": {
  "kernelspec": {
   "display_name": "Python 3 (ipykernel)",
   "language": "python",
   "name": "python3"
  },
  "language_info": {
   "codemirror_mode": {
    "name": "ipython",
    "version": 3
   },
   "file_extension": ".py",
   "mimetype": "text/x-python",
   "name": "python",
   "nbconvert_exporter": "python",
   "pygments_lexer": "ipython3",
   "version": "3.9.7"
  }
 },
 "nbformat": 4,
 "nbformat_minor": 5
}
