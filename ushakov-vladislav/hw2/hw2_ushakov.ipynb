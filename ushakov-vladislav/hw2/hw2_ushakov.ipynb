{
 "cells": [
  {
   "cell_type": "code",
   "execution_count": 10,
   "metadata": {},
   "outputs": [],
   "source": [
    "import numpy as np\n",
    "from scipy.sparse.sputils import isshape\n",
    "import cvxpy as cp\n",
    "import matplotlib.pyplot as plt"
   ]
  },
  {
   "cell_type": "markdown",
   "metadata": {},
   "source": [
    "### 1."
   ]
  },
  {
   "cell_type": "markdown",
   "metadata": {},
   "source": [
    "#### a) и b)"
   ]
  },
  {
   "cell_type": "code",
   "execution_count": 2,
   "metadata": {},
   "outputs": [],
   "source": [
    "class My_coo_matrix:\n",
    "    __array_priority__ = 1\n",
    "    \n",
    "    def __init__(self, arg, shape):\n",
    "        \"\"\"\n",
    "        My_coo_matrix((data, (row_ind, col_ind)), (M, N))\n",
    "            where ``data``, ``row_ind`` and ``col_ind`` satisfy the\n",
    "            relationship ``a[row_ind[i], col_ind[i]] = data[i]``.\n",
    "        \"\"\"\n",
    "        self.shape = shape\n",
    "        self.rows = self.shape[0]\n",
    "        self.cols = self.shape[1]\n",
    "                \n",
    "        self.data = np.array(arg[0], copy=True)\n",
    "        self.row_ind = np.array(arg[1][0], copy=True)\n",
    "        self.col_ind = np.array(arg[1][1], copy=True)\n",
    "        \n",
    "        #Validation\n",
    "        for i in self.row_ind:\n",
    "            if not 0 <= i <self.rows:\n",
    "                raise ValueError(\"Row indices don't match with the given shape.\")\n",
    "        \n",
    "        for j in self.col_ind:\n",
    "            if not 0 <= j <self.cols:\n",
    "                raise ValueError(\"Column indices don't match with the given shape.\")\n",
    "    \n",
    "    def transpose(self):\n",
    "        return My_coo_matrix((self.data, (self.col_ind, self.row_ind)), (self.cols, self.rows))\n",
    "    \n",
    "    def __matmul__(self, vector):\n",
    "        if not isinstance(vector, np.ndarray):\n",
    "            raise TypeError(\"Numpy.ndarray expected.\")\n",
    "        \n",
    "        if (self.cols,) != vector.shape:\n",
    "            raise ValueError(\"Operands' dimensions don't match.\")\n",
    "            \n",
    "        prod = np.zeros(self.cols)\n",
    "        for i in range(len(self.data)):\n",
    "            prod[self.row_ind[i]] += vector[self.col_ind[i]] * self.data[i]\n",
    "            \n",
    "        return prod\n",
    "    \n",
    "    def __rmatmul__(self, vector):\n",
    "        if not isinstance(vector, np.ndarray):\n",
    "            raise TypeError(\"Numpy.ndarray expected.\")\n",
    "        \n",
    "        if (self.rows,) != vector.shape:\n",
    "            raise ValueError(\"Operands' dimensions don't match.\")\n",
    "\n",
    "        prod = np.zeros(self.cols)\n",
    "        for i in range(len(self.data)):\n",
    "            prod[self.col_ind[i]] += vector[self.row_ind[i]] * self.data[i]\n",
    "            \n",
    "        return prod"
   ]
  },
  {
   "cell_type": "code",
   "execution_count": 3,
   "metadata": {},
   "outputs": [],
   "source": [
    "# [1 0 0]\n",
    "# [0 1 0]\n",
    "# [0 0 1]\n",
    "\n",
    "def test_sparse_identity_matrix():\n",
    "    I = My_coo_matrix(([1, 1, 1], ([0, 1, 2], [0, 1, 2])), (3, 3))\n",
    "    b = np.array([1, 2, 3])\n",
    "    \n",
    "    res_left = I @ b\n",
    "    res_right = b @ I\n",
    "    \n",
    "    assert(np.all(b == res_left))\n",
    "    assert(np.all(b == res_right))"
   ]
  },
  {
   "cell_type": "code",
   "execution_count": 4,
   "metadata": {},
   "outputs": [],
   "source": [
    "# [4 0 9 0]\n",
    "# [0 7 0 0]\n",
    "# [0 0 0 0]\n",
    "# [0 0 0 5]\n",
    "\n",
    "def test_sparse_default_matrix():\n",
    "    I = My_coo_matrix(([4, 5, 7, 9], ([0, 3, 1, 0], [0, 3, 1, 2])), (4, 4))\n",
    "    b = np.array([1, 1, 1, 1])\n",
    "    \n",
    "    res_left = I @ b\n",
    "    res_right = b @ I\n",
    "    \n",
    "    ans_left = np.array([13, 7, 0, 5])\n",
    "    ans_right = np.array([4, 7, 9, 5])\n",
    "    \n",
    "    assert(np.all(ans_left == res_left))\n",
    "    assert(np.all(ans_right == res_right))"
   ]
  },
  {
   "cell_type": "code",
   "execution_count": 5,
   "metadata": {},
   "outputs": [],
   "source": [
    "test_sparse_identity_matrix()\n",
    "test_sparse_default_matrix()"
   ]
  },
  {
   "cell_type": "markdown",
   "metadata": {},
   "source": [
    "### 2."
   ]
  },
  {
   "cell_type": "code",
   "execution_count": 6,
   "metadata": {},
   "outputs": [],
   "source": [
    "# From the lecture\n",
    "def conjugate_gradient_template(A, b, x_0):\n",
    "    x = x_0\n",
    "    v = (A @ x - b)\n",
    "    d = v\n",
    "    v_norm = np.dot(v, v)\n",
    "    \n",
    "    result = [x.copy()]\n",
    "    for i in range(len(b)):\n",
    "        Ad = np.dot(A, d)\n",
    "        alpha = v_norm / np.dot(d, Ad)\n",
    "        x = x - alpha * d\n",
    "        v = v - alpha * Ad\n",
    "        v_norm_new = np.dot(v, v)\n",
    "\n",
    "        d = v + (v_norm_new / v_norm) * d\n",
    "        v_norm = v_norm_new\n",
    "        result.append(x.copy())\n",
    "    return result"
   ]
  },
  {
   "cell_type": "markdown",
   "metadata": {},
   "source": [
    "$\\|Ax-b\\| = \\sqrt{\\left<Ax - b, Ax - b\\right>} = \\sqrt{\\left<Ax, Ax\\right> - 2\\left<b, Ax\\right> + \\left<b, b\\right>} =\n",
    "\\sqrt{x^TA^TAx - 2b^TAx + b^Tb} = \\sqrt{\\frac{1}{2}x^T(2A^TA)x - (2A^Tb)^Tx + b^Tb} \\Leftrightarrow$"
   ]
  },
  {
   "cell_type": "markdown",
   "metadata": {},
   "source": [
    "Корень монотонно возрастает, поэтому минимизация с корнем равносильна минимизации без корня."
   ]
  },
  {
   "cell_type": "markdown",
   "metadata": {},
   "source": [
    "$\\Leftrightarrow \\frac{1}{2}x^T(2A^TA)x - (2A^Tb)^Tx + b^Tb \\Leftrightarrow$"
   ]
  },
  {
   "cell_type": "markdown",
   "metadata": {},
   "source": [
    "Избавимся от лишнего множителя, т.к. он не влияет на минимизацию."
   ]
  },
  {
   "cell_type": "markdown",
   "metadata": {},
   "source": [
    "$\\Leftrightarrow \\frac{1}{2}x^T(A^TA)x - (A^Tb)^Tx + \\dfrac{b^Tb}{2}$"
   ]
  },
  {
   "cell_type": "markdown",
   "metadata": {},
   "source": [
    "Получена задача минимизации квадратичной функции. Матрица $A^TA$ симметрична. Применим метод сопряженных градиентов:"
   ]
  },
  {
   "cell_type": "code",
   "execution_count": 7,
   "metadata": {},
   "outputs": [],
   "source": [
    "def conjugate_gradient_sparse(A, b, x_0):\n",
    "    x = x_0\n",
    "    A_transposed = A.transpose()\n",
    "    v = (A_transposed @ (A @ x) - A_transposed @ b)\n",
    "    d = v\n",
    "    v_norm = np.dot(v, v)\n",
    "    \n",
    "    result = [x.copy()]\n",
    "    for i in range(len(b)):\n",
    "        Ad = A_transposed @ (A @ d)\n",
    "        alpha = v_norm / (d @ Ad)\n",
    "        x = x - alpha * d\n",
    "        v = v - alpha * Ad\n",
    "        v_norm_new = np.dot(v, v)\n",
    "\n",
    "        d = v + (v_norm_new / v_norm) * d\n",
    "        v_norm = v_norm_new\n",
    "        result.append(x.copy())\n",
    "    return result"
   ]
  },
  {
   "cell_type": "code",
   "execution_count": 8,
   "metadata": {},
   "outputs": [],
   "source": [
    "def show_cgd():\n",
    "    A = np.random.rand(5, 5)\n",
    "    b = np.random.rand(5)\n",
    "    x = np.zeros_like(b)\n",
    "    \n",
    "    estimates_conjugate_gradient = conjugate_gradient_sparse(A, b, x)\n",
    "    \n",
    "    fig, axs = plt.subplots(1, 1, figsize=(10, 7))\n",
    "    axs.plot([i for i in range(len(estimates_conjugate_gradient))], [np.linalg.norm(A @ x - b) for x in estimates_conjugate_gradient], label='CGD')\n",
    "    axs.legend()\n",
    "    axs.set_ylabel(r'$\\|Ax_k-b\\|$', fontsize=20)\n",
    "    axs.set_xlabel(r'$k$', fontsize=20)\n",
    "    axs.set_yscale('log')\n",
    "    plt.close(fig)\n",
    "    return fig"
   ]
  },
  {
   "cell_type": "code",
   "execution_count": 9,
   "metadata": {},
   "outputs": [
    {
     "data": {
      "image/png": "[encoded data removed]",
      "text/plain": [
       "<Figure size 720x504 with 1 Axes>"
      ]
     },
     "execution_count": 9,
     "metadata": {},
     "output_type": "execute_result"
    }
   ],
   "source": [
    "show_cgd()"
   ]
  }
 ],
 "metadata": {
  "kernelspec": {
   "display_name": "Python 3 (ipykernel)",
   "language": "python",
   "name": "python3"
  },
  "language_info": {
   "codemirror_mode": {
    "name": "ipython",
    "version": 3
   },
   "file_extension": ".py",
   "mimetype": "text/x-python",
   "name": "python",
   "nbconvert_exporter": "python",
   "pygments_lexer": "ipython3",
   "version": "3.9.7"
  }
 },
 "nbformat": 4,
 "nbformat_minor": 1
}