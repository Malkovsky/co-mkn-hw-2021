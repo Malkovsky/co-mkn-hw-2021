{
 "cells": [
  {
   "cell_type": "code",
   "execution_count": 1,
   "metadata": {},
   "outputs": [],
   "source": [
    "import numpy as np\n",
    "from numpy.polynomial.polynomial import Polynomial\n",
    "import matplotlib.pyplot as plt"
   ]
  },
  {
   "cell_type": "markdown",
   "metadata": {
    "collapsed": true
   },
   "source": [
    "### 1."
   ]
  },
  {
   "cell_type": "markdown",
   "metadata": {
    "pycharm": {
     "name": "#%%\n"
    }
   },
   "source": [
    "#### a)"
   ]
  },
  {
   "cell_type": "code",
   "execution_count": 2,
   "metadata": {},
   "outputs": [],
   "source": [
    "def bisection(f, l, r, iterations=100):  # l, r -> (l, r]\n",
    "    if f(r) == 0:\n",
    "        return r\n",
    "    \n",
    "    if f(r) > 0:\n",
    "        sign = 1\n",
    "    else:\n",
    "        sign = -1\n",
    "        \n",
    "    m = (l + r) / 2\n",
    "    \n",
    "    for _ in range(iterations):\n",
    "        if f(m)*sign < 0:\n",
    "            l = m\n",
    "        elif f(m)*sign > 0:\n",
    "            r = m\n",
    "        else:\n",
    "            break\n",
    "        \n",
    "        m = (l + r) / 2\n",
    "    \n",
    "    return m"
   ]
  },
  {
   "cell_type": "code",
   "execution_count": 3,
   "metadata": {},
   "outputs": [],
   "source": [
    "def root_by_bisection(a, k, iterations=100):\n",
    "    def f(x):\n",
    "        return x**k - a\n",
    "    \n",
    "    l, r = 0, max(a, 1)\n",
    "    return bisection(f, l, r, iterations)"
   ]
  },
  {
   "cell_type": "code",
   "execution_count": 4,
   "metadata": {},
   "outputs": [
    {
     "data": {
      "text/plain": [
       "0.5"
      ]
     },
     "execution_count": 4,
     "metadata": {},
     "output_type": "execute_result"
    }
   ],
   "source": [
    "root_by_bisection(0.0625, 4)"
   ]
  },
  {
   "cell_type": "code",
   "execution_count": 5,
   "metadata": {},
   "outputs": [
    {
     "data": {
      "text/plain": [
       "5.0"
      ]
     },
     "execution_count": 5,
     "metadata": {},
     "output_type": "execute_result"
    }
   ],
   "source": [
    "root_by_bisection(125, 3)"
   ]
  },
  {
   "cell_type": "markdown",
   "metadata": {},
   "source": [
    "#### b)"
   ]
  },
  {
   "cell_type": "code",
   "execution_count": 6,
   "metadata": {},
   "outputs": [],
   "source": [
    "def Newton_method(f, dfdx, x0, iterations=100):\n",
    "    x = x0\n",
    "    \n",
    "    for _ in range(iterations):\n",
    "        if f(x) == 0:\n",
    "            break\n",
    "        \n",
    "        x -= f(x) / dfdx(x)\n",
    "    \n",
    "    return x"
   ]
  },
  {
   "cell_type": "code",
   "execution_count": 7,
   "metadata": {},
   "outputs": [],
   "source": [
    "def root_by_Newton_method(a, k, iterations=100):\n",
    "    def f(x):\n",
    "        return x**k - a\n",
    "    \n",
    "    def dfdx(x):\n",
    "        return k * x**(k - 1)\n",
    "    \n",
    "    x0 = max(a / 2, 1)\n",
    "    \n",
    "    return Newton_method(f, dfdx, x0, iterations)"
   ]
  },
  {
   "cell_type": "code",
   "execution_count": 8,
   "metadata": {},
   "outputs": [
    {
     "data": {
      "text/plain": [
       "0.5"
      ]
     },
     "execution_count": 8,
     "metadata": {},
     "output_type": "execute_result"
    }
   ],
   "source": [
    "root_by_Newton_method(0.0625, 4)"
   ]
  },
  {
   "cell_type": "code",
   "execution_count": 9,
   "metadata": {},
   "outputs": [
    {
     "data": {
      "text/plain": [
       "5.0"
      ]
     },
     "execution_count": 9,
     "metadata": {},
     "output_type": "execute_result"
    }
   ],
   "source": [
    "root_by_Newton_method(125, 3)"
   ]
  },
  {
   "cell_type": "markdown",
   "metadata": {},
   "source": [
    "### 2."
   ]
  },
  {
   "cell_type": "markdown",
   "metadata": {},
   "source": [
    "#### a)"
   ]
  },
  {
   "cell_type": "code",
   "execution_count": 10,
   "metadata": {},
   "outputs": [],
   "source": [
    "poly = Polynomial([0.2, 0, -3, 1, 5, 1])\n",
    "poly_l, poly_r = -1, 1"
   ]
  },
  {
   "cell_type": "code",
   "execution_count": 11,
   "metadata": {},
   "outputs": [
    {
     "data": {
      "image/png": "[encoded data removed]",
      "text/plain": [
       "<Figure size 432x288 with 1 Axes>"
      ]
     },
     "metadata": {
      "needs_background": "light"
     },
     "output_type": "display_data"
    }
   ],
   "source": [
    "fig, ax = plt.subplots()\n",
    "\n",
    "x = np.linspace(poly_l, poly_r, 10000)\n",
    "y = poly(x)\n",
    "\n",
    "ax.plot(x, y)\n",
    "ax.plot(x, np.zeros(10000), 'black')\n",
    "\n",
    "plt.show()"
   ]
  },
  {
   "cell_type": "code",
   "execution_count": 12,
   "metadata": {},
   "outputs": [],
   "source": [
    "def polynomial_gcd(a, b):\n",
    "    a_, b_ = a.copy(), b.copy()\n",
    "    while not (b_.degree() == 0 and b_.coef[0] == 0):\n",
    "        a_, b_ = b_, a_ % b_\n",
    "    return a_"
   ]
  },
  {
   "cell_type": "code",
   "execution_count": 13,
   "metadata": {},
   "outputs": [],
   "source": [
    "def localize_roots(poly, l, r):  # [1, 2, 3] -> 1 + 2x + 3x^2\n",
    "    def Sturm_series_value(x):   # l, r -> (l, r]\n",
    "        sign = 0\n",
    "        sign_changes = 0\n",
    "        for poly in Sturm_sequence:\n",
    "            if poly(x) > 0:\n",
    "                if sign < 0:\n",
    "                    sign_changes += 1\n",
    "                \n",
    "                sign = 1\n",
    "            \n",
    "            elif poly(x) < 0:\n",
    "                if sign > 0:\n",
    "                    sign_changes += 1\n",
    "                \n",
    "                sign = -1\n",
    "        \n",
    "        return sign_changes\n",
    "    \n",
    "    def find_roots(l, r):\n",
    "        V_l = Sturm_series_value(l)\n",
    "        V_r = Sturm_series_value(r)\n",
    "        \n",
    "        if V_l - V_r == 0:\n",
    "            return []\n",
    "        elif V_l - V_r == 1:\n",
    "            return[(l, r)]\n",
    "        \n",
    "        m = (l + r) / 2\n",
    "        found_root_loc = []\n",
    "        found_root_loc.extend(find_roots(l, m))\n",
    "        found_root_loc.extend(find_roots(m, r))\n",
    "        \n",
    "        return found_root_loc\n",
    "    \n",
    "    p = poly.copy()\n",
    "    \n",
    "    if p.degree() == 0:\n",
    "        raise ValueError(\"The polynomial's degree is 0\")\n",
    "    \n",
    "    p //= polynomial_gcd(p, p.deriv(1))\n",
    "    p /= p.coef[-1]\n",
    "    \n",
    "    Sturm_sequence = [p.copy(), p.deriv(1).copy()]\n",
    "    \n",
    "    while Sturm_sequence[-1].degree() > 0:\n",
    "        Sturm_sequence.append(-(Sturm_sequence[-2] % Sturm_sequence[-1]))\n",
    "        \n",
    "    return find_roots(l, r)\n",
    "    "
   ]
  },
  {
   "cell_type": "code",
   "execution_count": 14,
   "metadata": {},
   "outputs": [
    {
     "data": {
      "text/plain": [
       "[(-1, -0.5), (-0.5, 0.0), (0.0, 0.5), (0.5, 1)]"
      ]
     },
     "execution_count": 14,
     "metadata": {},
     "output_type": "execute_result"
    }
   ],
   "source": [
    "localize_roots(poly, poly_l, poly_r)"
   ]
  },
  {
   "cell_type": "markdown",
   "metadata": {},
   "source": [
    "#### b)"
   ]
  },
  {
   "cell_type": "code",
   "execution_count": 15,
   "metadata": {},
   "outputs": [],
   "source": [
    "def find_roots(poly, l, r):\n",
    "    p = poly.copy()\n",
    "    \n",
    "    roots_loc = localize_roots(p, l, r)\n",
    "    \n",
    "    p //= polynomial_gcd(p, p.deriv(1))\n",
    "    p /= p.coef[-1]\n",
    "    \n",
    "    roots = [bisection(p, loc[0], loc[1]) for loc in roots_loc]\n",
    "    return roots"
   ]
  },
  {
   "cell_type": "code",
   "execution_count": 16,
   "metadata": {},
   "outputs": [
    {
     "data": {
      "text/plain": [
       "[-0.9636567143281951,\n",
       " -0.2608947046884449,\n",
       " 0.2999262819638956,\n",
       " 0.5708565856566035]"
      ]
     },
     "execution_count": 16,
     "metadata": {},
     "output_type": "execute_result"
    }
   ],
   "source": [
    "find_roots(poly, poly_l, poly_r)"
   ]
  },
  {
   "cell_type": "markdown",
   "metadata": {},
   "source": [
    "#### c)"
   ]
  },
  {
   "cell_type": "code",
   "execution_count": 17,
   "metadata": {},
   "outputs": [],
   "source": [
    "def find_global_minimum(poly, l, r):\n",
    "    possible_minimum_points = [l, r]\n",
    "    possible_minimum_points.extend(find_roots(poly.deriv(1), l, r))\n",
    "    minimum = poly(l)\n",
    "    global_minimum_point = l\n",
    "    \n",
    "    for point in possible_minimum_points:\n",
    "        value = poly(point)\n",
    "        if value < minimum:\n",
    "            minimum = value\n",
    "            global_minimum_point = point\n",
    "    \n",
    "    return global_minimum_point"
   ]
  },
  {
   "cell_type": "code",
   "execution_count": 18,
   "metadata": {},
   "outputs": [
    {
     "data": {
      "text/plain": [
       "-0.7008494701342523"
      ]
     },
     "execution_count": 18,
     "metadata": {},
     "output_type": "execute_result"
    }
   ],
   "source": [
    "find_global_minimum(poly, poly_l, poly_r)"
   ]
  },
  {
   "cell_type": "markdown",
   "metadata": {},
   "source": [
    "### 3."
   ]
  },
  {
   "cell_type": "markdown",
   "metadata": {},
   "source": [
    "Сумма выпуклых функций выпукла. У данной функции будет ровно один глобальный минимум. Найдем нуль производной."
   ]
  },
  {
   "cell_type": "code",
   "execution_count": 19,
   "metadata": {},
   "outputs": [],
   "source": [
    "def make_convex_f(a, b, c, d):\n",
    "    def convex_f(x):\n",
    "        return np.e**(a*x) + np.e**(-b*x) + c*(x - d)**2\n",
    "    \n",
    "    def dconvex_fdx(x):\n",
    "        return a*np.e**(a*x) - b*np.e**(-b*x) + 2*c*(x - d)\n",
    "    \n",
    "    def d2convex_fdx2(x):\n",
    "        return a*a*np.e**(a*x) + b*b*np.e**(-b*x) + 2*c\n",
    "    \n",
    "    return convex_f, dconvex_fdx, d2convex_fdx2"
   ]
  },
  {
   "cell_type": "code",
   "execution_count": 20,
   "metadata": {},
   "outputs": [],
   "source": [
    "a, b, c, d = 1, 1, 1, 1\n",
    "\n",
    "convf, dconvfdx, d2convfdx2 = make_convex_f(a, b, c, d)"
   ]
  },
  {
   "cell_type": "markdown",
   "metadata": {},
   "source": [
    "#### a)"
   ]
  },
  {
   "cell_type": "code",
   "execution_count": 21,
   "metadata": {},
   "outputs": [],
   "source": [
    "def find_zero_of_monotonic_function_by_bisection(f):\n",
    "    l, r = -1, 1\n",
    "    while f(2*l) > 0:\n",
    "        l *= 2\n",
    "    while f(2*r) < 0:\n",
    "        r *= 2\n",
    "    \n",
    "    return bisection(f, l, r)"
   ]
  },
  {
   "cell_type": "code",
   "execution_count": 22,
   "metadata": {},
   "outputs": [
    {
     "data": {
      "text/plain": [
       "0.49007306848054777"
      ]
     },
     "execution_count": 22,
     "metadata": {},
     "output_type": "execute_result"
    }
   ],
   "source": [
    "min_bisection = find_zero_of_monotonic_function_by_bisection(dconvfdx)\n",
    "min_bisection"
   ]
  },
  {
   "cell_type": "code",
   "execution_count": 23,
   "metadata": {},
   "outputs": [
    {
     "data": {
      "image/png": "[encoded data removed]",
      "text/plain": [
       "<Figure size 432x288 with 1 Axes>"
      ]
     },
     "metadata": {
      "needs_background": "light"
     },
     "output_type": "display_data"
    }
   ],
   "source": [
    "fig, ax = plt.subplots()\n",
    "\n",
    "x = np.linspace(min_bisection-0.5, min_bisection+0.5, 1000)\n",
    "y = convf(x)\n",
    "\n",
    "ax.plot(x, y)\n",
    "\n",
    "plt.show()"
   ]
  },
  {
   "cell_type": "markdown",
   "metadata": {},
   "source": [
    "#### b)"
   ]
  },
  {
   "cell_type": "code",
   "execution_count": 24,
   "metadata": {},
   "outputs": [],
   "source": [
    "def find_zero_of_monotonic_function_by_Newton_method(f, dfdx):\n",
    "    l, r = -1, 1\n",
    "    while f(2*l) > 0:\n",
    "        l *= 2\n",
    "    while f(2*r) < 0:\n",
    "        r *= 2\n",
    "    \n",
    "    x0 = (l + r) / 2\n",
    "    \n",
    "    return Newton_method(f, dfdx, x0)"
   ]
  },
  {
   "cell_type": "code",
   "execution_count": 25,
   "metadata": {},
   "outputs": [
    {
     "data": {
      "text/plain": [
       "0.4900730684805477"
      ]
     },
     "execution_count": 25,
     "metadata": {},
     "output_type": "execute_result"
    }
   ],
   "source": [
    "min_Newton = find_zero_of_monotonic_function_by_Newton_method(dconvfdx, d2convfdx2)\n",
    "min_Newton"
   ]
  },
  {
   "cell_type": "code",
   "execution_count": 26,
   "metadata": {},
   "outputs": [
    {
     "data": {
      "image/png": "[encoded data removed]",
      "text/plain": [
       "<Figure size 432x288 with 1 Axes>"
      ]
     },
     "metadata": {
      "needs_background": "light"
     },
     "output_type": "display_data"
    }
   ],
   "source": [
    "fig, ax = plt.subplots()\n",
    "\n",
    "x = np.linspace(min_Newton-0.5, min_Newton+0.5, 1000)\n",
    "y = convf(x)\n",
    "\n",
    "ax.plot(x, y)\n",
    "\n",
    "plt.show()"
   ]
  },
  {
   "cell_type": "markdown",
   "metadata": {},
   "source": [
    "#### c)"
   ]
  },
  {
   "cell_type": "code",
   "execution_count": 43,
   "metadata": {},
   "outputs": [],
   "source": [
    "def ternary_search(f, l, r, iterations=100):\n",
    "    for _ in range(iterations):\n",
    "        inner_l = (2*l + r) / 3\n",
    "        inner_r = (l + 2*r) / 3\n",
    "        \n",
    "        if f(inner_l) > f(inner_r):\n",
    "            l = inner_l\n",
    "        else:\n",
    "            r = inner_r\n",
    "    \n",
    "    return (l + r) / 2"
   ]
  },
  {
   "cell_type": "code",
   "execution_count": 44,
   "metadata": {},
   "outputs": [],
   "source": [
    "def find_minimum_of_convex_function_by_ternary_search(f):\n",
    "    l, r = -1, 1\n",
    "    while f(2*l) <= f(l):\n",
    "        l *= 2\n",
    "    while f(2*r) <= f(r):\n",
    "        r *= 2\n",
    "    \n",
    "    return ternary_search(f, l, r)"
   ]
  },
  {
   "cell_type": "code",
   "execution_count": 45,
   "metadata": {},
   "outputs": [
    {
     "data": {
      "text/plain": [
       "0.4900730607271974"
      ]
     },
     "execution_count": 45,
     "metadata": {},
     "output_type": "execute_result"
    }
   ],
   "source": [
    "min_ter = find_minimum_of_convex_function_by_ternary_search(convf)\n",
    "min_ter"
   ]
  },
  {
   "cell_type": "code",
   "execution_count": 30,
   "metadata": {},
   "outputs": [
    {
     "data": {
      "image/png": "[encoded data removed]",
      "text/plain": [
       "<Figure size 432x288 with 1 Axes>"
      ]
     },
     "metadata": {
      "needs_background": "light"
     },
     "output_type": "display_data"
    }
   ],
   "source": [
    "fig, ax = plt.subplots()\n",
    "\n",
    "x = np.linspace(min_ter-0.5, min_ter+0.5, 1000)\n",
    "y = convf(x)\n",
    "\n",
    "ax.plot(x, y)\n",
    "\n",
    "plt.show()"
   ]
  }
 ],
 "metadata": {
  "kernelspec": {
   "display_name": "Python 3 (ipykernel)",
   "language": "python",
   "name": "python3"
  },
  "language_info": {
   "codemirror_mode": {
    "name": "ipython",
    "version": 3
   },
   "file_extension": ".py",
   "mimetype": "text/x-python",
   "name": "python",
   "nbconvert_exporter": "python",
   "pygments_lexer": "ipython3",
   "version": "3.9.7"
  }
 },
 "nbformat": 4,
 "nbformat_minor": 1
}
