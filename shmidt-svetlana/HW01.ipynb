{
 "cells": [
  {
   "cell_type": "code",
   "execution_count": 180,
   "id": "ff701623",
   "metadata": {},
   "outputs": [],
   "source": [
    "import numpy as np\n",
    "from typing import List, Callable, Any\n",
    "from math import pow, exp\n",
    "import dataclasses\n",
    "from numpy.testing import assert_allclose\n",
    "from numpy import polynomial as poly"
   ]
  },
  {
   "cell_type": "markdown",
   "id": "47c65864",
   "metadata": {},
   "source": [
    "# Основные функции"
   ]
  },
  {
   "cell_type": "code",
   "execution_count": 181,
   "id": "87c8919a",
   "metadata": {},
   "outputs": [],
   "source": [
    "def bisection(fun: Callable[[float], float], left_bound: float, right_bound: float, eps: float) -> float:\n",
    "    assert left_bound <= right_bound\n",
    "    if abs(fun(right_bound)) < eps:\n",
    "        return right_bound\n",
    "    if abs(fun(left_bound)) < eps:\n",
    "        return left_bound\n",
    "    while right_bound - left_bound > eps:\n",
    "        mid = (right_bound + left_bound) / 2\n",
    "        if fun(mid) * fun(right_bound) > 0:\n",
    "            right_bound = mid\n",
    "        else:\n",
    "            left_bound = mid\n",
    "    return (left_bound + right_bound) / 2"
   ]
  },
  {
   "cell_type": "code",
   "execution_count": 182,
   "id": "e175700f",
   "metadata": {},
   "outputs": [],
   "source": [
    "def newton(fun: Callable[[float], float], deriv: Callable[[float], float], x_start: float, iters: int) -> float:\n",
    "    x = x_start\n",
    "    for i in range(iters):\n",
    "        x = x - fun(x) / deriv(x)\n",
    "    return x"
   ]
  },
  {
   "cell_type": "code",
   "execution_count": 183,
   "id": "f938b00e",
   "metadata": {},
   "outputs": [],
   "source": [
    "def ternary_search(fun: Callable[[float], float], left: float, right: float, eps: float) -> float:\n",
    "    while right - left > eps:\n",
    "        tl = (2 * left + right) / 3\n",
    "        tr = (left + 2 * right) / 3\n",
    "        if fun(tr) > fun(tl):\n",
    "            right = tr\n",
    "        else:\n",
    "            left = tl\n",
    "    return (left + right) / 2"
   ]
  },
  {
   "cell_type": "markdown",
   "id": "b7a4e211",
   "metadata": {},
   "source": [
    "# Задание 1\n",
    "a) Найти  $\\sqrt[k]{a}$ ($k \\in \\mathbb{N}, a \\in \\mathbb{R}$) методом бисекции.\n",
    "Для этого нам необходимо найти корень уравнения $x^k-a=0$. \n",
    "Разберем несколько случаев.\n",
    "1. $k$ четно, $a < 0$. Решений нет.\n",
    "2. $k$ нечетно, $a < 0$. Решим задачу для модуля $a$ и умножим на -1.\n",
    "3. $a \\ge 0$. В качестве левой границы бисекции берем 0, в качестве правой $max(a, 1)$."
   ]
  },
  {
   "cell_type": "code",
   "execution_count": 184,
   "id": "d41d88b2",
   "metadata": {},
   "outputs": [],
   "source": [
    "def kroot_bisection(a: float, k: int) -> float:\n",
    "    assert k >= 1\n",
    "    assert k % 2 == 1 or a >= 0\n",
    "    ans =  bisection(lambda x: pow(x, k) - abs(a), 0, max(abs(a), 1), 0.001)\n",
    "    if a > 0:\n",
    "        return ans\n",
    "    return -ans"
   ]
  },
  {
   "cell_type": "markdown",
   "id": "bffe09e9",
   "metadata": {},
   "source": [
    "б) методом Ньютона. Та же логика, что в прошлом пункте"
   ]
  },
  {
   "cell_type": "code",
   "execution_count": 185,
   "id": "b9604852",
   "metadata": {},
   "outputs": [],
   "source": [
    "def kroot_newton(a: float, k: int) -> float:\n",
    "    assert k >= 1\n",
    "    assert k % 2 == 1 or a >= 0\n",
    "    ans = newton(lambda x: pow(x, k) - abs(a), lambda x: k * pow(x, k - 1), 0.5, 100)\n",
    "    if a > 0:\n",
    "        return ans\n",
    "    else:\n",
    "        return -ans"
   ]
  },
  {
   "cell_type": "code",
   "execution_count": 186,
   "id": "c170929d",
   "metadata": {},
   "outputs": [],
   "source": [
    "@dataclasses.dataclass\n",
    "class KthRootCase:\n",
    "    a: float\n",
    "    k: int\n",
    "    ans: float\n",
    "\n",
    "\n",
    "KTH_ROOT_TEST_CASES = [\n",
    "    KthRootCase(a = -1, k = 5, ans = -1),\n",
    "    KthRootCase(a = 10, k = 3, ans = 10 ** (1 / 3)),\n",
    "    KthRootCase(a = 256, k = 8, ans = 2),\n",
    "    KthRootCase(a = 0.0625, k = 2, ans = 0.25)\n",
    "]"
   ]
  },
  {
   "cell_type": "code",
   "execution_count": 187,
   "id": "7c3aeda7",
   "metadata": {},
   "outputs": [],
   "source": [
    "for t in KTH_ROOT_TEST_CASES:\n",
    "    assert_allclose(kroot_bisection(t.a, t.k), t.ans, atol=0.001)"
   ]
  },
  {
   "cell_type": "code",
   "execution_count": 188,
   "id": "6745c6b7",
   "metadata": {},
   "outputs": [],
   "source": [
    "for t in KTH_ROOT_TEST_CASES:\n",
    "    assert_allclose(kroot_newton(t.a, t.k), t.ans, atol=0.001)"
   ]
  },
  {
   "cell_type": "markdown",
   "id": "3a1dae27",
   "metadata": {},
   "source": [
    "# Задание 2\n",
    "Дан многочлен. Нужно локализовать его корни, используя эти знания, посчитать сами корни и найти глобальный минимум многочлена.\n",
    "наш алгоритм будет устроен следующим образом:\n",
    "\n",
    "1. Сначала мы посчитаем точки экстремума.\n",
    "2. Далее понятно, что корни будут лежать между переменами знаков в последовательности левая граница отрезка поиска, минимальный экстремум, второй экстремум, ..., максимальный экстремум, вторая граница. (Тут надо быть аккуратнее с кратными корнями, но они сами и будут экстремумами).\n",
    "\n",
    "После локализации сами значения легко найти бисекцией.\n",
    "\n",
    "Глобальный минимум найдем, взяв минимум во всех экстремумах и границах отрезка."
   ]
  },
  {
   "cell_type": "code",
   "execution_count": 189,
   "id": "d12edd34",
   "metadata": {},
   "outputs": [],
   "source": [
    "def poly_roots_bounds(poly, left: float, right: float, eps: float):\n",
    "    roots = []\n",
    "    extremums = [left]\n",
    "    extremums.extend(poly_roots(poly.deriv(), left, right, eps))\n",
    "    extremums.append(right)\n",
    "    ans = []\n",
    "    for i in range(1, len(extremums)):\n",
    "        if poly(extremums[i - 1]) * poly(extremums[i]) <= 0:\n",
    "            ans.append((extremums[i - 1], extremums[i]))\n",
    "    for i in extremums:\n",
    "        if abs(poly(i)) < eps:\n",
    "            ans.append((i, i))\n",
    "    return ans\n",
    "    \n",
    "def poly_roots(poly, left: float, right: float, eps: float):\n",
    "    if poly.degree() == 0:\n",
    "        return []\n",
    "    bounds = poly_roots_bounds(poly, left, right, eps)\n",
    "    ans = []\n",
    "    for (tl, tr) in bounds:\n",
    "        ans.append(bisection(poly, tl, tr, eps))\n",
    "    return sorted(set(ans))\n",
    "\n",
    "def poly_min(poly, left: float, right: float):\n",
    "    extremums = [left]\n",
    "    extremums.extend(poly_roots(poly.deriv(), left, right, 0.001))\n",
    "    extremums.append(right)\n",
    "    ans = poly(left)\n",
    "    for x in extremums:\n",
    "        ans = min(ans, poly(x))\n",
    "    return ans"
   ]
  },
  {
   "cell_type": "code",
   "execution_count": 190,
   "id": "d296a30b",
   "metadata": {},
   "outputs": [],
   "source": [
    "@dataclasses.dataclass\n",
    "class Task2Case:\n",
    "    poly: Any\n",
    "    left: float\n",
    "    right: float\n",
    "    roots: List[float]\n",
    "    min_val: float\n",
    "\n",
    "\n",
    "TASK2_TEST_CASES = [\n",
    "    Task2Case(poly=poly.Polynomial(coef=(1,2)), left=-100, right=100, roots=[-0.5], min_val=-199),\n",
    "    Task2Case(poly=poly.Polynomial(coef=(-1, 1)) ** 3, left=-1, right = 2, roots=[1],min_val=-8),\n",
    "    Task2Case(poly=poly.Polynomial(coef=(-10, 1)) * poly.Polynomial(coef=(-5, 1)) ** 2 * poly.Polynomial(coef=(1, 1)),\n",
    "              left=0, right=10, roots=[5, 10], min_val=-292.40385)\n",
    "]"
   ]
  },
  {
   "cell_type": "code",
   "execution_count": 191,
   "id": "74ae6be9",
   "metadata": {},
   "outputs": [],
   "source": [
    "for t in TASK2_TEST_CASES:\n",
    "    assert_allclose(poly_roots(t.poly, t.left, t.right, 0.001), t.roots, atol=0.001)"
   ]
  },
  {
   "cell_type": "code",
   "execution_count": 192,
   "id": "75535baa",
   "metadata": {},
   "outputs": [],
   "source": [
    "for t in TASK2_TEST_CASES:\n",
    "    assert_allclose(poly_min(t.poly, t.left, t.right), t.min_val, atol=0.001)"
   ]
  },
  {
   "cell_type": "markdown",
   "id": "bd7628c4",
   "metadata": {},
   "source": [
    "# Задание 3\n",
    "Найти минимум функции $f(x) = e^{ax} + e^{-bx} + c(x - d)^2$. Заметим, что эта функция на плюс и минус бесконечностях стремится к плюс бесконечности, она также непрерывная, а значит, нам надо найти 0 ее производной (там и будет минимум). Это, кажется, теорема Вейерштрасса.\n",
    "\n",
    "$f'(x) = ae^{ax}-be^{-bx}+2c(x-d)$. Она на минус бесконечности уходит в минус бесконечность, а на плюс бесконечности в плюс бесконечность. Значит, хотя бы один корень у нее есть и его можно будет найти методом бисекции.\n",
    "\n",
    "$f''(x) = a^2 e^{ax} + b^2 e^{-bx} + 2c$. Т.к. все коэффициенты положительны, данная функция строго больше нуля, а значит, первая производная строго возрастает и имеет ровно один ноль, что значительно упрощает нам задачу. Это так же сообщает нам о том, что мы можем использовать метод тернарного поиска для поиска минимума исходной функции, так как она будет унимодальная (из производной видим, что исходная функция сначала убывает до минимума, а потом возрастает)."
   ]
  },
  {
   "cell_type": "markdown",
   "id": "46c8ea7c",
   "metadata": {},
   "source": [
    "а) Решить данную задачу методом бисекции. Для этого нам нужно найти такие $left$ и $right$, что $f'(left) < 0$, $f'(right) > 0$. Тут нам поможет факт о том, что на минус бесконечности значение уходит в минус бесконечность, а на плюс -- в плюс. Будем следовать следующему алгоритму.\n",
    "1. Установим left = -1, right = 1\n",
    "2. Пока f(right) < 0, right *= 2\n",
    "3. Пока f(left) > 0, left *= 2\n",
    "\n",
    "Аналогично мы найдем границы для тернарного поиска."
   ]
  },
  {
   "cell_type": "code",
   "execution_count": 193,
   "id": "a8dea6ee",
   "metadata": {},
   "outputs": [],
   "source": [
    "def find_bounds(fun: Callable[[float], float]) -> (float, float):\n",
    "    left = -1\n",
    "    right = 1\n",
    "    while fun(left) > 0:\n",
    "        left *= 2\n",
    "    while fun(right) < 0:\n",
    "        right *= 2\n",
    "    return (left, right)"
   ]
  },
  {
   "cell_type": "code",
   "execution_count": 194,
   "id": "fd183242",
   "metadata": {},
   "outputs": [],
   "source": [
    "def task3_bisection(a: float, b: float, c: float, d: float, eps: float) -> float:\n",
    "    df = lambda x: a * exp(a * x) - b * exp(-b * x) + 2 * c * (x - d)\n",
    "    left_bound, right_bound = find_bounds(df)\n",
    "    return bisection(df, left_bound, right_bound, eps)"
   ]
  },
  {
   "cell_type": "code",
   "execution_count": 195,
   "id": "4fbfcb33",
   "metadata": {},
   "outputs": [],
   "source": [
    "def task3_newton(a: float, b: float, c: float, d: float, iters: int) -> float:\n",
    "    df = lambda x: a * exp(a * x) - b * exp(-b * x) + 2 * c * (x - d)\n",
    "    ddf = lambda x: a ** 2 * exp(a * x) + b ** 2 * exp(-b * x) + 2 * c\n",
    "    return newton(df, ddf, 0, iters)"
   ]
  },
  {
   "cell_type": "code",
   "execution_count": 196,
   "id": "32fd47cc",
   "metadata": {},
   "outputs": [],
   "source": [
    "def task3_ternary_search(a: float, b: float, c: float, d: float, eps: float) -> float:\n",
    "    df = lambda x: a * exp(a * x) - b * exp(-b * x) + 2 * c * (x - d)\n",
    "    left_bound, right_bound = find_bounds(df)\n",
    "    f = lambda x: exp(a * x) + exp(-b * x) + c * (x - d) ** 2\n",
    "    return ternary_search(f, left_bound, right_bound, eps)"
   ]
  },
  {
   "cell_type": "code",
   "execution_count": 197,
   "id": "fa06fb0f",
   "metadata": {},
   "outputs": [],
   "source": [
    "@dataclasses.dataclass\n",
    "class Task3Case:\n",
    "    a: float\n",
    "    b: float\n",
    "    c: float\n",
    "    d: float\n",
    "    ans: float\n",
    "\n",
    "\n",
    "TASK3_TEST_CASES = [\n",
    "    Task3Case(a=1, b=1, c=1, d=1, ans=0.4901),\n",
    "    Task3Case(a=1, b=5, c=1, d=1, ans=0.4595),\n",
    "    Task3Case(a=0.5, b=1, c=0.1, d=10, ans=2.3557)\n",
    "]"
   ]
  },
  {
   "cell_type": "code",
   "execution_count": 198,
   "id": "4c2b51f6",
   "metadata": {},
   "outputs": [],
   "source": [
    "for t in TASK3_TEST_CASES:\n",
    "    assert_allclose(task3_bisection(t.a, t.b, t.c, t.d, 0.001), t.ans, atol=0.001)"
   ]
  },
  {
   "cell_type": "code",
   "execution_count": 199,
   "id": "609dfd51",
   "metadata": {},
   "outputs": [],
   "source": [
    "for t in TASK3_TEST_CASES:\n",
    "    assert_allclose(task3_newton(t.a, t.b, t.c, t.d, 100), t.ans, atol=0.001)"
   ]
  },
  {
   "cell_type": "code",
   "execution_count": 200,
   "id": "ecad5036",
   "metadata": {},
   "outputs": [],
   "source": [
    "for t in TASK3_TEST_CASES:\n",
    "    assert_allclose(task3_ternary_search(t.a, t.b, t.c, t.d, 0.001), t.ans, atol=0.001)"
   ]
  }
 ],
 "metadata": {
  "kernelspec": {
   "display_name": "Python 3",
   "language": "python",
   "name": "python3"
  },
  "language_info": {
   "codemirror_mode": {
    "name": "ipython",
    "version": 3
   },
   "file_extension": ".py",
   "mimetype": "text/x-python",
   "name": "python",
   "nbconvert_exporter": "python",
   "pygments_lexer": "ipython3",
   "version": "3.8.8"
  }
 },
 "nbformat": 4,
 "nbformat_minor": 5
}
