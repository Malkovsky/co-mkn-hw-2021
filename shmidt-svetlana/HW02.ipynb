{
 "cells": [
  {
   "cell_type": "code",
   "execution_count": 1,
   "id": "02a37b67",
   "metadata": {},
   "outputs": [],
   "source": [
    "import numpy as np\n",
    "from numpy.testing import assert_allclose\n",
    "import matplotlib.pyplot as plt\n",
    "from scipy.sparse.sputils import isshape\n",
    "import cvxpy as cp\n",
    "import scipy as sp"
   ]
  },
  {
   "cell_type": "code",
   "execution_count": 2,
   "id": "b1f8534d",
   "metadata": {},
   "outputs": [],
   "source": [
    "class SparseMatrix:\n",
    "    __array_priority__ = 1\n",
    "    \n",
    "    def __init__(self, A):\n",
    "        if isinstance(A, np.ndarray):\n",
    "            nonzero_ind = np.nonzero(A)\n",
    "            self.values = A[nonzero_ind]\n",
    "            self.rows = nonzero_ind[0]\n",
    "            self.cols = nonzero_ind[1]\n",
    "            self.shape = A.shape\n",
    "            return\n",
    "        if isinstance(A, tuple):\n",
    "            self.values, self.rows, self.cols, self.shape = A\n",
    "            return\n",
    "        raise TypeError(\"Unknokn type in __init__\")\n",
    "        \n",
    "    def __mul__(self, v):\n",
    "        assert isinstance(v, np.ndarray)\n",
    "        if self.shape[1] != v.size:\n",
    "            raise ValueError(\"Dimensions don't match\")\n",
    "            \n",
    "        ans = np.zeros(self.shape[0])\n",
    "        for val, r, c in zip(self.values, self.rows, self.cols):\n",
    "            ans[r] += val * v[c]\n",
    "        return ans\n",
    "    \n",
    "    def transpose(self):\n",
    "        return SparseMatrix((self.values, self.cols, self.rows, (self.shape[1], self.shape[0])))\n",
    "    \n",
    "    def __rmul__(self, v):\n",
    "        assert isinstance(v, np.ndarray)\n",
    "        if v.size != self.shape[0]:\n",
    "            raise ValueError(\"Dimensions don't match\")\n",
    "            \n",
    "        ans = np.zeros(self.shape[1])\n",
    "        for val, r, c in zip(self.values, self.rows, self.cols):\n",
    "            ans[c] += val * v[r]\n",
    "        return ans"
   ]
  },
  {
   "cell_type": "code",
   "execution_count": 3,
   "id": "a6e4c233",
   "metadata": {},
   "outputs": [],
   "source": [
    "def test_matrix():\n",
    "    for i in range(10):\n",
    "        shape = (np.random.randint(1, 10), np.random.randint(1, 10))\n",
    "        A = np.random.randn(shape[0], shape[1])\n",
    "        v = np.random.randn(shape[1])\n",
    "        assert_allclose(np.dot(A, v), SparseMatrix(A) * v)\n",
    "        u = np.random.randn(shape[0])\n",
    "        assert_allclose(np.dot(u, A), u * SparseMatrix(A))\n",
    "        \n",
    "test_matrix()"
   ]
  },
  {
   "cell_type": "markdown",
   "id": "abcf29ac",
   "metadata": {},
   "source": [
    "Т.к. $||Ax - b||^2 = <Ax - b, Ax - b> = x^TA^TAx - 2b^TAx + b^Tb$, будем минимизировать функцию $f(x) = \\frac{1}{2}x^TA^TAx - b^TAx$."
   ]
  },
  {
   "cell_type": "code",
   "execution_count": 4,
   "id": "983530cb",
   "metadata": {},
   "outputs": [],
   "source": [
    "def conjugate_gradient(A, b, x_0):\n",
    "    x = x_0\n",
    "    A = SparseMatrix(A)\n",
    "    A_T = A.transpose()\n",
    "    v = A_T * (A * x) - b * A\n",
    "    d = v\n",
    "    v_norm = np.dot(v, v)\n",
    "    \n",
    "    result = [x.copy()]\n",
    "    for i in range(len(b)):\n",
    "        Ad = A_T * (A * d)\n",
    "        alpha = v_norm / np.dot(d, Ad)\n",
    "        x = x - alpha * d\n",
    "        v = v - alpha * Ad\n",
    "        v_norm_new = np.dot(v, v)\n",
    "\n",
    "        d = v + (v_norm_new / v_norm) * d\n",
    "        v_norm = v_norm_new\n",
    "        result.append(x.copy())\n",
    "    return result"
   ]
  },
  {
   "cell_type": "code",
   "execution_count": 5,
   "id": "cac87b2b",
   "metadata": {},
   "outputs": [],
   "source": [
    "def show_cgd():\n",
    "    A = np.random.rand(5, 5)\n",
    "    A = A @ A.T\n",
    "    sD = sp.linalg.sqrtm(np.linalg.inv(np.diag(np.diag(A))))\n",
    "    A = sD.T @ A @ sD\n",
    "    \n",
    "    b = np.random.rand(5)\n",
    "    fig, axs = plt.subplots(1, 1, figsize=(10, 7))\n",
    "    x = np.zeros_like(b)\n",
    "    \n",
    "    estimates_conjugate_gradient = conjugate_gradient(A, b, x)\n",
    "    \n",
    "    axs.plot([i for i in range(len(estimates_conjugate_gradient))], [np.linalg.norm(A @ x - b) for x in estimates_conjugate_gradient], label='CGD')\n",
    "    axs.legend()\n",
    "    axs.set_ylabel(r'$\\|Ax_k-b\\|$', fontsize=20)\n",
    "    axs.set_xlabel(r'$k$', fontsize=20)\n",
    "    axs.set_yscale('log')\n",
    "    plt.close(fig)\n",
    "    return fig"
   ]
  },
  {
   "cell_type": "code",
   "execution_count": 6,
   "id": "d6b4af09",
   "metadata": {},
   "outputs": [
    {
     "data": {
      "image/png": "[encoded data removed]",
      "text/plain": [
       "<Figure size 720x504 with 1 Axes>"
      ]
     },
     "execution_count": 6,
     "metadata": {},
     "output_type": "execute_result"
    }
   ],
   "source": [
    "show_cgd()"
   ]
  }
 ],
 "metadata": {
  "kernelspec": {
   "display_name": "Python 3",
   "language": "python",
   "name": "python3"
  },
  "language_info": {
   "codemirror_mode": {
    "name": "ipython",
    "version": 3
   },
   "file_extension": ".py",
   "mimetype": "text/x-python",
   "name": "python",
   "nbconvert_exporter": "python",
   "pygments_lexer": "ipython3",
   "version": "3.8.8"
  }
 },
 "nbformat": 4,
 "nbformat_minor": 5
}
