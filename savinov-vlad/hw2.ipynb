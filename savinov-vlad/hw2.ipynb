{
 "cells": [
  {
   "cell_type": "code",
   "execution_count": 1,
   "id": "171158da-37a0-4485-ac46-2b9702f2b19b",
   "metadata": {},
   "outputs": [],
   "source": [
    "import numpy as np"
   ]
  },
  {
   "cell_type": "code",
   "execution_count": 2,
   "id": "20cc8de4-40f3-46e3-9290-2eabbd1caed4",
   "metadata": {},
   "outputs": [],
   "source": [
    "class SparseMatrix:\n",
    "    __array_priority__ = 1\n",
    "    def __init__(self, rows, cols, vals_array):\n",
    "        if isinstance(vals_array, list):\n",
    "            vals_array = np.array(vals_array)\n",
    "        if not isinstance(vals_array, np.ndarray):\n",
    "            vals_array = np.array(vals_array)\n",
    "        if vals_array.shape != (rows, cols):\n",
    "            raise ValueError(f\"Dimensions don't match: {vals_array.shape} != {(rows, cols)}. \"\n",
    "                             \"Provide numpy 2-dimensional array or check sizes.\")\n",
    "                          \n",
    "        self._rows, self._cols = rows, cols\n",
    "        self.matrix = [(ind_row, ind_col, vals_array[ind_row, ind_col])\n",
    "                      for ind_row in range(self._rows)\n",
    "                      for ind_col in range(self._cols)\n",
    "                      if vals_array[ind_row, ind_col] != 0]\n",
    "        \n",
    "    def transpose(self):\n",
    "        tr = np.zeros((self._cols, self._rows))\n",
    "        for i, j, value in self.matrix:\n",
    "            tr[j, i] = value\n",
    "        return SparseMatrix(self._cols, self._rows, tr)\n",
    "\n",
    "    def __matmul__(self, right):\n",
    "        if not isinstance(right, np.ndarray):\n",
    "            right = np.array(right)\n",
    "        if self._cols != right.shape[0]:\n",
    "            raise ValueError(f\"Dimensions don't match: rows from {right.shape} != {self._cols}\")\n",
    "        \n",
    "        res = np.zeros(self._rows)\n",
    "        for i, j, value in self.matrix:\n",
    "            res[i] += right[j] * value\n",
    "        return res\n",
    "    \n",
    "    def __rmatmul__(self, left):\n",
    "        if not isinstance(left, np.ndarray):\n",
    "            left = np.array(left)\n",
    "        if self._rows != left.shape[0]:\n",
    "            raise ValueError(f\"Dimensions don't match: cols from {left.shape} != {self._rows}\")\n",
    "        \n",
    "        res = np.zeros(self._cols)\n",
    "        for i, j, value in self.matrix:\n",
    "            res[j] += left[i] * value\n",
    "        return res"
   ]
  },
  {
   "cell_type": "code",
   "execution_count": 3,
   "id": "817d19ec-d1fb-43a8-84b0-c48728f13332",
   "metadata": {},
   "outputs": [],
   "source": [
    "def test_matrix(size=10):\n",
    "    for _ in range(size):\n",
    "        rows, cols = np.random.randint(1, 1000, 2)\n",
    "        left_vector = np.random.rand(rows)\n",
    "        right_vector = np.random.rand(cols)\n",
    "    \n",
    "        np_matrix = np.random.rand(rows, cols)\n",
    "    \n",
    "        left_vector @ np_matrix\n",
    "    \n",
    "        sparse = SparseMatrix(rows, cols, np_matrix)\n",
    "    \n",
    "        delta_right = np.linalg.norm(sparse @ right_vector - np_matrix @ right_vector)\n",
    "        assert delta_right <= 10 ** -10\n",
    "        \n",
    "        delta_left = np.linalg.norm(left_vector @ sparse - left_vector @ np_matrix)\n",
    "        assert delta_left <= 10 ** -10\n",
    "    \n",
    "    return 'ok'"
   ]
  },
  {
   "cell_type": "code",
   "execution_count": 4,
   "id": "9ca00a56-fe33-4bad-a9c9-419df5b90b34",
   "metadata": {},
   "outputs": [
    {
     "data": {
      "text/plain": [
       "'ok'"
      ]
     },
     "execution_count": 4,
     "metadata": {},
     "output_type": "execute_result"
    }
   ],
   "source": [
    "test_matrix()"
   ]
  },
  {
   "cell_type": "code",
   "execution_count": 5,
   "id": "eaf908bf-7613-4e3e-a12c-26876ce648f0",
   "metadata": {},
   "outputs": [],
   "source": [
    "import time\n",
    "\n",
    "def test_time_difference(rows=1000, cols=5000, nonzero=10):\n",
    "    def multiply_return_time(left, right):\n",
    "        start = time.time()\n",
    "        left @ right\n",
    "        finish = time.time()\n",
    "        \n",
    "        return finish - start\n",
    "    \n",
    "    left_vector = np.random.rand(rows)\n",
    "    right_vector = np.random.rand(cols)\n",
    "    np_matrix = np.zeros((rows, cols))\n",
    "\n",
    "    # selecting non-zero ind\n",
    "    xs, ys = np.random.randint(0, rows, nonzero), np.random.randint(0, cols, nonzero)\n",
    "    np_matrix[xs, ys] = np.random.rand()\n",
    "    \n",
    "    sparse = SparseMatrix(rows, cols, np_matrix) \n",
    "    sparse_time = multiply_return_time(sparse, right_vector)\n",
    "    general_time = multiply_return_time(np_matrix, right_vector)\n",
    "    \n",
    "    return general_time / sparse_time\n"
   ]
  },
  {
   "cell_type": "code",
   "execution_count": null,
   "id": "7d840e7a-18e0-4314-81b2-47798076c879",
   "metadata": {},
   "outputs": [
    {
     "data": {
      "application/vnd.jupyter.widget-view+json": {
       "model_id": "571d3a132681418da62a26e639fe41f7",
       "version_major": 2,
       "version_minor": 0
      },
      "text/plain": [
       "  0%|          | 0/15 [00:00<?, ?it/s]"
      ]
     },
     "metadata": {},
     "output_type": "display_data"
    }
   ],
   "source": [
    "from tqdm.notebook import tqdm\n",
    "import matplotlib.pyplot as plt\n",
    "\n",
    "nonzeros = [0, 10, 15, 20, 30, 50] + list(range(100, 1_000, 100))\n",
    "times = []\n",
    "\n",
    "for x in tqdm(nonzeros):\n",
    "    times.append(test_time_difference(nonzero=x))\n",
    "\n",
    "plt.figure(figsize=(10, 10))\n",
    "plt.title('Матрица 1000x5000, сравниваем время работы умножения')\n",
    "plt.xlabel('кол-во ненулевых элементов')\n",
    "plt.ylabel('во сколько раз наше умножение работает быстрее, чем numpy')\n",
    "plt.axhline(1, color='red', label='одинаково время')\n",
    "plt.plot(nonzeros, times, label='отношение времен')\n",
    "plt.grid(True)"
   ]
  },
  {
   "cell_type": "code",
   "execution_count": 7,
   "id": "ac8ad026-1160-45bd-b4db-bc4da3df0f93",
   "metadata": {},
   "outputs": [],
   "source": [
    "# минимизируем || Ax - b || => минимизируем x^T * (A^T * A) * x - (2A^T * b)^T * x + b^T * b\n",
    "def conjugate_gradient(A, b, x0):\n",
    "    x = x0\n",
    "    At = A.transpose()\n",
    "    b = At @ b\n",
    "    v = At @ (A @ x) - b\n",
    "    d = v\n",
    "    v_norm = np.dot(v, v)\n",
    "    diffs = [x]\n",
    "\n",
    "    for i in range(len(b)):\n",
    "        Ad = At @ (A @ d)\n",
    "        alpha = v_norm / (d @ Ad)\n",
    "        x = x - alpha * d\n",
    "        v = v - alpha * Ad\n",
    "        new_v = np.dot(v, v)\n",
    "        d = v + (new_v / v_norm) * d\n",
    "        v_norm = new_v\n",
    "        diffs.append(x)\n",
    "    return diffs\n",
    "    "
   ]
  },
  {
   "cell_type": "code",
   "execution_count": 8,
   "id": "d9626374-c8ce-44cf-b775-2116e70bbe95",
   "metadata": {},
   "outputs": [
    {
     "data": {
      "text/plain": [
       "<matplotlib.legend.Legend at 0x7fb71b5d7e20>"
      ]
     },
     "execution_count": 8,
     "metadata": {},
     "output_type": "execute_result"
    },
    {
     "data": {
      "image/png": "[encoded data removed]",
      "text/plain": [
       "<Figure size 720x720 with 1 Axes>"
      ]
     },
     "metadata": {
      "needs_background": "light"
     },
     "output_type": "display_data"
    }
   ],
   "source": [
    "import matplotlib.pyplot as plt\n",
    "\n",
    "size = 3\n",
    "\n",
    "A = np.random.rand(size, size)\n",
    "b = np.random.rand(size)\n",
    "x0 = np.zeros_like(b)\n",
    "A = SparseMatrix(size, size, A)\n",
    "diffs = conjugate_gradient(A, b, x0)\n",
    "\n",
    "fig = plt.figure(figsize=(10, 10))\n",
    "ax = fig.add_subplot(1, 1, 1)\n",
    "ax.grid(True)\n",
    "ax.set_title('сходимость')\n",
    "ax.set_yscale('log')\n",
    "ax.set_ylabel('log loss')\n",
    "ax.set_xlabel('step')\n",
    "ax.plot([np.linalg.norm(A @ x - b) for x in diffs], label='Conjugate Gradient using SparseMatrix')\n",
    "ax.legend()"
   ]
  }
 ],
 "metadata": {
  "kernelspec": {
   "display_name": "Python 3 (ipykernel)",
   "language": "python",
   "name": "python3"
  },
  "language_info": {
   "codemirror_mode": {
    "name": "ipython",
    "version": 3
   },
   "file_extension": ".py",
   "mimetype": "text/x-python",
   "name": "python",
   "nbconvert_exporter": "python",
   "pygments_lexer": "ipython3",
   "version": "3.9.6"
  }
 },
 "nbformat": 4,
 "nbformat_minor": 5
}
