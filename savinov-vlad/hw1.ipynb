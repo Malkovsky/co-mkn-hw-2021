{
 "cells": [
  {
   "cell_type": "markdown",
   "id": "b2010be6",
   "metadata": {},
   "source": [
    "## Вычислить $ \\sqrt[k]{a} $ "
   ]
  },
  {
   "cell_type": "code",
   "execution_count": 1,
   "id": "b5afcb42",
   "metadata": {},
   "outputs": [],
   "source": [
    "import numpy as np\n",
    "\n",
    "def printable_test(a, k, f, prc=1e-4):\n",
    "    ans = f(a, k)\n",
    "    print(f'Our result: {a}^(1/{k}) ~ {ans:.10f}')\n",
    "    print(f'True result: {a**(1/k):.10f}\\n')\n",
    "    print(f'Approx a ~ {ans**k:.10f}')\n",
    "    print(f'True a = {a}')\n",
    "    assert abs(a - ans**k) < prc, f'the answer differs by {abs(a - ans**k):.10f} from the true one'\n",
    "    \n",
    "def not_printable_test(a, k, f, prc=1e-4):\n",
    "    ans = f(a, k)\n",
    "    assert abs(a - ans**k) < prc, f'f({a}, {k}): the answer differs by {abs(a - ans**k):.10f} from the true one'\n",
    "    \n",
    "def test(func):\n",
    "    rng = np.random.default_rng(12345)\n",
    "    test_len = 1000\n",
    "    vals = rng.integers(low=0, high=1000, size=test_len)\n",
    "    pws = rng.integers(low=1, high=100, size=test_len)\n",
    "\n",
    "    for a, k in zip(vals, pws):\n",
    "        not_printable_test(a, k, func)\n",
    "        \n",
    "    print(f'All {test_len} tests have passed!')\n"
   ]
  },
  {
   "cell_type": "code",
   "execution_count": 2,
   "id": "0a8dccc3",
   "metadata": {},
   "outputs": [],
   "source": [
    "# malkovsky: 1000 -- это очень много итераций для бинарного поиска в стандартном float\n",
    "def root_bisection(a: float, k: float, iters=1000) -> float:\n",
    "    def f(x):\n",
    "        return x**k - a\n",
    "\n",
    "    assert k > 0, 'Negative `k` values are not allowed'\n",
    "\n",
    "    # malkovsky: здесь небольшая неточность, при a<1,k>1: a^{1/k}>a\n",
    "    # стоило взять 0, max(1, a)\n",
    "    l, r = 0, a\n",
    "    for _ in range(iters):\n",
    "        m = l + (r - l) / 2\n",
    "        if f(m) * f(l) <= 0:\n",
    "            r = m\n",
    "        else:\n",
    "            l = m\n",
    "    return l + (r - l) / 2\n"
   ]
  },
  {
   "cell_type": "code",
   "execution_count": 3,
   "id": "60dbf11e",
   "metadata": {},
   "outputs": [
    {
     "name": "stdout",
     "output_type": "stream",
     "text": [
      "All 1000 tests have passed!\n"
     ]
    }
   ],
   "source": [
    "test(root_bisection)"
   ]
  },
  {
   "cell_type": "code",
   "execution_count": 4,
   "id": "a241da6c",
   "metadata": {},
   "outputs": [
    {
     "name": "stdout",
     "output_type": "stream",
     "text": [
      "Our result: 1350^(1/12) ~ 1.8233126596\n",
      "True result: 1.8233126596\n",
      "\n",
      "Approx a ~ 1350.0000000000\n",
      "True a = 1350\n",
      "\n",
      "\n",
      "Our result: -1^(1/1) ~ -1.0000000000\n",
      "True result: -1.0000000000\n",
      "\n",
      "Approx a ~ -1.0000000000\n",
      "True a = -1\n"
     ]
    }
   ],
   "source": [
    "printable_test(1350, 12, root_bisection)\n",
    "print('\\n')\n",
    "printable_test(-1, 1, root_bisection)"
   ]
  },
  {
   "cell_type": "code",
   "execution_count": 5,
   "id": "5291f86a",
   "metadata": {},
   "outputs": [],
   "source": [
    "def root_newton(a: float, k: float, iters=1000) -> float:\n",
    "    def f(x):\n",
    "        return x**k - a\n",
    "\n",
    "    def dx(x):\n",
    "        return k * x**(k - 1)\n",
    "\n",
    "    assert k > 0, 'Negative `k` values are not allowed'\n",
    "    \n",
    "    x = 1\n",
    "    for _ in range(iters):\n",
    "        x = x - f(x) / dx(x)\n",
    "\n",
    "    return x\n"
   ]
  },
  {
   "cell_type": "code",
   "execution_count": 6,
   "id": "cfd76a08",
   "metadata": {},
   "outputs": [
    {
     "name": "stdout",
     "output_type": "stream",
     "text": [
      "All 1000 tests have passed!\n"
     ]
    }
   ],
   "source": [
    "test(root_newton)"
   ]
  },
  {
   "cell_type": "code",
   "execution_count": 7,
   "id": "5205371a",
   "metadata": {},
   "outputs": [
    {
     "name": "stdout",
     "output_type": "stream",
     "text": [
      "Our result: 1350^(1/12) ~ 1.8233126596\n",
      "True result: 1.8233126596\n",
      "\n",
      "Approx a ~ 1350.0000000000\n",
      "True a = 1350\n",
      "\n",
      "\n",
      "Our result: -1^(1/1) ~ -1.0000000000\n",
      "True result: -1.0000000000\n",
      "\n",
      "Approx a ~ -1.0000000000\n",
      "True a = -1\n"
     ]
    }
   ],
   "source": [
    "printable_test(1350, 12, root_newton)\n",
    "print('\\n')\n",
    "printable_test(-1, 1, root_newton)"
   ]
  },
  {
   "cell_type": "markdown",
   "id": "79154357",
   "metadata": {},
   "source": [
    "## Дан многочлен P степени не больше 5 и отрезок [L, R]"
   ]
  },
  {
   "cell_type": "markdown",
   "id": "053f14ca",
   "metadata": {},
   "source": [
    "Локализовать корни: $ P(L_i) \\cdot P(R_i) <0 $ \n",
    "\n",
    "И найти на каждом таком отрезке корни"
   ]
  },
  {
   "cell_type": "code",
   "execution_count": 8,
   "id": "b56c87b9",
   "metadata": {},
   "outputs": [],
   "source": [
    "from typing import List\n",
    "import numpy as np\n",
    "\n",
    "class Polynom:\n",
    "    def __init__(self, coefs: List[float]):\n",
    "        # self.coefs = [a0, a1, a2, ...., an]\n",
    "        self.coefs = coefs\n",
    "\n",
    "    def __str__(self):\n",
    "        if not self.coefs:\n",
    "            return ''\n",
    "        descr = str(self.coefs[0])\n",
    "        for i, coef in enumerate(self.coefs[1:]):\n",
    "            sign = '+' if coef > 0 else '-'\n",
    "            descr += f' {sign} {abs(coef)} * x^{i + 1}'\n",
    "        return descr\n",
    "    \n",
    "    def __repr__(self):\n",
    "        return self.__str__()\n",
    "\n",
    "    def value_at(self, x: float) -> float:\n",
    "        res = 0\n",
    "        for i, coef in enumerate(self.coefs):\n",
    "            res += x**i * coef\n",
    "        return res\n",
    "    \n",
    "    def dx(self):\n",
    "        if not self.coefs or len(self.coefs) == 1:\n",
    "            return Polynom([0])\n",
    "        return Polynom([(i + 1) * coef for i, coef in enumerate(self.coefs[1:])])\n",
    "    \n",
    "    def is_root(self, x: float, prc=1e-4) -> bool:\n",
    "        return abs(0 - self.value_at(x)) < prc\n",
    "    \n",
    "    def root_segments(self, l: float, r: float, min_seg_len=1e-2) -> List[List[float]]:\n",
    "        segs = []\n",
    "        prev_end, cur_end = l, l + min_seg_len\n",
    "\n",
    "        while cur_end < r:\n",
    "            if self.value_at(prev_end) * self.value_at(cur_end) < 0:\n",
    "                segs.append([prev_end, cur_end])\n",
    "                prev_end = cur_end\n",
    "\n",
    "            if self.value_at(cur_end) == 0:\n",
    "                move = min_seg_len / 10\n",
    "                segs.append([prev_end, cur_end + move])\n",
    "                prev_end = cur_end + move\n",
    "\n",
    "            cur_end += min_seg_len\n",
    "\n",
    "        return segs\n",
    "    \n",
    "    def find_single_root(self, l: float, r: float, iters=1000) -> float:\n",
    "        for _ in range(iters):\n",
    "            m = l + (r - l) / 2\n",
    "            if self.value_at(l) * self.value_at(m) < 0:\n",
    "                r = m\n",
    "            else:\n",
    "                l = m\n",
    "        return l + (r - l) / 2\n",
    "    \n",
    "    def find_roots(self, l: float, r: float) -> List[float]:\n",
    "        roots = []\n",
    "        segs = self.root_segments(l, r)\n",
    "        for seg_l, seg_r in segs:\n",
    "            roots.append(self.find_single_root(seg_l, seg_r))\n",
    "        \n",
    "        return roots\n",
    "    \n",
    "    def check_roots(self, roots: List[float]) -> bool:\n",
    "        return np.all([self.is_root(x) for x in roots])\n",
    "    \n",
    "    def find_min(self, l: float, r: float) -> float:\n",
    "        assert self.coefs, 'Polynom must contain at least one coef'\n",
    "\n",
    "        if len(self.coefs) == 1:\n",
    "            return self.coefs[0]\n",
    "\n",
    "        pts = [l, *self.dx().find_roots(l, r), r]\n",
    "        return min(self.value_at(pt) for pt in pts)\n"
   ]
  },
  {
   "cell_type": "code",
   "execution_count": 9,
   "id": "2ee37174",
   "metadata": {},
   "outputs": [
    {
     "data": {
      "text/plain": [
       "[-100.23000003891843, 1.1000394905623918, 1.1999605483560587]"
      ]
     },
     "execution_count": 9,
     "metadata": {},
     "output_type": "execute_result"
    }
   ],
   "source": [
    "# x^3 + 97.93 x^2 - 229.209 x + 132.304\n",
    "# (x - 1.1) * (x - 1.2) * (x + 100.23)\n",
    "p = Polynom([132.304, -229.209, 97.93, 1])\n",
    "p.find_roots(-1000, 1000)"
   ]
  },
  {
   "cell_type": "code",
   "execution_count": 10,
   "id": "e9f94589",
   "metadata": {},
   "outputs": [
    {
     "data": {
      "text/plain": [
       "-0.25305001541232075"
      ]
     },
     "execution_count": 10,
     "metadata": {},
     "output_type": "execute_result"
    }
   ],
   "source": [
    "p.find_min(-10, 10)"
   ]
  },
  {
   "cell_type": "code",
   "execution_count": 11,
   "id": "5157e27b",
   "metadata": {},
   "outputs": [
    {
     "data": {
      "text/plain": [
       "[-0.9990000007645006]"
      ]
     },
     "execution_count": 11,
     "metadata": {},
     "output_type": "execute_result"
    }
   ],
   "source": [
    "Polynom([1, 2, 1]).find_roots(-1000, 1000)"
   ]
  },
  {
   "cell_type": "code",
   "execution_count": 12,
   "id": "b872810f",
   "metadata": {},
   "outputs": [
    {
     "data": {
      "text/plain": [
       "[0.5000000000000004]"
      ]
     },
     "execution_count": 12,
     "metadata": {},
     "output_type": "execute_result"
    }
   ],
   "source": [
    "Polynom([1, -2]).find_roots(-1000, 1000)"
   ]
  },
  {
   "cell_type": "markdown",
   "id": "dbbc081a",
   "metadata": {},
   "source": [
    "## Найти минимум функции $ e^{ax} + e^{-bx} + c(x - d)^2$"
   ]
  },
  {
   "cell_type": "code",
   "execution_count": 13,
   "id": "ee88e7fa",
   "metadata": {},
   "outputs": [],
   "source": [
    "from numpy import exp\n",
    "from typing import Tuple\n",
    "\n",
    "class ExpMinFinder:\n",
    "    def __init__(self, a: float, b: float, c: float, d: float):\n",
    "        if a <= 0 or b <= 0 or c <= 0:\n",
    "            raise ValueError(\"Parameters must be non-negative\")\n",
    "        self.a = a\n",
    "        self.b = b\n",
    "        self.c = c\n",
    "        self.d = d\n",
    "        \n",
    "    def f(self, x) -> float:\n",
    "        return exp(self.a * x) + exp(-self.b * x) + self.c * (x - self.d)**2\n",
    "    \n",
    "    def dx(self, x) -> float:\n",
    "        return self.a * exp(self.a * x) - self.b * exp(-self.b * x) + 2 * self.c * (x - self.d)\n",
    "    \n",
    "    def ddx(self, x) -> float:\n",
    "        return self.a**2 * exp(self.a * x) + self.b**2 * exp(-self.b * x) + 2 * self.c\n",
    "    \n",
    "    def min_bisection(self, iters=1000) -> Tuple[float, float]:\n",
    "        # malkovsky: границы из параметров нужно было подобрать. Например при a=b=0, c=1, d > 100 этот отрезок не подойдет\n",
    "        l, r = -100, 100\n",
    "        for _ in range(iters):\n",
    "            m = l + (r - l) / 2\n",
    "            if self.dx(m) * self.dx(l) < 0:\n",
    "                r = m\n",
    "            else:\n",
    "                l = m\n",
    "\n",
    "        min_at = l + (r - l) / 2\n",
    "        return min_at, self.f(min_at)\n",
    "    \n",
    "    def min_newton(self, iters=1000) -> Tuple[float, float]:\n",
    "        x = 1\n",
    "        for _ in range(iters):\n",
    "            x = x - self.dx(x) / self.ddx(x)\n",
    "\n",
    "        return x, self.f(x)\n",
    "\n",
    "    def min_ternary(self, iters=1000) -> Tuple[float, float]:\n",
    "        l, r = -100, 100\n",
    "    \n",
    "        for _ in range(iters):\n",
    "            m1 = l + (r - l) / 3\n",
    "            m2 = r - (r - l) / 3\n",
    "            if self.f(m1) >= self.f(m2):\n",
    "                l = m1\n",
    "            else:\n",
    "                r = m2\n",
    "        min_at = l + (r - l) / 2\n",
    "\n",
    "        return min_at, self.f(min_at)\n"
   ]
  },
  {
   "cell_type": "code",
   "execution_count": 14,
   "id": "31ae6b45",
   "metadata": {},
   "outputs": [
    {
     "name": "stderr",
     "output_type": "stream",
     "text": [
      "/var/folders/n7/k2zyw7490b97hfmqkg39c6080000gn/T/ipykernel_79092/1883086689.py:17: RuntimeWarning: overflow encountered in exp\n",
      "  return self.a * exp(self.a * x) - self.b * exp(-self.b * x) + 2 * self.c * (x - self.d)\n"
     ]
    },
    {
     "name": "stdout",
     "output_type": "stream",
     "text": [
      "All 100 tests have passed\n"
     ]
    }
   ],
   "source": [
    "def test_exp():\n",
    "    rng = np.random.default_rng(12345)\n",
    "    test_len = 100\n",
    "    a_ = rng.integers(low=1, high=10, size=test_len)\n",
    "    b_ = rng.integers(low=1, high=10, size=test_len)\n",
    "    c_ = rng.integers(low=1, high=10, size=test_len)\n",
    "    d_ = rng.integers(low=1, high=10, size=test_len)\n",
    "    \n",
    "    \n",
    "    for a, b, c, d in zip(a_, b_, c_, d_):\n",
    "        m = ExpMinFinder(a, b, c, d)\n",
    "        \n",
    "        assert abs(m.min_bisection()[1] - m.min_newton()[1]) < 1e-3, \\\n",
    "            f'Results: {m.min_bisection():.3f} {m.min_newton():.3f}, values: {a, b, c, d}'\n",
    "        assert abs(m.min_newton()[1] - m.min_ternary()[1]) < 1e-3, \\\n",
    "            f'Results: {m.min_newton():.3f} {m.min_ternary():.3f}, values: {a, b, c, d}'\n",
    "    \n",
    "    print(f'All {test_len} tests have passed')\n",
    "    \n",
    "test_exp()"
   ]
  },
  {
   "cell_type": "code",
   "execution_count": 15,
   "id": "595e6272",
   "metadata": {},
   "outputs": [],
   "source": [
    "m = ExpMinFinder(1, 2, 3, 4)"
   ]
  },
  {
   "cell_type": "code",
   "execution_count": 16,
   "id": "f38e3d2b",
   "metadata": {},
   "outputs": [
    {
     "data": {
      "text/plain": [
       "(2.315283729985808, 18.652352027148623)"
      ]
     },
     "execution_count": 16,
     "metadata": {},
     "output_type": "execute_result"
    }
   ],
   "source": [
    "m.min_bisection()"
   ]
  },
  {
   "cell_type": "code",
   "execution_count": 17,
   "id": "49b7da03",
   "metadata": {},
   "outputs": [
    {
     "data": {
      "text/plain": [
       "(2.315283729985808, 18.652352027148623)"
      ]
     },
     "execution_count": 17,
     "metadata": {},
     "output_type": "execute_result"
    }
   ],
   "source": [
    "m.min_newton()"
   ]
  },
  {
   "cell_type": "code",
   "execution_count": 18,
   "id": "637eb534",
   "metadata": {},
   "outputs": [
    {
     "data": {
      "text/plain": [
       "(2.315283755759233, 18.65235202714863)"
      ]
     },
     "execution_count": 18,
     "metadata": {},
     "output_type": "execute_result"
    }
   ],
   "source": [
    "m.min_ternary()"
   ]
  }
 ],
 "metadata": {
  "kernelspec": {
   "display_name": "Python 3 (ipykernel)",
   "language": "python",
   "name": "python3"
  },
  "language_info": {
   "codemirror_mode": {
    "name": "ipython",
    "version": 3
   },
   "file_extension": ".py",
   "mimetype": "text/x-python",
   "name": "python",
   "nbconvert_exporter": "python",
   "pygments_lexer": "ipython3",
   "version": "3.8.3"
  },
  "widgets": {
   "application/vnd.jupyter.widget-state+json": {
    "state": {},
    "version_major": 2,
    "version_minor": 0
   }
  }
 },
 "nbformat": 4,
 "nbformat_minor": 5
}
