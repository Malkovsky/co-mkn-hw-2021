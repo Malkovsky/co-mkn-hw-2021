{
 "cells": [
  {
   "cell_type": "code",
   "execution_count": 1,
   "id": "e2dd0979",
   "metadata": {},
   "outputs": [],
   "source": [
    "import numpy as np"
   ]
  },
  {
   "cell_type": "code",
   "execution_count": 248,
   "id": "d3cec6e9",
   "metadata": {},
   "outputs": [],
   "source": [
    "class Matrix:\n",
    "    \n",
    "    def __init__(self, a: np.array = None):\n",
    "        self.nzir = {}\n",
    "        self.nzic = {}\n",
    "        self.es = {}\n",
    "        self.shape = None\n",
    "        \n",
    "        if a is not None:\n",
    "            n, m = self.shape = a.shape\n",
    "            for i in range(n):\n",
    "                for j in range(m):\n",
    "                    self[i, j] = a[i, j]\n",
    "\n",
    "    def __setitem__(self, k, v):\n",
    "        i, j = k\n",
    "        if not v:\n",
    "            return\n",
    "        \n",
    "        if i not in self.nzir:\n",
    "            self.nzir[i] = {j}\n",
    "        else:\n",
    "            self.nzir[i].add(j)\n",
    "            \n",
    "        if j not in self.nzic:\n",
    "            self.nzic[j] = {i}\n",
    "        else:\n",
    "            self.nzic[j].add(i)\n",
    "            \n",
    "        self.es[i, j] = v\n",
    "        \n",
    "    def __getitem__(self, k):\n",
    "        if k not in self.es: return 0.\n",
    "        return self.es[k]\n",
    "        \n",
    "    def __mul__(self, x):\n",
    "        if isinstance(x, float) or isinstance(x, int):\n",
    "            if not x:\n",
    "                return Matrix()\n",
    "            self2 = self.copy()\n",
    "            for k in self2.es:\n",
    "                self2.es[k] *= x\n",
    "            return self2\n",
    "        \n",
    "        y = np.zeros(x.shape)\n",
    "        for i in range(y.shape[1]):\n",
    "            for r in self.nzir:\n",
    "                s = 0.\n",
    "                for c in self.nzic[r]:\n",
    "                    s += self.es[r, c]*x[c, i]\n",
    "                y[r, i] = s\n",
    "        return y\n",
    "    \n",
    "    def __rmul__(self, x):\n",
    "        if isinstance(x, float) or isinstance(x, int):\n",
    "            if not x:\n",
    "                return Matrix()\n",
    "            self2 = self.copy()\n",
    "            for k in self2.es:\n",
    "                self2.es[k] *= x\n",
    "            return self2\n",
    "        \n",
    "        y = np.zeros(x.shape)\n",
    "        for i in range(y.shape[0]):\n",
    "            for c in self.nzic:\n",
    "                s = 0.\n",
    "                for r in self.nzic[c]:\n",
    "                    s += x[i, r]*self.es[r, c]\n",
    "                y[i, c] = s\n",
    "        return y\n",
    "    \n",
    "    def copy(self):\n",
    "        A_ = Matrix()\n",
    "        A_.nzir = self.nzir.copy()\n",
    "        A_.nzic = self.nzic.copy()\n",
    "        A_.es = self.es.copy()\n",
    "        A_.shape = self.shape\n",
    "        return A_\n",
    "    \n",
    "    def transpose(self):\n",
    "        A_ = Matrix()\n",
    "        A_.nzir = self.nzic.copy()\n",
    "        A_.nzic = self.nzir.copy()\n",
    "        A_.shape = self.shape\n",
    "        A_.es = {(j, i): v for (i, j), v in self.es.items()}\n",
    "        return A_\n",
    "    \n",
    "    mul = __mul__\n",
    "    rmul = __rmul__"
   ]
  },
  {
   "cell_type": "markdown",
   "id": "465bab9b",
   "metadata": {},
   "source": [
    "The following method minimises $f = x^T A x/2 - b^T x + c$."
   ]
  },
  {
   "cell_type": "code",
   "execution_count": 249,
   "id": "c3dd9554",
   "metadata": {},
   "outputs": [],
   "source": [
    "def cg_test(x_0, A, b):\n",
    "    n = len(x_0)\n",
    "    x = [x_0]\n",
    "    v = [A.mul(x[0])-b]\n",
    "    d = [v[0]]\n",
    "    for i in range(n):\n",
    "        x.append(\n",
    "            x[i] - d[i].T@(A.mul(x[i])-b)/(d[i].T@A.mul(d[i])) * d[i]\n",
    "        )\n",
    "        v.append(\n",
    "            A.mul(x[i+1])-b\n",
    "        )\n",
    "        d.append(\n",
    "            v[i+1] + v[i+1].T@v[i+1]/(v[i].T@v[i]) * d[i]\n",
    "        )\n",
    "    return x[-1]"
   ]
  },
  {
   "cell_type": "code",
   "execution_count": 250,
   "id": "df8621df",
   "metadata": {},
   "outputs": [
    {
     "data": {
      "text/plain": [
       "array([[3.]])"
      ]
     },
     "execution_count": 250,
     "metadata": {},
     "output_type": "execute_result"
    }
   ],
   "source": [
    "A = Matrix(np.array([[1]]))\n",
    "A.rmul(np.array([[3]]))"
   ]
  },
  {
   "cell_type": "code",
   "execution_count": 251,
   "id": "00fdb84a",
   "metadata": {},
   "outputs": [
    {
     "data": {
      "text/plain": [
       "array([[0.5]])"
      ]
     },
     "execution_count": 251,
     "metadata": {},
     "output_type": "execute_result"
    }
   ],
   "source": [
    "cg_test(np.array([[1]]), Matrix(np.array([[2]])), np.array([[1]]))"
   ]
  },
  {
   "cell_type": "code",
   "execution_count": 252,
   "id": "3d0f655f",
   "metadata": {},
   "outputs": [
    {
     "data": {
      "text/plain": [
       "array([[ 4.68773467],\n",
       "       [-3.5175219 ]])"
      ]
     },
     "execution_count": 252,
     "metadata": {},
     "output_type": "execute_result"
    }
   ],
   "source": [
    "a = np.array([[1, 2], [3, 4]])\n",
    "A = Matrix(a)\n",
    "cg_test(np.array([[0], [1]]), A, np.array([[-5], [-6]]))"
   ]
  },
  {
   "cell_type": "markdown",
   "id": "e31da827",
   "metadata": {},
   "source": [
    "To minimise $g = \\lvert Ax-b \\rvert$, sufficient to do that to $\\widehat g = {\\lvert Ax-b \\rvert}^2$, so the function that computes the answer for the task can be like"
   ]
  },
  {
   "cell_type": "code",
   "execution_count": 254,
   "id": "c69b2aea",
   "metadata": {},
   "outputs": [],
   "source": [
    "def cg_test2(x_0, A, b):\n",
    "    return cg_test(x_0, Matrix(2*A.transpose().mul(A)), 2*A.mul(b))"
   ]
  },
  {
   "cell_type": "code",
   "execution_count": 255,
   "id": "03331caf",
   "metadata": {},
   "outputs": [
    {
     "data": {
      "text/plain": [
       "array([[ 51.5],\n",
       "       [-38. ]])"
      ]
     },
     "execution_count": 255,
     "metadata": {},
     "output_type": "execute_result"
    }
   ],
   "source": [
    "a = np.array([[1, 2], [3, 4]])\n",
    "A = Matrix(a)\n",
    "cg_test2(np.array([[0], [1]]), A, np.array([[-5], [-6]]))"
   ]
  }
 ],
 "metadata": {
  "kernelspec": {
   "display_name": "Python 3 (ipykernel)",
   "language": "python",
   "name": "python3"
  },
  "language_info": {
   "codemirror_mode": {
    "name": "ipython",
    "version": 3
   },
   "file_extension": ".py",
   "mimetype": "text/x-python",
   "name": "python",
   "nbconvert_exporter": "python",
   "pygments_lexer": "ipython3",
   "version": "3.9.5"
  }
 },
 "nbformat": 4,
 "nbformat_minor": 5
}
