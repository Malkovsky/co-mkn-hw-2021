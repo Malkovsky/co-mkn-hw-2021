{
 "cells": [
  {
   "cell_type": "code",
   "execution_count": 1,
   "metadata": {},
   "outputs": [
    {
     "name": "stderr",
     "output_type": "stream",
     "text": [
      "WARNING: Ignoring invalid distribution -umpy (d:\\anaconda3\\lib\\site-packages)\n",
      "WARNING: Ignoring invalid distribution -umpy (d:\\anaconda3\\lib\\site-packages)\n",
      "WARNING: Ignoring invalid distribution -umpy (d:\\anaconda3\\lib\\site-packages)\n",
      "WARNING: Ignoring invalid distribution -umpy (d:\\anaconda3\\lib\\site-packages)\n",
      "WARNING: Ignoring invalid distribution -umpy (d:\\anaconda3\\lib\\site-packages)\n",
      "WARNING: Ignoring invalid distribution -umpy (d:\\anaconda3\\lib\\site-packages)\n",
      "WARNING: Ignoring invalid distribution -umpy (d:\\anaconda3\\lib\\site-packages)\n"
     ]
    },
    {
     "name": "stdout",
     "output_type": "stream",
     "text": [
      "Collecting autograd\n",
      "  Downloading autograd-1.3.tar.gz (38 kB)\n",
      "Requirement already satisfied: numpy>=1.12 in d:\\anaconda3\\lib\\site-packages (from autograd) (1.19.5)\n",
      "Requirement already satisfied: future>=0.15.2 in d:\\anaconda3\\lib\\site-packages (from autograd) (0.18.2)\n",
      "Building wheels for collected packages: autograd\n",
      "  Building wheel for autograd (setup.py): started\n",
      "  Building wheel for autograd (setup.py): finished with status 'done'\n",
      "  Created wheel for autograd: filename=autograd-1.3-py3-none-any.whl size=47988 sha256=315471e8277bb7dbae65c77823a679d53e0d1d0801c1510bab4035a2bbf5dc41\n",
      "  Stored in directory: c:\\users\\malko\\appdata\\local\\pip\\cache\\wheels\\85\\f5\\d2\\3ef47d3a836b17620bf41647222825b065245862d12aa62885\n",
      "Successfully built autograd\n",
      "Installing collected packages: autograd\n",
      "Successfully installed autograd-1.3\n"
     ]
    }
   ],
   "source": [
    "!pip install autograd\n",
    "from autograd import grad"
   ]
  },
  {
   "cell_type": "code",
   "execution_count": 2,
   "metadata": {},
   "outputs": [],
   "source": [
    "def find_root(f, l, r, eps=1e-6, method='newton'):\n",
    "  if method == 'bisection':\n",
    "    while r-l > eps:\n",
    "      m = l+(r-l)/2\n",
    "      x, y, z = f(l), f(r), f(m)\n",
    "      if x <= 0 and y >= 0:\n",
    "        if z <= 0:\n",
    "          l = m\n",
    "        else:\n",
    "          r = m\n",
    "      elif x >= 0 and y <= 0:\n",
    "        if z <= 0:\n",
    "          r = m\n",
    "        else:\n",
    "          l = m\n",
    "      else:\n",
    "        assert False\n",
    "    return l\n",
    "  elif method == 'newton':\n",
    "    f_ = grad(f)\n",
    "    xs = [l+(r-l)/2]\n",
    "    while True:\n",
    "      x = xs[-1]\n",
    "      xs.append(-f(x)/f_(x)+x)\n",
    "      if abs(xs[-1]-x) < eps:\n",
    "        return xs[-1]"
   ]
  },
  {
   "cell_type": "code",
   "execution_count": 3,
   "metadata": {},
   "outputs": [
    {
     "data": {
      "text/plain": [
       "-3.3306690738754696e-14"
      ]
     },
     "execution_count": 3,
     "metadata": {},
     "output_type": "execute_result"
    }
   ],
   "source": [
    "3**(1/3)-find_root(lambda x: x**3-3, 0, 2)"
   ]
  },
  {
   "cell_type": "code",
   "execution_count": 4,
   "metadata": {},
   "outputs": [
    {
     "data": {
      "text/plain": [
       "2.722117051767725e-07"
      ]
     },
     "execution_count": 4,
     "metadata": {},
     "output_type": "execute_result"
    }
   ],
   "source": [
    "3**(1/3)-find_root(lambda x: x**3-3, 0, 2, method='bisection')"
   ]
  },
  {
   "cell_type": "code",
   "execution_count": 24,
   "metadata": {},
   "outputs": [],
   "source": [
    "from collections import *\n",
    "\n",
    "# malkovsky: идея норм, но этот код даже менее эффективен тому, чтобы просто циклом от l до r пройти с шагом eps,\n",
    "# так как реальности вы делите на отрезки длины (r - l) / 2^k с таким k, что величина попадает в отрезок [eps/2, eps]\n",
    "# если бы какой-то break был, то норм, а так просто излишне усложненный код.\n",
    "\n",
    "def find_roots(f, l, r, calls, eps=1e-6, method='newton'):\n",
    "  calls[0] += 1\n",
    "  x, y = f(l), f(r)\n",
    "  if r-l < eps:\n",
    "    if x*y <= 0:\n",
    "      return deque([find_root(f, l, r, method=method)])\n",
    "    return deque()\n",
    "    \n",
    "  m = l+(r-l)/2\n",
    "  a = find_roots(f, l, m, calls, eps, method=method) # malkovsky: missed method=method\n",
    "  b = find_roots(f, m, r, calls, eps, method=method) # malkovsky: missed method=method\n",
    "  \n",
    "  c = deque()\n",
    "  while a or b:\n",
    "    print(a, b)\n",
    "    if a:\n",
    "      if not b:\n",
    "        c.append(a.popleft())\n",
    "      else:\n",
    "        if a[0] < b[0]:\n",
    "          c.append(a.popleft())\n",
    "        else:\n",
    "          c.append(b.popleft())\n",
    "    else:\n",
    "      c.append(b.popleft())\n",
    "    if len(c) > 1 and c[-1]-c[-2] < eps:\n",
    "        c.pop()\n",
    "  \n",
    "  return c"
   ]
  },
  {
   "cell_type": "code",
   "execution_count": 25,
   "metadata": {},
   "outputs": [
    {
     "name": "stdout",
     "output_type": "stream",
     "text": [
      "deque([]) deque([-1.628325852704105e-13])\n",
      "deque([]) deque([-1.628325852704105e-13])\n",
      "deque([]) deque([-1.628325852704105e-13])\n",
      "deque([]) deque([-1.628325852704105e-13])\n",
      "deque([]) deque([-1.628325852704105e-13])\n",
      "deque([]) deque([-1.628325852704105e-13])\n",
      "deque([]) deque([-1.628325852704105e-13])\n",
      "deque([]) deque([-1.628325852704105e-13])\n",
      "deque([]) deque([-1.628325852704105e-13])\n",
      "deque([]) deque([-1.628325852704105e-13])\n",
      "deque([]) deque([-1.628325852704105e-13])\n",
      "deque([]) deque([-1.628325852704105e-13])\n",
      "deque([]) deque([-1.628325852704105e-13])\n",
      "deque([]) deque([-1.628325852704105e-13])\n",
      "deque([]) deque([-1.628325852704105e-13])\n",
      "deque([]) deque([-1.628325852704105e-13])\n",
      "deque([]) deque([-1.628325852704105e-13])\n",
      "deque([]) deque([-1.628325852704105e-13])\n",
      "deque([]) deque([-1.628325852704105e-13])\n",
      "deque([]) deque([-1.628325852704105e-13])\n",
      "deque([]) deque([-1.628325852704105e-13])\n",
      "deque([]) deque([-1.628325852704105e-13])\n",
      "deque([]) deque([-1.628325852704105e-13])\n",
      "deque([]) deque([-1.628325852704105e-13])\n",
      "deque([-1.6283283525100905e-13]) deque([])\n",
      "deque([-1.6283283525100905e-13]) deque([])\n",
      "deque([-1.6283283525100905e-13]) deque([])\n",
      "deque([-1.6283283525100905e-13]) deque([])\n",
      "deque([-1.6283283525100905e-13]) deque([])\n",
      "deque([-1.6283283525100905e-13]) deque([])\n",
      "deque([-1.6283283525100905e-13]) deque([])\n",
      "deque([-1.6283283525100905e-13]) deque([])\n",
      "deque([-1.6283283525100905e-13]) deque([])\n",
      "deque([-1.6283283525100905e-13]) deque([])\n",
      "deque([-1.6283283525100905e-13]) deque([])\n",
      "deque([-1.6283283525100905e-13]) deque([])\n",
      "deque([-1.6283283525100905e-13]) deque([])\n",
      "deque([-1.6283283525100905e-13]) deque([])\n",
      "deque([-1.6283283525100905e-13]) deque([])\n",
      "deque([-1.6283283525100905e-13]) deque([])\n",
      "deque([-1.6283283525100905e-13]) deque([])\n",
      "deque([-1.6283283525100905e-13]) deque([])\n",
      "deque([-1.6283283525100905e-13]) deque([])\n",
      "deque([-1.6283283525100905e-13]) deque([])\n",
      "deque([]) deque([0.9999999999999982])\n",
      "deque([0.9999999999999982]) deque([])\n",
      "deque([0.9999999999999982]) deque([])\n",
      "deque([]) deque([0.9999999999999982])\n",
      "deque([]) deque([0.9999999999999982])\n",
      "deque([0.9999999999999982]) deque([])\n",
      "deque([0.9999999999999982]) deque([])\n",
      "deque([]) deque([0.9999999999999982])\n",
      "deque([]) deque([0.9999999999999982])\n",
      "deque([0.9999999999999982]) deque([])\n",
      "deque([0.9999999999999982]) deque([])\n",
      "deque([]) deque([0.9999999999999982])\n",
      "deque([]) deque([0.9999999999999982])\n",
      "deque([0.9999999999999982]) deque([])\n",
      "deque([0.9999999999999982]) deque([])\n",
      "deque([]) deque([0.9999999999999982])\n",
      "deque([]) deque([0.9999999999999982])\n",
      "deque([0.9999999999999982]) deque([])\n",
      "deque([0.9999999999999982]) deque([])\n",
      "deque([]) deque([0.9999999999999982])\n",
      "deque([-1.6283283525100905e-13]) deque([0.9999999999999982])\n",
      "deque([]) deque([0.9999999999999982])\n",
      "deque([]) deque([2.000000000000016])\n",
      "deque([]) deque([2.000000000000016])\n",
      "deque([2.000000000000016]) deque([])\n",
      "deque([2.000000000000016]) deque([])\n",
      "deque([]) deque([2.000000000000016])\n",
      "deque([]) deque([2.000000000000016])\n",
      "deque([2.000000000000016]) deque([])\n",
      "deque([2.000000000000016]) deque([])\n",
      "deque([]) deque([2.000000000000016])\n",
      "deque([]) deque([2.000000000000016])\n",
      "deque([2.000000000000016]) deque([])\n",
      "deque([2.000000000000016]) deque([])\n",
      "deque([]) deque([2.000000000000016])\n",
      "deque([]) deque([2.000000000000016])\n",
      "deque([2.000000000000016]) deque([])\n",
      "deque([2.000000000000016]) deque([])\n",
      "deque([]) deque([2.000000000000016])\n",
      "deque([]) deque([2.000000000000016])\n",
      "deque([2.000000000000016]) deque([])\n",
      "deque([2.000000000000016]) deque([])\n",
      "deque([]) deque([2.000000000000016])\n",
      "deque([-1.6283283525100905e-13, 0.9999999999999982]) deque([2.000000000000016])\n",
      "deque([0.9999999999999982]) deque([2.000000000000016])\n",
      "deque([]) deque([2.000000000000016])\n",
      "deque([3.0000000000000586]) deque([])\n",
      "deque([3.0000000000000586]) deque([])\n",
      "deque([]) deque([3.0000000000000586])\n",
      "deque([]) deque([3.0000000000000586])\n",
      "deque([3.0000000000000586]) deque([])\n",
      "deque([3.0000000000000586]) deque([])\n",
      "deque([]) deque([3.0000000000000586])\n",
      "deque([]) deque([3.0000000000000586])\n",
      "deque([3.0000000000000586]) deque([])\n",
      "deque([3.0000000000000586]) deque([])\n",
      "deque([]) deque([3.0000000000000586])\n",
      "deque([]) deque([3.0000000000000586])\n",
      "deque([3.0000000000000586]) deque([])\n",
      "deque([3.0000000000000586]) deque([])\n",
      "deque([]) deque([3.0000000000000586])\n",
      "deque([]) deque([3.0000000000000586])\n",
      "deque([3.0000000000000586]) deque([])\n",
      "deque([3.0000000000000586]) deque([])\n",
      "deque([]) deque([3.0000000000000586])\n",
      "deque([]) deque([3.0000000000000586])\n",
      "deque([3.0000000000000586]) deque([])\n",
      "deque([3.0000000000000586]) deque([])\n",
      "deque([-1.6283283525100905e-13, 0.9999999999999982, 2.000000000000016]) deque([3.0000000000000586])\n",
      "deque([0.9999999999999982, 2.000000000000016]) deque([3.0000000000000586])\n",
      "deque([2.000000000000016]) deque([3.0000000000000586])\n",
      "deque([]) deque([3.0000000000000586])\n",
      "deque([-1.6283283525100905e-13, 0.9999999999999982, 2.000000000000016, 3.0000000000000586]) deque([])\n",
      "deque([0.9999999999999982, 2.000000000000016, 3.0000000000000586]) deque([])\n",
      "deque([2.000000000000016, 3.0000000000000586]) deque([])\n",
      "deque([3.0000000000000586]) deque([])\n",
      "deque([-1.628325852704105e-13]) deque([-1.6283283525100905e-13, 0.9999999999999982, 2.000000000000016, 3.0000000000000586])\n",
      "deque([-1.628325852704105e-13]) deque([0.9999999999999982, 2.000000000000016, 3.0000000000000586])\n",
      "deque([]) deque([0.9999999999999982, 2.000000000000016, 3.0000000000000586])\n",
      "deque([]) deque([2.000000000000016, 3.0000000000000586])\n",
      "deque([]) deque([3.0000000000000586])\n",
      "Recurrent calls: [67108863]\n"
     ]
    }
   ],
   "source": [
    "calls = [0]\n",
    "find_roots(lambda x: x*(x-1)*(x-2)*(x-3), -10., 10., calls)\n",
    "print(f\"Recurrent calls: {calls}\")"
   ]
  },
  {
   "cell_type": "code",
   "execution_count": 7,
   "metadata": {},
   "outputs": [],
   "source": [
    "def find_minimum(f, l, r, max_extrema, f_, eps=1e-6, method='newton'):\n",
    "  if max_extrema > 1:\n",
    "    xs = find_roots(f_, l, r, max_extrema, method=method)\n",
    "    return min(xs, key=f)\n",
    "    \n",
    "  while r-l > eps:\n",
    "    m1 = l+(r-l)/3\n",
    "    m2 = l+2*(r-l)/3\n",
    "    if f(m1) < f(m2):\n",
    "      r = m2\n",
    "    else:\n",
    "      l = m1\n",
    "      \n",
    "  return l"
   ]
  },
  {
   "cell_type": "code",
   "execution_count": 8,
   "metadata": {},
   "outputs": [
    {
     "data": {
      "text/plain": [
       "2.618033988749895"
      ]
     },
     "execution_count": 8,
     "metadata": {},
     "output_type": "execute_result"
    }
   ],
   "source": [
    "find_minimum(f := lambda x: x*(x-1)*(x-2)*(x-3), -10., 10., 3, grad(f))"
   ]
  },
  {
   "cell_type": "code",
   "execution_count": 9,
   "metadata": {},
   "outputs": [
    {
     "data": {
      "text/plain": [
       "-4.069697706341903e-07"
      ]
     },
     "execution_count": 9,
     "metadata": {},
     "output_type": "execute_result"
    }
   ],
   "source": [
    "find_minimum (f := lambda x: x**2, -2, 3, 1, None)"
   ]
  },
  {
   "cell_type": "code",
   "execution_count": 10,
   "metadata": {},
   "outputs": [],
   "source": [
    "a = 1\n",
    "b = 2\n",
    "c = 3\n",
    "d = 4\n",
    "\n",
    "import autograd.numpy as np\n",
    "from autograd import grad\n",
    "f = lambda x: np.exp(a*x)+np.exp(-b*x)+c*(x-d)**2\n",
    "f_ = lambda x: np.exp(a*x)*a+np.exp(-b*x)*(-b)+2*c*(x-d)"
   ]
  },
  {
   "cell_type": "code",
   "execution_count": 11,
   "metadata": {},
   "outputs": [
    {
     "data": {
      "text/plain": [
       "2.315283478948846"
      ]
     },
     "execution_count": 11,
     "metadata": {},
     "output_type": "execute_result"
    }
   ],
   "source": [
    "# malkovsky: границы должны были подбираться из аргументов\n",
    "find_minimum(f, -1000., 1001., 1, f_)"
   ]
  }
 ],
 "metadata": {
  "kernelspec": {
   "display_name": "Python 3 (ipykernel)",
   "language": "python",
   "name": "python3"
  },
  "language_info": {
   "codemirror_mode": {
    "name": "ipython",
    "version": 3
   },
   "file_extension": ".py",
   "mimetype": "text/x-python",
   "name": "python",
   "nbconvert_exporter": "python",
   "pygments_lexer": "ipython3",
   "version": "3.8.3"
  },
  "widgets": {
   "application/vnd.jupyter.widget-state+json": {
    "state": {},
    "version_major": 2,
    "version_minor": 0
   }
  }
 },
 "nbformat": 4,
 "nbformat_minor": 4
}
