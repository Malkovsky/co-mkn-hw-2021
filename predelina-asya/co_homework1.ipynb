{
 "cells": [
  {
   "cell_type": "markdown",
   "metadata": {},
   "source": [
    "Задание 1: \n",
    "\n",
    "Вычислить $\\sqrt[k]a$:\n",
    "* 1б С помощью метода бисекции.\n",
    "* 2б C помощью метода Ньютона"
   ]
  },
  {
   "cell_type": "markdown",
   "metadata": {},
   "source": [
    "Бисекция:"
   ]
  },
  {
   "cell_type": "code",
   "execution_count": 1,
   "metadata": {},
   "outputs": [
    {
     "name": "stdout",
     "output_type": "stream",
     "text": [
      "k = 2, a = 4: root is 2.0\n",
      "k = 3, a = 5: root is 1.709975946596387\n",
      "k = 3, a = -1000: root is -10.00000000004797\n",
      "k = 2, a = -49: root is None\n",
      "k = 4, a = 16: root is 2.0\n",
      "k = 5, a = -32: root is -2.000000000027285\n",
      "k = 2, a = 1.44: root is 1.1999999999485904\n"
     ]
    }
   ],
   "source": [
    "EPS = 1e-10\n",
    "\n",
    "def bisection(f, left, right):\n",
    "    while right - left > EPS:\n",
    "        mid = (left + right) / 2\n",
    "        if f(left) == 0:\n",
    "            return left\n",
    "        if f(right) == 0:\n",
    "            return right\n",
    "        if f(mid) == 0:\n",
    "            return mid\n",
    "        \n",
    "        if f(left) * f(mid) < 0:\n",
    "            right = mid\n",
    "        elif f(right) * f(mid) < 0:\n",
    "            left = mid\n",
    "            \n",
    "    return left\n",
    "\n",
    "def find_root_bisection(k, a):\n",
    "    if not k % 2 and a < 0:\n",
    "        return None\n",
    "    \n",
    "    def func(x):\n",
    "        return x ** k - a\n",
    "    \n",
    "    left_boundary = 0 if a > 0 else a\n",
    "    ans_root = bisection(func, left_boundary, a ** 2)\n",
    "    return ans_root\n",
    "\n",
    "TESTS = [(2, 4), (3, 5), (3, -1000), (2, -49), (4, 16), (5, -32), (2, 1.44)]\n",
    "for test in TESTS:\n",
    "    k, a = test\n",
    "    print('k = {}, a = {}: root is {}'.format(k, a, find_root_bisection(k, a)))\n"
   ]
  },
  {
   "cell_type": "markdown",
   "metadata": {},
   "source": [
    "Методом Ньютона:"
   ]
  },
  {
   "cell_type": "code",
   "execution_count": 2,
   "metadata": {},
   "outputs": [
    {
     "name": "stdout",
     "output_type": "stream",
     "text": [
      "k = 2, a = 4: root is 2.0\n",
      "k = 3, a = 5: root is 1.709975946676697\n",
      "k = 3, a = -1000: root is -10.0\n",
      "k = 2, a = -49: root is None\n",
      "k = 4, a = 16: root is 2.0\n",
      "k = 5, a = -32: root is -2.0\n",
      "k = 2, a = 1.44: root is 1.2\n"
     ]
    }
   ],
   "source": [
    "ITERS = 1000\n",
    "\n",
    "def find_root_newton(k, a):\n",
    "    if not k % 2 and a < 0:\n",
    "        return None\n",
    "    \n",
    "    x = 2\n",
    "    for _ in range(ITERS):\n",
    "        x = ((k - 1) * (x ** k) + a) / (k * (x ** (k - 1)))\n",
    "    return x\n",
    "\n",
    "for test in TESTS:\n",
    "    k, a = test\n",
    "    # malkovsky: рекомендуется использовать f-string вместо format\n",
    "    print('k = {}, a = {}: root is {}'.format(k, a, find_root_newton(k, a)))"
   ]
  },
  {
   "cell_type": "markdown",
   "metadata": {},
   "source": [
    "Задание 2:\n",
    "\n",
    "Дан многочлен P степени не больше 5 и отрезок $[L; R]$, пара:\n",
    "* 2б Локализовать корни P, т.е. найти непересекающиеся отрезки $[L_1; R_1], . . . , [L_m; R_m]$\n",
    "такие, что $P(L_i)P(R_i) < 0$.\n",
    "* 1б Для каждого $[L_i; R_i]$ найти соответствующий корень.\n",
    "* 2б Найти глобальный минимум P на отрезке $[L; R]$.\n"
   ]
  },
  {
   "cell_type": "markdown",
   "metadata": {},
   "source": [
    "Локализация и нахождение корней:\n",
    "\n",
    "Заметим, что на промежутках монотонности функции есть ровно по одному корню многочлена. Тогда нам достаточно найти нули производной и взять отрезки между ними (но!! нужно чтобы на концах отрезка были значения разных знаков). Производная многочлена степени n является многочленом (n - 1)-ой степени. Таким образом, мы свели задачу к меньшей (будем рекурсивно находить корни, пока не дойдём до многочлена 1-ой степени)."
   ]
  },
  {
   "cell_type": "code",
   "execution_count": 3,
   "metadata": {},
   "outputs": [
    {
     "name": "stdout",
     "output_type": "stream",
     "text": [
      "coefs are equal to [1, 2, 1]. And intervals are [[-3.0, -1.0]]. Roots are [-1.0]\n",
      "coefs are equal to [1, 0, 1]. And intervals are []. Roots are []\n",
      "coefs are equal to [1, 3, 0, 1]. And intervals are [[-4.0, 4.0]]. Roots are [-0.32218535465653986]\n",
      "coefs are equal to [-5, 0, -6, 0, 1]. And intervals are [[-13.0, -1.732050807622727], [1.7320508075354155, 13.0]]. Roots are [-2.5964701783416766, 2.596470178261063]\n",
      "coefs are equal to [-1, 1, -1, 1, -1, 1]. And intervals are [[-5.0, 5.0]]. Roots are [0.9999999999854481]\n",
      "coefs are equal to [-3, 2, 1]. And intervals are [[-3.0, -1.0], [-1.0, 3.0]]. Roots are [-3.0, 1.0]\n",
      "coefs are equal to [-2, 3, 1, -3, 1]. And intervals are [[-10.0, -0.4430004682430645], [-0.4430004682430645, 0.9999999999867832], [1.6930004681335005, 10.0]]. Roots are [-1.0000000000168396, 0.9999999946111876, 1.9999999999952467]\n",
      "coefs are equal to [0, 1, 3]. And intervals are [[-1.3333333333333333, -0.16666666666666666], [-0.16666666666666666, 1.3333333333333333]]. Roots are [-0.3333333333818397, -6.790893927435505e-11]\n"
     ]
    }
   ],
   "source": [
    "def poly_value(coef: list(), x):\n",
    "    ans = 0\n",
    "    curr_deg = 1\n",
    "    for c in coef:\n",
    "        ans += c * curr_deg\n",
    "        curr_deg *= x\n",
    "    return ans\n",
    "\n",
    "\n",
    "def poly_derivative(coef: list()):\n",
    "    new_coef = []\n",
    "    for i in range(1, len(coef)):\n",
    "        new_coef.append(coef[i] * i)\n",
    "    return new_coef\n",
    "\n",
    "\n",
    "def is_appr_root(coef: list(), x, eps=0.00000001):\n",
    "    return abs(poly_value(coef, x)) < eps\n",
    "\n",
    "\n",
    "def intervals_and_roots(coef: list()):\n",
    "    assert(len(coef) >= 2 and len(coef) <= 6 and coef[-1])\n",
    "    if len(coef) == 2:\n",
    "        root = (-1) * coef[0] / coef[1]\n",
    "        return ([[root - 1, root + 1]], [root])\n",
    "    derivative = poly_derivative(coef)\n",
    "    def_intervals, der_roots = intervals_and_roots(derivative)\n",
    "    \n",
    "    M = 0\n",
    "    for i in range(len(derivative) - 1):\n",
    "        M = max(M, abs(derivative[i]))\n",
    "    M = M / abs(coef[-1])\n",
    "    \n",
    "    ans_intervals = []\n",
    "    if not len(der_roots):\n",
    "        ans_intervals.append([(-1) * (M + 1), M + 1])\n",
    "    else:\n",
    "        if poly_value(coef, (-1) * (M + 1)) * poly_value(coef, der_roots[0]) <= 0 or is_appr_root(coef, der_roots[0]):\n",
    "            ans_intervals.append([(-1) * (M + 1), der_roots[0]])\n",
    "        flag = False #чтобы не повторять отрезки с одинаковыми корнями, являющимися также корнями производной\n",
    "        for i in range(1, len(der_roots)):\n",
    "            if (is_appr_root(coef, der_roots[i]) or poly_value(coef, der_roots[i - 1]) * poly_value(coef, der_roots[i]) <= 0) and not flag:\n",
    "                ans_intervals.append([der_roots[i - 1], der_roots[i]])\n",
    "            flag = is_appr_root(coef, der_roots[i])\n",
    "        if poly_value(coef, M + 1) * poly_value(coef, der_roots[-1]) <= 0 or is_appr_root(coef, der_roots[-1]):\n",
    "            if len(der_roots) != 1 or poly_value(coef, der_roots[-1]) != 0:\n",
    "                ans_intervals.append([der_roots[-1], M + 1])\n",
    "\n",
    "    def func(x):\n",
    "        return poly_value(coef, x)\n",
    "    \n",
    "    ans_roots = []\n",
    "    for interval in ans_intervals:\n",
    "        left, right = interval\n",
    "        curr_root = bisection(func, left, right)\n",
    "        ans_roots.append(curr_root)\n",
    "    \n",
    "    return (ans_intervals, ans_roots)\n",
    "\n",
    "# x^2+2x+1; x^2+1; x^3+3x+1; x^4-6x^2-5; x^5-x^4+x^3-x^2+x-1; x^2+2x-3; x^4-3x^3+x^2+3x-2; 3x^2+x\n",
    "POLY_TESTS = [[1, 2, 1], [1, 0, 1], [1, 3, 0, 1], [-5, 0, -6, 0, 1], \n",
    "              [-1, 1, -1, 1, -1, 1], [-3, 2, 1], [-2, 3, 1, -3, 1], [0, 1, 3]]\n",
    "\n",
    "for test in POLY_TESTS:\n",
    "    intervals, roots = intervals_and_roots(test)\n",
    "    print('coefs are equal to {}. And intervals are {}. Roots are {}'.format(test, intervals, roots))"
   ]
  },
  {
   "cell_type": "markdown",
   "metadata": {},
   "source": [
    "Нахождение глобального минимума:\n",
    "\n",
    "Глобальный минимум может быть либо в точках, где производная равна 0, либо на концах отрезка."
   ]
  },
  {
   "cell_type": "code",
   "execution_count": 4,
   "metadata": {},
   "outputs": [
    {
     "name": "stdout",
     "output_type": "stream",
     "text": [
      "coefs are equal to [1, 2, 1]. And global minimum is 0.0\n",
      "coefs are equal to [1, 0, 1]. And global minimum is 1.0\n",
      "coefs are equal to [1, 3, 0, 1]. And global minimum is -8059\n",
      "coefs are equal to [-5, 0, -6, 0, 1]. And global minimum is -14.0\n",
      "coefs are equal to [-1, 1, -1, 1, -1, 1]. And global minimum is -3368421\n",
      "coefs are equal to [-3, 2, 1]. And global minimum is -4.0\n",
      "coefs are equal to [-2, 3, 1, -3, 1]. And global minimum is -2.833422409000351\n",
      "coefs are equal to [0, 1, 3]. And global minimum is -0.08333333333333333\n"
     ]
    }
   ],
   "source": [
    "def find_global_min(coef: list(), left=-20, right=20):\n",
    "    derivative = poly_derivative(coef)\n",
    "    def_intervals, der_roots = intervals_and_roots(derivative)\n",
    "    \n",
    "    ans = min(poly_value(coef, left), poly_value(coef, right))\n",
    "    for root in der_roots:\n",
    "        ans = min(ans, poly_value(coef, root))\n",
    "    return ans\n",
    "\n",
    "for test in POLY_TESTS:\n",
    "    print('coefs are equal to {}. And global minimum is {}'.format(test, find_global_min(test)))"
   ]
  },
  {
   "cell_type": "markdown",
   "metadata": {},
   "source": [
    "Задание 3:\n",
    "\n",
    "При a, b, c > 0 найти минимум функции $e^{ax} + e^{−bx} + c(x − d)^2$:\n",
    "* 1б С использованием метода бисекции.\n",
    "* 2б C использованием метода Ньютона.\n",
    "* 1б С использованием тернарного поиска."
   ]
  },
  {
   "cell_type": "code",
   "execution_count": 5,
   "metadata": {},
   "outputs": [],
   "source": [
    "import numpy as np"
   ]
  },
  {
   "cell_type": "markdown",
   "metadata": {},
   "source": [
    "Методом бисекции:"
   ]
  },
  {
   "cell_type": "code",
   "execution_count": 6,
   "metadata": {},
   "outputs": [
    {
     "name": "stdout",
     "output_type": "stream",
     "text": [
      "a = 1, b = 2, c = 3, d = 4 and minimum is equal to 18.652352027148623\n",
      "a = 3, b = 2, c = 1, d = 0 and minimum is equal to 1.965755262275268\n",
      "a = 1, b = 1, c = 1, d = 1 and minimum is equal to 2.505042602807782\n"
     ]
    }
   ],
   "source": [
    "def find_min_bisection(a, b, c, d):\n",
    "    \n",
    "    def f(x):\n",
    "        return np.exp(a * x) + np.exp(-b * x) + c * ((x - d) ** 2)\n",
    "    def derivative(x):\n",
    "        return a * np.exp(a * x) - b * np.exp(-b * x) + 2 * c * (x - d)\n",
    "    \n",
    "    left_boundary = -1\n",
    "    while derivative(left_boundary) > 0:\n",
    "        left_boundary *= 2\n",
    "    if derivative(left_boundary) == 0:\n",
    "        return f(left_boundary)\n",
    "    # malkovsky: вот честно говоря не уверен по поводу такой границы, но наверно ок\n",
    "    right_boundary = b + d\n",
    "    x_min = bisection(derivative, left_boundary, right_boundary)\n",
    "    \n",
    "    return f(x_min)\n",
    "\n",
    "SOME_TESTS = [(1, 2, 3, 4), (3, 2, 1, 0), (1, 1, 1, 1)]\n",
    "for test in SOME_TESTS:\n",
    "    a, b, c, d = test\n",
    "    print('a = {}, b = {}, c = {}, d = {} and minimum is equal to {}'.format(a, b, c, d, find_min_bisection(a, b, c, d)))"
   ]
  },
  {
   "cell_type": "markdown",
   "metadata": {},
   "source": [
    "Методом Ньютона:"
   ]
  },
  {
   "cell_type": "code",
   "execution_count": 7,
   "metadata": {},
   "outputs": [
    {
     "name": "stdout",
     "output_type": "stream",
     "text": [
      "a = 1, b = 2, c = 3, d = 4 and minimum is equal to 18.652352027148623\n",
      "a = 3, b = 2, c = 1, d = 0 and minimum is equal to 1.965755262275268\n",
      "a = 1, b = 1, c = 1, d = 1 and minimum is equal to 2.505042602807782\n"
     ]
    }
   ],
   "source": [
    "def find_min_newton(a, b, c, d):\n",
    "    \n",
    "    def f(x):\n",
    "        return np.exp(a * x) + np.exp(-b * x) + c * ((x - d) ** 2)\n",
    "    def derivative(x):\n",
    "        return a * np.exp(a * x) - b * np.exp(-b * x) + 2 * c * (x - d)\n",
    "    def dxdx(x):\n",
    "        return (a ** 2) * np.exp(a * x) + (b ** 2) * np.exp(-b * x) + 2 * c\n",
    "    \n",
    "    x_min = 0\n",
    "    for _ in range(ITERS): \n",
    "        x_new = x_min - (derivative(x_min) / dxdx(x_min))\n",
    "        if abs(x_new - x_min) < EPS:\n",
    "            break\n",
    "        x_min = x_new\n",
    "        \n",
    "    return f(x_min)\n",
    "\n",
    "for test in SOME_TESTS:\n",
    "    a, b, c, d = test\n",
    "    print('a = {}, b = {}, c = {}, d = {} and minimum is equal to {}'.format(a, b, c, d, find_min_newton(a, b, c, d)))"
   ]
  },
  {
   "cell_type": "markdown",
   "metadata": {},
   "source": [
    "С помощью тернарного поиска:"
   ]
  },
  {
   "cell_type": "code",
   "execution_count": 8,
   "metadata": {},
   "outputs": [
    {
     "name": "stdout",
     "output_type": "stream",
     "text": [
      "a = 1, b = 2, c = 3, d = 4 and minimum is equal to 18.652352027148623\n",
      "a = 3, b = 2, c = 1, d = 0 and minimum is equal to 1.9657552622752683\n",
      "a = 1, b = 1, c = 1, d = 1 and minimum is equal to 2.505042602807782\n"
     ]
    }
   ],
   "source": [
    "def find_min_ternary(a, b, c, d):\n",
    "    \n",
    "    def f(x):\n",
    "        return np.exp(a * x) + np.exp(-b * x) + c * ((x - d) ** 2)\n",
    "    def derivative(x):\n",
    "        return a * np.exp(a * x) - b * np.exp(-b * x) + 2 * c * (x - d)\n",
    "    \n",
    "    left_boundary = -1\n",
    "    while derivative(left_boundary) > 0:\n",
    "        left_boundary *= 2\n",
    "    if derivative(left_boundary) == 0:\n",
    "        return f(left_boundary)\n",
    "    right_boundary = b + d\n",
    "    \n",
    "    while right_boundary - left_boundary > EPS:\n",
    "        m1 = left_boundary + (right_boundary - left_boundary) / 3\n",
    "        m2 = right_boundary - (right_boundary - left_boundary) / 3\n",
    "        if f(m1) < f(m2):\n",
    "            right_boundary = m2\n",
    "        else:\n",
    "            left_boundary = m1\n",
    "    return f(left_boundary)\n",
    "\n",
    "for test in SOME_TESTS:\n",
    "    a, b, c, d = test\n",
    "    print('a = {}, b = {}, c = {}, d = {} and minimum is equal to {}'.format(a, b, c, d, find_min_ternary(a, b, c, d)))"
   ]
  }
 ],
 "metadata": {
  "kernelspec": {
   "display_name": "Python 3 (ipykernel)",
   "language": "python",
   "name": "python3"
  },
  "language_info": {
   "codemirror_mode": {
    "name": "ipython",
    "version": 3
   },
   "file_extension": ".py",
   "mimetype": "text/x-python",
   "name": "python",
   "nbconvert_exporter": "python",
   "pygments_lexer": "ipython3",
   "version": "3.8.3"
  },
  "widgets": {
   "application/vnd.jupyter.widget-state+json": {
    "state": {},
    "version_major": 2,
    "version_minor": 0
   }
  }
 },
 "nbformat": 4,
 "nbformat_minor": 4
}
