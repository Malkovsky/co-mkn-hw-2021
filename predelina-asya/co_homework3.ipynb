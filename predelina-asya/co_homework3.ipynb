{
 "cells": [
  {
   "cell_type": "markdown",
   "metadata": {},
   "source": [
    "# Задание 1"
   ]
  },
  {
   "cell_type": "markdown",
   "metadata": {},
   "source": [
    "Для задачи линейного программирования: минимизировать $c^T x$ при условии $Ax = b$, \n",
    "$x ≥ 0$\n",
    "\n",
    "a) (2б) Сформулируйте двойственную задачу и решите её (можно\n",
    "использовать любой оптимизационный пакет)\n",
    "\n",
    "b) (2б) С использованием двойственного решения найдите решение\n",
    "исходной задачи (без использования оптимизационных пакетов)"
   ]
  },
  {
   "cell_type": "markdown",
   "metadata": {},
   "source": [
    "*Решение пункта (a):*\n",
    "\n",
    "Обозначим через $f(x) = c^T x, g(x) = -x, h(x) = Ax - b$. Тогда лагранжиан для нашей задачи будет выглядеть так: $L(x, \\lambda, \\mu) = f(x) + \\lambda^T g(x) + \\mu^T h(x) = c^T x - \\lambda^T x + \\mu^T (Ax - b) = (c^T - \\lambda^T + \\mu^T A)x - \\mu^T b$.\n",
    "\n",
    "$q(\\lambda, \\mu) = \\inf\\limits_{x \\in \\mathbb{R}^n} L(x, \\lambda, \\mu) = \\inf\\limits_{x \\in \\mathbb{R}^n} ((c^T - \\lambda^T + \\mu^T A)x - \\mu^T b) = \n",
    "\\begin{cases}\n",
    "-\\mu^T b , & c^T - \\lambda^T + \\mu^T A = 0 \\\\\n",
    "-\\infty, & c^T - \\lambda^T + \\mu^T A \\neq 0\n",
    "\\end{cases}$\n",
    "\n",
    "Двойственная задача будет следующей: максимизировать $-\\mu^T b$ при условии $\\lambda \\geq 0$ и $c^T - \\lambda^T + \\mu^T A = 0$\n"
   ]
  },
  {
   "cell_type": "code",
   "execution_count": 1,
   "metadata": {},
   "outputs": [],
   "source": [
    "import numpy as np\n",
    "import cvxpy as cp\n",
    "\n",
    "def solve_dual_task(A: np.array, b: np.array, c: np.array):\n",
    "    '''\n",
    "    Returns solution (lambda, mu)\n",
    "    '''\n",
    "    m, n = c.shape[0], A.shape[0]\n",
    "    lambda_ = cp.Variable(m)\n",
    "    mu = cp.Variable(n)\n",
    "    constraints = [lambda_ >= 0, c - lambda_ + A.T @ mu == 0]\n",
    "    obj = cp.Maximize(-mu.T @ b)\n",
    "    cp.Problem(obj, constraints).solve()\n",
    "    return (lambda_.value, mu.value)\n"
   ]
  },
  {
   "cell_type": "markdown",
   "metadata": {},
   "source": [
    "*Решение пункта (b):*\n",
    "\n",
    "Из условия Слейтера получаем, что оптимальное решение двойственной задачи даёт оптимальное решение прямой: $f(x^*) = q(\\lambda^*, \\mu^*) \\Rightarrow c^T x^* = -{\\mu^*}^T b$ и $c^T - {\\lambda^*}^T + {\\mu^*}^TA = 0, Ax^* = b, x^* \\geq 0$, где $x^*$ -- решение прямой задачи, а $\\lambda^*, \\mu^*$ -- решение двойственной.\n",
    "\n",
    "$c^T - {\\lambda^*}^T + {\\mu^*}^TA = 0, c^T x^* = -{\\mu^*}^T b, Ax^* = b \\Rightarrow {\\lambda^*}^T x^* = 0$\n",
    "\n",
    "Из условия дополняющей нежёсткости в теореме Каруша-Куна-Таккера следует, что если $\\lambda^*_i \\neq 0,$ то $x^*_i = 0$.\n",
    "Получаем следующее решение прямой задачи: если $\\lambda^*_i \\neq 0$, то $x^*_i = 0$; иначе ищем координаты вектора $x_*$ из решения системы $Ax^* = b$"
   ]
  },
  {
   "cell_type": "code",
   "execution_count": 2,
   "metadata": {},
   "outputs": [],
   "source": [
    "def solve_primal_task(A: np.array, b: np.array, c: np.array):\n",
    "    '''\n",
    "    Returns solution x*\n",
    "    '''\n",
    "    lambda_star, mu_star = solve_dual_task(A, b, c)\n",
    "    index = np.isclose(lambda_star, 0)\n",
    "    x_star = np.zeros(c.shape[0])\n",
    "    A_ = A[:, index]\n",
    "    x_star[index] = np.linalg.inv(A_.T @ A_) @ A_.T @ b\n",
    "    return x_star"
   ]
  },
  {
   "cell_type": "markdown",
   "metadata": {},
   "source": [
    "# Задание 2"
   ]
  },
  {
   "cell_type": "markdown",
   "metadata": {},
   "source": [
    "Дан набор точек $x_1, . . . , x_m ∈ R^n$. Требуется найти шар минимального радиуса, содержащего все эти точки"
   ]
  },
  {
   "cell_type": "markdown",
   "metadata": {},
   "source": [
    "*Решение:*\n",
    "\n",
    "Можно минимизировать квадрат радиуса $r_{sqr}$ при условиях $r_{sqr} \\geq 0$ и $(c - X[i])(c - X[i])^T \\leq r_{sqr}$, где $с$ - координаты центра искомого шара, а $X$ - матрица $m$ x $n$ со строками-исходными точками"
   ]
  },
  {
   "cell_type": "code",
   "execution_count": 3,
   "metadata": {},
   "outputs": [],
   "source": [
    "def get_center_and_radius(X: np.array):\n",
    "    '''\n",
    "    Args:\n",
    "        X: (m, n) -- matrix with rows-points\n",
    "    Returns:\n",
    "        c: np.array (n,) -- center,\n",
    "        r: float -- radius\n",
    "    '''\n",
    "    m, n = X.shape\n",
    "    r_sqr = cp.Variable(1)\n",
    "    c = cp.Variable(n)\n",
    "    constraints = [np.sum(c**2) + np.sum(X[i, :]**2) - 2 * c @ X[i, :].reshape((-1, 1)) <= r_sqr for i in range(m)] + [r_sqr >= 0]\n",
    "    obj = cp.Minimize(r_sqr)\n",
    "    cp.Problem(obj, constraints).solve()\n",
    "    return (c.value, np.sqrt(r_sqr.value))\n",
    "\n",
    "X = np.array([[1, 0], [0, 1], [-1, 0]])\n",
    "c, r = get_center_and_radius(X)\n",
    "EPS = 1e-5\n",
    "assert(np.linalg.norm(c) < EPS and abs(r - 1) < EPS)"
   ]
  },
  {
   "cell_type": "markdown",
   "metadata": {},
   "source": [
    "# Задание 3"
   ]
  },
  {
   "cell_type": "markdown",
   "metadata": {},
   "source": [
    "(4б) SVM: дан набор точек $x_1, . . . , x_m ∈ R^n$ и пометки $y_1, . . . , y_m ∈$ {$0$, $1$}. \n",
    "\n",
    "Требуется найти такой вектор $a$, что величина $\\min \\limits_{y_i = 0} a^T x_i − \\max \\limits_{y_i = 1} a^T x_i$ максимальна."
   ]
  },
  {
   "cell_type": "markdown",
   "metadata": {},
   "source": [
    "*Решение:*\n",
    "\n",
    "Заметим, что в задаче мы ищем определённое направление, поэтому будем рассматривать векторы $a$ в единичном шаре.\n",
    "\n",
    "Можно ввести две дополнительные переменные $min^*$ и $max^*$. И максимизировать $(min^* - max^*)$ при условиях:\n",
    "\n",
    "1. $\\forall i: y_i = 0: a^T x_i \\geq min^*$\n",
    "2. $\\forall i: y_i = 1: a^T x_i \\leq max^*$\n",
    "3. $|a| \\leq 1$\n",
    "\n",
    "Причём, решив такую задачу, мы найдём именно минимум и максимум, так как иначе можно было бы уменьшить величину $(min^* - max^*)$ при фиксированном векторе $a$ из решения, подставив $min^* = \\min \\limits_{y_i = 1} a^T x_i$ и $max^* = \\max \\limits_{y_i = 0} a^T x_i$ (получили противоречие)."
   ]
  },
  {
   "cell_type": "code",
   "execution_count": 4,
   "metadata": {},
   "outputs": [],
   "source": [
    "def solve_svm(X: np.array, y: np.array):\n",
    "    '''\n",
    "    Args:\n",
    "        X: np.array (m, n) with rows-points\n",
    "        y: np.array (m,) with labels from {0, 1}\n",
    "    Returns:\n",
    "        a: np.array (n,) - solution\n",
    "    '''\n",
    "    min_star = cp.Variable(1)\n",
    "    max_star = cp.Variable(1)\n",
    "    a = cp.Variable((1, X.shape[1]))\n",
    "    constraints = [a @ row.T >= min_star for row in X[y == 0]] + [a @ row.T <= max_star for row in X[y == 1]] + [cp.sum_squares(a) <= 1]\n",
    "    obj = cp.Maximize(min_star - max_star)\n",
    "    cp.Problem(obj, constraints).solve()\n",
    "    return a.value\n"
   ]
  },
  {
   "cell_type": "code",
   "execution_count": null,
   "metadata": {},
   "outputs": [],
   "source": []
  }
 ],
 "metadata": {
  "kernelspec": {
   "display_name": "Python 3",
   "language": "python",
   "name": "python3"
  },
  "language_info": {
   "codemirror_mode": {
    "name": "ipython",
    "version": 3
   },
   "file_extension": ".py",
   "mimetype": "text/x-python",
   "name": "python",
   "nbconvert_exporter": "python",
   "pygments_lexer": "ipython3",
   "version": "3.7.3"
  }
 },
 "nbformat": 4,
 "nbformat_minor": 2
}
