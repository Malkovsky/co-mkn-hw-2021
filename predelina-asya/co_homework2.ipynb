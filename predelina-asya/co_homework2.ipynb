{
 "cells": [
  {
   "cell_type": "markdown",
   "metadata": {},
   "source": [
    "Задание 1:"
   ]
  },
  {
   "cell_type": "markdown",
   "metadata": {},
   "source": [
    "Реализуйте класс, представляющий собой матрицу, который можно\n",
    "множать слева и справа на одномерные numpy вектора за время O(m),\n",
    "где m – количество ненулевых элементов матрицы.\n",
    "\n",
    "- 1б Только левое/правое умножение.\n",
    "- 2б Левое и правое умножение.\n"
   ]
  },
  {
   "cell_type": "code",
   "execution_count": 1,
   "metadata": {},
   "outputs": [],
   "source": [
    "import numpy as np\n",
    "\n",
    "\n",
    "class SparseMatrix:\n",
    "    \n",
    "    def __init__(self, matrix: np.array):\n",
    "        nonzero_indexes = np.nonzero(matrix)\n",
    "        self.n_rows, self.n_columns = matrix.shape\n",
    "        self.value_arr = matrix[nonzero_indexes]\n",
    "        self.column_index_arr = nonzero_indexes[1]\n",
    "        # первый элемент равен 0; каждый следующий на i-той позиции равен \n",
    "        # количеству ненулевых элементов матрицы во всех строчках от нулевой до (i - 1) включительно\n",
    "        self.row_indexing_arr = []\n",
    "        for i in range(matrix.shape[0] + 1):\n",
    "            curr_sum = 0\n",
    "            for j in nonzero_indexes[0]:\n",
    "                if j < i:\n",
    "                    curr_sum += 1\n",
    "            self.row_indexing_arr.append(curr_sum)\n",
    "    \n",
    "    # x - вектор; будем передавать в виде строчки\n",
    "    # matrix @ x\n",
    "    def right_mul(self, x: np.array):\n",
    "        ans = np.zeros(self.n_rows)\n",
    "        last_index = 0\n",
    "        for i in range(1, len(self.row_indexing_arr)):\n",
    "            elem_count = self.row_indexing_arr[i] - self.row_indexing_arr[i - 1]\n",
    "            for j in range(last_index, last_index + elem_count):\n",
    "                ans[i - 1] += self.value_arr[j] * x[self.column_index_arr[j]]\n",
    "            last_index += elem_count\n",
    "        return ans\n",
    "    \n",
    "    # x.T @ matrix\n",
    "    def left_mul(self, x: np.array):\n",
    "        ans = np.zeros(self.n_columns)\n",
    "        last_index = 0\n",
    "        for i in range(1, len(self.row_indexing_arr)):\n",
    "            elem_count = self.row_indexing_arr[i] - self.row_indexing_arr[i - 1]\n",
    "            for j in range(last_index, last_index + elem_count):\n",
    "                ans[self.column_index_arr[j]] += self.value_arr[j] * x[i - 1]\n",
    "            last_index += elem_count\n",
    "        return ans\n",
    "    "
   ]
  },
  {
   "cell_type": "code",
   "execution_count": 2,
   "metadata": {},
   "outputs": [],
   "source": [
    "matrix = np.array([[1, 2, 0],\n",
    "                   [0, 4, 0],\n",
    "                   [0, 2, 6]\n",
    "                  ])\n",
    "sparse_matrix = SparseMatrix(matrix)\n",
    "x1, x2 = np.array([1, 1, 1]), np.array([2, 4, 1])\n",
    "assert(np.array_equal(sparse_matrix.right_mul(x1), [3, 4, 8]))\n",
    "assert(np.array_equal(sparse_matrix.right_mul(x2), [10, 16, 14]))\n",
    "assert(np.array_equal(sparse_matrix.left_mul(x1), [1, 8, 6]))\n",
    "assert(np.array_equal(sparse_matrix.left_mul(x2), [2, 22, 6]))"
   ]
  },
  {
   "cell_type": "markdown",
   "metadata": {},
   "source": [
    "Задание 2:"
   ]
  },
  {
   "cell_type": "markdown",
   "metadata": {},
   "source": [
    "- 3б. Реализуйте метод сопряженных градиентов для минимизации\n",
    "$||Ax − b||$\n",
    "таким образом, чтобы его сложность была порядка O(nm), где n –\n",
    "размерность x, m – число ненулевых элементов A."
   ]
  },
  {
   "cell_type": "markdown",
   "metadata": {},
   "source": [
    "Чтобы получить сложность O(nm), воспользуемся прошлой задачей.\n",
    "\n",
    "Умеем решать за O(n) задачу минимизации функции\n",
    "$\\frac{1}{2} \\cdot <Ax, x> - <b, x>$\n",
    "\n",
    "Распишем нашу функцию:\n",
    "$||Ax - b||^2 = (Ax - b)^T \\cdot (Ax - b) = x^TA^TAx - x^TA^Tb - b^TAx - b^Tb = <A^TAx, x> - 2<A^Tb, x> - b^Tb$\n",
    "\n",
    "Тогда наша задача эквивалентна предыдущей, если взять матрицу $A^TA$ и вектор $A^Tb$"
   ]
  },
  {
   "cell_type": "code",
   "execution_count": 3,
   "metadata": {},
   "outputs": [],
   "source": [
    "def conjugate_gradient_method(A: np.array, b: np.array):\n",
    "    '''\n",
    "    Returns: последовательность приближений [x_0, x_1, .., x_m], где m - количество столбцов матрицы A\n",
    "    '''\n",
    "    ans = []\n",
    "    sparse_A = SparseMatrix(A)\n",
    "    sparse_A_T = SparseMatrix(A.T)\n",
    "    # new_A = A.T @ A\n",
    "    n, m = A.shape\n",
    "    new_A = np.zeros((m, m))\n",
    "    for i in range(m):\n",
    "        new_column = sparse_A_T.right_mul(A[:, i])\n",
    "        new_A[:, i] = new_column\n",
    "    new_b = sparse_A_T.right_mul(b)\n",
    "    x_0 = np.zeros(m)\n",
    "    sparse_new_A = SparseMatrix(new_A)\n",
    "    curr_r = new_b - sparse_new_A.right_mul(x_0)\n",
    "    curr_p = curr_r\n",
    "    curr_x = x_0\n",
    "    for _ in range(m):\n",
    "        curr_alpha = curr_r.T @ curr_r / (curr_p.T @ (sparse_new_A.right_mul(curr_p)))\n",
    "        curr_x = curr_x + curr_alpha * curr_p\n",
    "        ans.append(curr_x)\n",
    "        new_r = curr_r - curr_alpha * sparse_new_A.right_mul(curr_p)\n",
    "        curr_beta = new_r.T @ new_r / (curr_r.T @ curr_r)\n",
    "        curr_r = new_r\n",
    "        curr_p = curr_r + curr_beta * curr_p\n",
    "    return np.array(ans)"
   ]
  },
  {
   "cell_type": "code",
   "execution_count": 4,
   "metadata": {},
   "outputs": [],
   "source": [
    "import cvxpy as cp\n",
    "\n",
    "\n",
    "n, m = 7, 5\n",
    "EPS = 1e-4\n",
    "\n",
    "for _ in range(100):\n",
    "    A = np.random.rand(n, m)\n",
    "    b = np.random.rand(n)\n",
    "\n",
    "    output = conjugate_gradient_method(A, b)[-1]\n",
    "    x = cp.Variable(m)\n",
    "    constraints = []\n",
    "    obj = cp.Minimize(cp.sum_squares(A @ x - b))\n",
    "    cp.Problem(obj, constraints).solve()\n",
    "    expected = x.value\n",
    "\n",
    "    for i in range(m):\n",
    "        assert(abs(output[i] - expected[i]) < EPS)"
   ]
  }
 ],
 "metadata": {
  "kernelspec": {
   "display_name": "Python 3",
   "language": "python",
   "name": "python3"
  },
  "language_info": {
   "codemirror_mode": {
    "name": "ipython",
    "version": 3
   },
   "file_extension": ".py",
   "mimetype": "text/x-python",
   "name": "python",
   "nbconvert_exporter": "python",
   "pygments_lexer": "ipython3",
   "version": "3.7.3"
  }
 },
 "nbformat": 4,
 "nbformat_minor": 2
}
