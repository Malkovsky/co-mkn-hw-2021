{
 "cells": [
  {
   "cell_type": "markdown",
   "metadata": {},
   "source": [
    "# Контрольная работа #1\n",
    "В этой контрольной работе разрешается пользоваться пакетом `cvxpy`, линейной алгеброй из `numpy/scipy`, но не `sklearn`.\n",
    "## Задача #1 (2б): проекция на линейное подпространство\n",
    "Дана невырожденная матрица $A\\in\\mathbb{R}^{m\\times n}$, $m<n$, вектор $b\\in \\mathbb{R}^{m}$ и точка $y\\in\\mathbb{R}^n$. Требуется найти точку $x$ такую, что $Ax=b$ и при этом $\\|x-y\\|$ принимает минильное значение."
   ]
  },
  {
   "cell_type": "code",
   "execution_count": 1,
   "metadata": {},
   "outputs": [],
   "source": [
    "import numpy as np\n",
    "import scipy as sc\n",
    "import scipy.linalg\n",
    "import cvxpy as cp\n",
    "import matplotlib.pyplot as plt\n",
    "from sklearn.decomposition import PCA\n",
    "from sklearn.discriminant_analysis import LinearDiscriminantAnalysis as LDA"
   ]
  },
  {
   "cell_type": "code",
   "execution_count": 2,
   "metadata": {},
   "outputs": [],
   "source": [
    "def linear_subspace_projection(A, b, y):\n",
    "    \"\"\"\n",
    "    Возвращает точку x: Ax=b, ||x-y||->min\n",
    "    \n",
    "    Args:\n",
    "        A: ndarray(m, n)\n",
    "        b: ndarray(m, 1)\n",
    "        y: ndarray(n, 1)\n",
    "        \n",
    "    Returns:\n",
    "        x: ndarray(n, 1)\n",
    "    \"\"\"\n",
    "    n = y.shape[0]\n",
    "    x = cp.Variable((n, 1))\n",
    "    constraints = [A @ x == b]\n",
    "    objective = cp.Minimize(cp.norm(x - y))\n",
    "    prob = cp.Problem(objective, constraints)\n",
    "    prob.solve()\n",
    "    \n",
    "    return np.array(x.value)"
   ]
  },
  {
   "cell_type": "code",
   "execution_count": 3,
   "metadata": {},
   "outputs": [],
   "source": [
    "def show_projection():\n",
    "    fig, ax = plt.subplots(1, 1, figsize=(7, 7))\n",
    "        \n",
    "    ax.set_xlim(-1.5, 1.5)\n",
    "    ax.set_ylim(-1.5, 1.5)\n",
    "        \n",
    "    A = np.random.rand(1, 2)\n",
    "    b = 0.5\n",
    "    \n",
    "    y = np.random.rand(2, 1)\n",
    "    \n",
    "    x = linear_subspace_projection(A, b, y)\n",
    "    ax.scatter([y[0], x[0]], [y[1], x[1]], color='black')\n",
    "    ax.plot([y[0], x[0]], [y[1], x[1]], color='grey', linestyle='--')\n",
    "    ax.text(x[0] - 0.1, x[1] - 0.1, 'x', fontsize = 15)\n",
    "    ax.text(y[0] + 0.1, y[1] + 0.1, 'y', fontsize = 15)\n",
    "    delta = 0.05\n",
    "    p = np.arange(-1.5, 1.5, delta)\n",
    "    q = np.arange(-1.5, 1.5, delta)\n",
    "    X, Y = np.meshgrid(p, q)\n",
    "    Z = np.zeros_like(X)\n",
    "    for i in range(X.shape[0]):\n",
    "        for j in range(X.shape[1]):\n",
    "            Z[i][j] = A @ np.array([X[i][j], Y[i][j]])\n",
    "    CS = ax.contour(X, Y, Z, [b], colors=['blue'])\n",
    "    plt.close(fig)\n",
    "    return fig"
   ]
  },
  {
   "cell_type": "code",
   "execution_count": 4,
   "metadata": {},
   "outputs": [
    {
     "data": {
      "image/png": "[encoded data removed]",
      "text/plain": [
       "<Figure size 504x504 with 1 Axes>"
      ]
     },
     "execution_count": 4,
     "metadata": {},
     "output_type": "execute_result"
    }
   ],
   "source": [
    "show_projection()"
   ]
  },
  {
   "cell_type": "markdown",
   "metadata": {},
   "source": [
    "## Задача #2 (4б): логистическая регрессия\n",
    "В этой задаче вам предлагается обучить модель линейной регрессии: дан набор точек $x_i\\in \\mathbb{R}^n$ и соответствующих им меток $y_i\\in \\{0, 1\\}$. Нужно найти гиперплоскость как можно лучше разделяющую точки с метками $0$ от точек с метками $1$. В логистической регрессии обучается модель-предиктор:\n",
    "$$\n",
    "f(x, \\theta)=\\sigma (\\theta^Tx)\n",
    "$$\n",
    "где\n",
    "$$\n",
    "\\sigma(t)=\\frac{1}{1+e^{-t}}.\n",
    "$$\n",
    "$\\theta$ соответствует параметрам гиперплоскости, вдоль которой идет разделение. Величина $f(x, \\theta)$ трактуется как вероятность принадлежности к классу с меткой $1$. Критерий максимального правдоподобия в данном случае эквивалентен минимизации кросс-энтропии\n",
    "$$\n",
    "\\mathcal{J}(x, y, \\theta)=-\\frac{1}{m}\\sum_{i=1}^m\\left[y_i\\log f(x_i, \\theta)+(1-y_i)(1-\\log(1-f(x_i, \\theta)))\\right]\n",
    "$$\n",
    "Стоит отметить, что\n",
    "$$\n",
    "\\begin{array}{rl}\n",
    "\\frac{d}{dt}\\sigma(t)&=\\left(\\frac{1}{1+e^{-t}}\\right)'\\\\\n",
    "&=-\\frac{-e^{-t}}{(1+e^{-t})^2}\\\\\n",
    "&=(1-\\sigma(t))\\sigma(t)\n",
    "\\end{array}\n",
    "$$\n",
    "и, соответственно\n",
    "$$\n",
    "\\begin{array}{rl}\n",
    "\\nabla_\\theta\\mathcal{J}(x, y, \\theta)&=-\\frac{1}{m}\\sum_{i=1}^m\\left[y_i\\frac{1}{\\sigma(\\theta^Tx_i)}(1-\\sigma(\\theta^Tx_i))\\sigma(\\theta^Tx_i)x_i-(1-y_i)\\frac{1}{1-\\sigma(\\theta^Tx_i)}(1-\\sigma(\\theta^Tx_i))\\sigma(\\theta^Tx_i)x_i\\right]\\\\\n",
    "&=-\\frac{1}{m}\\sum_{i=1}^m\\left[y_i(1-\\sigma(\\theta^Tx_i))x_i-(1-y_i)\\sigma(\\theta^Tx_i)x_i\\right]\\\\\n",
    "&=-\\frac{1}{m}\\sum_{i=1}^m\\left[(y_i-\\sigma(\\theta^Tx_i))x_i\\right]\n",
    "\\end{array}\n",
    "$$\n",
    "Реулизуйте обучение логистической регрессии с помощью градиентного спуска для смещенной логистической регрессии, т.е. для\n",
    "$$\n",
    "f(x, \\theta, \\beta)=\\sigma(\\theta^Tx+\\beta)\n",
    "$$"
   ]
  },
  {
   "cell_type": "code",
   "execution_count": 5,
   "metadata": {},
   "outputs": [],
   "source": [
    "def logistic_regression(x, y, alpha, iters):\n",
    "    \"\"\"\n",
    "    Возвращает оптимальные параметры логистической регрессии theta, beta, полученные минимизацией кросс-энтропии\n",
    "    \n",
    "    Args:\n",
    "        x: ndarray(m, n) -- матрица, каждая строка которой является точкой, которые отделяются регрессией\n",
    "        y: ndarray(m)    -- вектор-столбец, i-ый элемент которого соответствует метке i-ой строке в x,\n",
    "                            принимает значения 0 или 1\n",
    "        alpha: float -- размер шага для градиентного спуска\n",
    "        iters: int   -- количество итераций градиентного спуска\n",
    "    Returns:\n",
    "        theta: ndarray(n)\n",
    "        beta: float/ndarray(1) -- параметры регрессии\n",
    "    \"\"\"\n",
    "    def sigma(t):\n",
    "        return 1 / (1 + np.exp(-t))\n",
    "    \n",
    "    def derivative(theta, beta):\n",
    "        sigma_arr = []\n",
    "        for i in range(m):\n",
    "            curr_sum = beta\n",
    "            for j in range(n):\n",
    "                curr_sum += theta[j] * x[i, j]\n",
    "            sigma_arr.append(sigma(curr_sum))\n",
    "        \n",
    "        theta_arr = []\n",
    "        for j in range(n):\n",
    "            summ = 0\n",
    "            for i in range(m):\n",
    "                summ += x[i, j] * (y[i] - sigma_arr[i])\n",
    "            summ *= ((-1) / m)\n",
    "            theta_arr.append(summ)\n",
    "        \n",
    "        beta_sum = 0\n",
    "        for i in range(m):\n",
    "            beta_sum += (y[i] - sigma_arr[i])\n",
    "        \n",
    "        return np.array(theta_arr), beta_sum \n",
    "    \n",
    "    theta_curr, beta_curr = np.zeros(n), 0\n",
    "    for _ in range(iters):\n",
    "        grad_theta, grad_beta = derivative(theta_curr, beta_curr)\n",
    "        theta_curr -= alpha * grad_theta\n",
    "        beta_curr -= alpha * grad_beta\n",
    "    \n",
    "    return theta_curr, beta_curr"
   ]
  },
  {
   "cell_type": "code",
   "execution_count": 6,
   "metadata": {},
   "outputs": [
    {
     "name": "stderr",
     "output_type": "stream",
     "text": [
      "C:\\ProgramData\\Anaconda3\\lib\\site-packages\\ipykernel_launcher.py:16: RuntimeWarning: overflow encountered in exp\n",
      "  app.launch_new_instance()\n",
      "C:\\ProgramData\\Anaconda3\\lib\\site-packages\\ipykernel_launcher.py:24: UserWarning: No contour levels were found within the data range.\n"
     ]
    },
    {
     "data": {
      "image/png": "[encoded data removed]",
      "text/plain": [
       "<Figure size 504x504 with 1 Axes>"
      ]
     },
     "execution_count": 6,
     "metadata": {},
     "output_type": "execute_result"
    }
   ],
   "source": [
    "fig, ax = plt.subplots(figsize=[7, 7])\n",
    "n = 2\n",
    "m = 1000\n",
    "x = 2 * np.random.rand(m, n) - 1\n",
    "a = np.random.rand(n)\n",
    "b = 0.2\n",
    "\n",
    "y = (np.sign(x @ a + np.ones(m) * b) + 1) / 2\n",
    "\n",
    "theta, beta = logistic_regression(x, y, 0.05, 1000)\n",
    "\n",
    "ax.scatter(x[y > 0,0], x[y > 0,1], color='red')\n",
    "ax.scatter(x[y == 0,0], x[y == 0,1], color='blue')\n",
    "#Level contours\n",
    "delta = 0.025\n",
    "x_ = np.arange(-1, 1, delta)\n",
    "y_ = np.arange(-1, 1, delta)\n",
    "X, Y = np.meshgrid(x_, y_)\n",
    "Z = np.zeros_like(X)\n",
    "for i in range(X.shape[0]):\n",
    "    for j in range(X.shape[1]):\n",
    "        Z[i][j] = theta @ np.array([X[i][j], Y[i][j]]) + beta\n",
    "        \n",
    "CS = ax.contour(X, Y, Z, [0], colors=['black'])\n",
    "plt.close(fig)\n",
    "fig"
   ]
  },
  {
   "cell_type": "markdown",
   "metadata": {},
   "source": [
    "## Задача #3 (3б): Матричная игра\n",
    "Играют два игрока, у первого есть $n$ вариантов хода, у второго -- $m$. Дана матрица игры $A$, $A_{ij}$ соответствует сумме, которую первый игрок платит второму если первый выбрал $i$ вариант действий, а второй -- $j$-ый. Требуется оптимальные смешанные стратегии для обоих игроков и цену игры, т.е. такие вектора $p:*\\in \\mathbb{R}^n, q:*\\in \\mathbb{R}^m$ с неотрицательными компонентами, суммирующимеся в $1$, что для любых других таких $p, q$ выполняется\n",
    "$$\n",
    "p^TAq^*\\geq p^{*T}Aq^*\\geq p^{*T}Aq\n",
    "$$"
   ]
  },
  {
   "cell_type": "code",
   "execution_count": 7,
   "metadata": {},
   "outputs": [],
   "source": [
    "def solve_mg(A):\n",
    "    \"\"\"\n",
    "    Возвращает цену игры и оптимальные стратегии обоих игроков\n",
    "    \n",
    "    Args:\n",
    "        A: ndarray(n, m) -- матрица игры\n",
    "\n",
    "    Returns:\n",
    "        value, p, q -- цена игры и оптимальные стратегии\n",
    "    \"\"\"\n",
    "    n, m = A.shape\n",
    "    p = cp.Variable((n, 1))\n",
    "    constraints1 = [p >= 0, np.ones(n) @ p == 1]\n",
    "    objective1 = cp.Minimize(cp.max(p.T @ A))\n",
    "    prob1 = cp.Problem(objective1, constraints1)\n",
    "    prob1.solve()\n",
    "    \n",
    "    q = cp.Variable((m, 1))\n",
    "    constraints2 = [q >= 0, np.ones(m) @ q == 1]\n",
    "    objective2 = cp.Maximize(cp.min(A @ q))\n",
    "    prob2 = cp.Problem(objective2, constraints2)\n",
    "    prob2.solve()\n",
    "    \n",
    "    value = np.array(p.value).T @ A @ np.array(q.value)\n",
    "    \n",
    "    return value, np.array(p.value).T, q.value"
   ]
  },
  {
   "cell_type": "code",
   "execution_count": 8,
   "metadata": {},
   "outputs": [
    {
     "name": "stdout",
     "output_type": "stream",
     "text": [
      "[[2.]] = 2  OK\n",
      "[[2.]] = [[2.]]  OK\n",
      "[[2.]] < [3.]  OK\n",
      "[[2.]] > [1.73254951]  OK\n"
     ]
    }
   ],
   "source": [
    "# from two points defines the coefficients a, b, c such that a line ax+by=c goes through these points \n",
    "A = np.array([\n",
    "    [1, 2, 3],\n",
    "    [3, 2, 0],\n",
    "    [1, 3, 1]\n",
    "])\n",
    "\n",
    "value, p_opt, q_opt = solve_mg(A)\n",
    "\n",
    "OK = \"OK\" if abs(value - 2) < 1e-2 else \"NOT OK\"\n",
    "print(f\"{value} = 2  {OK}\")\n",
    "OK = \"OK\" if abs(value - p_opt @ A @ q_opt) < 1e-2 else \"NOT OK\"\n",
    "print(f\"{value} = {p_opt @ A @ q_opt}  {OK}\")\n",
    "OK = \"OK\" if value < np.array([0, 0, 1]) @ A @ q_opt else \"NOT OK\"\n",
    "print(f\"{value} < {np.array([0, 0, 1]) @ A @ q_opt}  {OK}\")\n",
    "OK = \"OK\" if value > p_opt @ A @ np.array([0, 0, 1]) else \"NOT OK\"\n",
    "print(f\"{value} > {p_opt @ A @ np.array([0, 0, 1])}  {OK}\")"
   ]
  },
  {
   "cell_type": "markdown",
   "metadata": {},
   "source": [
    "## Задача #4 (3б): Самая верхняя точка многоугольника\n",
    "Задан многоугольник в виде нескольких неравенств вида\n",
    "$$\n",
    "a_ix+b_iy\\leq c_i\n",
    "$$\n",
    "Требуется найти точку с максимальной $y$ коррдинатой, удовлетворяющей всем этим неравенствам"
   ]
  },
  {
   "cell_type": "code",
   "execution_count": 9,
   "metadata": {},
   "outputs": [],
   "source": [
    "def topmost_point(a, b, c):\n",
    "    \"\"\"\n",
    "    Вычислеяет точку с максимальной y координатой\n",
    "    \n",
    "    Args:\n",
    "        a, b, c: np.ndarray(n) -- набор неравенств вида a[i] * x + b[i] * y <= c[i]\n",
    "        \n",
    "    Returns:\n",
    "        x, y -- координаты точки с максимальной y\n",
    "    \"\"\"\n",
    "    vector = cp.Variable((2, 1))\n",
    "    constraints = []\n",
    "    n = a.shape[0]\n",
    "    for i in range(n):\n",
    "        constraints.append(np.array([a[i], b[i]]) @ vector <= c[i])\n",
    "    objective = cp.Maximize(vector[1])\n",
    "    prob = cp.Problem(objective, constraints)\n",
    "    prob.solve()\n",
    "    \n",
    "    return np.array(vector.value)"
   ]
  },
  {
   "cell_type": "code",
   "execution_count": 10,
   "metadata": {},
   "outputs": [
    {
     "data": {
      "image/png": "[encoded data removed]",
      "text/plain": [
       "<Figure size 504x504 with 1 Axes>"
      ]
     },
     "execution_count": 10,
     "metadata": {},
     "output_type": "execute_result"
    }
   ],
   "source": [
    "def get_line(x1, x2):\n",
    "    a = x1[1] - x2[1]\n",
    "    b = x2[0] - x1[0]\n",
    "    c = a * x1[0] + b * x1[1]\n",
    "    return a, b, c\n",
    "\n",
    "vertices = [(2.0, 2.0), (1.9, 3.0), (2.5, 4.0), (4.0, 4.2), (4.7, 3.5), (4.5, 1.5), (3.5, 1.0), (2.0, 2.0)]\n",
    "a = []\n",
    "b = []\n",
    "c = []\n",
    "fig, ax = plt.subplots(figsize=(7, 7))\n",
    "\n",
    "for i in range(len(vertices) - 1):\n",
    "    a_, b_, c_ = get_line(vertices[i], vertices[i + 1])\n",
    "    a.append(a_)\n",
    "    b.append(b_)\n",
    "    c.append(c_)\n",
    "    #print(f'{float(a):6.2} * x + {float(b):4.2} * y <= {float(a):4.2}')\n",
    "a = np.array(a)\n",
    "b = np.array(b)\n",
    "c = np.array(c)\n",
    "x = topmost_point(a, b, c)\n",
    "ax.plot([x for x, y in vertices], [y for x, y in vertices])\n",
    "ax.scatter([x[0]], [x[1]], color='black')\n",
    "#ax.arrow(x[0], x[1], direction[0] * 0.3, direction[1] * 0.3, head_width=0.07, overhang=0.5)\n",
    "#ax.text(x[0] + direction[0] * 0.15 - 0.1, x[1] + direction[0] * 0.15 + 0.2, '$c$', fontsize=20)\n",
    "ax.text(x[0] - 0.2, x[1] - 0.25, '$x^*$', fontsize=20)\n",
    "\n",
    "plt.close(fig)\n",
    "fig"
   ]
  }
 ],
 "metadata": {
  "kernelspec": {
   "display_name": "Python 3",
   "language": "python",
   "name": "python3"
  },
  "language_info": {
   "codemirror_mode": {
    "name": "ipython",
    "version": 3
   },
   "file_extension": ".py",
   "mimetype": "text/x-python",
   "name": "python",
   "nbconvert_exporter": "python",
   "pygments_lexer": "ipython3",
   "version": "3.7.3"
  },
  "widgets": {
   "application/vnd.jupyter.widget-state+json": {
    "state": {},
    "version_major": 2,
    "version_minor": 0
   }
  }
 },
 "nbformat": 4,
 "nbformat_minor": 4
}
