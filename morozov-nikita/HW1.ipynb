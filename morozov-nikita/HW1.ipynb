{
 "cells": [
  {
   "cell_type": "markdown",
   "metadata": {},
   "source": [
    "Задача 1. "
   ]
  },
  {
   "cell_type": "code",
   "execution_count": 50,
   "metadata": {},
   "outputs": [
    {
     "data": {
      "text/plain": [
       "-2.5068424421341"
      ]
     },
     "execution_count": 50,
     "metadata": {},
     "output_type": "execute_result"
    }
   ],
   "source": [
    "def kth_root_test(x, a, k):\n",
    "    return x ** k - a\n",
    "     \n",
    "def bisection(g, left_edge, right_edge, num_iters=10000):\n",
    "    assert(g(left_edge) * g(right_edge) < 0)\n",
    "    left = left_edge\n",
    "    right = right_edge\n",
    "    for _ in range(num_iters):\n",
    "        mid = (left + right) / 2\n",
    "        if g(left) * g(mid) < 0:\n",
    "            right = mid\n",
    "        else:\n",
    "            left = mid   \n",
    "    return (left + right) / 2\n",
    "\n",
    "bisection(lambda x: kth_root_test(x, -99, 5), -1000000, 10000000)"
   ]
  },
  {
   "cell_type": "code",
   "execution_count": 51,
   "metadata": {},
   "outputs": [
    {
     "data": {
      "text/plain": [
       "-2.5068424421341002"
      ]
     },
     "execution_count": 51,
     "metadata": {},
     "output_type": "execute_result"
    }
   ],
   "source": [
    "def derivative(k, x):\n",
    "    return k * (x **(k - 1))\n",
    "\n",
    "def Newton(g, dg, cur, num_iters=1000):\n",
    "    for _ in range(num_iters):\n",
    "        cur = cur - g(cur)/dg(cur) \n",
    "    return cur    \n",
    "\n",
    "Newton(lambda x: kth_root_test(x, -99, 5), lambda x: derivative(5, x), 10000000)   "
   ]
  },
  {
   "cell_type": "markdown",
   "metadata": {},
   "source": [
    "Задача 2. "
   ]
  },
  {
   "cell_type": "code",
   "execution_count": 53,
   "metadata": {},
   "outputs": [],
   "source": [
    "import numpy as np \n",
    "\n",
    "def fragmentation(f, l, r):\n",
    "    sectors = np.linspace(l, r, 100985)\n",
    "    res = []\n",
    "    for i, x in enumerate(sectors[:-1]):\n",
    "        if (f(x) * f(sectors[i + 1])) < 0:\n",
    "            res.append((x, sectors[i + 1]))\n",
    "    return res        \n",
    "    "
   ]
  },
  {
   "cell_type": "code",
   "execution_count": 54,
   "metadata": {},
   "outputs": [
    {
     "name": "stdout",
     "output_type": "stream",
     "text": [
      "[(-9.902558821295315e-05, 0.00019805117642412995), (1.9998217539412178, 2.000118830705855)]\n"
     ]
    }
   ],
   "source": [
    "poly = lambda coefs, x: sum(coefs[i] * x** i for i in range(len(coefs)))\n",
    "dpoly =  lambda coefs, x: sum(coefs[i + 1] * (i + 1) * x** i for i in range(len(coefs) - 1))\n",
    "\n",
    "cf = [0, -2, 1]\n",
    "\n",
    "frag = fragmentation(lambda x: poly(cf, x), -10, 20)\n",
    "print(frag)\n"
   ]
  },
  {
   "cell_type": "code",
   "execution_count": 55,
   "metadata": {},
   "outputs": [
    {
     "name": "stdout",
     "output_type": "stream",
     "text": [
      "[1.3160731531800647e-162, 2.000000000000001]\n"
     ]
    }
   ],
   "source": [
    "def roots(f, l, r) :\n",
    "    return [bisection(f, l, r) for l,r in fragmentation(f, l, r)] \n",
    "\n",
    "print(roots(lambda x: poly(cf, x), -10, 20))"
   ]
  },
  {
   "cell_type": "code",
   "execution_count": 56,
   "metadata": {},
   "outputs": [
    {
     "data": {
      "text/plain": [
       "(-1.0, 1.0000000000000004)"
      ]
     },
     "execution_count": 56,
     "metadata": {},
     "output_type": "execute_result"
    }
   ],
   "source": [
    "def minimum(coefs, l , r):\n",
    "    candidates = [r]\n",
    "    candidates += roots(lambda x: dpoly(coefs, x), l, r)\n",
    "    mini = poly(coefs, l)\n",
    "    res = l\n",
    "    for x in candidates:\n",
    "        if poly(coefs, x) < mini:\n",
    "            res = x\n",
    "            mini = poly(coefs, x)\n",
    "        \n",
    "    return mini, res\n",
    "\n",
    "minimum(cf, -10, 20)"
   ]
  },
  {
   "cell_type": "markdown",
   "metadata": {},
   "source": [
    "Задача 3. "
   ]
  },
  {
   "cell_type": "markdown",
   "metadata": {},
   "source": [
    "Наша функция выпукла как линейная комбинация выпуклых с положительными коэффициентами.\n",
    "Обратим внимание на производную: $ae^x - be^{-bx} + 2c(x - d)$. Поскольку она монотонно возрастает с ростом $x$, то исходная функция имеет один экстремум, причем это именно минимум. Получается, достаточно вычислить корень производной. Этим мы и займемся."
   ]
  },
  {
   "cell_type": "code",
   "execution_count": 57,
   "metadata": {},
   "outputs": [],
   "source": [
    "def funcs(a, b, c, d):\n",
    "    f = lambda x: np.exp(a * x) + np.exp(- b * x) + c * (x - d) ** 2 \n",
    "    df = lambda x: a * np.exp(a * x) - b * np.exp(- b * x) + 2 * c * (x - d)\n",
    "    d2f = lambda x: a ** 2 * np.exp(a * x) + b ** 2 * np.exp(- b * x) + 2 * c\n",
    "    return f, df, d2f"
   ]
  },
  {
   "cell_type": "code",
   "execution_count": 58,
   "metadata": {},
   "outputs": [],
   "source": [
    "def tern(f, left, right, eps = 1e-9):\n",
    "    while (right - left) > eps:\n",
    "        l = (2 * left + right) / 3\n",
    "        r = (2 * right + left) / 3\n",
    "        if f(l) > f(r):\n",
    "            left = l\n",
    "        else:\n",
    "            right = r   \n",
    "    return (left + right) / 2        "
   ]
  },
  {
   "cell_type": "code",
   "execution_count": 59,
   "metadata": {},
   "outputs": [
    {
     "data": {
      "text/plain": [
       "0.9999999928171579"
      ]
     },
     "execution_count": 59,
     "metadata": {},
     "output_type": "execute_result"
    }
   ],
   "source": [
    "tern(lambda x: poly([0, -2, 1], x), 0, 2)"
   ]
  },
  {
   "cell_type": "code",
   "execution_count": 60,
   "metadata": {},
   "outputs": [
    {
     "name": "stdout",
     "output_type": "stream",
     "text": [
      "0.3635600302816955 2433.131582614239\n",
      "0.3635600302816955 2433.131582614239\n",
      "0.3635600178201891 2433.131582614239\n"
     ]
    }
   ],
   "source": [
    "f, df, d2f = funcs(10, 12, 15, 13)\n",
    "b_ans = bisection(df, -30, 30)\n",
    "n_ans = Newton(df, d2f, 0)\n",
    "t_ans = tern(f, -30, 30)\n",
    "\n",
    "print(b_ans, f(b_ans))\n",
    "print(n_ans, f(n_ans))\n",
    "print(t_ans, f(t_ans))\n"
   ]
  }
 ],
 "metadata": {
  "kernelspec": {
   "display_name": "Python 3",
   "language": "python",
   "name": "python3"
  },
  "language_info": {
   "codemirror_mode": {
    "name": "ipython",
    "version": 3
   },
   "file_extension": ".py",
   "mimetype": "text/x-python",
   "name": "python",
   "nbconvert_exporter": "python",
   "pygments_lexer": "ipython3",
   "version": "3.7.3"
  }
 },
 "nbformat": 4,
 "nbformat_minor": 4
}
