{
 "cells": [
  {
   "cell_type": "markdown",
   "metadata": {},
   "source": [
    "__Задача 1__\n",
    "\n",
    "$$Максимизировать \\:\\:c^Tx$$ \n",
    "$$при\\: условии  \\: \\:Ax = b$$ \n",
    "$$x \\leq 0$$\n",
    "\n",
    "В обозначениях с лекций:\n",
    "\n",
    "$$\n",
    "f(x) = c^Tx, \\: g(x) = -x, \\: h(x) = Ax - b\n",
    "$$\n",
    "Напишем лагранжиан:\n",
    "\n",
    "$$\n",
    "L(x, \\lambda, \\mu) = f(x)+\\lambda^Tg(x)+\\mu^Th(x) = c^Tx - \\lambda^Tx +  \\mu^TAx - \\mu^Tb\n",
    "$$\n",
    " \n",
    "$$\n",
    "q(\\lambda, \\mu) = \\inf_{x\\in \\mathcal{D}}L(x, \\lambda, \\mu)\n",
    "$$\n",
    "\n",
    "Заметим, что это $L$ линейная функция от x, поэтому $q(\\lambda, \\mu) = -\\infty$, если $c^T - \\lambda^T +  \\mu^TA \\neq 0 $, иначе $q(\\lambda, \\mu) = - \\mu^Tb$\n",
    "\n",
    "Таким образом, двойственная задача:\n",
    "$$\n",
    "q(\\lambda, \\mu) \\rightarrow max, \\lambda \\geq 0\n",
    "$$\n",
    "\n",
    "эквивалентна такой:\n",
    "$$\n",
    "-\\mu^Tb \\rightarrow max, \\lambda \\geq 0, c^T - \\lambda^T +  \\mu^TA = 0\n",
    "$$"
   ]
  },
  {
   "cell_type": "code",
   "execution_count": 2,
   "metadata": {},
   "outputs": [],
   "source": [
    "import cvxpy as cp\n",
    "import numpy as np\n",
    "\n",
    "def dual(c, A, b):\n",
    "    lambda_ = cp.Variable(c.size)\n",
    "    mu = cp.Variable(b.size)\n",
    "    constraints = [lambda_ >= 0, c.T - lambda_.T + mu.T @ A == 0]\n",
    "    prob = cp.Problem(\n",
    "        cp.Minimize(mu.T @ b),\n",
    "        constraints\n",
    "    )\n",
    "    prob.solve()\n",
    "    return lambda_.value, mu.value"
   ]
  },
  {
   "cell_type": "code",
   "execution_count": 3,
   "metadata": {},
   "outputs": [
    {
     "data": {
      "text/plain": [
       "(array([ 1.95592050e-10, -1.88938326e-10]), array([ 85., -45.]))"
      ]
     },
     "execution_count": 3,
     "metadata": {},
     "output_type": "execute_result"
    }
   ],
   "source": [
    "c = np.array([50, 10])\n",
    "A = np.array([[1, 2], [3, 4]])\n",
    "b = np.array([5, 11])\n",
    "lambda_, mu = dual(c, A, b)\n",
    "lambda_, mu"
   ]
  },
  {
   "cell_type": "markdown",
   "metadata": {},
   "source": [
    "Из дополняющей нежесткости следует, что если $\\lambda_i \\neq 0$, то $x_i = 0$. Иначе можно решить $Ax=b$"
   ]
  },
  {
   "cell_type": "code",
   "execution_count": 4,
   "metadata": {},
   "outputs": [],
   "source": [
    "from scipy.linalg import solve\n",
    "\n",
    "def solve_(A, b, lambda_):\n",
    "    ind = lambda_ < 1e-5\n",
    "    A1 = A[:, ind]\n",
    "    x1 = np.linalg.inv(A1.T @ A1) @ A1.T @ b #если матрица не квадратная\n",
    "    x = np.zeros(A.shape[1])\n",
    "    x[ind] = x1\n",
    "    \n",
    "    return x"
   ]
  },
  {
   "cell_type": "code",
   "execution_count": 5,
   "metadata": {},
   "outputs": [
    {
     "data": {
      "text/plain": [
       "array([1., 2.])"
      ]
     },
     "execution_count": 5,
     "metadata": {},
     "output_type": "execute_result"
    }
   ],
   "source": [
    "solve_(A, b, lambda_)"
   ]
  },
  {
   "cell_type": "markdown",
   "metadata": {},
   "source": [
    "__Задача 2__"
   ]
  },
  {
   "cell_type": "code",
   "execution_count": 6,
   "metadata": {},
   "outputs": [],
   "source": [
    "def centre(points):\n",
    "    ans = cp.Variable((1, points.shape[1]))\n",
    "    problem = cp.Problem(\n",
    "        cp.Minimize(\n",
    "            cp.max(cp.sum((points - ans)**2, axis=1))\n",
    "        )\n",
    "    )\n",
    "    problem.solve()\n",
    "    return ans.value, np.sqrt(problem.value)"
   ]
  },
  {
   "cell_type": "code",
   "execution_count": 7,
   "metadata": {},
   "outputs": [
    {
     "data": {
      "text/plain": [
       "(array([[1., 1.]]), 1.4142135623762475)"
      ]
     },
     "execution_count": 7,
     "metadata": {},
     "output_type": "execute_result"
    }
   ],
   "source": [
    "centre(np.array([\n",
    "    [0, 0],\n",
    "    [0, 1],\n",
    "    [1, 0],\n",
    "    [1, 1], \n",
    "    [2, 2]\n",
    "]))"
   ]
  },
  {
   "cell_type": "markdown",
   "metadata": {},
   "source": [
    "__Задача 3__\n",
    "\n",
    "Найти минимум $\\max\\limits_{y_i = 1} a^T x_i - \\min\\limits_{y_i = 0} a^T x_i$\n"
   ]
  },
  {
   "cell_type": "code",
   "execution_count": 121,
   "metadata": {},
   "outputs": [],
   "source": [
    "def svm(x, y):\n",
    "    a = cp.Variable((1, x.shape[1]))\n",
    "    cl1 = x[y == 1]\n",
    "    cl0 = x[y == 0]\n",
    "    max1 = cp.Variable(1)\n",
    "    min0 = cp.Variable(1)\n",
    "    objective = cp.Minimize(max1 - min0)\n",
    "    constraints = [min0 <= x @ a.T for x in cl0] + [max1 >= x @ a.T for x in cl1] + [cp.sum(a ** 2) <= 1]\n",
    "    prob = cp.Problem(objective, constraints)\n",
    "    prob.solve()\n",
    "    return a.value[0], prob.value\n"
   ]
  },
  {
   "cell_type": "code",
   "execution_count": 123,
   "metadata": {},
   "outputs": [
    {
     "data": {
      "text/plain": [
       "<matplotlib.legend.Legend at 0x130c642b0>"
      ]
     },
     "execution_count": 123,
     "metadata": {},
     "output_type": "execute_result"
    },
    {
     "data": {
      "image/png": "[encoded data removed]",
      "text/plain": [
       "<Figure size 432x288 with 1 Axes>"
      ]
     },
     "metadata": {
      "needs_background": "light"
     },
     "output_type": "display_data"
    }
   ],
   "source": [
    "import matplotlib.pyplot as plt\n",
    "\n",
    "xs = np.random.uniform(-3, 3, 100)\n",
    "\n",
    "a_ = 3\n",
    "\n",
    "data = []\n",
    "for x in xs:\n",
    "    y = x + np.random.normal(2, 3)\n",
    "    cl = int(y > (a_ * x))\n",
    "    data += [[ x, y, cl]]\n",
    "\n",
    "    \n",
    "data = np.array(data)\n",
    "points = data[:, :2]\n",
    "classes = data[:, 2]\n",
    "\n",
    "a, v = svm(points, classes)\n",
    "\n",
    "plt.scatter(points[classes == 0, 0], points[classes == 0, 1], label='First class')\n",
    "plt.scatter(points[classes == 1, 0], points[classes == 1, 1], label='Second class', color='red')\n",
    "\n",
    "\n",
    "space = np.linspace(np.min(points[:, 0]), np.max(points[:, 0]), 1000)\n",
    "plt.plot( space , - space * a[0] / a[1])\n",
    "plt.legend()"
   ]
  }
 ],
 "metadata": {
  "kernelspec": {
   "display_name": "Python 3",
   "language": "python",
   "name": "python3"
  },
  "language_info": {
   "codemirror_mode": {
    "name": "ipython",
    "version": 3
   },
   "file_extension": ".py",
   "mimetype": "text/x-python",
   "name": "python",
   "nbconvert_exporter": "python",
   "pygments_lexer": "ipython3",
   "version": "3.7.3"
  }
 },
 "nbformat": 4,
 "nbformat_minor": 4
}
