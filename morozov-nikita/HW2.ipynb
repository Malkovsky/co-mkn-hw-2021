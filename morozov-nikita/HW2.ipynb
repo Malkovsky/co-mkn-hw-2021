{
 "cells": [
  {
   "cell_type": "code",
   "execution_count": 2,
   "metadata": {},
   "outputs": [],
   "source": [
    "import numpy as np\n",
    "\n",
    "class Matrix:\n",
    "    __array_priority__ = 1\n",
    "    \n",
    "    def __init__(self, n, m, np_matrix):\n",
    "        self.n = n\n",
    "        self.m = m\n",
    "        self.np_matrix = np_matrix.copy()\n",
    "        \n",
    "        self.matrix = [(i, j, np_matrix[i, j])\n",
    "                      for i in range(n)\n",
    "                      for j in range(m)\n",
    "                      if np_matrix[i, j] != 0]\n",
    "        \n",
    "    def transpose(self):\n",
    "        res = np.zeros((self.m, self.n))\n",
    "        for i, j, elem in self.matrix:\n",
    "            res[j, i] = elem\n",
    "        return Matrix(self.m , self.n, res) \n",
    "    \n",
    "    def __matmul__(self, other):\n",
    "        if self.m != other.shape[0]:\n",
    "            raise Exception(\"Vector's length differs from number of columns\")\n",
    "            \n",
    "        prod = np.zeros(self.n)\n",
    "        for i, j, elem in self.matrix:\n",
    "            prod[i] += elem * other[j]\n",
    "        return prod\n",
    "        \n",
    "    def __rmatmul__(self, other):\n",
    "        \n",
    "        if self.n != other.shape[0]:\n",
    "            raise Exception(\"Vector's len differs from number of rows\")\n",
    "\n",
    "        prod = np.zeros(self.m)\n",
    "        for i, j, elem in self.matrix:\n",
    "            prod[j] += elem * other[i]\n",
    "        return prod\n",
    "        \n",
    "        "
   ]
  },
  {
   "cell_type": "code",
   "execution_count": 3,
   "metadata": {},
   "outputs": [],
   "source": [
    "for i in range(1000):\n",
    "    n, m = np.random.randint(1, 100, 2)\n",
    "\n",
    "    arr = np.random.rand(n, m)\n",
    "\n",
    "    Matr = Matrix(n, m, arr)\n",
    "\n",
    "    a = np.random.rand(m)\n",
    "    b = np.random.rand(n)\n",
    "\n",
    "    rmul = arr @ a\n",
    "\n",
    "    lmul = b @ arr\n",
    "\n",
    "    rmul1 = Matr @ a\n",
    "    lmul1 = b @ Matr\n",
    "\n",
    "    assert(np.all(abs(rmul - rmul1) < 1e-4))\n",
    "    assert(np.all(abs(lmul - lmul1) < 1e-4))\n",
    "    assert(np.all(abs(Matr.transpose().np_matrix - arr.T)) < 1e-4)\n",
    "\n"
   ]
  },
  {
   "cell_type": "markdown",
   "metadata": {},
   "source": [
    "$$\\| Ax - b \\| = \\frac{1}{2}\\|x^T(2A^TA)x\\| + \\|(2A^Tb)^Tx\\| + Const$$\n",
    "\n",
    "Тогда просто применяем метод при $A = A^TA$, $b = A^Tb$"
   ]
  },
  {
   "cell_type": "code",
   "execution_count": 4,
   "metadata": {},
   "outputs": [],
   "source": [
    "def conjugate_grad(A, b):\n",
    "    x = np.zeros(A.m)\n",
    "    AT = A.transpose()\n",
    "    b = AT @ b\n",
    "    v = AT @ (A @ x) - b\n",
    "    d = v\n",
    "    v_norm = np.dot(v, v)\n",
    "    \n",
    "    for i in range(len(b)):\n",
    "        Ad = AT @ (A @ d)\n",
    "        alpha = v_norm / (d @ Ad)\n",
    "        x = x - alpha * d\n",
    "        v = v - alpha * Ad\n",
    "        v_norm_new = np.dot(v, v)\n",
    "        d = v + (v_norm_new / v_norm) * d\n",
    "        \n",
    "        v_norm = v_norm_new\n",
    "    \n",
    "    return x\n",
    "    "
   ]
  },
  {
   "cell_type": "markdown",
   "metadata": {},
   "source": [
    "__TEST__:"
   ]
  },
  {
   "cell_type": "code",
   "execution_count": 17,
   "metadata": {},
   "outputs": [],
   "source": [
    "import cvxpy as cp\n",
    "\n",
    "def cv_sol(A, b):\n",
    "    x = cp.Variable(A.shape[1])\n",
    "    obj = cp.Minimize(cp.sum_squares(A @ x - b))\n",
    "    con = []\n",
    "    cp.Problem(obj, con).solve()\n",
    "    return x.value\n",
    "\n",
    "n, m = 5, 5\n",
    "\n",
    "for i in range(100):\n",
    "    A = np.random.rand(n, m)\n",
    "    b = np.random.rand(n)\n",
    "\n",
    "\n",
    "    res = conjugate_grad(Matrix(n, m, A), b)\n",
    "    cv_res = cv_sol(A, b)\n",
    "    \n",
    "    for i in range(m):\n",
    "        assert(abs(res[i] - cv_res[i]) < 1e-3)"
   ]
  }
 ],
 "metadata": {
  "kernelspec": {
   "display_name": "Python 3",
   "language": "python",
   "name": "python3"
  },
  "language_info": {
   "codemirror_mode": {
    "name": "ipython",
    "version": 3
   },
   "file_extension": ".py",
   "mimetype": "text/x-python",
   "name": "python",
   "nbconvert_exporter": "python",
   "pygments_lexer": "ipython3",
   "version": "3.7.3"
  }
 },
 "nbformat": 4,
 "nbformat_minor": 4
}
