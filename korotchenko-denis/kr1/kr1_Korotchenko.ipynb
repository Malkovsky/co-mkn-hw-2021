{
 "cells": [
  {
   "cell_type": "markdown",
   "metadata": {},
   "source": [
    "# Контрольная работа #1\n",
    "В этой контрольной работе разрешается пользоваться пакетом `cvxpy`, линейной алгеброй из `numpy/scipy`, но не `sklearn`.\n",
    "## Задача #1 (2б): проекция на линейное подпространство\n",
    "Дана невырожденная матрица $A\\in\\mathbb{R}^{m\\times n}$, $m<n$, вектор $b\\in \\mathbb{R}^{m}$ и точка $y\\in\\mathbb{R}^n$. Требуется найти точку $x$ такую, что $Ax=b$ и при этом $\\|x-y\\|$ принимает минильное значение."
   ]
  },
  {
   "cell_type": "code",
   "execution_count": 1,
   "metadata": {},
   "outputs": [],
   "source": [
    "import numpy as np\n",
    "import scipy as sc\n",
    "import scipy.linalg\n",
    "import cvxpy as cp\n",
    "import matplotlib.pyplot as plt\n",
    "from sklearn.decomposition import PCA\n",
    "from sklearn.discriminant_analysis import LinearDiscriminantAnalysis as LDA"
   ]
  },
  {
   "cell_type": "code",
   "execution_count": 2,
   "metadata": {},
   "outputs": [],
   "source": [
    "def linear_subspace_projection(A, b, y):\n",
    "    \"\"\"\n",
    "    Возвращает точку x: Ax=b, ||x-y||->min\n",
    "    \n",
    "    Args:\n",
    "        A: ndarray(m, n)\n",
    "        b: ndarray(m, 1)\n",
    "        y: ndarray(n, 1)\n",
    "        \n",
    "    Returns:\n",
    "        x: ndarray(n, 1)\n",
    "    \"\"\"\n",
    "    x = cp.Variable(y.shape)\n",
    "    cs = []\n",
    "    cs.append(A @ x == b)\n",
    "    d = cp.Minimize(cp.norm(x - y))\n",
    "    cp.Problem(d, cs).solve()\n",
    "    return x.value"
   ]
  },
  {
   "cell_type": "code",
   "execution_count": 3,
   "metadata": {},
   "outputs": [],
   "source": [
    "def show_projection():\n",
    "    fig, ax = plt.subplots(1, 1, figsize=(7, 7))\n",
    "        \n",
    "    ax.set_xlim(-1.5, 1.5)\n",
    "    ax.set_ylim(-1.5, 1.5)\n",
    "        \n",
    "    A = np.random.rand(1, 2)\n",
    "    b = 0.5\n",
    "    \n",
    "    y = np.random.rand(2, 1)\n",
    "    \n",
    "    x = linear_subspace_projection(A, b, y)\n",
    "    ax.scatter([y[0], x[0]], [y[1], x[1]], color='black')\n",
    "    ax.plot([y[0], x[0]], [y[1], x[1]], color='grey', linestyle='--')\n",
    "    ax.text(x[0] - 0.1, x[1] - 0.1, 'x', fontsize = 15)\n",
    "    ax.text(y[0] + 0.1, y[1] + 0.1, 'y', fontsize = 15)\n",
    "    delta = 0.05\n",
    "    p = np.arange(-1.5, 1.5, delta)\n",
    "    q = np.arange(-1.5, 1.5, delta)\n",
    "    X, Y = np.meshgrid(p, q)\n",
    "    Z = np.zeros_like(X)\n",
    "    for i in range(X.shape[0]):\n",
    "        for j in range(X.shape[1]):\n",
    "            Z[i][j] = A @ np.array([X[i][j], Y[i][j]])\n",
    "    CS = ax.contour(X, Y, Z, [b], colors=['blue'])\n",
    "    plt.close(fig)\n",
    "    return fig"
   ]
  },
  {
   "cell_type": "code",
   "execution_count": 4,
   "metadata": {},
   "outputs": [
    {
     "data": {
      "image/png": "[encoded data removed]",
      "text/plain": [
       "<Figure size 504x504 with 1 Axes>"
      ]
     },
     "execution_count": 4,
     "metadata": {},
     "output_type": "execute_result"
    }
   ],
   "source": [
    "show_projection()"
   ]
  },
  {
   "cell_type": "markdown",
   "metadata": {},
   "source": [
    "## Задача #2 (4б): логистическая регрессия\n",
    "В этой задаче вам предлагается обучить модель линейной регрессии: дан набор точек $x_i\\in \\mathbb{R}^n$ и соответствующих им меток $y_i\\in \\{0, 1\\}$. Нужно найти гиперплоскость как можно лучше разделяющую точки с метками $0$ от точек с метками $1$. В логистической регрессии обучается модель-предиктор:\n",
    "$$\n",
    "f(x, \\theta)=\\sigma (\\theta^Tx)\n",
    "$$\n",
    "где\n",
    "$$\n",
    "\\sigma(t)=\\frac{1}{1+e^{-t}}.\n",
    "$$\n",
    "$\\theta$ соответствует параметрам гиперплоскости, вдоль которой идет разделение. Величина $f(x, \\theta)$ трактуется как вероятность принадлежности к классу с меткой $1$. Критерий максимального правдоподобия в данном случае эквивалентен минимизации кросс-энтропии\n",
    "$$\n",
    "\\mathcal{J}(x, y, \\theta)=-\\frac{1}{m}\\sum_{i=1}^m\\left[y_i\\log f(x_i, \\theta)+(1-y_i)(1-\\log(1-f(x_i, \\theta)))\\right]\n",
    "$$\n",
    "Стоит отметить, что\n",
    "$$\n",
    "\\begin{array}{rl}\n",
    "\\frac{d}{dt}\\sigma(t)&=\\left(\\frac{1}{1+e^{-t}}\\right)'\\\\\n",
    "&=-\\frac{-e^{-t}}{(1+e^{-t})^2}\\\\\n",
    "&=(1-\\sigma(t))\\sigma(t)\n",
    "\\end{array}\n",
    "$$\n",
    "и, соответственно\n",
    "$$\n",
    "\\begin{array}{rl}\n",
    "\\nabla_\\theta\\mathcal{J}(x, y, \\theta)&=-\\frac{1}{m}\\sum_{i=1}^m\\left[y_i\\frac{1}{\\sigma(\\theta^Tx_i)}(1-\\sigma(\\theta^Tx_i))\\sigma(\\theta^Tx_i)x_i-(1-y_i)\\frac{1}{1-\\sigma(\\theta^Tx_i)}(1-\\sigma(\\theta^Tx_i))\\sigma(\\theta^Tx_i)x_i\\right]\\\\\n",
    "&=-\\frac{1}{m}\\sum_{i=1}^m\\left[y_i(1-\\sigma(\\theta^Tx_i))x_i-(1-y_i)\\sigma(\\theta^Tx_i)x_i\\right]\\\\\n",
    "&=-\\frac{1}{m}\\sum_{i=1}^m\\left[(y_i-\\sigma(\\theta^Tx_i))x_i\\right]\n",
    "\\end{array}\n",
    "$$\n",
    "Реулизуйте обучение логистической регрессии с помощью градиентного спуска для смещенной логистической регрессии, т.е. для\n",
    "$$\n",
    "f(x, \\theta, \\beta)=\\sigma(\\theta^Tx+\\beta)\n",
    "$$"
   ]
  },
  {
   "cell_type": "code",
   "execution_count": 157,
   "metadata": {},
   "outputs": [],
   "source": [
    "def logistic_regression(x, y, alpha, iters):\n",
    "    \"\"\"\n",
    "    Возвращает оптимальные параметры логистической регрессии theta, beta, полученные минимизацией кросс-энтропии\n",
    "    \n",
    "    Args:\n",
    "        x: ndarray(m, n) -- матрица, каждая строка которой является точкой, которые отделяются регрессией\n",
    "        y: ndarray(m)    -- вектор-столбец, i-ый элемент которого соответствует метке i-ой строке в x,\n",
    "                            принимает значения 0 или 1\n",
    "        alpha: float -- размер шага для градиентного спуска\n",
    "        iters: int   -- количество итераций градиентного спуска\n",
    "    Returns:\n",
    "        theta: ndarray(n)\n",
    "        beta: float/ndarray(1) -- параметры регрессии\n",
    "    \"\"\"\n",
    "    def sigmaf(t):\n",
    "        return 1 / (1 + np.exp(-t))\n",
    "    \n",
    "    (m, n) = x.shape\n",
    "    \n",
    "    t = np.random.rand(n)\n",
    "    \n",
    "    def grad(a, m, x, y, t):\n",
    "        sz = sigmaf(t @ x)\n",
    "        return (a / m) * (y - sigmaf(sz) @ x).sum()\n",
    "                          \n",
    "    for _ in range(iters):\n",
    "        t += grad(alpha, m, x, y, t)\n",
    "    return w, 0"
   ]
  },
  {
   "cell_type": "code",
   "execution_count": 158,
   "metadata": {},
   "outputs": [
    {
     "ename": "ValueError",
     "evalue": "matmul: Input operand 1 has a mismatch in its core dimension 0, with gufunc signature (n?,k),(k,m?)->(n?,m?) (size 1000 is different from 2)",
     "output_type": "error",
     "traceback": [
      "\u001b[0;31m---------------------------------------------------------------------------\u001b[0m",
      "\u001b[0;31mValueError\u001b[0m                                Traceback (most recent call last)",
      "\u001b[0;32m/tmp/ipykernel_37213/3838540860.py\u001b[0m in \u001b[0;36m<module>\u001b[0;34m\u001b[0m\n\u001b[1;32m      8\u001b[0m \u001b[0my\u001b[0m \u001b[0;34m=\u001b[0m \u001b[0;34m(\u001b[0m\u001b[0mnp\u001b[0m\u001b[0;34m.\u001b[0m\u001b[0msign\u001b[0m\u001b[0;34m(\u001b[0m\u001b[0mx\u001b[0m \u001b[0;34m@\u001b[0m \u001b[0ma\u001b[0m \u001b[0;34m+\u001b[0m \u001b[0mnp\u001b[0m\u001b[0;34m.\u001b[0m\u001b[0mones\u001b[0m\u001b[0;34m(\u001b[0m\u001b[0mm\u001b[0m\u001b[0;34m)\u001b[0m \u001b[0;34m*\u001b[0m \u001b[0mb\u001b[0m\u001b[0;34m)\u001b[0m \u001b[0;34m+\u001b[0m \u001b[0;36m1\u001b[0m\u001b[0;34m)\u001b[0m \u001b[0;34m/\u001b[0m \u001b[0;36m2\u001b[0m\u001b[0;34m\u001b[0m\u001b[0;34m\u001b[0m\u001b[0m\n\u001b[1;32m      9\u001b[0m \u001b[0;34m\u001b[0m\u001b[0m\n\u001b[0;32m---> 10\u001b[0;31m \u001b[0mtheta\u001b[0m\u001b[0;34m,\u001b[0m \u001b[0mbeta\u001b[0m \u001b[0;34m=\u001b[0m \u001b[0mlogistic_regression\u001b[0m\u001b[0;34m(\u001b[0m\u001b[0mx\u001b[0m\u001b[0;34m,\u001b[0m \u001b[0my\u001b[0m\u001b[0;34m,\u001b[0m \u001b[0;36m0.05\u001b[0m\u001b[0;34m,\u001b[0m \u001b[0;36m1000\u001b[0m\u001b[0;34m)\u001b[0m\u001b[0;34m\u001b[0m\u001b[0;34m\u001b[0m\u001b[0m\n\u001b[0m\u001b[1;32m     11\u001b[0m \u001b[0;34m\u001b[0m\u001b[0m\n\u001b[1;32m     12\u001b[0m \u001b[0max\u001b[0m\u001b[0;34m.\u001b[0m\u001b[0mscatter\u001b[0m\u001b[0;34m(\u001b[0m\u001b[0mx\u001b[0m\u001b[0;34m[\u001b[0m\u001b[0my\u001b[0m \u001b[0;34m>\u001b[0m \u001b[0;36m0\u001b[0m\u001b[0;34m,\u001b[0m\u001b[0;36m0\u001b[0m\u001b[0;34m]\u001b[0m\u001b[0;34m,\u001b[0m \u001b[0mx\u001b[0m\u001b[0;34m[\u001b[0m\u001b[0my\u001b[0m \u001b[0;34m>\u001b[0m \u001b[0;36m0\u001b[0m\u001b[0;34m,\u001b[0m\u001b[0;36m1\u001b[0m\u001b[0;34m]\u001b[0m\u001b[0;34m,\u001b[0m \u001b[0mcolor\u001b[0m\u001b[0;34m=\u001b[0m\u001b[0;34m'red'\u001b[0m\u001b[0;34m)\u001b[0m\u001b[0;34m\u001b[0m\u001b[0;34m\u001b[0m\u001b[0m\n",
      "\u001b[0;32m/tmp/ipykernel_37213/3251746064.py\u001b[0m in \u001b[0;36mlogistic_regression\u001b[0;34m(x, y, alpha, iters)\u001b[0m\n\u001b[1;32m     25\u001b[0m \u001b[0;34m\u001b[0m\u001b[0m\n\u001b[1;32m     26\u001b[0m     \u001b[0;32mfor\u001b[0m \u001b[0m_\u001b[0m \u001b[0;32min\u001b[0m \u001b[0mrange\u001b[0m\u001b[0;34m(\u001b[0m\u001b[0miters\u001b[0m\u001b[0;34m)\u001b[0m\u001b[0;34m:\u001b[0m\u001b[0;34m\u001b[0m\u001b[0;34m\u001b[0m\u001b[0m\n\u001b[0;32m---> 27\u001b[0;31m         \u001b[0mt\u001b[0m \u001b[0;34m+=\u001b[0m \u001b[0mgrad\u001b[0m\u001b[0;34m(\u001b[0m\u001b[0malpha\u001b[0m\u001b[0;34m,\u001b[0m \u001b[0mm\u001b[0m\u001b[0;34m,\u001b[0m \u001b[0mx\u001b[0m\u001b[0;34m,\u001b[0m \u001b[0my\u001b[0m\u001b[0;34m,\u001b[0m \u001b[0mt\u001b[0m\u001b[0;34m)\u001b[0m\u001b[0;34m\u001b[0m\u001b[0;34m\u001b[0m\u001b[0m\n\u001b[0m\u001b[1;32m     28\u001b[0m     \u001b[0;32mreturn\u001b[0m \u001b[0mw\u001b[0m\u001b[0;34m,\u001b[0m \u001b[0;36m0\u001b[0m\u001b[0;34m\u001b[0m\u001b[0;34m\u001b[0m\u001b[0m\n",
      "\u001b[0;32m/tmp/ipykernel_37213/3251746064.py\u001b[0m in \u001b[0;36mgrad\u001b[0;34m(a, m, x, y, t)\u001b[0m\n\u001b[1;32m     21\u001b[0m \u001b[0;34m\u001b[0m\u001b[0m\n\u001b[1;32m     22\u001b[0m     \u001b[0;32mdef\u001b[0m \u001b[0mgrad\u001b[0m\u001b[0;34m(\u001b[0m\u001b[0ma\u001b[0m\u001b[0;34m,\u001b[0m \u001b[0mm\u001b[0m\u001b[0;34m,\u001b[0m \u001b[0mx\u001b[0m\u001b[0;34m,\u001b[0m \u001b[0my\u001b[0m\u001b[0;34m,\u001b[0m \u001b[0mt\u001b[0m\u001b[0;34m)\u001b[0m\u001b[0;34m:\u001b[0m\u001b[0;34m\u001b[0m\u001b[0;34m\u001b[0m\u001b[0m\n\u001b[0;32m---> 23\u001b[0;31m         \u001b[0msz\u001b[0m \u001b[0;34m=\u001b[0m \u001b[0msigmaf\u001b[0m\u001b[0;34m(\u001b[0m\u001b[0mt\u001b[0m \u001b[0;34m@\u001b[0m \u001b[0mx\u001b[0m\u001b[0;34m)\u001b[0m\u001b[0;34m\u001b[0m\u001b[0;34m\u001b[0m\u001b[0m\n\u001b[0m\u001b[1;32m     24\u001b[0m         \u001b[0;32mreturn\u001b[0m \u001b[0;34m(\u001b[0m\u001b[0ma\u001b[0m \u001b[0;34m/\u001b[0m \u001b[0mm\u001b[0m\u001b[0;34m)\u001b[0m \u001b[0;34m*\u001b[0m \u001b[0;34m(\u001b[0m\u001b[0my\u001b[0m \u001b[0;34m-\u001b[0m \u001b[0msigmaf\u001b[0m\u001b[0;34m(\u001b[0m\u001b[0msz\u001b[0m\u001b[0;34m)\u001b[0m \u001b[0;34m@\u001b[0m \u001b[0mx\u001b[0m\u001b[0;34m)\u001b[0m\u001b[0;34m.\u001b[0m\u001b[0msum\u001b[0m\u001b[0;34m(\u001b[0m\u001b[0;34m)\u001b[0m\u001b[0;34m\u001b[0m\u001b[0;34m\u001b[0m\u001b[0m\n\u001b[1;32m     25\u001b[0m \u001b[0;34m\u001b[0m\u001b[0m\n",
      "\u001b[0;31mValueError\u001b[0m: matmul: Input operand 1 has a mismatch in its core dimension 0, with gufunc signature (n?,k),(k,m?)->(n?,m?) (size 1000 is different from 2)"
     ]
    },
    {
     "data": {
      "image/png": "[encoded data removed]",
      "text/plain": [
       "<Figure size 504x504 with 1 Axes>"
      ]
     },
     "metadata": {
      "needs_background": "light"
     },
     "output_type": "display_data"
    }
   ],
   "source": [
    "fig, ax = plt.subplots(figsize=[7, 7])\n",
    "n = 2\n",
    "m = 1000\n",
    "x = 2 * np.random.rand(m, n) - 1\n",
    "a = np.random.rand(n)\n",
    "b = 0.2\n",
    "\n",
    "y = (np.sign(x @ a + np.ones(m) * b) + 1) / 2\n",
    "\n",
    "theta, beta = logistic_regression(x, y, 0.05, 1000)\n",
    "\n",
    "ax.scatter(x[y > 0,0], x[y > 0,1], color='red')\n",
    "ax.scatter(x[y == 0,0], x[y == 0,1], color='blue')\n",
    "#Level contours\n",
    "delta = 0.025\n",
    "x_ = np.arange(-1, 1, delta)\n",
    "y_ = np.arange(-1, 1, delta)\n",
    "X, Y = np.meshgrid(x_, y_)\n",
    "Z = np.zeros_like(X)\n",
    "for i in range(X.shape[0]):\n",
    "    for j in range(X.shape[1]):\n",
    "        Z[i][j] = theta @ np.array([X[i][j], Y[i][j]]) + beta\n",
    "        \n",
    "CS = ax.contour(X, Y, Z, [0], colors=['black'])\n",
    "plt.close(fig)\n",
    "fig"
   ]
  },
  {
   "cell_type": "markdown",
   "metadata": {},
   "source": [
    "## Задача #3 (3б): Матричная игра\n",
    "Играют два игрока, у первого есть $n$ вариантов хода, у второго -- $m$. Дана матрица игры $A$, $A_{ij}$ соответствует сумме, которую первый игрок платит второму если первый выбрал $i$ вариант действий, а второй -- $j$-ый. Требуется оптимальные смешанные стратегии для обоих игроков и цену игры, т.е. такие вектора $p:*\\in \\mathbb{R}^n, q:*\\in \\mathbb{R}^m$ с неотрицательными компонентами, суммирующимеся в $1$, что для любых других таких $p, q$ выполняется\n",
    "$$\n",
    "p^TAq^*\\geq p^{*T}Aq^*\\geq p^{*T}Aq\n",
    "$$"
   ]
  },
  {
   "cell_type": "code",
   "execution_count": 131,
   "metadata": {},
   "outputs": [],
   "source": [
    "def solve_mg(A):\n",
    "    \"\"\"\n",
    "    Возвращает цену игры и оптимальные стратегии обоих игроков\n",
    "    \n",
    "    Args:\n",
    "        A: ndarray(n, m) -- матрица игры\n",
    "\n",
    "    Returns:\n",
    "        value, p, q -- цена игры и оптимальные стратегии\n",
    "    \"\"\"\n",
    "    (n, m) = A.shape\n",
    "    x1 = cp.Variable(n + 1)\n",
    "    p = x1[0:n]\n",
    "    t1 = x1[-1]\n",
    "    cs1 = []\n",
    "    cs1.append(np.ones(n) @ p == 1)\n",
    "    cs1.append(p @ A <= t1 * np.ones(n))\n",
    "    cs1.append(p >= 0)\n",
    "    d1 = cp.Minimize(t1)\n",
    "    cp.Problem(d1, cs1).solve()\n",
    "    pans = x1.value[0:n]\n",
    "    \n",
    "    x2 = cp.Variable(m + 1)\n",
    "    q = x2[0:m]\n",
    "    t2 = x2[-1]\n",
    "    cs2 = []\n",
    "    cs2.append(np.ones(m) @ q == 1)\n",
    "    cs2.append(A @ q.T >= t2 * np.ones(m))\n",
    "    cs2.append(q >= 0)\n",
    "    d2 = cp.Minimize(-t2)\n",
    "    cp.Problem(d2, cs2).solve()\n",
    "    qans = x2.value[0:m]\n",
    "    \n",
    "    return np.transpose(pans) @ A @ qans, pans, qans"
   ]
  },
  {
   "cell_type": "code",
   "execution_count": 132,
   "metadata": {},
   "outputs": [
    {
     "name": "stdout",
     "output_type": "stream",
     "text": [
      "[5.77516504e-01 4.22483496e-01 1.05639869e-10] [ 1.09428776e-11  1.00000000e+00 -5.35649190e-12]\n",
      "2.0000000001053815 = 2  OK\n",
      "2.0000000001053815 = 2.0000000001053815  OK\n",
      "2.0000000001053815 < 2.999999999988829  OK\n",
      "2.0000000001053815 > 1.732549511373841  OK\n"
     ]
    }
   ],
   "source": [
    "# from two points defines the coefficients a, b, c such that a line ax+by=c goes through these points \n",
    "A = np.array([\n",
    "    [1, 2, 3],\n",
    "    [3, 2, 0],\n",
    "    [1, 3, 1]\n",
    "])\n",
    "\n",
    "value, p_opt, q_opt = solve_mg(A)\n",
    "\n",
    "print(p_opt, q_opt)\n",
    "\n",
    "OK = \"OK\" if abs(value - 2) < 1e-2 else \"NOT OK\"\n",
    "print(f\"{value} = 2  {OK}\")\n",
    "OK = \"OK\" if abs(value - p_opt @ A @ q_opt) < 1e-2 else \"NOT OK\"\n",
    "print(f\"{value} = {p_opt @ A @ q_opt}  {OK}\")\n",
    "OK = \"OK\" if value < np.array([0, 0, 1]) @ A @ q_opt else \"NOT OK\"\n",
    "print(f\"{value} < {np.array([0, 0, 1]) @ A @ q_opt}  {OK}\")\n",
    "OK = \"OK\" if value > p_opt @ A @ np.array([0, 0, 1]) else \"NOT OK\"\n",
    "print(f\"{value} > {p_opt @ A @ np.array([0, 0, 1])}  {OK}\")"
   ]
  },
  {
   "cell_type": "markdown",
   "metadata": {},
   "source": [
    "## Задача #4 (3б): Самая верхняя точка многоугольника\n",
    "Задан многоугольник в виде нескольких неравенств вида\n",
    "$$\n",
    "a_ix+b_iy\\leq c_i\n",
    "$$\n",
    "Требуется найти точку с максимальной $y$ коррдинатой, удовлетворяющей всем этим неравенствам"
   ]
  },
  {
   "cell_type": "code",
   "execution_count": 10,
   "metadata": {},
   "outputs": [],
   "source": [
    "def topmost_point(a, b, c):\n",
    "    \"\"\"\n",
    "    Вычислеяет точку с максимальной y координатой\n",
    "    \n",
    "    Args:\n",
    "        a, b, c: np.ndarray(n) -- набор неравенств вида a[i] * x + b[i] * y <= c[i]\n",
    "        \n",
    "    Returns:\n",
    "        x, y -- координаты точки с максимальной y\n",
    "    \"\"\"\n",
    "    t = cp.Variable(2)\n",
    "    cs = []\n",
    "    for i in range(len(a)):\n",
    "        cs.append(a[i] * t[0] + b[i] * t[1] >= -c[i])\n",
    "    y = cp.Minimize(t[1])\n",
    "    cp.Problem(y, cs).solve()\n",
    "    return t.value * (-1)"
   ]
  },
  {
   "cell_type": "code",
   "execution_count": 11,
   "metadata": {},
   "outputs": [
    {
     "data": {
      "image/png": "[encoded data removed]",
      "text/plain": [
       "<Figure size 504x504 with 1 Axes>"
      ]
     },
     "execution_count": 11,
     "metadata": {},
     "output_type": "execute_result"
    }
   ],
   "source": [
    "def get_line(x1, x2):\n",
    "    a = x1[1] - x2[1]\n",
    "    b = x2[0] - x1[0]\n",
    "    c = a * x1[0] + b * x1[1]\n",
    "    return a, b, c\n",
    "\n",
    "vertices = [(2.0, 2.0), (1.9, 3.0), (2.5, 4.0), (4.0, 4.2), (4.7, 3.5), (4.5, 1.5), (3.5, 1.0), (2.0, 2.0)]\n",
    "a = []\n",
    "b = []\n",
    "c = []\n",
    "fig, ax = plt.subplots(figsize=(7, 7))\n",
    "\n",
    "for i in range(len(vertices) - 1):\n",
    "    a_, b_, c_ = get_line(vertices[i], vertices[i + 1])\n",
    "    a.append(a_)\n",
    "    b.append(b_)\n",
    "    c.append(c_)\n",
    "    #print(f'{float(a):6.2} * x + {float(b):4.2} * y <= {float(a):4.2}')\n",
    "a = np.array(a)\n",
    "b = np.array(b)\n",
    "c = np.array(c)\n",
    "x = topmost_point(a, b, c)\n",
    "ax.plot([x for x, y in vertices], [y for x, y in vertices])\n",
    "ax.scatter([x[0]], [x[1]], color='black')\n",
    "#ax.arrow(x[0], x[1], direction[0] * 0.3, direction[1] * 0.3, head_width=0.07, overhang=0.5)\n",
    "#ax.text(x[0] + direction[0] * 0.15 - 0.1, x[1] + direction[0] * 0.15 + 0.2, '$c$', fontsize=20)\n",
    "ax.text(x[0] - 0.2, x[1] - 0.25, '$x^*$', fontsize=20)\n",
    "\n",
    "plt.close(fig)\n",
    "fig"
   ]
  },
  {
   "cell_type": "code",
   "execution_count": null,
   "metadata": {},
   "outputs": [],
   "source": []
  }
 ],
 "metadata": {
  "kernelspec": {
   "display_name": "Python 3 (ipykernel)",
   "language": "python",
   "name": "python3"
  },
  "language_info": {
   "codemirror_mode": {
    "name": "ipython",
    "version": 3
   },
   "file_extension": ".py",
   "mimetype": "text/x-python",
   "name": "python",
   "nbconvert_exporter": "python",
   "pygments_lexer": "ipython3",
   "version": "3.8.10"
  },
  "widgets": {
   "application/vnd.jupyter.widget-state+json": {
    "state": {},
    "version_major": 2,
    "version_minor": 0
   }
  }
 },
 "nbformat": 4,
 "nbformat_minor": 4
}
