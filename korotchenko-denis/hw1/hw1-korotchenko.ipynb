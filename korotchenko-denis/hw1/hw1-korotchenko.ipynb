{
 "cells": [
  {
   "cell_type": "markdown",
   "id": "b0b93fa7",
   "metadata": {},
   "source": [
    "# Задача 1: вычислить $\\sqrt [k]a$\n",
    "#### - методом бисекции\n",
    "#### - методом Ньютона"
   ]
  },
  {
   "cell_type": "code",
   "execution_count": 1,
   "id": "967382f8",
   "metadata": {},
   "outputs": [],
   "source": [
    "import random"
   ]
  },
  {
   "cell_type": "markdown",
   "id": "fd047d9f",
   "metadata": {},
   "source": [
    "Сразу отмечу, что я буду рассматривать $a >= 0$. Если же $a < 0$, то если $k$ - чётно, то решений нет, а если $k$ - нечётно, то достаточно взять корень k-й степени из $|a|$ и умножить на $(-1)$"
   ]
  },
  {
   "cell_type": "markdown",
   "id": "3b7f0617",
   "metadata": {},
   "source": [
    "### Метод бисекции"
   ]
  },
  {
   "cell_type": "code",
   "execution_count": 2,
   "id": "d62f7613",
   "metadata": {},
   "outputs": [],
   "source": [
    "def bisection(f, l, r, eps):\n",
    "    if f(l) == 0:\n",
    "        return l\n",
    "    if f(r) == 0:\n",
    "        return r\n",
    "    assert(eps > 0)\n",
    "    assert(f(l) * f(r) < 0)\n",
    "    assert(l <= r)\n",
    "    while r - l > eps:\n",
    "        m = (l + r) / 2\n",
    "        if f(m) == 0:\n",
    "            return m\n",
    "        if f(l) * f(m) < 0:\n",
    "            r = m\n",
    "        else:\n",
    "            l = m\n",
    "    return (l + r) / 2"
   ]
  },
  {
   "cell_type": "code",
   "execution_count": 3,
   "id": "ee02b531",
   "metadata": {},
   "outputs": [
    {
     "name": "stdout",
     "output_type": "stream",
     "text": [
      "a = 527, k = 2, a**(1/k) = 22.956480566497994, method's result = 22.956480815075338, diff = 2.4857734359784445e-07, eps = 1e-06\n",
      "a = 445, k = 3, a**(1/k) = 7.634606721492309, method's result = 7.634606608189642, diff = -1.1330266680431578e-07, eps = 1e-06\n",
      "a = 605, k = 4, a**(1/k) = 4.959510838026033, method's result = 4.959511107299477, diff = 2.692734435427724e-07, eps = 1e-06\n",
      "a = 492, k = 5, a**(1/k) = 3.4545622311386426, method's result = 3.4545618630945683, diff = -3.6804407432811104e-07, eps = 1e-06\n",
      "a = 995, k = 6, a**(1/k) = 3.1596369218846827, method's result = 3.1596367130987346, diff = -2.087859480859322e-07, eps = 1e-06\n",
      "a = 196, k = 7, a**(1/k) = 2.125519790778576, method's result = 2.1255199536681175, diff = 1.6288954141074896e-07, eps = 1e-06\n",
      "a = 221, k = 8, a**(1/k) = 1.9635819634113936, method's result = 1.9635820966213942, diff = 1.332100005857484e-07, eps = 1e-06\n",
      "a = 108, k = 9, a**(1/k) = 1.6824260060797678, method's result = 1.6824261993169785, diff = 1.9323721067721067e-07, eps = 1e-06\n",
      "a = 706, k = 10, a**(1/k) = 1.9269944778369543, method's result = 1.9269942501559854, diff = -2.2768096896719214e-07, eps = 1e-06\n"
     ]
    }
   ],
   "source": [
    "eps = 10**(-6)\n",
    "for r in range(2, 11):\n",
    "    k = r\n",
    "    a = random.randint(1, 1000)\n",
    "    res = bisection(lambda x: (x ** k - a), 0, max(a, 1), eps)\n",
    "    diff = res - a**(1/k)\n",
    "    print(f\"a = {a}, k = {k}, a**(1/k) = {a**(1/k)}, method's result = {res}, diff = {diff}, eps = {eps}\")"
   ]
  },
  {
   "cell_type": "markdown",
   "id": "ca97b0c7",
   "metadata": {},
   "source": [
    "### Метод Ньютона"
   ]
  },
  {
   "cell_type": "code",
   "execution_count": 4,
   "id": "085cd698",
   "metadata": {},
   "outputs": [],
   "source": [
    "def newton_method(f, df, x, eps):\n",
    "    x_prev = x + 2 * eps\n",
    "    while abs(x_prev - x) > eps:\n",
    "        x_prev = x\n",
    "        x = x_prev - f(x_prev)/df(x_prev)\n",
    "    return x"
   ]
  },
  {
   "cell_type": "code",
   "execution_count": 5,
   "id": "f26be25f",
   "metadata": {},
   "outputs": [
    {
     "name": "stdout",
     "output_type": "stream",
     "text": [
      "a = 436, k = 2, a**(1/k) = 20.8806130178211, method's result = 20.8806130178211, diff = 0.0, eps = 1e-06\n",
      "a = 637, k = 3, a**(1/k) = 8.604252448951648, method's result = 8.60425244895165, diff = 1.7763568394002505e-15, eps = 1e-06\n",
      "a = 290, k = 4, a**(1/k) = 4.126667707233816, method's result = 4.126667707233883, diff = 6.750155989720952e-14, eps = 1e-06\n",
      "a = 919, k = 5, a**(1/k) = 3.914381067965478, method's result = 3.914381067965478, diff = 0.0, eps = 1e-06\n",
      "a = 527, k = 6, a**(1/k) = 2.842072173739426, method's result = 2.842072173739432, diff = 6.217248937900877e-15, eps = 1e-06\n",
      "a = 382, k = 7, a**(1/k) = 2.3381167583793103, method's result = 2.3381167583793108, diff = 4.440892098500626e-16, eps = 1e-06\n",
      "a = 28, k = 8, a**(1/k) = 1.5166827729591992, method's result = 1.5166827729594639, diff = 2.646771690706373e-13, eps = 1e-06\n",
      "a = 578, k = 9, a**(1/k) = 2.027126592680251, method's result = 2.027126592680251, diff = 0.0, eps = 1e-06\n",
      "a = 860, k = 10, a**(1/k) = 1.9653949921250535, method's result = 1.9653949921250908, diff = 3.730349362740526e-14, eps = 1e-06\n"
     ]
    }
   ],
   "source": [
    "eps = 10**(-6)\n",
    "for r in range(2, 11):\n",
    "    k = r\n",
    "    a = random.randint(1, 1000)\n",
    "    res = newton_method(lambda x: (x ** k - a), lambda x: (k * (x ** (k - 1))), a, eps)\n",
    "    diff = res - a**(1/k)\n",
    "    print(f\"a = {a}, k = {k}, a**(1/k) = {a**(1/k)}, method's result = {res}, diff = {diff}, eps = {eps}\")"
   ]
  },
  {
   "cell_type": "markdown",
   "id": "d3f2b8c6",
   "metadata": {},
   "source": [
    "# Задание 2"
   ]
  },
  {
   "cell_type": "markdown",
   "id": "429aaaee",
   "metadata": {},
   "source": [
    "Первые две части стоит рассматривать в совокупности. Давайте посмотрим на $p(x)$. Какие у него могут быть корни?\n",
    "\n",
    "Во-первых, корни нечетной кратности - они будут между нулями производной (т.е. между экстремумами исходной функции) или также исходные границы. Что будет соответствовать нашему разбиению (т.е. пункт а) - возращаемое значению функцией lrs(...).\n",
    "\n",
    "Во-вторых, корни чётной кратности. Они не будут подходить под условие изолированности из первого пункта (т.к. с двух сторон от корня будет либо положительность, либо отрицательность). Поэтому я решил, что не стоит вносить их в функцию lrs. Однако их нужно безусловно также искать - это будут точки экстремума (ну и теоретически l и r). Давайте всех их и проверим (функция even_roots)."
   ]
  },
  {
   "cell_type": "code",
   "execution_count": 6,
   "id": "e6dd2630",
   "metadata": {},
   "outputs": [],
   "source": [
    "from numpy import polynomial\n",
    "import numpy as np"
   ]
  },
  {
   "cell_type": "code",
   "execution_count": 7,
   "id": "5953bf4b",
   "metadata": {},
   "outputs": [],
   "source": [
    "def filter_eps(a, eps):\n",
    "    if len(a) == 0:\n",
    "        return []\n",
    "    ans = [a[0]]\n",
    "    last = a[0]\n",
    "    for i in range(1, len(a)):\n",
    "        if abs(a[i] - last) >= 2*eps:\n",
    "            ans.append(a[i])\n",
    "            last = a[i]\n",
    "    return ans"
   ]
  },
  {
   "cell_type": "code",
   "execution_count": 8,
   "id": "c263e00a",
   "metadata": {},
   "outputs": [],
   "source": [
    "def lrs(p, l, r, eps):\n",
    "    droots = roots(p.deriv(), l, r, eps)\n",
    "    ans = []\n",
    "    if len(droots) > 0:\n",
    "        if p(l) * p(droots[0]) < 0:\n",
    "            ans.append((l, droots[0]))\n",
    "        for i in range(1, len(droots)):\n",
    "            if p(droots[i-1]) * p(droots[i]) < 0:\n",
    "                ans.append((droots[i-1], droots[i]))\n",
    "        if p(r) * p(droots[-1]) < 0:\n",
    "            ans.append((droots[-1], r))\n",
    "    else:\n",
    "        if p(l) * p(r) < 0:\n",
    "            ans.append((l, r))\n",
    "    return ans"
   ]
  },
  {
   "cell_type": "code",
   "execution_count": 9,
   "id": "65d6d150",
   "metadata": {},
   "outputs": [],
   "source": [
    "def even_roots(p, l, r, eps):\n",
    "    droots = roots(p.deriv(), l, r, eps)\n",
    "    ans = []\n",
    "    if abs(p(l)) < eps:\n",
    "        ans.append(l)\n",
    "    for dr in droots:\n",
    "        if abs(p(dr)) < eps:\n",
    "            ans.append(dr)\n",
    "    if abs(p(r)) < eps:\n",
    "        ans.append(r)\n",
    "    return ans"
   ]
  },
  {
   "cell_type": "code",
   "execution_count": 10,
   "id": "85d768b5",
   "metadata": {},
   "outputs": [],
   "source": [
    "def roots(p, l, r, eps):\n",
    "    if p.degree() == 0:\n",
    "        return []\n",
    "    ans = []\n",
    "    for (l_, r_) in lrs(p, l, r, eps):\n",
    "        ans.append(bisection(p, l_, r_, eps))\n",
    "    ans.extend(even_roots(p, l, r, eps))\n",
    "    return filter_eps(sorted(ans), eps)"
   ]
  },
  {
   "cell_type": "markdown",
   "id": "88727fc0",
   "metadata": {},
   "source": [
    "Таким образом мы решили первые два пункта.\n",
    "\n",
    "Какие потенциальные точки минимума? Это все экстремумы (т.е. нули производной и l, r)."
   ]
  },
  {
   "cell_type": "code",
   "execution_count": 11,
   "id": "6ef7e07e",
   "metadata": {},
   "outputs": [],
   "source": [
    "def minimum(p, l, r, eps):\n",
    "    ans = 0\n",
    "    if p(l) < p(r):\n",
    "        ans = p(l)\n",
    "    else:\n",
    "        ans = p(r)\n",
    "    for x in roots(p.deriv(), l, r, eps):\n",
    "        if p(x) < ans:\n",
    "            ans = p(x)\n",
    "    return ans"
   ]
  },
  {
   "cell_type": "code",
   "execution_count": 12,
   "id": "4fb131fb",
   "metadata": {},
   "outputs": [
    {
     "name": "stdout",
     "output_type": "stream",
     "text": [
      "roots: [0.22530088893615463, 7.841365777955575], roots from wolframalpha: [0.225301, 7.84137]\n",
      "minimum: -4.3503333333333325, minimum from wolfram: -4.3503\n",
      "roots: [-1.0000000009313226], roots from wolframalpha: [-1]\n",
      "minimum: -909.0, minimum from wolfram: -909\n",
      "roots: [-1.9275619776851183, 0.774804110483194], roots from wolframalpha: [-1.92756, 0.774804]\n",
      "minimum: -100990099.0, minimum from wolfram: -100990099\n",
      "roots: [-0.6703320454107597], roots from wolframalpha: [-0.670332]\n",
      "minimum: -59503970199.0, minimum from wolfram: -59503970199\n"
     ]
    }
   ],
   "source": [
    "eps = 10**(-8)\n",
    "\n",
    "p2 = polynomial.Polynomial(coef=(0.53, -2.42, 0.3))\n",
    "p2_roots_from_wolfram = [0.225301, 7.84137]\n",
    "p2_min_from_wolfram = -4.3503\n",
    "print(f\"roots: {roots(p2, -100, 100, eps)}, roots from wolframalpha: {p2_roots_from_wolfram}\\nminimum: {minimum(p2, -100, 100, eps)}, minimum from wolfram: {p2_min_from_wolfram}\")\n",
    "\n",
    "p3 = polynomial.Polynomial(coef=(1, 1, 1, 1))\n",
    "p3_roots_from_wolfram = [-1]\n",
    "p3_min_from_wolfram = -909\n",
    "print(f\"roots: {roots(p3, -10, 10, eps)}, roots from wolframalpha: {p3_roots_from_wolfram}\\nminimum: {minimum(p3, -10, 10, eps)}, minimum from wolfram: {p3_min_from_wolfram}\")\n",
    "\n",
    "p4 = polynomial.Polynomial(coef=(1, -1, 1, -1, -1))\n",
    "p4_roots_from_wolfram = [-1.92756, 0.774804]\n",
    "p4_min_from_wolfram = -100990099\n",
    "print(f\"roots: {roots(p4, -100, 100, eps)}, roots from wolframalpha: {p4_roots_from_wolfram}\\nminimum: {minimum(p4, -100, 100, eps)}, minimum from wolfram: {p4_min_from_wolfram}\")\n",
    "\n",
    "p5 = polynomial.Polynomial(coef=(1, 2, 3, 4, 5, 6))\n",
    "p5_roots_from_wolfram = [-0.670332]\n",
    "p5_min_from_wolfram = -59503970199\n",
    "print(f\"roots: {roots(p5, -100, 100, eps)}, roots from wolframalpha: {p5_roots_from_wolfram}\\nminimum: {minimum(p5, -100, 100, eps)}, minimum from wolfram: {p5_min_from_wolfram}\")"
   ]
  },
  {
   "cell_type": "markdown",
   "id": "b75ffef7",
   "metadata": {},
   "source": [
    "# Задание 3\n",
    "$f(x) = e^{ax} + e^{-bx} + c(x-d)^2$\n",
    "Требуется найти минимум $f(x)$ при условии, что $a, b, c > 0$"
   ]
  },
  {
   "cell_type": "markdown",
   "id": "b382ec88",
   "metadata": {},
   "source": [
    "Давайте рассмотрим $f(x)$. Она выпукла, т.к. все слагаемые выпуклы, а линейная комбинация выпуклых функций - выпукла.\n",
    "\n",
    "Давайте тогда посчитаем производную $f$:\n",
    "$f'(x) = a\\cdot e^{ax} - b\\cdot e^{-bx} + 2c(x-d)$\n",
    "\n",
    "Посмотрим сразу на вторую производную:\n",
    "$f''(x) = a^2\\cdot e^{ax} + b^2\\cdot e^{-bx} + 2c$.\n",
    "\n",
    "Заметим, что при наших ограничениях на $a, b, c$ имеем $f''(x) > 0$ (кроме того очевидно, что $f, f', f''$ непрерывны). Это значит, что $f'(x)$ монотонно возрастает. А это значит в свою очередь, что $f(x)$ имеет один экстремум (в точке, где $f'(x) = 0$), а т.к. $f'(x)$ - возрастающая, то это минимум. Значит нам необходимо найти ноль производной."
   ]
  },
  {
   "cell_type": "code",
   "execution_count": 13,
   "id": "138b1375",
   "metadata": {},
   "outputs": [],
   "source": [
    "from numpy import exp\n",
    "\n",
    "eps = 10**(-9)\n",
    "def task3_funcs(a, b, c, d):\n",
    "    f = lambda x: exp(a*x) + exp(-b*x) + c*(x - d)**2\n",
    "    df = lambda x: a * (exp(a*x)) - b * (exp(-b*x)) + 2 * c * (x - d)\n",
    "    d2f = lambda x: a * a * (exp(a*x)) + b * b * (exp(-b*x)) + 2 * c\n",
    "    return (f, df, d2f)"
   ]
  },
  {
   "cell_type": "code",
   "execution_count": 14,
   "id": "c9a471df",
   "metadata": {},
   "outputs": [],
   "source": [
    "def ternarny_search(f, l, r, eps):\n",
    "    while (r - l) > eps:\n",
    "        ml = l + (r - l) / 3\n",
    "        mr = r - (r - l) / 3\n",
    "        if f(ml) > f(mr):\n",
    "            l = ml\n",
    "        else:\n",
    "            r = mr\n",
    "    return (r + l) / 2"
   ]
  },
  {
   "cell_type": "code",
   "execution_count": 15,
   "id": "2b85a89e",
   "metadata": {},
   "outputs": [
    {
     "name": "stdout",
     "output_type": "stream",
     "text": [
      "Бисекция: x = 2.3152837297529913, f(x) = 18.652352027148623\n"
     ]
    }
   ],
   "source": [
    "(f, df, d2f) = task3_funcs(1, 2, 3, 4)\n",
    "\n",
    "r = 1\n",
    "while df(r) <= 0:\n",
    "    r *= 2\n",
    "l = -1\n",
    "while df(l) >= 0:\n",
    "    l *= 2\n",
    "bisection_res = bisection(df, l, r, eps)\n",
    "print(f\"Бисекция: x = {bisection_res}, f(x) = {f(bisection_res)}\")"
   ]
  },
  {
   "cell_type": "code",
   "execution_count": 16,
   "id": "9c756312",
   "metadata": {},
   "outputs": [
    {
     "name": "stdout",
     "output_type": "stream",
     "text": [
      "Метод Ньютона: x = 2.315283729985808, f(x) = 18.652352027148623\n"
     ]
    }
   ],
   "source": [
    "newton_res = newton_method(df, d2f, 0, eps = 10**(-18))\n",
    "print(f\"Метод Ньютона: x = {newton_res}, f(x) = {f(newton_res)}\")"
   ]
  },
  {
   "cell_type": "code",
   "execution_count": 17,
   "id": "3bd48445",
   "metadata": {},
   "outputs": [
    {
     "name": "stdout",
     "output_type": "stream",
     "text": [
      "Тернарный поиск: x = 2.315283714363277, f(x) = 18.652352027148623\n"
     ]
    }
   ],
   "source": [
    "ternarny_res = ternarny_search(f, l, r, eps)\n",
    "print(f\"Тернарный поиск: x = {ternarny_res}, f(x) = {f(ternarny_res)}\")"
   ]
  }
 ],
 "metadata": {
  "kernelspec": {
   "display_name": "Python 3 (ipykernel)",
   "language": "python",
   "name": "python3"
  },
  "language_info": {
   "codemirror_mode": {
    "name": "ipython",
    "version": 3
   },
   "file_extension": ".py",
   "mimetype": "text/x-python",
   "name": "python",
   "nbconvert_exporter": "python",
   "pygments_lexer": "ipython3",
   "version": "3.8.3"
  },
  "widgets": {
   "application/vnd.jupyter.widget-state+json": {
    "state": {},
    "version_major": 2,
    "version_minor": 0
   }
  }
 },
 "nbformat": 4,
 "nbformat_minor": 5
}
