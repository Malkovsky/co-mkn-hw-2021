{
 "cells": [
  {
   "cell_type": "code",
   "execution_count": 6,
   "id": "562ac565",
   "metadata": {},
   "outputs": [],
   "source": [
    "import numpy as np\n",
    "import copy"
   ]
  },
  {
   "cell_type": "code",
   "execution_count": 7,
   "id": "da9235dc",
   "metadata": {},
   "outputs": [],
   "source": [
    "class Matrix:\n",
    "    def __init__(self, matrix):\n",
    "        self.m = matrix.shape[0]\n",
    "        self.n = matrix.shape[1]\n",
    "        self.not0s = [(i, j, matrix[i][j]) for i in range(self.m) for j in range(self.n) if matrix[i][j] != 0]\n",
    "        \n",
    "    def T(self):\n",
    "        other = copy.deepcopy(self)\n",
    "        other.not0s = []\n",
    "        for (i, j, x) in self.not0s:\n",
    "            other.not0s.append((j, i, x))\n",
    "        return other\n",
    "            \n",
    "    def to_np(self):\n",
    "        result = np.zeros((self.m, self.n))\n",
    "        for (i, j, x) in self.not0s:\n",
    "                result[i, j] = x\n",
    "        return result\n",
    "\n",
    "    def __matmul__(self, other):\n",
    "        assert self.n == other.shape[0]\n",
    "        result = np.zeros(self.m)\n",
    "        for (i, j, x) in self.not0s:\n",
    "            result[i] += x * other[j]\n",
    "        return result\n",
    "\n",
    "    def __rmatmul__(self, other):\n",
    "        assert self.m == other.shape[0]\n",
    "        result = np.zeros(self.n)\n",
    "        for (i, j, x) in self.not0s:\n",
    "            result[j] += x * other[i]\n",
    "        return result"
   ]
  },
  {
   "cell_type": "code",
   "execution_count": 8,
   "id": "a5770a9d",
   "metadata": {},
   "outputs": [],
   "source": [
    "testmatrix = np.array([[1, 2, 3], [4, 5, 6], [7, 8, 9]])\n",
    "assert np.all(Matrix(testmatrix).to_np() == testmatrix)\n",
    "assert np.all(Matrix(testmatrix).T().to_np() == testmatrix.T)"
   ]
  },
  {
   "cell_type": "markdown",
   "id": "9d1d5947",
   "metadata": {},
   "source": [
    "Минимизировать $\\lVert Ax - b \\rVert$ это тоже самое, что минимизировать $\\lVert Ax - b \\rVert^2$, т.к. норма всегда не отрицательна.\n",
    "\n",
    "Второе выражение есть ни что иное, как $x^TA^TAx - 2b^TAx + const$. Минимизировать неконстантную часть - это тоже самое, что было на лекции, если сделать замену $A = A^TA, b = A^Tb$"
   ]
  },
  {
   "cell_type": "code",
   "execution_count": 9,
   "id": "1d99d495",
   "metadata": {},
   "outputs": [],
   "source": [
    "def conjugate_gradient(A, b, x_0 = None):\n",
    "    if x_0 is None:\n",
    "        x_0 = np.zeros(len(b))\n",
    "    x = x_0\n",
    "    \n",
    "    b = A.T() @ b\n",
    "    A = Matrix(A.T().to_np() @ A.to_np())\n",
    "    \n",
    "    v = (A @ x - b)\n",
    "    d = v\n",
    "    v_norm = np.dot(v, v)\n",
    "    for i in range(len(b)):\n",
    "        Ad = A @ d\n",
    "        alpha = v_norm / np.dot(d, Ad)\n",
    "        x = x - alpha * d\n",
    "        v = v - alpha * Ad\n",
    "        v_norm_new = np.dot(v, v)\n",
    "        d = v + (v_norm_new / v_norm) * d\n",
    "        v_norm = v_norm_new\n",
    "    return x"
   ]
  },
  {
   "cell_type": "code",
   "execution_count": 10,
   "id": "9dff00d7",
   "metadata": {},
   "outputs": [
    {
     "name": "stderr",
     "output_type": "stream",
     "text": [
      "100%|██████████████████████████████████████████| 10/10 [00:00<00:00, 139.55it/s]\n"
     ]
    }
   ],
   "source": [
    "import cvxpy as cp\n",
    "from tqdm import tqdm\n",
    "\n",
    "for i in tqdm(range(10)):\n",
    "    A = np.random.rand(5, 5)\n",
    "    b = np.random.rand(5)\n",
    "\n",
    "    x = cp.Variable(5)\n",
    "    cs = []\n",
    "    d = cp.Minimize(cp.sum_squares(A @ x - b))\n",
    "    cp.Problem(d, cs).solve()\n",
    "    cp_result = np.array(x.value)\n",
    "    \n",
    "    result = conjugate_gradient(Matrix(A), b)\n",
    "    try:\n",
    "        assert(np.all(result - cp_result < 1e-2))\n",
    "        assert(np.all(-result + cp_result > -1e-2))\n",
    "    except:\n",
    "        print(A)\n",
    "        print(b)\n",
    "        print(cp_result)\n",
    "        print(result)"
   ]
  },
  {
   "cell_type": "code",
   "execution_count": null,
   "id": "b2b8726b",
   "metadata": {},
   "outputs": [],
   "source": []
  }
 ],
 "metadata": {
  "kernelspec": {
   "display_name": "Python 3 (ipykernel)",
   "language": "python",
   "name": "python3"
  },
  "language_info": {
   "codemirror_mode": {
    "name": "ipython",
    "version": 3
   },
   "file_extension": ".py",
   "mimetype": "text/x-python",
   "name": "python",
   "nbconvert_exporter": "python",
   "pygments_lexer": "ipython3",
   "version": "3.8.10"
  }
 },
 "nbformat": 4,
 "nbformat_minor": 5
}
