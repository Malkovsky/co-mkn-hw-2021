{
 "cells": [
  {
   "cell_type": "code",
   "execution_count": 1,
   "metadata": {
    "collapsed": true
   },
   "outputs": [],
   "source": [
    "import numpy as np\n",
    "import pandas as pd\n",
    "import scipy as sc\n",
    "import scipy.stats as ss\n",
    "import cvxpy as cp\n",
    "import matplotlib.pyplot as plt"
   ]
  },
  {
   "cell_type": "code",
   "execution_count": 2,
   "outputs": [],
   "source": [
    "EPS = 1.e-5"
   ],
   "metadata": {
    "collapsed": false,
    "pycharm": {
     "name": "#%%\n"
    }
   }
  },
  {
   "cell_type": "markdown",
   "source": [
    "# 1 a\n",
    "\n",
    "Задача:\n",
    "\n",
    "\\begin{equation*}\n",
    " \\begin{cases}\n",
    "   c^Tx \\to min\\\\\n",
    "   Ax = b\\\\\n",
    "   x \\ge 0\n",
    " \\end{cases}\n",
    "\\end{equation*}\n",
    "\n",
    "Лагранжиан:\n",
    "\n",
    "$\n",
    "L(x, \\lambda, \\mu) = c^Tx + \\lambda^T(Ax-b) - \\mu^Tx\n",
    "$\n",
    "\n",
    "Двойственная функция:\n",
    "\n",
    "\\begin{equation*}\n",
    " q(\\lambda, \\mu) = \\begin{cases}\n",
    "   -\\infty, & c+A^T\\lambda \\neq \\mu\\\\\n",
    "   -\\lambda^Tb, & c+A^T\\lambda = \\mu\n",
    " \\end{cases}\n",
    "\\end{equation*}\n",
    "\n",
    "Двойственная задача:\n",
    "\n",
    "\\begin{equation*}\n",
    " \\begin{cases}\n",
    "   -\\lambda^Tb \\to max\\\\\n",
    "   c+A^T\\lambda = \\mu\\\\\n",
    "   \\mu \\ge 0\n",
    " \\end{cases}\n",
    "\\end{equation*}"
   ],
   "metadata": {
    "collapsed": false,
    "pycharm": {
     "name": "#%% md\n"
    }
   }
  },
  {
   "cell_type": "code",
   "execution_count": 3,
   "outputs": [],
   "source": [
    "def task1a(A, b, c):\n",
    "    lamb = cp.Variable(b.size)\n",
    "    mu = cp.Variable(c.size)\n",
    "    objective = cp.Maximize(-lamb.T @ b)\n",
    "    constraints = [mu >= 0, c + A.T @ lamb - mu == 0]\n",
    "    prob = cp.Problem(objective, constraints)\n",
    "    prob.solve()\n",
    "    x = constraints[0].dual_value\n",
    "    # print(\"status:\", prob.status)\n",
    "    return lamb.value, mu.value, x\n",
    "\n",
    "def task1_test(A, b, c):\n",
    "    x = cp.Variable(c.size)\n",
    "    objective = cp.Minimize(c.T @ x)\n",
    "    constraints = [x >= 0, A @ x == b]\n",
    "    prob = cp.Problem(objective, constraints)\n",
    "    prob.solve()\n",
    "    # print(\"status:\", prob.status)\n",
    "    return constraints[1].dual_value, constraints[0].dual_value, x.value"
   ],
   "metadata": {
    "collapsed": false,
    "pycharm": {
     "name": "#%%\n"
    }
   }
  },
  {
   "cell_type": "code",
   "execution_count": 4,
   "outputs": [],
   "source": [
    "A = np.array([[5, 2, 8], [9, 10, -4]])\n",
    "c = np.array([1, 2, 3])\n",
    "b = np.array([3, 4])"
   ],
   "metadata": {
    "collapsed": false,
    "pycharm": {
     "name": "#%%\n"
    }
   }
  },
  {
   "cell_type": "code",
   "execution_count": 5,
   "outputs": [
    {
     "data": {
      "text/plain": "(array([-0.33695652,  0.07608695]),\n array([-4.64355377e-09,  2.08695651e+00,  2.55313704e-08]),\n array([4.78260869e-01, 5.05754133e-10, 7.60869567e-02]))"
     },
     "execution_count": 5,
     "metadata": {},
     "output_type": "execute_result"
    }
   ],
   "source": [
    "lamb1, mu1, x1 = task1a(A, b, c)\n",
    "lamb1, mu1, x1"
   ],
   "metadata": {
    "collapsed": false,
    "pycharm": {
     "name": "#%%\n"
    }
   }
  },
  {
   "cell_type": "code",
   "execution_count": 6,
   "outputs": [
    {
     "data": {
      "text/plain": "(array([-0.33695652,  0.07608696]),\n array([8.77544029e-11, 2.08695652e+00, 1.50328644e-09]),\n array([4.78260870e-01, 1.38853631e-11, 7.60869565e-02]))"
     },
     "execution_count": 6,
     "metadata": {},
     "output_type": "execute_result"
    }
   ],
   "source": [
    "lamb2, mu2, x2 = task1_test(A, b, c)\n",
    "lamb2, mu2, x2"
   ],
   "metadata": {
    "collapsed": false,
    "pycharm": {
     "name": "#%%\n"
    }
   }
  },
  {
   "cell_type": "code",
   "execution_count": 7,
   "outputs": [],
   "source": [
    "assert(np.all(np.isclose(np.hstack((lamb1, mu1, x1)), np.hstack((lamb2, mu2, x2)), atol=1.e-6)))"
   ],
   "metadata": {
    "collapsed": false,
    "pycharm": {
     "name": "#%%\n"
    }
   }
  },
  {
   "cell_type": "code",
   "execution_count": 8,
   "outputs": [],
   "source": [
    "np.random.seed(0)\n",
    "for i in range(100):\n",
    "    n1, n2 = np.random.randint(2, 15, size=2)\n",
    "    A = np.random.random_sample((n1, n2))\n",
    "    b = np.random.random_sample(n1)\n",
    "    c = np.random.random_sample(n2)\n",
    "\n",
    "    assert np.all(np.isclose(np.hstack(task1a(A, b, c)).astype(float), np.hstack(task1_test(A, b, c)).astype(float),\n",
    "                             atol=EPS, equal_nan=True))"
   ],
   "metadata": {
    "collapsed": false,
    "pycharm": {
     "name": "#%%\n"
    }
   }
  },
  {
   "cell_type": "markdown",
   "source": [
    "# 1 b\n",
    "\n",
    "часть $x_i \\neq 0$ (соответствующие $\\mu_i = 0$) - из условий ККТ.\n",
    "\n",
    "для этой части воспользуемся аналитической формулой точного решения. $x=(A^TA)^{-1}A^Tb$"
   ],
   "metadata": {
    "collapsed": false
   }
  },
  {
   "cell_type": "code",
   "execution_count": 9,
   "outputs": [],
   "source": [
    "def task1b(A, b, mu):\n",
    "    A_ = A[:, mu < EPS]\n",
    "    x = np.zeros(mu.size)\n",
    "    x[mu < EPS] = (np.linalg.inv(A_.T @ A_) @ A_.T @ b.reshape(-1, 1)).flatten()\n",
    "    return x"
   ],
   "metadata": {
    "collapsed": false,
    "pycharm": {
     "name": "#%%\n"
    }
   }
  },
  {
   "cell_type": "code",
   "execution_count": 10,
   "outputs": [],
   "source": [
    "A = np.array([[5, 2, 8], [9, 10, -4]])\n",
    "c = np.array([1, 2, 3])\n",
    "b = np.array([3, 4])"
   ],
   "metadata": {
    "collapsed": false,
    "pycharm": {
     "name": "#%%\n"
    }
   }
  },
  {
   "cell_type": "code",
   "execution_count": 11,
   "outputs": [
    {
     "data": {
      "text/plain": "(array([-0.33695652,  0.07608695]),\n array([-4.64355377e-09,  2.08695651e+00,  2.55313704e-08]),\n array([4.78260869e-01, 5.05754133e-10, 7.60869567e-02]))"
     },
     "execution_count": 11,
     "metadata": {},
     "output_type": "execute_result"
    }
   ],
   "source": [
    "lamb1, mu1, x1 = task1a(A, b, c)\n",
    "lamb1, mu1, x1"
   ],
   "metadata": {
    "collapsed": false,
    "pycharm": {
     "name": "#%%\n"
    }
   }
  },
  {
   "cell_type": "code",
   "execution_count": 12,
   "outputs": [],
   "source": [
    "x1_b = task1b(A, b, mu1)"
   ],
   "metadata": {
    "collapsed": false,
    "pycharm": {
     "name": "#%%\n"
    }
   }
  },
  {
   "cell_type": "code",
   "execution_count": 13,
   "outputs": [],
   "source": [
    "assert np.all(np.isclose(x1, x1_b))"
   ],
   "metadata": {
    "collapsed": false,
    "pycharm": {
     "name": "#%%\n"
    }
   }
  },
  {
   "cell_type": "markdown",
   "source": [
    "# 2"
   ],
   "metadata": {
    "collapsed": false,
    "pycharm": {
     "name": "#%% md\n"
    }
   }
  },
  {
   "cell_type": "code",
   "execution_count": 14,
   "outputs": [],
   "source": [
    "def task2(xs):\n",
    "    center = cp.Variable(xs.shape[1])\n",
    "    rad_square = cp.Variable(1)\n",
    "    objective = cp.Minimize(rad_square)\n",
    "    constraints = [cp.sum_squares(xs[i] - center) <= rad_square for i in range(xs.shape[0])]\n",
    "    prob = cp.Problem(objective, constraints)\n",
    "    prob.solve()\n",
    "    return center.value, np.sqrt(rad_square.value)"
   ],
   "metadata": {
    "collapsed": false,
    "pycharm": {
     "name": "#%%\n"
    }
   }
  },
  {
   "cell_type": "code",
   "execution_count": 15,
   "outputs": [],
   "source": [
    "def task2_print(xs, center, rad):\n",
    "    plt.plot(*zip(*xs), marker='o', color='g', ls='')\n",
    "    plt.plot(*center, marker='o', color='y')\n",
    "    circle = plt.Circle(center, rad, color='r', fill=False)\n",
    "    ax=plt.gca()\n",
    "    ax.add_patch(circle)\n",
    "    plt.axis('scaled')\n",
    "    plt.show()"
   ],
   "metadata": {
    "collapsed": false,
    "pycharm": {
     "name": "#%%\n"
    }
   }
  },
  {
   "cell_type": "code",
   "execution_count": 16,
   "outputs": [
    {
     "data": {
      "text/plain": "(array([1.5, 2.5, 3.5]), array([0.8660254]))"
     },
     "execution_count": 16,
     "metadata": {},
     "output_type": "execute_result"
    }
   ],
   "source": [
    "xs = np.array([[1,2,3], [2,3,4]])\n",
    "task2(xs)"
   ],
   "metadata": {
    "collapsed": false,
    "pycharm": {
     "name": "#%%\n"
    }
   }
  },
  {
   "cell_type": "code",
   "execution_count": 17,
   "outputs": [
    {
     "data": {
      "text/plain": "(array([1.75, 2.5 ]), array([2.30488611]))"
     },
     "execution_count": 17,
     "metadata": {},
     "output_type": "execute_result"
    }
   ],
   "source": [
    "xs = np.array([[0, 4], [0, 1], [4, 2]])\n",
    "center, rad = task2(xs)\n",
    "center, rad"
   ],
   "metadata": {
    "collapsed": false,
    "pycharm": {
     "name": "#%%\n"
    }
   }
  },
  {
   "cell_type": "code",
   "execution_count": 18,
   "outputs": [
    {
     "data": {
      "text/plain": "<Figure size 432x288 with 1 Axes>",
      "image/png": "[encoded data removed]"
     },
     "metadata": {
      "needs_background": "light"
     },
     "output_type": "display_data"
    }
   ],
   "source": [
    "task2_print(xs, center, rad)"
   ],
   "metadata": {
    "collapsed": false,
    "pycharm": {
     "name": "#%%\n"
    }
   }
  },
  {
   "cell_type": "code",
   "execution_count": 19,
   "outputs": [
    {
     "data": {
      "text/plain": "(array([2.00000586, 1.49997657]), array([2.06155281]))"
     },
     "execution_count": 19,
     "metadata": {},
     "output_type": "execute_result"
    }
   ],
   "source": [
    "xs = np.array([[3, 3], [0, 1], [4, 2]])\n",
    "center, rad = task2(xs)\n",
    "center, rad"
   ],
   "metadata": {
    "collapsed": false,
    "pycharm": {
     "name": "#%%\n"
    }
   }
  },
  {
   "cell_type": "code",
   "execution_count": 20,
   "outputs": [
    {
     "data": {
      "text/plain": "<Figure size 432x288 with 1 Axes>",
      "image/png": "[encoded data removed]"
     },
     "metadata": {
      "needs_background": "light"
     },
     "output_type": "display_data"
    }
   ],
   "source": [
    "task2_print(xs, center, rad)"
   ],
   "metadata": {
    "collapsed": false,
    "pycharm": {
     "name": "#%%\n"
    }
   }
  },
  {
   "cell_type": "code",
   "execution_count": 21,
   "outputs": [],
   "source": [
    "xs = np.random.randint(100, size=(100, 2))"
   ],
   "metadata": {
    "collapsed": false,
    "pycharm": {
     "name": "#%%\n"
    }
   }
  },
  {
   "cell_type": "code",
   "execution_count": 22,
   "outputs": [
    {
     "name": "stdout",
     "output_type": "stream",
     "text": [
      "[49.96812156 55.26751736] [63.44760268]\n"
     ]
    },
    {
     "data": {
      "text/plain": "<Figure size 432x288 with 1 Axes>",
      "image/png": "[encoded data removed]"
     },
     "metadata": {
      "needs_background": "light"
     },
     "output_type": "display_data"
    }
   ],
   "source": [
    "center, rad = task2(xs)\n",
    "print(center, rad)\n",
    "task2_print(xs, center, rad)"
   ],
   "metadata": {
    "collapsed": false,
    "pycharm": {
     "name": "#%%\n"
    }
   }
  },
  {
   "cell_type": "markdown",
   "source": [
    "# 3"
   ],
   "metadata": {
    "collapsed": false,
    "pycharm": {
     "name": "#%% md\n"
    }
   }
  },
  {
   "cell_type": "code",
   "execution_count": 23,
   "outputs": [],
   "source": [
    "def task3(xs, ys):\n",
    "    x0 = xs[ys==0].T\n",
    "    x1 = xs[ys==1].T\n",
    "    assert x0.size + x1.size == xs.size and x0.size > 0 and x1.size > 0\n",
    "    a = cp.Variable((xs.shape[1], 1))\n",
    "    objective = cp.Minimize(cp.max(a.T @ x1) - cp.min(a.T @ x0))\n",
    "    constraints = [cp.norm(a) <= 1]\n",
    "    prob = cp.Problem(objective, constraints)\n",
    "    prob.solve()\n",
    "    return a.value / np.linalg.norm(a.value)"
   ],
   "metadata": {
    "collapsed": false,
    "pycharm": {
     "name": "#%%\n"
    }
   }
  },
  {
   "cell_type": "code",
   "execution_count": 24,
   "outputs": [],
   "source": [
    "def task3_print(xs, ys, vec):\n",
    "    x0 = xs[ys==0]\n",
    "    x1 = xs[ys==1]\n",
    "    plt.plot(*zip(*x0), marker='o', color='g', ls='')\n",
    "    plt.plot(*zip(*x1), marker='o', color='b', ls='')\n",
    "    plt.plot(*vec, color='r')\n",
    "    plt.plot(0, 0, marker='o', color='r')\n",
    "    plt.axis('scaled')\n",
    "    plt.show()"
   ],
   "metadata": {
    "collapsed": false,
    "pycharm": {
     "name": "#%%\n"
    }
   }
  },
  {
   "cell_type": "code",
   "execution_count": 25,
   "outputs": [
    {
     "data": {
      "text/plain": "array([[0.49236655],\n       [0.12309043],\n       [0.86164025]])"
     },
     "execution_count": 25,
     "metadata": {},
     "output_type": "execute_result"
    }
   ],
   "source": [
    "xs = np.array([[1,2,2], [5,3,9], [1,1,1]])\n",
    "ys = np.array([1,0,1])\n",
    "task3(xs, ys)"
   ],
   "metadata": {
    "collapsed": false,
    "pycharm": {
     "name": "#%%\n"
    }
   }
  },
  {
   "cell_type": "code",
   "execution_count": 26,
   "outputs": [],
   "source": [
    "xs = np.random.randint(100, size=(100, 2))\n",
    "ys = np.random.randint(2, size=(100,))"
   ],
   "metadata": {
    "collapsed": false,
    "pycharm": {
     "name": "#%%\n"
    }
   }
  },
  {
   "cell_type": "code",
   "execution_count": 27,
   "outputs": [
    {
     "data": {
      "text/plain": "<Figure size 432x288 with 1 Axes>",
      "image/png": "[encoded data removed]"
     },
     "metadata": {
      "needs_background": "light"
     },
     "output_type": "display_data"
    }
   ],
   "source": [
    "task3_print(xs, ys, np.hstack((np.zeros((xs.shape[1], 1)), task3(xs, ys))) * 25)"
   ],
   "metadata": {
    "collapsed": false,
    "pycharm": {
     "name": "#%%\n"
    }
   }
  },
  {
   "cell_type": "code",
   "execution_count": 27,
   "outputs": [],
   "source": [],
   "metadata": {
    "collapsed": false,
    "pycharm": {
     "name": "#%%\n"
    }
   }
  }
 ],
 "metadata": {
  "kernelspec": {
   "display_name": "Python 3",
   "language": "python",
   "name": "python3"
  },
  "language_info": {
   "codemirror_mode": {
    "name": "ipython",
    "version": 2
   },
   "file_extension": ".py",
   "mimetype": "text/x-python",
   "name": "python",
   "nbconvert_exporter": "python",
   "pygments_lexer": "ipython2",
   "version": "2.7.6"
  }
 },
 "nbformat": 4,
 "nbformat_minor": 0
}