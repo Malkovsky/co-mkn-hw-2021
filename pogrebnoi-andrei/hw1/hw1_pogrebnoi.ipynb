{
 "cells": [
  {
   "cell_type": "code",
   "execution_count": 1,
   "outputs": [],
   "source": [
    "from typing import List, Callable\n",
    "from interactive_visualization.animation_utils import animate_list\n",
    "import matplotlib.pyplot as plt\n",
    "import autograd.numpy as np\n",
    "from autograd import grad\n"
   ],
   "metadata": {
    "collapsed": false,
    "pycharm": {
     "name": "#%%\n"
    }
   }
  },
  {
   "cell_type": "markdown",
   "source": [
    "# Методы\n"
   ],
   "metadata": {
    "collapsed": false
   }
  },
  {
   "cell_type": "code",
   "execution_count": 2,
   "outputs": [],
   "source": [
    "def ternary_search(fun: Callable[[float], float],\n",
    "                   left: float,\n",
    "                   right: float,\n",
    "                   eps: float) -> (float, List[float]):\n",
    "    \"\"\"\n",
    "    Вычисляет минимум функции fun на отрезке [left, right]\n",
    "\n",
    "    args:\n",
    "        fun: функция\n",
    "        left, right: границы отрезка, где искать корень\n",
    "        eps: погрешность для остановки\n",
    "\n",
    "    Returns:\n",
    "        (ответ, последовательность приближений)\n",
    "    \"\"\"\n",
    "    assert (left <= right)\n",
    "    assert (eps > 0)\n",
    "    states = []\n",
    "    while right - left >= eps:\n",
    "        change = (right - left) / 3\n",
    "        x1, x2 = left + change, left + 2 * change\n",
    "        if fun(x1) >= fun(x2):\n",
    "            states.append(left)\n",
    "            left = x1\n",
    "        else:\n",
    "            states.append(right)\n",
    "            right = x2\n",
    "    return (right + left) / 2, states"
   ],
   "metadata": {
    "collapsed": false,
    "pycharm": {
     "name": "#%%\n"
    }
   }
  },
  {
   "cell_type": "code",
   "execution_count": 3,
   "outputs": [],
   "source": [
    "def root_bisection(fun: Callable[[float], float],\n",
    "                   left: float,\n",
    "                   right: float,\n",
    "                   eps: float) -> (float, List[float]):\n",
    "    \"\"\"\n",
    "    Находит корень функции fun на отрезке [left, right]\n",
    "\n",
    "    args:\n",
    "        fun: функция\n",
    "        left, right: границы отрезка, где искать корень\n",
    "        eps: точность для нахождения корня\n",
    "\n",
    "    Returns:\n",
    "        (ответ, последовательность приближений)\n",
    "    \"\"\"\n",
    "    assert (left <= right)\n",
    "    assert (eps > 0)\n",
    "    assert (fun(left) * fun(right) <= 0)\n",
    "    if fun(left) == 0:\n",
    "        return left, [left]\n",
    "    if fun(right) == 0:\n",
    "        return right, [right]\n",
    "    states = []\n",
    "    mid = left\n",
    "    while right - left >= eps:\n",
    "        mid = (left + right) / 2\n",
    "        if fun(mid) * fun(right) > 0:\n",
    "            states.append(right)\n",
    "            right = mid\n",
    "        else:\n",
    "            states.append(left)\n",
    "            left = mid\n",
    "    states.append(mid)\n",
    "    return mid, states"
   ],
   "metadata": {
    "collapsed": false,
    "pycharm": {
     "name": "#%%\n"
    }
   }
  },
  {
   "cell_type": "code",
   "execution_count": 4,
   "outputs": [],
   "source": [
    "def method_newton(fun: Callable[[float], float],\n",
    "                  df: Callable[[float], float],\n",
    "                  x: float,\n",
    "                  eps: float = 0.1,\n",
    "                  iters: int = 100) -> (float, List[float]):\n",
    "    \"\"\"\n",
    "    Находит корень функции fun на за iters шагов (или раньше, если получилась нужная точность)\n",
    "\n",
    "    args:\n",
    "        fun: функция\n",
    "        dfun = дифференциал fun\n",
    "        x: начальное приближение\n",
    "        eps: точность для нахождения корня\n",
    "        iters: число итераций\n",
    "\n",
    "    Returns:\n",
    "        (ответ, последовательность приближений)\n",
    "    \"\"\"\n",
    "    assert (eps > 0)\n",
    "    states = []\n",
    "    for _ in range(iters):\n",
    "        dfu = df(x) if df(x) != 0 else -fun(x)  # если 0 - двигаем x на 1 вправо\n",
    "        x_new = x - fun(x) / dfu\n",
    "        states.append(x)\n",
    "        if abs(x - x_new) < eps:\n",
    "            x = x_new\n",
    "            break\n",
    "        x = x_new\n",
    "    states.append(x)\n",
    "    return x, states"
   ],
   "metadata": {
    "collapsed": false,
    "pycharm": {
     "name": "#%%\n"
    }
   }
  },
  {
   "cell_type": "markdown",
   "source": [
    "# Вспомогательные функции"
   ],
   "metadata": {
    "collapsed": false
   }
  },
  {
   "cell_type": "code",
   "execution_count": 5,
   "outputs": [],
   "source": [
    "def do_picture(f, points, lines, left, right):\n",
    "    fig = plt.figure(figsize=(7, 7))\n",
    "    ax = fig.add_axes([0, 0, 1, 1])\n",
    "    ax.tick_params(\n",
    "        labelsize = 15,\n",
    "        labelcolor = 'b',\n",
    "    )\n",
    "    y_min = min(f(left), f(right), -10)\n",
    "    y_max = max(f(left), f(right), 10)\n",
    "    delta = (right - left) / 100\n",
    "    r = np.arange(left, right + delta, delta)\n",
    "\n",
    "    ax.plot(r, [f(x) for x in r])\n",
    "    ax.plot([left, left], [y_min, y_max], color='black')\n",
    "    ax.plot([right, right], [y_min, y_max], color='black')\n",
    "    ax.plot([left, right], [0, 0], color='black', linestyle='--')\n",
    "\n",
    "    ax.scatter(points, list(map(f, points)), color='black')\n",
    "    for pair in lines:\n",
    "        ax.plot(pair, list(map(f, pair)), color='grey', linestyle='--')\n",
    "\n",
    "    plt.close(fig)\n",
    "    return fig"
   ],
   "metadata": {
    "collapsed": false,
    "pycharm": {
     "name": "#%%\n"
    }
   }
  },
  {
   "cell_type": "code",
   "execution_count": 6,
   "outputs": [],
   "source": [
    "def draw(fun, states, left, right, metod):\n",
    "    def update_states_for_bisection():\n",
    "        points = []\n",
    "        lines = []\n",
    "        l = left\n",
    "        r = right\n",
    "        for st in states:\n",
    "            m = (l + r) / 2\n",
    "            points.append([l,m,r])\n",
    "            if st == l:\n",
    "                lines.append([[l,m]])\n",
    "                l = m\n",
    "            else:\n",
    "                lines.append([[r,m]])\n",
    "                r = m\n",
    "        return points, lines\n",
    "\n",
    "    def update_states_for_newton():\n",
    "        points = []\n",
    "        lines = []\n",
    "        for i, st in enumerate(states[1:]):\n",
    "            points.append([states[i], st])\n",
    "            lines.append([[states[i], st]])\n",
    "        return points, lines\n",
    "\n",
    "    def update_states_for_roots_extrs():\n",
    "        return states, [[[]], [[]]]\n",
    "\n",
    "    def update_states_for_ternary():\n",
    "        points = []\n",
    "        lines = []\n",
    "        l = left\n",
    "        r = right\n",
    "        for st in states:\n",
    "            ch = (r - l) / 3\n",
    "            points.append([l, l + ch, l + 2 * ch, r])\n",
    "            if st - l < r - st:\n",
    "                lines.append([[l, l + ch]])\n",
    "                l = l + ch\n",
    "            else:\n",
    "                lines.append([[r, r - ch]])\n",
    "                r = r - ch\n",
    "        return points, lines\n",
    "\n",
    "\n",
    "    def update_states():\n",
    "        if metod == \"bisection\":\n",
    "            return update_states_for_bisection()\n",
    "        elif metod == \"newton\":\n",
    "            return update_states_for_newton()\n",
    "        elif metod == \"roots_extrs\":\n",
    "            return update_states_for_roots_extrs()\n",
    "        elif metod == \"ternary\":\n",
    "            return update_states_for_ternary()\n",
    "        else:\n",
    "            raise Exception(f\"нет рисования для метода {metod}\")\n",
    "\n",
    "    if len(states) == 0:\n",
    "        print(\"нет состояний\")\n",
    "    else:\n",
    "        points, lines = update_states()\n",
    "        pictures = []\n",
    "        for i, p in enumerate(points):\n",
    "            pictures.append(do_picture(fun, p, lines[i], left, right))\n",
    "        animate_list(pictures)"
   ],
   "metadata": {
    "collapsed": false,
    "pycharm": {
     "name": "#%%\n"
    }
   }
  },
  {
   "cell_type": "code",
   "execution_count": 7,
   "outputs": [],
   "source": [
    "def dfun(fun, is_polinomial=False):\n",
    "    if is_polinomial:\n",
    "        return np.polyder(fun)\n",
    "    else:\n",
    "        df = grad(fun)\n",
    "        return lambda x: df(np.array([x], float))[0]\n",
    "        # h = 1e-8\n",
    "        # return lambda x: (fun(x+h) - fun(x-h))/(2 * h)  # symmetric difference, working only for 1 dif"
   ],
   "metadata": {
    "collapsed": false,
    "pycharm": {
     "name": "#%%\n"
    }
   }
  },
  {
   "cell_type": "code",
   "execution_count": 8,
   "outputs": [],
   "source": [
    "def find_left_right(fun):\n",
    "    left, right = -1, 1\n",
    "    while fun(left) > 0:\n",
    "        left *= 2\n",
    "    while fun(right) < 0:\n",
    "        right *= 2\n",
    "    return left, right"
   ],
   "metadata": {
    "collapsed": false,
    "pycharm": {
     "name": "#%%\n"
    }
   }
  },
  {
   "cell_type": "code",
   "execution_count": 9,
   "outputs": [],
   "source": [
    "EPS = 0.05"
   ],
   "metadata": {
    "collapsed": false,
    "pycharm": {
     "name": "#%%\n"
    }
   }
  },
  {
   "cell_type": "markdown",
   "source": [
    "# Task 1\n",
    "\n",
    "1) Вычислить $\\sqrt[k]{a}$ ($k \\in \\mathbb{N}, a \\in \\mathbb{R}$)\n",
    "\n",
    "1б С помощью метода бисекции.\n",
    "\n",
    "2б C помощью метода Ньютона."
   ],
   "metadata": {
    "collapsed": false
   }
  },
  {
   "cell_type": "markdown",
   "source": [
    "Если $k\\mod2=0$, то ответ больше 0 (корень чётной степени) - ограничение слева. Для произвольной ситуации: возьмём слева и справа максимум из $a$ по модулю (в случае, $a > 1$ корень сжимает к 0) и 1 (для $a < 1$ корень прижимает к 1). Сделали границу для объединения случаев\n",
    "\n",
    "Начальное приближение можно взять 0. Корень либо прижимается снизу к 1 по модулю (около 0), либо стремится к 1 сверху (если не учитывать знак 0 - оптимальный)"
   ],
   "metadata": {
    "collapsed": false
   }
  },
  {
   "cell_type": "code",
   "execution_count": 10,
   "outputs": [],
   "source": [
    "def task1_bisection(k: int, a: float, visual=False):\n",
    "    fun = lambda x: pow(x, k) - a\n",
    "    gran = max(1., abs(a))\n",
    "    left, right = (-gran if k % 2 != 0 else 0), gran\n",
    "    ans, states = root_bisection(fun, left, right, EPS)\n",
    "    if visual:\n",
    "        draw(fun, states, left, right, \"bisection\")\n",
    "    return ans if k % 2 != 0 else abs(ans)"
   ],
   "metadata": {
    "collapsed": false,
    "pycharm": {
     "name": "#%%\n"
    }
   }
  },
  {
   "cell_type": "code",
   "execution_count": 11,
   "outputs": [],
   "source": [
    "def task1_newton(k: int, a: float, visual=False):\n",
    "    fun = lambda x: pow(x, k) - a\n",
    "    ans, states = method_newton(fun, dfun(fun), 0, EPS)\n",
    "    if visual:\n",
    "        gran = max(1., abs(a))\n",
    "        left, right = (-gran if k % 2 != 0 else 0), gran\n",
    "        draw(fun, states, left, right, \"newton\")\n",
    "    return ans if k % 2 != 0 else abs(ans)"
   ],
   "metadata": {
    "collapsed": false,
    "pycharm": {
     "name": "#%%\n"
    }
   }
  },
  {
   "cell_type": "code",
   "execution_count": 12,
   "outputs": [
    {
     "data": {
      "text/plain": "HBox(children=(Button(description='Prev', style=ButtonStyle()), Button(description='Next', style=ButtonStyle()…",
      "application/vnd.jupyter.widget-view+json": {
       "version_major": 2,
       "version_minor": 0,
       "model_id": "2862c5415a5848a4ba2854fd75a1ade9"
      }
     },
     "metadata": {},
     "output_type": "display_data"
    },
    {
     "data": {
      "text/plain": "interactive(children=(IntSlider(value=0, description='step', max=9), Output()), _dom_classes=('widget-interact…",
      "application/vnd.jupyter.widget-view+json": {
       "version_major": 2,
       "version_minor": 0,
       "model_id": "aa6bbe55b5574db58978addfda438a42"
      }
     },
     "metadata": {},
     "output_type": "display_data"
    },
    {
     "name": "stdout",
     "output_type": "stream",
     "text": [
      "5.029296875\n"
     ]
    },
    {
     "data": {
      "text/plain": "HBox(children=(Button(description='Prev', style=ButtonStyle()), Button(description='Next', style=ButtonStyle()…",
      "application/vnd.jupyter.widget-view+json": {
       "version_major": 2,
       "version_minor": 0,
       "model_id": "78d83b76cd4c4f09a0b1ec7835a99eee"
      }
     },
     "metadata": {},
     "output_type": "display_data"
    },
    {
     "data": {
      "text/plain": "interactive(children=(IntSlider(value=0, description='step', max=5), Output()), _dom_classes=('widget-interact…",
      "application/vnd.jupyter.widget-view+json": {
       "version_major": 2,
       "version_minor": 0,
       "model_id": "c9ee4614a1c848389fcee603bc6d746e"
      }
     },
     "metadata": {},
     "output_type": "display_data"
    },
    {
     "name": "stdout",
     "output_type": "stream",
     "text": [
      "5.000023178253949\n"
     ]
    }
   ],
   "source": [
    "print(task1_bisection(2, 25, visual=True))\n",
    "print(task1_newton(2, 25, visual=True))"
   ],
   "metadata": {
    "collapsed": false,
    "pycharm": {
     "name": "#%%\n"
    }
   }
  },
  {
   "cell_type": "code",
   "execution_count": 13,
   "outputs": [
    {
     "data": {
      "text/plain": "HBox(children=(Button(description='Prev', style=ButtonStyle()), Button(description='Next', style=ButtonStyle()…",
      "application/vnd.jupyter.widget-view+json": {
       "version_major": 2,
       "version_minor": 0,
       "model_id": "495bcc6411154d68ba57362a9e97160f"
      }
     },
     "metadata": {},
     "output_type": "display_data"
    },
    {
     "data": {
      "text/plain": "interactive(children=(IntSlider(value=0, description='step', max=16), Output()), _dom_classes=('widget-interac…",
      "application/vnd.jupyter.widget-view+json": {
       "version_major": 2,
       "version_minor": 0,
       "model_id": "dc2c4e5c78bb4050a51d2c6be023b5ea"
      }
     },
     "metadata": {},
     "output_type": "display_data"
    },
    {
     "name": "stdout",
     "output_type": "stream",
     "text": [
      "1.92059326171875\n"
     ]
    },
    {
     "data": {
      "text/plain": "HBox(children=(Button(description='Prev', style=ButtonStyle()), Button(description='Next', style=ButtonStyle()…",
      "application/vnd.jupyter.widget-view+json": {
       "version_major": 2,
       "version_minor": 0,
       "model_id": "8b5c81d7336d4818b960b8e690bd22fb"
      }
     },
     "metadata": {},
     "output_type": "display_data"
    },
    {
     "data": {
      "text/plain": "interactive(children=(IntSlider(value=0, description='step', max=46), Output()), _dom_classes=('widget-interac…",
      "application/vnd.jupyter.widget-view+json": {
       "version_major": 2,
       "version_minor": 0,
       "model_id": "17d0d2f1fc8f49bfacd7509399e271b5"
      }
     },
     "metadata": {},
     "output_type": "display_data"
    },
    {
     "name": "stdout",
     "output_type": "stream",
     "text": [
      "1.910334201101316\n"
     ]
    }
   ],
   "source": [
    "print(task1_bisection(11, 1234, visual=True))\n",
    "print(task1_newton(11, 1234, visual=True))\n"
   ],
   "metadata": {
    "collapsed": false,
    "pycharm": {
     "name": "#%%\n"
    }
   }
  },
  {
   "cell_type": "code",
   "execution_count": 14,
   "outputs": [
    {
     "data": {
      "text/plain": "HBox(children=(Button(description='Prev', style=ButtonStyle()), Button(description='Next', style=ButtonStyle()…",
      "application/vnd.jupyter.widget-view+json": {
       "version_major": 2,
       "version_minor": 0,
       "model_id": "14d65a108c0d47028258421af41771ed"
      }
     },
     "metadata": {},
     "output_type": "display_data"
    },
    {
     "data": {
      "text/plain": "interactive(children=(IntSlider(value=0, description='step', max=26), Output()), _dom_classes=('widget-interac…",
      "application/vnd.jupyter.widget-view+json": {
       "version_major": 2,
       "version_minor": 0,
       "model_id": "d5ae4739c7d3493abfd244e9b897e37b"
      }
     },
     "metadata": {},
     "output_type": "display_data"
    },
    {
     "name": "stdout",
     "output_type": "stream",
     "text": [
      "15.805910229682922\n"
     ]
    },
    {
     "data": {
      "text/plain": "HBox(children=(Button(description='Prev', style=ButtonStyle()), Button(description='Next', style=ButtonStyle()…",
      "application/vnd.jupyter.widget-view+json": {
       "version_major": 2,
       "version_minor": 0,
       "model_id": "5cd68a712ded437387010137799b4d7c"
      }
     },
     "metadata": {},
     "output_type": "display_data"
    },
    {
     "data": {
      "text/plain": "interactive(children=(IntSlider(value=0, description='step', max=46), Output()), _dom_classes=('widget-interac…",
      "application/vnd.jupyter.widget-view+json": {
       "version_major": 2,
       "version_minor": 0,
       "model_id": "7655fbf8c09a40b6ad571d07836a2acf"
      }
     },
     "metadata": {},
     "output_type": "display_data"
    },
    {
     "name": "stdout",
     "output_type": "stream",
     "text": [
      "15.821509366405662\n"
     ]
    }
   ],
   "source": [
    "print(task1_bisection(5, 991324, visual=True))\n",
    "print(task1_newton(5, 991324, visual=True))"
   ],
   "metadata": {
    "collapsed": false,
    "pycharm": {
     "name": "#%%\n"
    }
   }
  },
  {
   "cell_type": "code",
   "execution_count": 15,
   "outputs": [
    {
     "data": {
      "text/plain": "HBox(children=(Button(description='Prev', style=ButtonStyle()), Button(description='Next', style=ButtonStyle()…",
      "application/vnd.jupyter.widget-view+json": {
       "version_major": 2,
       "version_minor": 0,
       "model_id": "1cc3209025b54e788a939bf45f8b44f0"
      }
     },
     "metadata": {},
     "output_type": "display_data"
    },
    {
     "data": {
      "text/plain": "interactive(children=(IntSlider(value=0, description='step', max=13), Output()), _dom_classes=('widget-interac…",
      "application/vnd.jupyter.widget-view+json": {
       "version_major": 2,
       "version_minor": 0,
       "model_id": "da4c52f610ed419eb8417936d37e7683"
      }
     },
     "metadata": {},
     "output_type": "display_data"
    },
    {
     "name": "stdout",
     "output_type": "stream",
     "text": [
      "-4.974365234375\n"
     ]
    },
    {
     "data": {
      "text/plain": "HBox(children=(Button(description='Prev', style=ButtonStyle()), Button(description='Next', style=ButtonStyle()…",
      "application/vnd.jupyter.widget-view+json": {
       "version_major": 2,
       "version_minor": 0,
       "model_id": "d067a77056754c9cb6bb98b2c94c1e8c"
      }
     },
     "metadata": {},
     "output_type": "display_data"
    },
    {
     "data": {
      "text/plain": "interactive(children=(IntSlider(value=0, description='step', max=9), Output()), _dom_classes=('widget-interact…",
      "application/vnd.jupyter.widget-view+json": {
       "version_major": 2,
       "version_minor": 0,
       "model_id": "c5ca461f077c4046a4e6151e6d97aeed"
      }
     },
     "metadata": {},
     "output_type": "display_data"
    },
    {
     "name": "stdout",
     "output_type": "stream",
     "text": [
      "-5.000019538894343\n"
     ]
    }
   ],
   "source": [
    "print(task1_bisection(3, -125, visual=True))\n",
    "print(task1_newton(3, -125, visual=True))"
   ],
   "metadata": {
    "collapsed": false,
    "pycharm": {
     "name": "#%%\n"
    }
   }
  },
  {
   "cell_type": "code",
   "execution_count": 16,
   "outputs": [
    {
     "data": {
      "text/plain": "HBox(children=(Button(description='Prev', style=ButtonStyle()), Button(description='Next', style=ButtonStyle()…",
      "application/vnd.jupyter.widget-view+json": {
       "version_major": 2,
       "version_minor": 0,
       "model_id": "8865d54454294820b2d22a5dd8f237ca"
      }
     },
     "metadata": {},
     "output_type": "display_data"
    },
    {
     "data": {
      "text/plain": "interactive(children=(IntSlider(value=0, description='step', max=0), Output()), _dom_classes=('widget-interact…",
      "application/vnd.jupyter.widget-view+json": {
       "version_major": 2,
       "version_minor": 0,
       "model_id": "21b4ec87894f440d8b3a0ebf7669b0f1"
      }
     },
     "metadata": {},
     "output_type": "display_data"
    },
    {
     "name": "stdout",
     "output_type": "stream",
     "text": [
      "8\n"
     ]
    },
    {
     "data": {
      "text/plain": "HBox(children=(Button(description='Prev', style=ButtonStyle()), Button(description='Next', style=ButtonStyle()…",
      "application/vnd.jupyter.widget-view+json": {
       "version_major": 2,
       "version_minor": 0,
       "model_id": "340f500766ac4fc480297b1b52385f7d"
      }
     },
     "metadata": {},
     "output_type": "display_data"
    },
    {
     "data": {
      "text/plain": "interactive(children=(IntSlider(value=0, description='step', max=1), Output()), _dom_classes=('widget-interact…",
      "application/vnd.jupyter.widget-view+json": {
       "version_major": 2,
       "version_minor": 0,
       "model_id": "18059a6e3d2a4101a0a83dcace99c79b"
      }
     },
     "metadata": {},
     "output_type": "display_data"
    },
    {
     "name": "stdout",
     "output_type": "stream",
     "text": [
      "8.0\n"
     ]
    }
   ],
   "source": [
    "print(task1_bisection(1, 8, visual=True))\n",
    "print(task1_newton(1, 8, visual=True))"
   ],
   "metadata": {
    "collapsed": false,
    "pycharm": {
     "name": "#%%\n"
    }
   }
  },
  {
   "cell_type": "markdown",
   "source": [
    "# Task 2\n",
    "\n",
    "2) Дан многочлен $P$ степени не больше $5$ и отрезок $[L; R]$, пара.\n",
    "\n",
    "2б Локализовать корни $P$, т.е. найти непересекающиеся отрезки $[L_1; R_1] \\ldots [L_m; R_m]$ такие, что $P(L_i) P (R_i) < 0$.\n",
    "\n",
    "1б Для каждого $[L_i; R_i]$ найти соответствующий корень.\n",
    "\n",
    "2б Найти глобальный минимум $P$ на отрезке $[L; R]$."
   ],
   "metadata": {
    "collapsed": false
   }
  },
  {
   "cell_type": "markdown",
   "source": [
    "Используем честные производные для многочлена.\n",
    "\n",
    "На каждой итерации 0 переходят в экстремумы, смотрим на всё только в нужном промежутке"
   ],
   "metadata": {
    "collapsed": false
   }
  },
  {
   "cell_type": "code",
   "execution_count": 69,
   "outputs": [],
   "source": [
    "def task2(polynom: np.poly1d, left: float, right: float):\n",
    "    def find_correct_lrs(extrs):\n",
    "        lrs = []\n",
    "        last = extrs[0]\n",
    "        for ext in extrs:\n",
    "            if polynom(last) * polynom(ext) <= 0 \\\n",
    "                    or abs(polynom(ext)) < EPS:  # считаем, что кратный корень\n",
    "                lrs.append((last, ext))\n",
    "                last = ext\n",
    "        return lrs\n",
    "\n",
    "    deg = len(polynom)\n",
    "    eps = 0.0001\n",
    "    dfuns = [polynom]\n",
    "    for _ in range(deg-1):\n",
    "        dfuns.append(dfun(dfuns[-1], is_polinomial=True))\n",
    "    lrs = [(left, right)]\n",
    "    extrs = []\n",
    "    roots = []\n",
    "    for i, f in enumerate(reversed(dfuns)):\n",
    "        extrs = roots\n",
    "        roots = []\n",
    "        for (l, r) in lrs:\n",
    "            if f(l) * f(r) <= 0:  # иначе игнорируем, нас интересуют экстремумы только в [L; R]\n",
    "                root, _ = root_bisection(f, l, r, eps)\n",
    "                roots.append(root)\n",
    "            elif abs(f(r)) < EPS:  # для кратных корней\n",
    "                roots.append(r)\n",
    "        if i != deg - 1:  # не обновляем lrs в последний раз\n",
    "            new_lrs = [left] + roots + [right]\n",
    "            lrs = []\n",
    "            for j, ext in enumerate(new_lrs[1:]):\n",
    "                lrs.append((new_lrs[j], ext))\n",
    "    extrs = [left] + extrs + [right]\n",
    "    minimum = min(map(lambda x: f(x), extrs))\n",
    "    draw(polynom, [roots, extrs], left, right, \"roots_extrs\")\n",
    "    return {\"lrs\" : find_correct_lrs(extrs), \"roots\" : roots, \"minimum\" : minimum}"
   ],
   "metadata": {
    "collapsed": false,
    "pycharm": {
     "name": "#%%\n"
    }
   }
  },
  {
   "cell_type": "code",
   "execution_count": 70,
   "outputs": [
    {
     "data": {
      "text/plain": "HBox(children=(Button(description='Prev', style=ButtonStyle()), Button(description='Next', style=ButtonStyle()…",
      "application/vnd.jupyter.widget-view+json": {
       "version_major": 2,
       "version_minor": 0,
       "model_id": "e2371146381448608fc81856f50114b4"
      }
     },
     "metadata": {},
     "output_type": "display_data"
    },
    {
     "data": {
      "text/plain": "interactive(children=(IntSlider(value=0, description='step', max=1), Output()), _dom_classes=('widget-interact…",
      "application/vnd.jupyter.widget-view+json": {
       "version_major": 2,
       "version_minor": 0,
       "model_id": "e87f83ba8bc346108db97e74bd8e8ce0"
      }
     },
     "metadata": {},
     "output_type": "display_data"
    },
    {
     "data": {
      "text/plain": "{'lrs': [(-5, -0.4999542236328125), (-0.4999542236328125, 5)],\n 'roots': [-1.9999465940054506, 0.9999951452482492],\n 'minimum': -2.249999997904524}"
     },
     "execution_count": 70,
     "metadata": {},
     "output_type": "execute_result"
    }
   ],
   "source": [
    "# x**2 + x - 2\n",
    "fun = np.poly1d([1, 1, -2])\n",
    "task2(fun, -5, 5)"
   ],
   "metadata": {
    "collapsed": false,
    "pycharm": {
     "name": "#%%\n"
    }
   }
  },
  {
   "cell_type": "code",
   "execution_count": 71,
   "outputs": [
    {
     "data": {
      "text/plain": "HBox(children=(Button(description='Prev', style=ButtonStyle()), Button(description='Next', style=ButtonStyle()…",
      "application/vnd.jupyter.widget-view+json": {
       "version_major": 2,
       "version_minor": 0,
       "model_id": "6a06e4a100d947cfa46bd4b730487603"
      }
     },
     "metadata": {},
     "output_type": "display_data"
    },
    {
     "data": {
      "text/plain": "interactive(children=(IntSlider(value=0, description='step', max=1), Output()), _dom_classes=('widget-interact…",
      "application/vnd.jupyter.widget-view+json": {
       "version_major": 2,
       "version_minor": 0,
       "model_id": "c74037e4f45d451f92363246aaff8356"
      }
     },
     "metadata": {},
     "output_type": "display_data"
    },
    {
     "data": {
      "text/plain": "{'lrs': [(-5, -3.3333714806940407),\n  (-3.3333714806940407, -3.1788949854671955e-05),\n  (-3.1788949854671955e-05, 5)],\n 'roots': [-4.507915316031337, -1.7556605447471885, 1.2634802724636973],\n 'minimum': -10}"
     },
     "execution_count": 71,
     "metadata": {},
     "output_type": "execute_result"
    }
   ],
   "source": [
    "# x**3 + 5 x**2 - 10\n",
    "fun = np.poly1d([1, 5, 0, -10])\n",
    "task2(fun, -5, 5)"
   ],
   "metadata": {
    "collapsed": false,
    "pycharm": {
     "name": "#%%\n"
    }
   }
  },
  {
   "cell_type": "code",
   "execution_count": 72,
   "outputs": [
    {
     "data": {
      "text/plain": "HBox(children=(Button(description='Prev', style=ButtonStyle()), Button(description='Next', style=ButtonStyle()…",
      "application/vnd.jupyter.widget-view+json": {
       "version_major": 2,
       "version_minor": 0,
       "model_id": "f1f8b033a656489d90360185a4666e4c"
      }
     },
     "metadata": {},
     "output_type": "display_data"
    },
    {
     "data": {
      "text/plain": "interactive(children=(IntSlider(value=0, description='step', max=1), Output()), _dom_classes=('widget-interact…",
      "application/vnd.jupyter.widget-view+json": {
       "version_major": 2,
       "version_minor": 0,
       "model_id": "780652f53a8d4967901db1694521e2c8"
      }
     },
     "metadata": {},
     "output_type": "display_data"
    },
    {
     "data": {
      "text/plain": "{'lrs': [(0, 6)], 'roots': [1.263519287109375], 'minimum': -10}"
     },
     "execution_count": 72,
     "metadata": {},
     "output_type": "execute_result"
    }
   ],
   "source": [
    "task2(fun, 0, 6)"
   ],
   "metadata": {
    "collapsed": false,
    "pycharm": {
     "name": "#%%\n"
    }
   }
  },
  {
   "cell_type": "code",
   "execution_count": 73,
   "outputs": [
    {
     "data": {
      "text/plain": "HBox(children=(Button(description='Prev', style=ButtonStyle()), Button(description='Next', style=ButtonStyle()…",
      "application/vnd.jupyter.widget-view+json": {
       "version_major": 2,
       "version_minor": 0,
       "model_id": "8a4aa73f58b34e1a9a2e71c893dd9da5"
      }
     },
     "metadata": {},
     "output_type": "display_data"
    },
    {
     "data": {
      "text/plain": "interactive(children=(IntSlider(value=0, description='step', max=1), Output()), _dom_classes=('widget-interact…",
      "application/vnd.jupyter.widget-view+json": {
       "version_major": 2,
       "version_minor": 0,
       "model_id": "a90d6b8501a6416d88b67293c5b60328"
      }
     },
     "metadata": {},
     "output_type": "display_data"
    },
    {
     "data": {
      "text/plain": "{'lrs': [(-5, -3.3333714806940407), (-3.3333714806940407, 0)],\n 'roots': [-4.507915316031337, -1.7556454986437409],\n 'minimum': -10}"
     },
     "execution_count": 73,
     "metadata": {},
     "output_type": "execute_result"
    }
   ],
   "source": [
    "task2(fun, -5, 0)"
   ],
   "metadata": {
    "collapsed": false,
    "pycharm": {
     "name": "#%%\n"
    }
   }
  },
  {
   "cell_type": "code",
   "execution_count": 74,
   "outputs": [
    {
     "data": {
      "text/plain": "HBox(children=(Button(description='Prev', style=ButtonStyle()), Button(description='Next', style=ButtonStyle()…",
      "application/vnd.jupyter.widget-view+json": {
       "version_major": 2,
       "version_minor": 0,
       "model_id": "bf2d69b0e19c4a69bc9d52c6382a1a7b"
      }
     },
     "metadata": {},
     "output_type": "display_data"
    },
    {
     "data": {
      "text/plain": "interactive(children=(IntSlider(value=0, description='step', max=1), Output()), _dom_classes=('widget-interact…",
      "application/vnd.jupyter.widget-view+json": {
       "version_major": 2,
       "version_minor": 0,
       "model_id": "f6d788225f7644db98c1b1966caf4618"
      }
     },
     "metadata": {},
     "output_type": "display_data"
    },
    {
     "data": {
      "text/plain": "{'lrs': [], 'roots': [], 'minimum': -510}"
     },
     "execution_count": 74,
     "metadata": {},
     "output_type": "execute_result"
    }
   ],
   "source": [
    "task2(fun, -10, -5)"
   ],
   "metadata": {
    "collapsed": false,
    "pycharm": {
     "name": "#%%\n"
    }
   }
  },
  {
   "cell_type": "code",
   "execution_count": 75,
   "outputs": [
    {
     "data": {
      "text/plain": "HBox(children=(Button(description='Prev', style=ButtonStyle()), Button(description='Next', style=ButtonStyle()…",
      "application/vnd.jupyter.widget-view+json": {
       "version_major": 2,
       "version_minor": 0,
       "model_id": "c71effa598c34973985a00ac3c41756a"
      }
     },
     "metadata": {},
     "output_type": "display_data"
    },
    {
     "data": {
      "text/plain": "interactive(children=(IntSlider(value=0, description='step', max=1), Output()), _dom_classes=('widget-interact…",
      "application/vnd.jupyter.widget-view+json": {
       "version_major": 2,
       "version_minor": 0,
       "model_id": "8731780210684a728a27690761c44591"
      }
     },
     "metadata": {},
     "output_type": "display_data"
    },
    {
     "data": {
      "text/plain": "{'lrs': [(-5, -1.6666412353515625), (-1.6666412353515625, 0)],\n 'roots': [-3.3333714806940407, 0],\n 'minimum': -8.333333331393078}"
     },
     "execution_count": 75,
     "metadata": {},
     "output_type": "execute_result"
    }
   ],
   "source": [
    "fun2 = np.poly1d([3,10,0])\n",
    "task2(fun2, -5, 0)"
   ],
   "metadata": {
    "collapsed": false,
    "pycharm": {
     "name": "#%%\n"
    }
   }
  },
  {
   "cell_type": "code",
   "execution_count": 76,
   "outputs": [
    {
     "data": {
      "text/plain": "HBox(children=(Button(description='Prev', style=ButtonStyle()), Button(description='Next', style=ButtonStyle()…",
      "application/vnd.jupyter.widget-view+json": {
       "version_major": 2,
       "version_minor": 0,
       "model_id": "6a6ef884fb8c4f9fa10d1e8b65941ea2"
      }
     },
     "metadata": {},
     "output_type": "display_data"
    },
    {
     "data": {
      "text/plain": "interactive(children=(IntSlider(value=0, description='step', max=1), Output()), _dom_classes=('widget-interact…",
      "application/vnd.jupyter.widget-view+json": {
       "version_major": 2,
       "version_minor": 0,
       "model_id": "f34e0b3f4d3a44569e7c4e5b2b1c07c5"
      }
     },
     "metadata": {},
     "output_type": "display_data"
    },
    {
     "data": {
      "text/plain": "{'lrs': [(-1.5, -0.7059941310435534),\n  (-0.7059941310435534, 0.9999693660065532)],\n 'roots': [-1.2273512561798725, 0.9999693660065532],\n 'minimum': -32.03125}"
     },
     "execution_count": 76,
     "metadata": {},
     "output_type": "execute_result"
    }
   ],
   "source": [
    "# 3 x**5 - 6 x**4 + 5 x**3 + 4 x**2 - 14 x + 8\n",
    "fun = np.poly1d([3, -6, 5, 4, -14, 8])\n",
    "task2(fun, -1.5, 1.5)"
   ],
   "metadata": {
    "collapsed": false,
    "pycharm": {
     "name": "#%%\n"
    }
   }
  },
  {
   "cell_type": "markdown",
   "source": [
    "# Task 3\n",
    "\n",
    "3) При $a, b, c > 0$ найти минимум функции $e^{ax} + e^{−bx} + c(x − d)^2$\n",
    "\n",
    "1б С использованием метода бисекции.\n",
    "\n",
    "2б C использованием метода Ньютона.\n",
    "\n",
    "1б С использованием тернарного поиска."
   ],
   "metadata": {
    "collapsed": false
   }
  },
  {
   "cell_type": "markdown",
   "source": [
    "$(e^{ax} + e^{−bx} + c(x − d)^2)` = a e^{ax} - b e^{-bx} - 2c(d - x)$\n",
    "\n",
    "Линейная комбинация с положительными коэффициентами выпуклых функций выпукла. Экспонента и парабола выпуклы. Значит наша функция тоже выпукла.\n",
    "\n",
    "Производная выпуклой функции одной переменной - неубывающая функция. Наша функция на бесконечностях больше, чем около нуля за счёт экспоненты. Тогда у неё есть единственный экстремум, он соответствует нулю производной.\n",
    "\n",
    "Тогда будем искать 0 производной. Придумаем границы и начальное приближение.\n",
    "\n",
    "Подберём границы, чтобы они соответствовали условиям методов.\n",
    "\n",
    "Для бисекции - подбор по производной функции, для тернарного поиска границы те же - мы знаем, что корень функциии лежит между этими границами, выпуклость есть\n",
    "\n",
    "Для Ньютона возьмём середину из этих границ (не самое худшее приближение)"
   ],
   "metadata": {
    "collapsed": false
   }
  },
  {
   "cell_type": "code",
   "execution_count": 25,
   "outputs": [],
   "source": [
    "def task3_bisection(a: float, b: float, c: float, d: float, eps=EPS, visual=False):\n",
    "    assert (a > 0 and b > 0 and c > 0)\n",
    "    fun = lambda x: np.exp(a * x) + np.exp(-b * x) + c * np.power((x - d), 2)\n",
    "    df = dfun(fun)\n",
    "    left, right = find_left_right(df)\n",
    "    ans, states = root_bisection(df, left, right, eps)\n",
    "    if visual:\n",
    "        draw(fun, states, left, right, \"bisection\")\n",
    "        draw(df, states, left, right, \"newton\")\n",
    "    return fun(ans)"
   ],
   "metadata": {
    "collapsed": false,
    "pycharm": {
     "name": "#%%\n"
    }
   }
  },
  {
   "cell_type": "code",
   "execution_count": 26,
   "outputs": [],
   "source": [
    "def task3_newton(a: float, b: float, c: float, d: float, eps=EPS, visual=False):\n",
    "    assert (a > 0 and b > 0 and c > 0)\n",
    "    # fun = lambda x: exp(a * x) + exp(-b * x) + c * pow((x - d), 2)\n",
    "    fun = lambda x: np.exp(a * x) + np.exp(-b * x) + c * np.power((x - d), 2)\n",
    "    df = dfun(fun)\n",
    "    left, right = find_left_right(df)\n",
    "    ans, states = method_newton(df, dfun(df), (left + right) / 2, eps, iters=1000)\n",
    "    if visual:\n",
    "        draw(fun, states, left, right, \"newton\")\n",
    "        draw(df, states, left, right, \"newton\")\n",
    "    return fun(ans)"
   ],
   "metadata": {
    "collapsed": false,
    "pycharm": {
     "name": "#%%\n"
    }
   }
  },
  {
   "cell_type": "code",
   "execution_count": 27,
   "outputs": [],
   "source": [
    "def task3_ternary(a: float, b: float, c: float, d: float, eps=EPS, visual=False):\n",
    "    assert (a > 0 and b > 0 and c > 0)\n",
    "    fun = lambda x: np.exp(a * x) + np.exp(-b * x) + c * np.power((x - d), 2)\n",
    "    left, right = find_left_right(dfun(fun))\n",
    "    ans, states = ternary_search(fun, left, right, eps)\n",
    "    if visual:\n",
    "        draw(fun, states, left, right, \"ternary\")\n",
    "    return fun(ans)"
   ],
   "metadata": {
    "collapsed": false,
    "pycharm": {
     "name": "#%%\n"
    }
   }
  },
  {
   "cell_type": "code",
   "execution_count": 28,
   "outputs": [
    {
     "data": {
      "text/plain": "HBox(children=(Button(description='Prev', style=ButtonStyle()), Button(description='Next', style=ButtonStyle()…",
      "application/vnd.jupyter.widget-view+json": {
       "version_major": 2,
       "version_minor": 0,
       "model_id": "2f77e0ab1a6c4d7aa801354936801807"
      }
     },
     "metadata": {},
     "output_type": "display_data"
    },
    {
     "data": {
      "text/plain": "interactive(children=(IntSlider(value=0, description='step', max=19), Output()), _dom_classes=('widget-interac…",
      "application/vnd.jupyter.widget-view+json": {
       "version_major": 2,
       "version_minor": 0,
       "model_id": "e891a4c05d194ab3a117ed0a83d89a52"
      }
     },
     "metadata": {},
     "output_type": "display_data"
    },
    {
     "data": {
      "text/plain": "HBox(children=(Button(description='Prev', style=ButtonStyle()), Button(description='Next', style=ButtonStyle()…",
      "application/vnd.jupyter.widget-view+json": {
       "version_major": 2,
       "version_minor": 0,
       "model_id": "af92c901d22141db85215ea62df8f5a6"
      }
     },
     "metadata": {},
     "output_type": "display_data"
    },
    {
     "data": {
      "text/plain": "interactive(children=(IntSlider(value=0, description='step', max=18), Output()), _dom_classes=('widget-interac…",
      "application/vnd.jupyter.widget-view+json": {
       "version_major": 2,
       "version_minor": 0,
       "model_id": "1210923c4a994787bb6f27f407683c29"
      }
     },
     "metadata": {},
     "output_type": "display_data"
    },
    {
     "data": {
      "text/plain": "18.652352027216903"
     },
     "execution_count": 28,
     "metadata": {},
     "output_type": "execute_result"
    }
   ],
   "source": [
    "eps = 0.00001\n",
    "\n",
    "a, b, c, d = 1,2,3,4\n",
    "task3_bisection(a,b,c,d,eps=eps,visual=True)"
   ],
   "metadata": {
    "collapsed": false,
    "pycharm": {
     "name": "#%%\n"
    }
   }
  },
  {
   "cell_type": "code",
   "execution_count": 29,
   "outputs": [
    {
     "data": {
      "text/plain": "HBox(children=(Button(description='Prev', style=ButtonStyle()), Button(description='Next', style=ButtonStyle()…",
      "application/vnd.jupyter.widget-view+json": {
       "version_major": 2,
       "version_minor": 0,
       "model_id": "63492a91f6464cec906f0e6d9c553ef0"
      }
     },
     "metadata": {},
     "output_type": "display_data"
    },
    {
     "data": {
      "text/plain": "interactive(children=(IntSlider(value=0, description='step', max=4), Output()), _dom_classes=('widget-interact…",
      "application/vnd.jupyter.widget-view+json": {
       "version_major": 2,
       "version_minor": 0,
       "model_id": "fa2e83ca2a064f919dfdf917bdd4885b"
      }
     },
     "metadata": {},
     "output_type": "display_data"
    },
    {
     "data": {
      "text/plain": "HBox(children=(Button(description='Prev', style=ButtonStyle()), Button(description='Next', style=ButtonStyle()…",
      "application/vnd.jupyter.widget-view+json": {
       "version_major": 2,
       "version_minor": 0,
       "model_id": "0ba5199efd7d4e1f86a28ad6a2aa619a"
      }
     },
     "metadata": {},
     "output_type": "display_data"
    },
    {
     "data": {
      "text/plain": "interactive(children=(IntSlider(value=0, description='step', max=4), Output()), _dom_classes=('widget-interact…",
      "application/vnd.jupyter.widget-view+json": {
       "version_major": 2,
       "version_minor": 0,
       "model_id": "b5884449918f4d4197ed6db8cbf8801f"
      }
     },
     "metadata": {},
     "output_type": "display_data"
    },
    {
     "data": {
      "text/plain": "18.652352027148623"
     },
     "execution_count": 29,
     "metadata": {},
     "output_type": "execute_result"
    }
   ],
   "source": [
    "task3_newton(a,b,c,d,eps=eps,visual=True)"
   ],
   "metadata": {
    "collapsed": false,
    "pycharm": {
     "name": "#%%\n"
    }
   }
  },
  {
   "cell_type": "code",
   "execution_count": 30,
   "outputs": [
    {
     "data": {
      "text/plain": "HBox(children=(Button(description='Prev', style=ButtonStyle()), Button(description='Next', style=ButtonStyle()…",
      "application/vnd.jupyter.widget-view+json": {
       "version_major": 2,
       "version_minor": 0,
       "model_id": "0db0816a3f2e476c84e6c6eb20698f5d"
      }
     },
     "metadata": {},
     "output_type": "display_data"
    },
    {
     "data": {
      "text/plain": "interactive(children=(IntSlider(value=0, description='step', max=32), Output()), _dom_classes=('widget-interac…",
      "application/vnd.jupyter.widget-view+json": {
       "version_major": 2,
       "version_minor": 0,
       "model_id": "4031f34b3f894174abe55eb3fc37cba3"
      }
     },
     "metadata": {},
     "output_type": "display_data"
    },
    {
     "data": {
      "text/plain": "18.652352027149448"
     },
     "execution_count": 30,
     "metadata": {},
     "output_type": "execute_result"
    }
   ],
   "source": [
    "task3_ternary(a,b,c,d,eps=eps,visual=True)"
   ],
   "metadata": {
    "collapsed": false,
    "pycharm": {
     "name": "#%%\n"
    }
   }
  },
  {
   "cell_type": "code",
   "execution_count": 31,
   "outputs": [
    {
     "data": {
      "text/plain": "HBox(children=(Button(description='Prev', style=ButtonStyle()), Button(description='Next', style=ButtonStyle()…",
      "application/vnd.jupyter.widget-view+json": {
       "version_major": 2,
       "version_minor": 0,
       "model_id": "d194a2586f934771a1844f7529b8293a"
      }
     },
     "metadata": {},
     "output_type": "display_data"
    },
    {
     "data": {
      "text/plain": "interactive(children=(IntSlider(value=0, description='step', max=18), Output()), _dom_classes=('widget-interac…",
      "application/vnd.jupyter.widget-view+json": {
       "version_major": 2,
       "version_minor": 0,
       "model_id": "fac3fc8684934df2852aa1c16886db43"
      }
     },
     "metadata": {},
     "output_type": "display_data"
    },
    {
     "data": {
      "text/plain": "HBox(children=(Button(description='Prev', style=ButtonStyle()), Button(description='Next', style=ButtonStyle()…",
      "application/vnd.jupyter.widget-view+json": {
       "version_major": 2,
       "version_minor": 0,
       "model_id": "9f0f00c35b4941b38cf3e9c92df2a94c"
      }
     },
     "metadata": {},
     "output_type": "display_data"
    },
    {
     "data": {
      "text/plain": "interactive(children=(IntSlider(value=0, description='step', max=17), Output()), _dom_classes=('widget-interac…",
      "application/vnd.jupyter.widget-view+json": {
       "version_major": 2,
       "version_minor": 0,
       "model_id": "28d1c298b49e45ffa3a2e6e727b45ba1"
      }
     },
     "metadata": {},
     "output_type": "display_data"
    },
    {
     "data": {
      "text/plain": "457.82394277270333"
     },
     "execution_count": 31,
     "metadata": {},
     "output_type": "execute_result"
    }
   ],
   "source": [
    "a, b, c, d = 5, 10, 23, 5\n",
    "task3_bisection(a,b,c,d,eps=eps,visual=True)"
   ],
   "metadata": {
    "collapsed": false,
    "pycharm": {
     "name": "#%%\n"
    }
   }
  },
  {
   "cell_type": "code",
   "execution_count": 32,
   "outputs": [
    {
     "data": {
      "text/plain": "HBox(children=(Button(description='Prev', style=ButtonStyle()), Button(description='Next', style=ButtonStyle()…",
      "application/vnd.jupyter.widget-view+json": {
       "version_major": 2,
       "version_minor": 0,
       "model_id": "5067eca0b7cc471eb052cb38fe954789"
      }
     },
     "metadata": {},
     "output_type": "display_data"
    },
    {
     "data": {
      "text/plain": "interactive(children=(IntSlider(value=0, description='step', max=7), Output()), _dom_classes=('widget-interact…",
      "application/vnd.jupyter.widget-view+json": {
       "version_major": 2,
       "version_minor": 0,
       "model_id": "320397ad2b7d4ceaa9fdf18f8c89d397"
      }
     },
     "metadata": {},
     "output_type": "display_data"
    },
    {
     "data": {
      "text/plain": "HBox(children=(Button(description='Prev', style=ButtonStyle()), Button(description='Next', style=ButtonStyle()…",
      "application/vnd.jupyter.widget-view+json": {
       "version_major": 2,
       "version_minor": 0,
       "model_id": "d300a03781504fbcb8fc0be1f6b09441"
      }
     },
     "metadata": {},
     "output_type": "display_data"
    },
    {
     "data": {
      "text/plain": "interactive(children=(IntSlider(value=0, description='step', max=7), Output()), _dom_classes=('widget-interact…",
      "application/vnd.jupyter.widget-view+json": {
       "version_major": 2,
       "version_minor": 0,
       "model_id": "469a1ac0a4c8454c990aec92b3cb693c"
      }
     },
     "metadata": {},
     "output_type": "display_data"
    },
    {
     "data": {
      "text/plain": "457.82394276952766"
     },
     "execution_count": 32,
     "metadata": {},
     "output_type": "execute_result"
    }
   ],
   "source": [
    "task3_newton(a,b,c,d,eps=eps,visual=True)"
   ],
   "metadata": {
    "collapsed": false,
    "pycharm": {
     "name": "#%%\n"
    }
   }
  },
  {
   "cell_type": "code",
   "execution_count": 33,
   "outputs": [
    {
     "data": {
      "text/plain": "HBox(children=(Button(description='Prev', style=ButtonStyle()), Button(description='Next', style=ButtonStyle()…",
      "application/vnd.jupyter.widget-view+json": {
       "version_major": 2,
       "version_minor": 0,
       "model_id": "8cb287db2f0f4fdc89676ed74b87b022"
      }
     },
     "metadata": {},
     "output_type": "display_data"
    },
    {
     "data": {
      "text/plain": "interactive(children=(IntSlider(value=0, description='step', max=30), Output()), _dom_classes=('widget-interac…",
      "application/vnd.jupyter.widget-view+json": {
       "version_major": 2,
       "version_minor": 0,
       "model_id": "0075e5238996470f99f2cb5cf676d025"
      }
     },
     "metadata": {},
     "output_type": "display_data"
    },
    {
     "data": {
      "text/plain": "457.82394276955245"
     },
     "execution_count": 33,
     "metadata": {},
     "output_type": "execute_result"
    }
   ],
   "source": [
    "task3_ternary(a,b,c,d,eps=eps,visual=True)"
   ],
   "metadata": {
    "collapsed": false,
    "pycharm": {
     "name": "#%%\n"
    }
   }
  },
  {
   "cell_type": "code",
   "execution_count": 34,
   "outputs": [
    {
     "data": {
      "text/plain": "HBox(children=(Button(description='Prev', style=ButtonStyle()), Button(description='Next', style=ButtonStyle()…",
      "application/vnd.jupyter.widget-view+json": {
       "version_major": 2,
       "version_minor": 0,
       "model_id": "d73782e69f9949e280b61f99b5797ea5"
      }
     },
     "metadata": {},
     "output_type": "display_data"
    },
    {
     "data": {
      "text/plain": "interactive(children=(IntSlider(value=0, description='step', max=19), Output()), _dom_classes=('widget-interac…",
      "application/vnd.jupyter.widget-view+json": {
       "version_major": 2,
       "version_minor": 0,
       "model_id": "f4bd3cdf538a4c8aab5124308d10ad3e"
      }
     },
     "metadata": {},
     "output_type": "display_data"
    },
    {
     "data": {
      "text/plain": "HBox(children=(Button(description='Prev', style=ButtonStyle()), Button(description='Next', style=ButtonStyle()…",
      "application/vnd.jupyter.widget-view+json": {
       "version_major": 2,
       "version_minor": 0,
       "model_id": "b8a4fc25f1384c9582fb58c6bac64a72"
      }
     },
     "metadata": {},
     "output_type": "display_data"
    },
    {
     "data": {
      "text/plain": "interactive(children=(IntSlider(value=0, description='step', max=18), Output()), _dom_classes=('widget-interac…",
      "application/vnd.jupyter.widget-view+json": {
       "version_major": 2,
       "version_minor": 0,
       "model_id": "deb013b961a0461b82ad83d9a1ea5368"
      }
     },
     "metadata": {},
     "output_type": "display_data"
    },
    {
     "data": {
      "text/plain": "29.080475686681318"
     },
     "execution_count": 34,
     "metadata": {},
     "output_type": "execute_result"
    }
   ],
   "source": [
    "a, b, c, d = 1, 1, 9, -4\n",
    "task3_bisection(a,b,c,d,eps=eps,visual=True)"
   ],
   "metadata": {
    "collapsed": false,
    "pycharm": {
     "name": "#%%\n"
    }
   }
  },
  {
   "cell_type": "code",
   "execution_count": 35,
   "outputs": [
    {
     "data": {
      "text/plain": "HBox(children=(Button(description='Prev', style=ButtonStyle()), Button(description='Next', style=ButtonStyle()…",
      "application/vnd.jupyter.widget-view+json": {
       "version_major": 2,
       "version_minor": 0,
       "model_id": "38e09740624d44e1a3e0ec84be8ca888"
      }
     },
     "metadata": {},
     "output_type": "display_data"
    },
    {
     "data": {
      "text/plain": "interactive(children=(IntSlider(value=0, description='step', max=4), Output()), _dom_classes=('widget-interact…",
      "application/vnd.jupyter.widget-view+json": {
       "version_major": 2,
       "version_minor": 0,
       "model_id": "bcccb91a2bcd443b8669629fe0939552"
      }
     },
     "metadata": {},
     "output_type": "display_data"
    },
    {
     "data": {
      "text/plain": "HBox(children=(Button(description='Prev', style=ButtonStyle()), Button(description='Next', style=ButtonStyle()…",
      "application/vnd.jupyter.widget-view+json": {
       "version_major": 2,
       "version_minor": 0,
       "model_id": "e858e750e009418fa3997fdf936ce892"
      }
     },
     "metadata": {},
     "output_type": "display_data"
    },
    {
     "data": {
      "text/plain": "interactive(children=(IntSlider(value=0, description='step', max=4), Output()), _dom_classes=('widget-interact…",
      "application/vnd.jupyter.widget-view+json": {
       "version_major": 2,
       "version_minor": 0,
       "model_id": "47bac897f32448d58afb412d5771fe1b"
      }
     },
     "metadata": {},
     "output_type": "display_data"
    },
    {
     "data": {
      "text/plain": "29.080475686125236"
     },
     "execution_count": 35,
     "metadata": {},
     "output_type": "execute_result"
    }
   ],
   "source": [
    "task3_newton(a,b,c,d,eps=eps,visual=True)"
   ],
   "metadata": {
    "collapsed": false,
    "pycharm": {
     "name": "#%%\n"
    }
   }
  },
  {
   "cell_type": "code",
   "execution_count": 36,
   "outputs": [
    {
     "data": {
      "text/plain": "HBox(children=(Button(description='Prev', style=ButtonStyle()), Button(description='Next', style=ButtonStyle()…",
      "application/vnd.jupyter.widget-view+json": {
       "version_major": 2,
       "version_minor": 0,
       "model_id": "7fb090ae02fe4b2d8b5643ae124ca6d3"
      }
     },
     "metadata": {},
     "output_type": "display_data"
    },
    {
     "data": {
      "text/plain": "interactive(children=(IntSlider(value=0, description='step', max=32), Output()), _dom_classes=('widget-interac…",
      "application/vnd.jupyter.widget-view+json": {
       "version_major": 2,
       "version_minor": 0,
       "model_id": "ecd16dec699e47139261309bc59060d9"
      }
     },
     "metadata": {},
     "output_type": "display_data"
    },
    {
     "data": {
      "text/plain": "29.080475686131575"
     },
     "execution_count": 36,
     "metadata": {},
     "output_type": "execute_result"
    }
   ],
   "source": [
    "task3_ternary(a,b,c,d,eps=eps,visual=True)"
   ],
   "metadata": {
    "collapsed": false,
    "pycharm": {
     "name": "#%%\n"
    }
   }
  },
  {
   "cell_type": "code",
   "execution_count": 36,
   "outputs": [],
   "source": [],
   "metadata": {
    "collapsed": false,
    "pycharm": {
     "name": "#%%\n"
    }
   }
  }
 ],
 "metadata": {
  "kernelspec": {
   "display_name": "Python 3",
   "language": "python",
   "name": "python3"
  },
  "language_info": {
   "codemirror_mode": {
    "name": "ipython",
    "version": 2
   },
   "file_extension": ".py",
   "mimetype": "text/x-python",
   "name": "python",
   "nbconvert_exporter": "python",
   "pygments_lexer": "ipython2",
   "version": "2.7.6"
  }
 },
 "nbformat": 4,
 "nbformat_minor": 0
}