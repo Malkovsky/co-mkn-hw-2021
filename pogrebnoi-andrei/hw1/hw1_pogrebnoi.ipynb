{
 "cells": [
  {
   "cell_type": "code",
   "execution_count": 1,
   "metadata": {
    "collapsed": false,
    "jupyter": {
     "outputs_hidden": false
    },
    "pycharm": {
     "name": "#%%\n"
    }
   },
   "outputs": [],
   "source": [
    "from typing import List, Callable\n",
    "from interactive_visualization.animation_utils import animate_list\n",
    "import matplotlib.pyplot as plt\n",
    "import autograd.numpy as np\n",
    "from autograd import grad\n"
   ]
  },
  {
   "cell_type": "markdown",
   "metadata": {},
   "source": [
    "# Методы\n"
   ]
  },
  {
   "cell_type": "code",
   "execution_count": 2,
   "metadata": {
    "collapsed": false,
    "jupyter": {
     "outputs_hidden": false
    },
    "pycharm": {
     "name": "#%%\n"
    }
   },
   "outputs": [],
   "source": [
    "# malkovsky: лайк за typing\n",
    "def ternary_search(fun: Callable[[float], float],\n",
    "                   left: float,\n",
    "                   right: float,\n",
    "                   eps: float) -> (float, List[float]):\n",
    "    \"\"\"\n",
    "    Вычисляет минимум функции fun на отрезке [left, right]\n",
    "\n",
    "    args:\n",
    "        fun: функция\n",
    "        left, right: границы отрезка, где искать корень\n",
    "        eps: погрешность для остановки\n",
    "\n",
    "    Returns:\n",
    "        (ответ, последовательность приближений)\n",
    "    \"\"\"\n",
    "    assert (left <= right)\n",
    "    assert (eps > 0)\n",
    "    states = []\n",
    "    while right - left >= eps:\n",
    "        change = (right - left) / 3\n",
    "        x1, x2 = left + change, left + 2 * change\n",
    "        if fun(x1) >= fun(x2):\n",
    "            states.append(left)\n",
    "            left = x1\n",
    "        else:\n",
    "            states.append(right)\n",
    "            right = x2\n",
    "    return (right + left) / 2, states"
   ]
  },
  {
   "cell_type": "code",
   "execution_count": 3,
   "metadata": {
    "collapsed": false,
    "jupyter": {
     "outputs_hidden": false
    },
    "pycharm": {
     "name": "#%%\n"
    }
   },
   "outputs": [],
   "source": [
    "def root_bisection(fun: Callable[[float], float],\n",
    "                   left: float,\n",
    "                   right: float,\n",
    "                   eps: float) -> (float, List[float]):\n",
    "    \"\"\"\n",
    "    Находит корень функции fun на отрезке [left, right]\n",
    "\n",
    "    args:\n",
    "        fun: функция\n",
    "        left, right: границы отрезка, где искать корень\n",
    "        eps: точность для нахождения корня\n",
    "\n",
    "    Returns:\n",
    "        (ответ, последовательность приближений)\n",
    "    \"\"\"\n",
    "    assert (left <= right)\n",
    "    assert (eps > 0)\n",
    "    assert (fun(left) * fun(right) <= 0)\n",
    "    if fun(left) == 0:\n",
    "        return left, [left]\n",
    "    if fun(right) == 0:\n",
    "        return right, [right]\n",
    "    states = []\n",
    "    mid = left\n",
    "    while right - left >= eps:\n",
    "        mid = (left + right) / 2\n",
    "        if fun(mid) * fun(right) > 0:\n",
    "            states.append(right)\n",
    "            right = mid\n",
    "        else:\n",
    "            states.append(left)\n",
    "            left = mid\n",
    "    states.append(mid)\n",
    "    return mid, states"
   ]
  },
  {
   "cell_type": "code",
   "execution_count": 4,
   "metadata": {
    "collapsed": false,
    "jupyter": {
     "outputs_hidden": false
    },
    "pycharm": {
     "name": "#%%\n"
    }
   },
   "outputs": [],
   "source": [
    "def method_newton(fun: Callable[[float], float],\n",
    "                  df: Callable[[float], float],\n",
    "                  x: float,\n",
    "                  eps: float = 0.1,\n",
    "                  iters: int = 100) -> (float, List[float]):\n",
    "    \"\"\"\n",
    "    Находит корень функции fun на за iters шагов (или раньше, если получилась нужная точность)\n",
    "\n",
    "    args:\n",
    "        fun: функция\n",
    "        dfun = дифференциал fun\n",
    "        x: начальное приближение\n",
    "        eps: точность для нахождения корня\n",
    "        iters: число итераций\n",
    "\n",
    "    Returns:\n",
    "        (ответ, последовательность приближений)\n",
    "    \"\"\"\n",
    "    assert (eps > 0)\n",
    "    states = []\n",
    "    for _ in range(iters):\n",
    "        dfu = df(x) if df(x) != 0 else -fun(x)  # если 0 - двигаем x на 1 вправо\n",
    "        x_new = x - fun(x) / dfu\n",
    "        states.append(x)\n",
    "        if abs(x - x_new) < eps:\n",
    "            x = x_new\n",
    "            break\n",
    "        x = x_new\n",
    "    states.append(x)\n",
    "    return x, states"
   ]
  },
  {
   "cell_type": "markdown",
   "metadata": {},
   "source": [
    "# Вспомогательные функции"
   ]
  },
  {
   "cell_type": "code",
   "execution_count": 5,
   "metadata": {
    "collapsed": false,
    "jupyter": {
     "outputs_hidden": false
    },
    "pycharm": {
     "name": "#%%\n"
    }
   },
   "outputs": [],
   "source": [
    "def do_picture(f, points, lines, left, right):\n",
    "    fig = plt.figure(figsize=(7, 7))\n",
    "    ax = fig.add_axes([0, 0, 1, 1])\n",
    "    ax.tick_params(\n",
    "        labelsize = 15,\n",
    "        labelcolor = 'b',\n",
    "    )\n",
    "    y_min = min(f(left), f(right), -10)\n",
    "    y_max = max(f(left), f(right), 10)\n",
    "    delta = (right - left) / 100\n",
    "    r = np.arange(left, right + delta, delta)\n",
    "\n",
    "    ax.plot(r, [f(x) for x in r])\n",
    "    ax.plot([left, left], [y_min, y_max], color='black')\n",
    "    ax.plot([right, right], [y_min, y_max], color='black')\n",
    "    ax.plot([left, right], [0, 0], color='black', linestyle='--')\n",
    "\n",
    "    ax.scatter(points, list(map(f, points)), color='black')\n",
    "    for pair in lines:\n",
    "        ax.plot(pair, list(map(f, pair)), color='grey', linestyle='--')\n",
    "\n",
    "    plt.close(fig)\n",
    "    return fig"
   ]
  },
  {
   "cell_type": "code",
   "execution_count": 6,
   "metadata": {
    "collapsed": false,
    "jupyter": {
     "outputs_hidden": false
    },
    "pycharm": {
     "name": "#%%\n"
    }
   },
   "outputs": [],
   "source": [
    "def draw(fun, states, left, right, metod):\n",
    "    def update_states_for_bisection():\n",
    "        points = []\n",
    "        lines = []\n",
    "        l = left\n",
    "        r = right\n",
    "        for st in states:\n",
    "            m = (l + r) / 2\n",
    "            points.append([l,m,r])\n",
    "            if st == l:\n",
    "                lines.append([[l,m]])\n",
    "                l = m\n",
    "            else:\n",
    "                lines.append([[r,m]])\n",
    "                r = m\n",
    "        return points, lines\n",
    "\n",
    "    def update_states_for_newton():\n",
    "        points = []\n",
    "        lines = []\n",
    "        for i, st in enumerate(states[1:]):\n",
    "            points.append([states[i], st])\n",
    "            lines.append([[states[i], st]])\n",
    "        return points, lines\n",
    "\n",
    "    def update_states_for_roots_extrs():\n",
    "        return states, [[[]], [[]]]\n",
    "\n",
    "    def update_states_for_ternary():\n",
    "        points = []\n",
    "        lines = []\n",
    "        l = left\n",
    "        r = right\n",
    "        for st in states:\n",
    "            ch = (r - l) / 3\n",
    "            points.append([l, l + ch, l + 2 * ch, r])\n",
    "            if st - l < r - st:\n",
    "                lines.append([[l, l + ch]])\n",
    "                l = l + ch\n",
    "            else:\n",
    "                lines.append([[r, r - ch]])\n",
    "                r = r - ch\n",
    "        return points, lines\n",
    "\n",
    "\n",
    "    def update_states():\n",
    "        if metod == \"bisection\":\n",
    "            return update_states_for_bisection()\n",
    "        elif metod == \"newton\":\n",
    "            return update_states_for_newton()\n",
    "        elif metod == \"roots_extrs\":\n",
    "            return update_states_for_roots_extrs()\n",
    "        elif metod == \"ternary\":\n",
    "            return update_states_for_ternary()\n",
    "        else:\n",
    "            raise Exception(f\"нет рисования для метода {metod}\")\n",
    "\n",
    "    if len(states) == 0:\n",
    "        print(\"нет состояний\")\n",
    "    else:\n",
    "        points, lines = update_states()\n",
    "        pictures = []\n",
    "        for i, p in enumerate(points):\n",
    "            pictures.append(do_picture(fun, p, lines[i], left, right))\n",
    "        animate_list(pictures)"
   ]
  },
  {
   "cell_type": "code",
   "execution_count": 7,
   "metadata": {
    "collapsed": false,
    "jupyter": {
     "outputs_hidden": false
    },
    "pycharm": {
     "name": "#%%\n"
    }
   },
   "outputs": [],
   "source": [
    "def dfun(fun, is_polinomial=False):\n",
    "    if is_polinomial:\n",
    "        return np.polyder(fun)\n",
    "    else:\n",
    "        df = grad(fun)\n",
    "        return lambda x: df(np.array([x], float))[0]\n",
    "        # h = 1e-8\n",
    "        # return lambda x: (fun(x+h) - fun(x-h))/(2 * h)  # symmetric difference, working only for 1 dif"
   ]
  },
  {
   "cell_type": "code",
   "execution_count": 8,
   "metadata": {
    "collapsed": false,
    "jupyter": {
     "outputs_hidden": false
    },
    "pycharm": {
     "name": "#%%\n"
    }
   },
   "outputs": [],
   "source": [
    "def find_left_right(fun):\n",
    "    left, right = -1, 1\n",
    "    while fun(left) > 0:\n",
    "        left *= 2\n",
    "    while fun(right) < 0:\n",
    "        right *= 2\n",
    "    return left, right"
   ]
  },
  {
   "cell_type": "code",
   "execution_count": 9,
   "metadata": {
    "collapsed": false,
    "jupyter": {
     "outputs_hidden": false
    },
    "pycharm": {
     "name": "#%%\n"
    }
   },
   "outputs": [],
   "source": [
    "EPS = 0.05"
   ]
  },
  {
   "cell_type": "markdown",
   "metadata": {},
   "source": [
    "# Task 1\n",
    "\n",
    "1) Вычислить $\\sqrt[k]{a}$ ($k \\in \\mathbb{N}, a \\in \\mathbb{R}$)\n",
    "\n",
    "1б С помощью метода бисекции.\n",
    "\n",
    "2б C помощью метода Ньютона."
   ]
  },
  {
   "cell_type": "markdown",
   "metadata": {},
   "source": [
    "Если $k\\mod2=0$, то ответ больше 0 (корень чётной степени) - ограничение слева. Для произвольной ситуации: возьмём слева и справа максимум из $a$ по модулю (в случае, $a > 1$ корень сжимает к 0) и 1 (для $a < 1$ корень прижимает к 1). Сделали границу для объединения случаев\n",
    "\n",
    "Начальное приближение можно взять 0. Корень либо прижимается снизу к 1 по модулю (около 0), либо стремится к 1 сверху (если не учитывать знак 0 - оптимальный)"
   ]
  },
  {
   "cell_type": "code",
   "execution_count": 10,
   "metadata": {
    "collapsed": false,
    "jupyter": {
     "outputs_hidden": false
    },
    "pycharm": {
     "name": "#%%\n"
    }
   },
   "outputs": [],
   "source": [
    "def task1_bisection(k: int, a: float, visual=False):\n",
    "    fun = lambda x: pow(x, k) - a\n",
    "    gran = max(1., abs(a))\n",
    "    left, right = (-gran if k % 2 != 0 else 0), gran\n",
    "    ans, states = root_bisection(fun, left, right, EPS)\n",
    "    if visual:\n",
    "        draw(fun, states, left, right, \"bisection\")\n",
    "    return ans if k % 2 != 0 else abs(ans)"
   ]
  },
  {
   "cell_type": "code",
   "execution_count": 11,
   "metadata": {
    "collapsed": false,
    "jupyter": {
     "outputs_hidden": false
    },
    "pycharm": {
     "name": "#%%\n"
    }
   },
   "outputs": [],
   "source": [
    "def task1_newton(k: int, a: float, visual=False):\n",
    "    fun = lambda x: pow(x, k) - a\n",
    "    ans, states = method_newton(fun, dfun(fun), 0, EPS)\n",
    "    if visual:\n",
    "        gran = max(1., abs(a))\n",
    "        left, right = (-gran if k % 2 != 0 else 0), gran\n",
    "        draw(fun, states, left, right, \"newton\")\n",
    "    return ans if k % 2 != 0 else abs(ans)"
   ]
  },
  {
   "cell_type": "code",
   "execution_count": 12,
   "metadata": {
    "collapsed": false,
    "jupyter": {
     "outputs_hidden": false
    },
    "pycharm": {
     "name": "#%%\n"
    }
   },
   "outputs": [
    {
     "data": {
      "application/vnd.jupyter.widget-view+json": {
       "model_id": "3f15ad5e3f7b434f8a2d276f41035139",
       "version_major": 2,
       "version_minor": 0
      },
      "text/plain": [
       "HBox(children=(Button(description='Prev', style=ButtonStyle()), Button(description='Next', style=ButtonStyle()…"
      ]
     },
     "metadata": {},
     "output_type": "display_data"
    },
    {
     "data": {
      "application/vnd.jupyter.widget-view+json": {
       "model_id": "9e211eae39804c679c780055ae3a3298",
       "version_major": 2,
       "version_minor": 0
      },
      "text/plain": [
       "interactive(children=(IntSlider(value=0, description='step', max=9), Output()), _dom_classes=('widget-interact…"
      ]
     },
     "metadata": {},
     "output_type": "display_data"
    },
    {
     "name": "stdout",
     "output_type": "stream",
     "text": [
      "5.029296875\n"
     ]
    },
    {
     "data": {
      "application/vnd.jupyter.widget-view+json": {
       "model_id": "91fb6f58de6642019c8be28bdefa41c5",
       "version_major": 2,
       "version_minor": 0
      },
      "text/plain": [
       "HBox(children=(Button(description='Prev', style=ButtonStyle()), Button(description='Next', style=ButtonStyle()…"
      ]
     },
     "metadata": {},
     "output_type": "display_data"
    },
    {
     "data": {
      "application/vnd.jupyter.widget-view+json": {
       "model_id": "2366320682f44adb90c656d8ae12a0ea",
       "version_major": 2,
       "version_minor": 0
      },
      "text/plain": [
       "interactive(children=(IntSlider(value=0, description='step', max=5), Output()), _dom_classes=('widget-interact…"
      ]
     },
     "metadata": {},
     "output_type": "display_data"
    },
    {
     "name": "stdout",
     "output_type": "stream",
     "text": [
      "5.000023178253949\n"
     ]
    }
   ],
   "source": [
    "print(task1_bisection(2, 25, visual=True))\n",
    "print(task1_newton(2, 25, visual=True))"
   ]
  },
  {
   "cell_type": "code",
   "execution_count": 13,
   "metadata": {
    "collapsed": false,
    "jupyter": {
     "outputs_hidden": false
    },
    "pycharm": {
     "name": "#%%\n"
    }
   },
   "outputs": [
    {
     "data": {
      "application/vnd.jupyter.widget-view+json": {
       "model_id": "583dc2b010b4481fabb3827a0562dee3",
       "version_major": 2,
       "version_minor": 0
      },
      "text/plain": [
       "HBox(children=(Button(description='Prev', style=ButtonStyle()), Button(description='Next', style=ButtonStyle()…"
      ]
     },
     "metadata": {},
     "output_type": "display_data"
    },
    {
     "data": {
      "application/vnd.jupyter.widget-view+json": {
       "model_id": "cb0e4399bb884666a2e23b59d2fc5fcc",
       "version_major": 2,
       "version_minor": 0
      },
      "text/plain": [
       "interactive(children=(IntSlider(value=0, description='step', max=16), Output()), _dom_classes=('widget-interac…"
      ]
     },
     "metadata": {},
     "output_type": "display_data"
    },
    {
     "name": "stdout",
     "output_type": "stream",
     "text": [
      "1.92059326171875\n"
     ]
    },
    {
     "data": {
      "application/vnd.jupyter.widget-view+json": {
       "model_id": "d08f1ff3b90145118a9dc77c2827ca17",
       "version_major": 2,
       "version_minor": 0
      },
      "text/plain": [
       "HBox(children=(Button(description='Prev', style=ButtonStyle()), Button(description='Next', style=ButtonStyle()…"
      ]
     },
     "metadata": {},
     "output_type": "display_data"
    },
    {
     "data": {
      "application/vnd.jupyter.widget-view+json": {
       "model_id": "6e5f99545b6e4e27a668bc5286aaf52f",
       "version_major": 2,
       "version_minor": 0
      },
      "text/plain": [
       "interactive(children=(IntSlider(value=0, description='step', max=46), Output()), _dom_classes=('widget-interac…"
      ]
     },
     "metadata": {},
     "output_type": "display_data"
    },
    {
     "name": "stdout",
     "output_type": "stream",
     "text": [
      "1.910334201101316\n"
     ]
    }
   ],
   "source": [
    "print(task1_bisection(11, 1234, visual=True))\n",
    "print(task1_newton(11, 1234, visual=True))\n"
   ]
  },
  {
   "cell_type": "code",
   "execution_count": 14,
   "metadata": {
    "collapsed": false,
    "jupyter": {
     "outputs_hidden": false
    },
    "pycharm": {
     "name": "#%%\n"
    }
   },
   "outputs": [
    {
     "data": {
      "application/vnd.jupyter.widget-view+json": {
       "model_id": "6ac6134075ec4d09a092d1e1a4c61397",
       "version_major": 2,
       "version_minor": 0
      },
      "text/plain": [
       "HBox(children=(Button(description='Prev', style=ButtonStyle()), Button(description='Next', style=ButtonStyle()…"
      ]
     },
     "metadata": {},
     "output_type": "display_data"
    },
    {
     "data": {
      "application/vnd.jupyter.widget-view+json": {
       "model_id": "e13f3f8ff80646d2b93e9b3f08a29169",
       "version_major": 2,
       "version_minor": 0
      },
      "text/plain": [
       "interactive(children=(IntSlider(value=0, description='step', max=26), Output()), _dom_classes=('widget-interac…"
      ]
     },
     "metadata": {},
     "output_type": "display_data"
    },
    {
     "name": "stdout",
     "output_type": "stream",
     "text": [
      "15.805910229682922\n"
     ]
    },
    {
     "data": {
      "application/vnd.jupyter.widget-view+json": {
       "model_id": "7316e8c84bb4406b9268d465e398fd04",
       "version_major": 2,
       "version_minor": 0
      },
      "text/plain": [
       "HBox(children=(Button(description='Prev', style=ButtonStyle()), Button(description='Next', style=ButtonStyle()…"
      ]
     },
     "metadata": {},
     "output_type": "display_data"
    },
    {
     "data": {
      "application/vnd.jupyter.widget-view+json": {
       "model_id": "46368bef23994d7092bc19e10994de62",
       "version_major": 2,
       "version_minor": 0
      },
      "text/plain": [
       "interactive(children=(IntSlider(value=0, description='step', max=46), Output()), _dom_classes=('widget-interac…"
      ]
     },
     "metadata": {},
     "output_type": "display_data"
    },
    {
     "name": "stdout",
     "output_type": "stream",
     "text": [
      "15.821509366405662\n"
     ]
    }
   ],
   "source": [
    "print(task1_bisection(5, 991324, visual=True))\n",
    "print(task1_newton(5, 991324, visual=True))"
   ]
  },
  {
   "cell_type": "code",
   "execution_count": 15,
   "metadata": {
    "collapsed": false,
    "jupyter": {
     "outputs_hidden": false
    },
    "pycharm": {
     "name": "#%%\n"
    }
   },
   "outputs": [
    {
     "data": {
      "application/vnd.jupyter.widget-view+json": {
       "model_id": "7019bc16f5544f8089b953b269899e18",
       "version_major": 2,
       "version_minor": 0
      },
      "text/plain": [
       "HBox(children=(Button(description='Prev', style=ButtonStyle()), Button(description='Next', style=ButtonStyle()…"
      ]
     },
     "metadata": {},
     "output_type": "display_data"
    },
    {
     "data": {
      "application/vnd.jupyter.widget-view+json": {
       "model_id": "742922f68b8a4446be7eec424c1fabe6",
       "version_major": 2,
       "version_minor": 0
      },
      "text/plain": [
       "interactive(children=(IntSlider(value=0, description='step', max=13), Output()), _dom_classes=('widget-interac…"
      ]
     },
     "metadata": {},
     "output_type": "display_data"
    },
    {
     "name": "stdout",
     "output_type": "stream",
     "text": [
      "-4.974365234375\n"
     ]
    },
    {
     "data": {
      "application/vnd.jupyter.widget-view+json": {
       "model_id": "870f4ee592ac4275bced53d9d1831b87",
       "version_major": 2,
       "version_minor": 0
      },
      "text/plain": [
       "HBox(children=(Button(description='Prev', style=ButtonStyle()), Button(description='Next', style=ButtonStyle()…"
      ]
     },
     "metadata": {},
     "output_type": "display_data"
    },
    {
     "data": {
      "application/vnd.jupyter.widget-view+json": {
       "model_id": "e1695384148f4d959614326c0967903b",
       "version_major": 2,
       "version_minor": 0
      },
      "text/plain": [
       "interactive(children=(IntSlider(value=0, description='step', max=9), Output()), _dom_classes=('widget-interact…"
      ]
     },
     "metadata": {},
     "output_type": "display_data"
    },
    {
     "name": "stdout",
     "output_type": "stream",
     "text": [
      "-5.000019538894343\n"
     ]
    }
   ],
   "source": [
    "print(task1_bisection(3, -125, visual=True))\n",
    "print(task1_newton(3, -125, visual=True))"
   ]
  },
  {
   "cell_type": "code",
   "execution_count": 16,
   "metadata": {
    "collapsed": false,
    "jupyter": {
     "outputs_hidden": false
    },
    "pycharm": {
     "name": "#%%\n"
    }
   },
   "outputs": [
    {
     "data": {
      "application/vnd.jupyter.widget-view+json": {
       "model_id": "e002305e9f4b436e9f84168bf7126609",
       "version_major": 2,
       "version_minor": 0
      },
      "text/plain": [
       "HBox(children=(Button(description='Prev', style=ButtonStyle()), Button(description='Next', style=ButtonStyle()…"
      ]
     },
     "metadata": {},
     "output_type": "display_data"
    },
    {
     "data": {
      "application/vnd.jupyter.widget-view+json": {
       "model_id": "1e5c9988bbea4ea7bcbe7e3931684f23",
       "version_major": 2,
       "version_minor": 0
      },
      "text/plain": [
       "interactive(children=(IntSlider(value=0, description='step', max=0), Output()), _dom_classes=('widget-interact…"
      ]
     },
     "metadata": {},
     "output_type": "display_data"
    },
    {
     "name": "stdout",
     "output_type": "stream",
     "text": [
      "8\n"
     ]
    },
    {
     "data": {
      "application/vnd.jupyter.widget-view+json": {
       "model_id": "94d2fe0e7049401e995992c439dbab2b",
       "version_major": 2,
       "version_minor": 0
      },
      "text/plain": [
       "HBox(children=(Button(description='Prev', style=ButtonStyle()), Button(description='Next', style=ButtonStyle()…"
      ]
     },
     "metadata": {},
     "output_type": "display_data"
    },
    {
     "data": {
      "application/vnd.jupyter.widget-view+json": {
       "model_id": "01b6eb5506ab4877a31fd6c384cbb3b7",
       "version_major": 2,
       "version_minor": 0
      },
      "text/plain": [
       "interactive(children=(IntSlider(value=0, description='step', max=1), Output()), _dom_classes=('widget-interact…"
      ]
     },
     "metadata": {},
     "output_type": "display_data"
    },
    {
     "name": "stdout",
     "output_type": "stream",
     "text": [
      "8.0\n"
     ]
    }
   ],
   "source": [
    "print(task1_bisection(1, 8, visual=True))\n",
    "print(task1_newton(1, 8, visual=True))"
   ]
  },
  {
   "cell_type": "markdown",
   "metadata": {},
   "source": [
    "# Task 2\n",
    "\n",
    "2) Дан многочлен $P$ степени не больше $5$ и отрезок $[L; R]$, пара.\n",
    "\n",
    "2б Локализовать корни $P$, т.е. найти непересекающиеся отрезки $[L_1; R_1] \\ldots [L_m; R_m]$ такие, что $P(L_i) P (R_i) < 0$.\n",
    "\n",
    "1б Для каждого $[L_i; R_i]$ найти соответствующий корень.\n",
    "\n",
    "2б Найти глобальный минимум $P$ на отрезке $[L; R]$."
   ]
  },
  {
   "cell_type": "markdown",
   "metadata": {},
   "source": [
    "Используем честные производные для многочлена.\n",
    "\n",
    "На каждой итерации 0 переходят в экстремумы, смотрим на всё только в нужном промежутке"
   ]
  },
  {
   "cell_type": "code",
   "execution_count": 17,
   "metadata": {
    "collapsed": false,
    "jupyter": {
     "outputs_hidden": false
    },
    "pycharm": {
     "name": "#%%\n"
    }
   },
   "outputs": [],
   "source": [
    "def task2(polynom: np.poly1d, left: float, right: float):\n",
    "    def find_correct_lrs(extrs):\n",
    "        lrs = []\n",
    "        last = extrs[0]\n",
    "        for ext in extrs:\n",
    "            if polynom(last) * polynom(ext) <= 0 \\\n",
    "                    or abs(polynom(ext)) < EPS:  # считаем, что кратный корень\n",
    "                lrs.append((last, ext))\n",
    "                last = ext\n",
    "        return lrs\n",
    "\n",
    "    deg = len(polynom)\n",
    "    eps = 0.0001\n",
    "    dfuns = [polynom]\n",
    "    for _ in range(deg-1):\n",
    "        dfuns.append(dfun(dfuns[-1], is_polinomial=True))\n",
    "    lrs = [(left, right)]\n",
    "    extrs = []\n",
    "    roots = []\n",
    "    for i, f in enumerate(reversed(dfuns)):\n",
    "        extrs = roots\n",
    "        roots = []\n",
    "        for (l, r) in lrs:\n",
    "            if f(l) * f(r) <= 0:  # иначе игнорируем, нас интересуют экстремумы только в [L; R]\n",
    "                root, _ = root_bisection(f, l, r, eps)\n",
    "                roots.append(root)\n",
    "            elif abs(f(r)) < EPS:  # для кратных корней\n",
    "                roots.append(r)\n",
    "        if i != deg - 1:  # не обновляем lrs в последний раз\n",
    "            new_lrs = [left] + roots + [right]\n",
    "            lrs = []\n",
    "            for j, ext in enumerate(new_lrs[1:]):\n",
    "                lrs.append((new_lrs[j], ext))\n",
    "    extrs = [left] + extrs + [right]\n",
    "    minimum = min(map(lambda x: f(x), extrs))\n",
    "    draw(polynom, [roots, extrs], left, right, \"roots_extrs\")\n",
    "    return {\"lrs\" : find_correct_lrs(extrs), \"roots\" : roots, \"minimum\" : minimum}"
   ]
  },
  {
   "cell_type": "code",
   "execution_count": 18,
   "metadata": {
    "collapsed": false,
    "jupyter": {
     "outputs_hidden": false
    },
    "pycharm": {
     "name": "#%%\n"
    }
   },
   "outputs": [
    {
     "data": {
      "application/vnd.jupyter.widget-view+json": {
       "model_id": "140e1b2b6bff4113a9e4e4d29e946383",
       "version_major": 2,
       "version_minor": 0
      },
      "text/plain": [
       "HBox(children=(Button(description='Prev', style=ButtonStyle()), Button(description='Next', style=ButtonStyle()…"
      ]
     },
     "metadata": {},
     "output_type": "display_data"
    },
    {
     "data": {
      "application/vnd.jupyter.widget-view+json": {
       "model_id": "a14a0a8d7e364a53bae418a1e0e8452a",
       "version_major": 2,
       "version_minor": 0
      },
      "text/plain": [
       "interactive(children=(IntSlider(value=0, description='step', max=1), Output()), _dom_classes=('widget-interact…"
      ]
     },
     "metadata": {},
     "output_type": "display_data"
    },
    {
     "data": {
      "text/plain": [
       "{'lrs': [(-5, -0.4999542236328125), (-0.4999542236328125, 5)],\n",
       " 'roots': [-1.9999465940054506, 0.9999951452482492],\n",
       " 'minimum': -2.249999997904524}"
      ]
     },
     "execution_count": 18,
     "metadata": {},
     "output_type": "execute_result"
    }
   ],
   "source": [
    "# x**2 + x - 2\n",
    "fun = np.poly1d([1, 1, -2])\n",
    "task2(fun, -5, 5)"
   ]
  },
  {
   "cell_type": "code",
   "execution_count": 19,
   "metadata": {
    "collapsed": false,
    "jupyter": {
     "outputs_hidden": false
    },
    "pycharm": {
     "name": "#%%\n"
    }
   },
   "outputs": [
    {
     "data": {
      "application/vnd.jupyter.widget-view+json": {
       "model_id": "94658c9e871147aabc4ddc1a329e4410",
       "version_major": 2,
       "version_minor": 0
      },
      "text/plain": [
       "HBox(children=(Button(description='Prev', style=ButtonStyle()), Button(description='Next', style=ButtonStyle()…"
      ]
     },
     "metadata": {},
     "output_type": "display_data"
    },
    {
     "data": {
      "application/vnd.jupyter.widget-view+json": {
       "model_id": "e9e178e2488a4d8bbde2eae621e035b6",
       "version_major": 2,
       "version_minor": 0
      },
      "text/plain": [
       "interactive(children=(IntSlider(value=0, description='step', max=1), Output()), _dom_classes=('widget-interact…"
      ]
     },
     "metadata": {},
     "output_type": "display_data"
    },
    {
     "data": {
      "text/plain": [
       "{'lrs': [(-5, -3.3333714806940407),\n",
       "  (-3.3333714806940407, -3.1788949854671955e-05),\n",
       "  (-3.1788949854671955e-05, 5)],\n",
       " 'roots': [-4.507915316031337, -1.7556605447471885, 1.2634802724636973],\n",
       " 'minimum': -10}"
      ]
     },
     "execution_count": 19,
     "metadata": {},
     "output_type": "execute_result"
    }
   ],
   "source": [
    "# x**3 + 5 x**2 - 10\n",
    "fun = np.poly1d([1, 5, 0, -10])\n",
    "task2(fun, -5, 5)"
   ]
  },
  {
   "cell_type": "code",
   "execution_count": 20,
   "metadata": {
    "collapsed": false,
    "jupyter": {
     "outputs_hidden": false
    },
    "pycharm": {
     "name": "#%%\n"
    }
   },
   "outputs": [
    {
     "data": {
      "application/vnd.jupyter.widget-view+json": {
       "model_id": "c85de055c67343d8afd6282b3a121c99",
       "version_major": 2,
       "version_minor": 0
      },
      "text/plain": [
       "HBox(children=(Button(description='Prev', style=ButtonStyle()), Button(description='Next', style=ButtonStyle()…"
      ]
     },
     "metadata": {},
     "output_type": "display_data"
    },
    {
     "data": {
      "application/vnd.jupyter.widget-view+json": {
       "model_id": "76284abe8d864313b010d968d0044dcc",
       "version_major": 2,
       "version_minor": 0
      },
      "text/plain": [
       "interactive(children=(IntSlider(value=0, description='step', max=1), Output()), _dom_classes=('widget-interact…"
      ]
     },
     "metadata": {},
     "output_type": "display_data"
    },
    {
     "data": {
      "text/plain": [
       "{'lrs': [(0, 6)], 'roots': [1.263519287109375], 'minimum': -10}"
      ]
     },
     "execution_count": 20,
     "metadata": {},
     "output_type": "execute_result"
    }
   ],
   "source": [
    "task2(fun, 0, 6)"
   ]
  },
  {
   "cell_type": "code",
   "execution_count": 21,
   "metadata": {
    "collapsed": false,
    "jupyter": {
     "outputs_hidden": false
    },
    "pycharm": {
     "name": "#%%\n"
    }
   },
   "outputs": [
    {
     "data": {
      "application/vnd.jupyter.widget-view+json": {
       "model_id": "ff132100569e4453afeb05d188a6ae13",
       "version_major": 2,
       "version_minor": 0
      },
      "text/plain": [
       "HBox(children=(Button(description='Prev', style=ButtonStyle()), Button(description='Next', style=ButtonStyle()…"
      ]
     },
     "metadata": {},
     "output_type": "display_data"
    },
    {
     "data": {
      "application/vnd.jupyter.widget-view+json": {
       "model_id": "fddc40474ff9460aa21980893d2bfd67",
       "version_major": 2,
       "version_minor": 0
      },
      "text/plain": [
       "interactive(children=(IntSlider(value=0, description='step', max=1), Output()), _dom_classes=('widget-interact…"
      ]
     },
     "metadata": {},
     "output_type": "display_data"
    },
    {
     "data": {
      "text/plain": [
       "{'lrs': [(-5, -3.3333714806940407), (-3.3333714806940407, 0)],\n",
       " 'roots': [-4.507915316031337, -1.7556454986437409],\n",
       " 'minimum': -10}"
      ]
     },
     "execution_count": 21,
     "metadata": {},
     "output_type": "execute_result"
    }
   ],
   "source": [
    "task2(fun, -5, 0)"
   ]
  },
  {
   "cell_type": "code",
   "execution_count": 22,
   "metadata": {
    "collapsed": false,
    "jupyter": {
     "outputs_hidden": false
    },
    "pycharm": {
     "name": "#%%\n"
    }
   },
   "outputs": [
    {
     "data": {
      "application/vnd.jupyter.widget-view+json": {
       "model_id": "75dc07f17b994f07b4dc870070065a47",
       "version_major": 2,
       "version_minor": 0
      },
      "text/plain": [
       "HBox(children=(Button(description='Prev', style=ButtonStyle()), Button(description='Next', style=ButtonStyle()…"
      ]
     },
     "metadata": {},
     "output_type": "display_data"
    },
    {
     "data": {
      "application/vnd.jupyter.widget-view+json": {
       "model_id": "c4f51c258ada4b56b3839ef3873b40d2",
       "version_major": 2,
       "version_minor": 0
      },
      "text/plain": [
       "interactive(children=(IntSlider(value=0, description='step', max=1), Output()), _dom_classes=('widget-interact…"
      ]
     },
     "metadata": {},
     "output_type": "display_data"
    },
    {
     "data": {
      "text/plain": [
       "{'lrs': [], 'roots': [], 'minimum': -510}"
      ]
     },
     "execution_count": 22,
     "metadata": {},
     "output_type": "execute_result"
    }
   ],
   "source": [
    "task2(fun, -10, -5)"
   ]
  },
  {
   "cell_type": "code",
   "execution_count": 23,
   "metadata": {
    "collapsed": false,
    "jupyter": {
     "outputs_hidden": false
    },
    "pycharm": {
     "name": "#%%\n"
    }
   },
   "outputs": [
    {
     "data": {
      "application/vnd.jupyter.widget-view+json": {
       "model_id": "96c0ad6043c34105a452593d281950fb",
       "version_major": 2,
       "version_minor": 0
      },
      "text/plain": [
       "HBox(children=(Button(description='Prev', style=ButtonStyle()), Button(description='Next', style=ButtonStyle()…"
      ]
     },
     "metadata": {},
     "output_type": "display_data"
    },
    {
     "data": {
      "application/vnd.jupyter.widget-view+json": {
       "model_id": "338fbac5c8cc4a8eae92438255b61c01",
       "version_major": 2,
       "version_minor": 0
      },
      "text/plain": [
       "interactive(children=(IntSlider(value=0, description='step', max=1), Output()), _dom_classes=('widget-interact…"
      ]
     },
     "metadata": {},
     "output_type": "display_data"
    },
    {
     "data": {
      "text/plain": [
       "{'lrs': [(-5, -1.6666412353515625), (-1.6666412353515625, 0)],\n",
       " 'roots': [-3.3333714806940407, 0],\n",
       " 'minimum': -8.333333331393078}"
      ]
     },
     "execution_count": 23,
     "metadata": {},
     "output_type": "execute_result"
    }
   ],
   "source": [
    "fun2 = np.poly1d([3,10,0])\n",
    "task2(fun2, -5, 0)"
   ]
  },
  {
   "cell_type": "code",
   "execution_count": 24,
   "metadata": {
    "collapsed": false,
    "jupyter": {
     "outputs_hidden": false
    },
    "pycharm": {
     "name": "#%%\n"
    }
   },
   "outputs": [
    {
     "data": {
      "application/vnd.jupyter.widget-view+json": {
       "model_id": "65fb1b9cb40a442198e30d9b970c36e0",
       "version_major": 2,
       "version_minor": 0
      },
      "text/plain": [
       "HBox(children=(Button(description='Prev', style=ButtonStyle()), Button(description='Next', style=ButtonStyle()…"
      ]
     },
     "metadata": {},
     "output_type": "display_data"
    },
    {
     "data": {
      "application/vnd.jupyter.widget-view+json": {
       "model_id": "2a047ff659d14920997e39fa20e6947e",
       "version_major": 2,
       "version_minor": 0
      },
      "text/plain": [
       "interactive(children=(IntSlider(value=0, description='step', max=1), Output()), _dom_classes=('widget-interact…"
      ]
     },
     "metadata": {},
     "output_type": "display_data"
    },
    {
     "data": {
      "text/plain": [
       "{'lrs': [(-1.5, -0.7059941310435534),\n",
       "  (-0.7059941310435534, 0.9999693660065532)],\n",
       " 'roots': [-1.2273512561798725, 0.9999693660065532],\n",
       " 'minimum': -32.03125}"
      ]
     },
     "execution_count": 24,
     "metadata": {},
     "output_type": "execute_result"
    }
   ],
   "source": [
    "# 3 x**5 - 6 x**4 + 5 x**3 + 4 x**2 - 14 x + 8\n",
    "fun = np.poly1d([3, -6, 5, 4, -14, 8])\n",
    "task2(fun, -1.5, 1.5)"
   ]
  },
  {
   "cell_type": "markdown",
   "metadata": {},
   "source": [
    "# Task 3\n",
    "\n",
    "3) При $a, b, c > 0$ найти минимум функции $e^{ax} + e^{−bx} + c(x − d)^2$\n",
    "\n",
    "1б С использованием метода бисекции.\n",
    "\n",
    "2б C использованием метода Ньютона.\n",
    "\n",
    "1б С использованием тернарного поиска."
   ]
  },
  {
   "cell_type": "markdown",
   "metadata": {},
   "source": [
    "$(e^{ax} + e^{−bx} + c(x − d)^2)` = a e^{ax} - b e^{-bx} - 2c(d - x)$\n",
    "\n",
    "Линейная комбинация с положительными коэффициентами выпуклых функций выпукла. Экспонента и парабола выпуклы. Значит наша функция тоже выпукла.\n",
    "\n",
    "Производная выпуклой функции одной переменной - неубывающая функция. Наша функция на бесконечностях больше, чем около нуля за счёт экспоненты. Тогда у неё есть единственный экстремум, он соответствует нулю производной.\n",
    "\n",
    "Тогда будем искать 0 производной. Придумаем границы и начальное приближение.\n",
    "\n",
    "Подберём границы, чтобы они соответствовали условиям методов.\n",
    "\n",
    "Для бисекции - подбор по производной функции, для тернарного поиска границы те же - мы знаем, что корень функциии лежит между этими границами, выпуклость есть\n",
    "\n",
    "Для Ньютона возьмём середину из этих границ (не самое худшее приближение)"
   ]
  },
  {
   "cell_type": "code",
   "execution_count": 25,
   "metadata": {
    "collapsed": false,
    "jupyter": {
     "outputs_hidden": false
    },
    "pycharm": {
     "name": "#%%\n"
    }
   },
   "outputs": [],
   "source": [
    "def task3_bisection(a: float, b: float, c: float, d: float, eps=EPS, visual=False):\n",
    "    assert (a > 0 and b > 0 and c > 0)\n",
    "    fun = lambda x: np.exp(a * x) + np.exp(-b * x) + c * np.power((x - d), 2)\n",
    "    df = dfun(fun)\n",
    "    left, right = find_left_right(df)\n",
    "    ans, states = root_bisection(df, left, right, eps)\n",
    "    if visual:\n",
    "        draw(fun, states, left, right, \"bisection\")\n",
    "        draw(df, states, left, right, \"newton\")\n",
    "    return fun(ans)"
   ]
  },
  {
   "cell_type": "code",
   "execution_count": 26,
   "metadata": {
    "collapsed": false,
    "jupyter": {
     "outputs_hidden": false
    },
    "pycharm": {
     "name": "#%%\n"
    }
   },
   "outputs": [],
   "source": [
    "def task3_newton(a: float, b: float, c: float, d: float, eps=EPS, visual=False):\n",
    "    assert (a > 0 and b > 0 and c > 0)\n",
    "    # fun = lambda x: exp(a * x) + exp(-b * x) + c * pow((x - d), 2)\n",
    "    fun = lambda x: np.exp(a * x) + np.exp(-b * x) + c * np.power((x - d), 2)\n",
    "    df = dfun(fun)\n",
    "    left, right = find_left_right(df)\n",
    "    ans, states = method_newton(df, dfun(df), (left + right) / 2, eps, iters=1000)\n",
    "    if visual:\n",
    "        draw(fun, states, left, right, \"newton\")\n",
    "        draw(df, states, left, right, \"newton\")\n",
    "    return fun(ans)"
   ]
  },
  {
   "cell_type": "code",
   "execution_count": 27,
   "metadata": {
    "collapsed": false,
    "jupyter": {
     "outputs_hidden": false
    },
    "pycharm": {
     "name": "#%%\n"
    }
   },
   "outputs": [],
   "source": [
    "def task3_ternary(a: float, b: float, c: float, d: float, eps=EPS, visual=False):\n",
    "    assert (a > 0 and b > 0 and c > 0)\n",
    "    fun = lambda x: np.exp(a * x) + np.exp(-b * x) + c * np.power((x - d), 2)\n",
    "    left, right = find_left_right(dfun(fun))\n",
    "    ans, states = ternary_search(fun, left, right, eps)\n",
    "    if visual:\n",
    "        draw(fun, states, left, right, \"ternary\")\n",
    "    return fun(ans)"
   ]
  },
  {
   "cell_type": "code",
   "execution_count": 28,
   "metadata": {
    "collapsed": false,
    "jupyter": {
     "outputs_hidden": false
    },
    "pycharm": {
     "name": "#%%\n"
    }
   },
   "outputs": [
    {
     "data": {
      "application/vnd.jupyter.widget-view+json": {
       "model_id": "9661dbf8f14140bd892f4e14c8304e6d",
       "version_major": 2,
       "version_minor": 0
      },
      "text/plain": [
       "HBox(children=(Button(description='Prev', style=ButtonStyle()), Button(description='Next', style=ButtonStyle()…"
      ]
     },
     "metadata": {},
     "output_type": "display_data"
    },
    {
     "data": {
      "application/vnd.jupyter.widget-view+json": {
       "model_id": "3c4620b1e07d402e8fd3aee59f628d3e",
       "version_major": 2,
       "version_minor": 0
      },
      "text/plain": [
       "interactive(children=(IntSlider(value=0, description='step', max=19), Output()), _dom_classes=('widget-interac…"
      ]
     },
     "metadata": {},
     "output_type": "display_data"
    },
    {
     "data": {
      "application/vnd.jupyter.widget-view+json": {
       "model_id": "e66dd9409f6c47319763041cfefb028d",
       "version_major": 2,
       "version_minor": 0
      },
      "text/plain": [
       "HBox(children=(Button(description='Prev', style=ButtonStyle()), Button(description='Next', style=ButtonStyle()…"
      ]
     },
     "metadata": {},
     "output_type": "display_data"
    },
    {
     "data": {
      "application/vnd.jupyter.widget-view+json": {
       "model_id": "7c504b0f55ac47218da6f2643d5d90b6",
       "version_major": 2,
       "version_minor": 0
      },
      "text/plain": [
       "interactive(children=(IntSlider(value=0, description='step', max=18), Output()), _dom_classes=('widget-interac…"
      ]
     },
     "metadata": {},
     "output_type": "display_data"
    },
    {
     "data": {
      "text/plain": [
       "18.652352027216903"
      ]
     },
     "execution_count": 28,
     "metadata": {},
     "output_type": "execute_result"
    }
   ],
   "source": [
    "eps = 0.00001\n",
    "\n",
    "a, b, c, d = 1,2,3,4\n",
    "task3_bisection(a,b,c,d,eps=eps,visual=True)"
   ]
  },
  {
   "cell_type": "code",
   "execution_count": 29,
   "metadata": {
    "collapsed": false,
    "jupyter": {
     "outputs_hidden": false
    },
    "pycharm": {
     "name": "#%%\n"
    }
   },
   "outputs": [
    {
     "data": {
      "application/vnd.jupyter.widget-view+json": {
       "model_id": "d9d00c8b860c4cebaff0e3bca6e84c03",
       "version_major": 2,
       "version_minor": 0
      },
      "text/plain": [
       "HBox(children=(Button(description='Prev', style=ButtonStyle()), Button(description='Next', style=ButtonStyle()…"
      ]
     },
     "metadata": {},
     "output_type": "display_data"
    },
    {
     "data": {
      "application/vnd.jupyter.widget-view+json": {
       "model_id": "605a3f5e536b42f88241d3248fbeca0e",
       "version_major": 2,
       "version_minor": 0
      },
      "text/plain": [
       "interactive(children=(IntSlider(value=0, description='step', max=4), Output()), _dom_classes=('widget-interact…"
      ]
     },
     "metadata": {},
     "output_type": "display_data"
    },
    {
     "data": {
      "application/vnd.jupyter.widget-view+json": {
       "model_id": "7a0987a9c4be43549eee2f744f1b42b0",
       "version_major": 2,
       "version_minor": 0
      },
      "text/plain": [
       "HBox(children=(Button(description='Prev', style=ButtonStyle()), Button(description='Next', style=ButtonStyle()…"
      ]
     },
     "metadata": {},
     "output_type": "display_data"
    },
    {
     "data": {
      "application/vnd.jupyter.widget-view+json": {
       "model_id": "1b049629c9a34d9cabadcc3622ae4218",
       "version_major": 2,
       "version_minor": 0
      },
      "text/plain": [
       "interactive(children=(IntSlider(value=0, description='step', max=4), Output()), _dom_classes=('widget-interact…"
      ]
     },
     "metadata": {},
     "output_type": "display_data"
    },
    {
     "data": {
      "text/plain": [
       "18.652352027148623"
      ]
     },
     "execution_count": 29,
     "metadata": {},
     "output_type": "execute_result"
    }
   ],
   "source": [
    "task3_newton(a,b,c,d,eps=eps,visual=True)"
   ]
  },
  {
   "cell_type": "code",
   "execution_count": 30,
   "metadata": {
    "collapsed": false,
    "jupyter": {
     "outputs_hidden": false
    },
    "pycharm": {
     "name": "#%%\n"
    }
   },
   "outputs": [
    {
     "data": {
      "application/vnd.jupyter.widget-view+json": {
       "model_id": "34e8e8a1ac324596b5eadb262f0dfa27",
       "version_major": 2,
       "version_minor": 0
      },
      "text/plain": [
       "HBox(children=(Button(description='Prev', style=ButtonStyle()), Button(description='Next', style=ButtonStyle()…"
      ]
     },
     "metadata": {},
     "output_type": "display_data"
    },
    {
     "data": {
      "application/vnd.jupyter.widget-view+json": {
       "model_id": "1c01ed5c0ffd40188e5abd2dafa0c18d",
       "version_major": 2,
       "version_minor": 0
      },
      "text/plain": [
       "interactive(children=(IntSlider(value=0, description='step', max=32), Output()), _dom_classes=('widget-interac…"
      ]
     },
     "metadata": {},
     "output_type": "display_data"
    },
    {
     "data": {
      "text/plain": [
       "18.652352027149448"
      ]
     },
     "execution_count": 30,
     "metadata": {},
     "output_type": "execute_result"
    }
   ],
   "source": [
    "task3_ternary(a,b,c,d,eps=eps,visual=True)"
   ]
  },
  {
   "cell_type": "code",
   "execution_count": 31,
   "metadata": {
    "collapsed": false,
    "jupyter": {
     "outputs_hidden": false
    },
    "pycharm": {
     "name": "#%%\n"
    }
   },
   "outputs": [
    {
     "data": {
      "application/vnd.jupyter.widget-view+json": {
       "model_id": "a2d21dc2f5474a3cbe67491803e02c2d",
       "version_major": 2,
       "version_minor": 0
      },
      "text/plain": [
       "HBox(children=(Button(description='Prev', style=ButtonStyle()), Button(description='Next', style=ButtonStyle()…"
      ]
     },
     "metadata": {},
     "output_type": "display_data"
    },
    {
     "data": {
      "application/vnd.jupyter.widget-view+json": {
       "model_id": "03954c2576c44b018330a9d0841e0be0",
       "version_major": 2,
       "version_minor": 0
      },
      "text/plain": [
       "interactive(children=(IntSlider(value=0, description='step', max=18), Output()), _dom_classes=('widget-interac…"
      ]
     },
     "metadata": {},
     "output_type": "display_data"
    },
    {
     "data": {
      "application/vnd.jupyter.widget-view+json": {
       "model_id": "30ad1c9db2624ccaad7ba8e8b5c8a19f",
       "version_major": 2,
       "version_minor": 0
      },
      "text/plain": [
       "HBox(children=(Button(description='Prev', style=ButtonStyle()), Button(description='Next', style=ButtonStyle()…"
      ]
     },
     "metadata": {},
     "output_type": "display_data"
    },
    {
     "data": {
      "application/vnd.jupyter.widget-view+json": {
       "model_id": "d1650cb96eb04d84a8b29bd598a8081d",
       "version_major": 2,
       "version_minor": 0
      },
      "text/plain": [
       "interactive(children=(IntSlider(value=0, description='step', max=17), Output()), _dom_classes=('widget-interac…"
      ]
     },
     "metadata": {},
     "output_type": "display_data"
    },
    {
     "data": {
      "text/plain": [
       "457.82394277270333"
      ]
     },
     "execution_count": 31,
     "metadata": {},
     "output_type": "execute_result"
    }
   ],
   "source": [
    "a, b, c, d = 5, 10, 23, 5\n",
    "task3_bisection(a,b,c,d,eps=eps,visual=True)"
   ]
  },
  {
   "cell_type": "code",
   "execution_count": 32,
   "metadata": {
    "collapsed": false,
    "jupyter": {
     "outputs_hidden": false
    },
    "pycharm": {
     "name": "#%%\n"
    }
   },
   "outputs": [
    {
     "data": {
      "application/vnd.jupyter.widget-view+json": {
       "model_id": "df165ec5f8fc453782008bf75a32c6ca",
       "version_major": 2,
       "version_minor": 0
      },
      "text/plain": [
       "HBox(children=(Button(description='Prev', style=ButtonStyle()), Button(description='Next', style=ButtonStyle()…"
      ]
     },
     "metadata": {},
     "output_type": "display_data"
    },
    {
     "data": {
      "application/vnd.jupyter.widget-view+json": {
       "model_id": "241e78035297400c97d25ad220d1e063",
       "version_major": 2,
       "version_minor": 0
      },
      "text/plain": [
       "interactive(children=(IntSlider(value=0, description='step', max=7), Output()), _dom_classes=('widget-interact…"
      ]
     },
     "metadata": {},
     "output_type": "display_data"
    },
    {
     "data": {
      "application/vnd.jupyter.widget-view+json": {
       "model_id": "04627b9e832543cbbc900579c00da1c8",
       "version_major": 2,
       "version_minor": 0
      },
      "text/plain": [
       "HBox(children=(Button(description='Prev', style=ButtonStyle()), Button(description='Next', style=ButtonStyle()…"
      ]
     },
     "metadata": {},
     "output_type": "display_data"
    },
    {
     "data": {
      "application/vnd.jupyter.widget-view+json": {
       "model_id": "c4471cdaa50e456fb1db1869d417a29c",
       "version_major": 2,
       "version_minor": 0
      },
      "text/plain": [
       "interactive(children=(IntSlider(value=0, description='step', max=7), Output()), _dom_classes=('widget-interact…"
      ]
     },
     "metadata": {},
     "output_type": "display_data"
    },
    {
     "data": {
      "text/plain": [
       "457.82394276952766"
      ]
     },
     "execution_count": 32,
     "metadata": {},
     "output_type": "execute_result"
    }
   ],
   "source": [
    "task3_newton(a,b,c,d,eps=eps,visual=True)"
   ]
  },
  {
   "cell_type": "code",
   "execution_count": 33,
   "metadata": {
    "collapsed": false,
    "jupyter": {
     "outputs_hidden": false
    },
    "pycharm": {
     "name": "#%%\n"
    }
   },
   "outputs": [
    {
     "data": {
      "application/vnd.jupyter.widget-view+json": {
       "model_id": "b11be807a479488bbfc88926ceddd14d",
       "version_major": 2,
       "version_minor": 0
      },
      "text/plain": [
       "HBox(children=(Button(description='Prev', style=ButtonStyle()), Button(description='Next', style=ButtonStyle()…"
      ]
     },
     "metadata": {},
     "output_type": "display_data"
    },
    {
     "data": {
      "application/vnd.jupyter.widget-view+json": {
       "model_id": "c1a0f3867cd8419ca25c5386bccce55b",
       "version_major": 2,
       "version_minor": 0
      },
      "text/plain": [
       "interactive(children=(IntSlider(value=0, description='step', max=30), Output()), _dom_classes=('widget-interac…"
      ]
     },
     "metadata": {},
     "output_type": "display_data"
    },
    {
     "data": {
      "text/plain": [
       "457.82394276955245"
      ]
     },
     "execution_count": 33,
     "metadata": {},
     "output_type": "execute_result"
    }
   ],
   "source": [
    "task3_ternary(a,b,c,d,eps=eps,visual=True)"
   ]
  },
  {
   "cell_type": "code",
   "execution_count": 34,
   "metadata": {
    "collapsed": false,
    "jupyter": {
     "outputs_hidden": false
    },
    "pycharm": {
     "name": "#%%\n"
    }
   },
   "outputs": [
    {
     "data": {
      "application/vnd.jupyter.widget-view+json": {
       "model_id": "061c5997d22f46be8b9612b6bae723a5",
       "version_major": 2,
       "version_minor": 0
      },
      "text/plain": [
       "HBox(children=(Button(description='Prev', style=ButtonStyle()), Button(description='Next', style=ButtonStyle()…"
      ]
     },
     "metadata": {},
     "output_type": "display_data"
    },
    {
     "data": {
      "application/vnd.jupyter.widget-view+json": {
       "model_id": "6839b9c922a3486f86eb7dce1c8806ae",
       "version_major": 2,
       "version_minor": 0
      },
      "text/plain": [
       "interactive(children=(IntSlider(value=0, description='step', max=19), Output()), _dom_classes=('widget-interac…"
      ]
     },
     "metadata": {},
     "output_type": "display_data"
    },
    {
     "data": {
      "application/vnd.jupyter.widget-view+json": {
       "model_id": "337fca4193f94ac7b157f8fec8a2f8ed",
       "version_major": 2,
       "version_minor": 0
      },
      "text/plain": [
       "HBox(children=(Button(description='Prev', style=ButtonStyle()), Button(description='Next', style=ButtonStyle()…"
      ]
     },
     "metadata": {},
     "output_type": "display_data"
    },
    {
     "data": {
      "application/vnd.jupyter.widget-view+json": {
       "model_id": "fd26eb4cbd224299b21664a159e8db0b",
       "version_major": 2,
       "version_minor": 0
      },
      "text/plain": [
       "interactive(children=(IntSlider(value=0, description='step', max=18), Output()), _dom_classes=('widget-interac…"
      ]
     },
     "metadata": {},
     "output_type": "display_data"
    },
    {
     "data": {
      "text/plain": [
       "29.080475686681318"
      ]
     },
     "execution_count": 34,
     "metadata": {},
     "output_type": "execute_result"
    }
   ],
   "source": [
    "a, b, c, d = 1, 1, 9, -4\n",
    "task3_bisection(a,b,c,d,eps=eps,visual=True)"
   ]
  },
  {
   "cell_type": "code",
   "execution_count": 35,
   "metadata": {
    "collapsed": false,
    "jupyter": {
     "outputs_hidden": false
    },
    "pycharm": {
     "name": "#%%\n"
    }
   },
   "outputs": [
    {
     "data": {
      "application/vnd.jupyter.widget-view+json": {
       "model_id": "bf094fb2b2d54ab6916edba1c556bb92",
       "version_major": 2,
       "version_minor": 0
      },
      "text/plain": [
       "HBox(children=(Button(description='Prev', style=ButtonStyle()), Button(description='Next', style=ButtonStyle()…"
      ]
     },
     "metadata": {},
     "output_type": "display_data"
    },
    {
     "data": {
      "application/vnd.jupyter.widget-view+json": {
       "model_id": "1e8afa124bb64d56af18e64baaae1500",
       "version_major": 2,
       "version_minor": 0
      },
      "text/plain": [
       "interactive(children=(IntSlider(value=0, description='step', max=4), Output()), _dom_classes=('widget-interact…"
      ]
     },
     "metadata": {},
     "output_type": "display_data"
    },
    {
     "data": {
      "application/vnd.jupyter.widget-view+json": {
       "model_id": "76ad56cbf7894b5caef85cd1d6436b0a",
       "version_major": 2,
       "version_minor": 0
      },
      "text/plain": [
       "HBox(children=(Button(description='Prev', style=ButtonStyle()), Button(description='Next', style=ButtonStyle()…"
      ]
     },
     "metadata": {},
     "output_type": "display_data"
    },
    {
     "data": {
      "application/vnd.jupyter.widget-view+json": {
       "model_id": "ce6f21f1d60641e5818853d4040c441d",
       "version_major": 2,
       "version_minor": 0
      },
      "text/plain": [
       "interactive(children=(IntSlider(value=0, description='step', max=4), Output()), _dom_classes=('widget-interact…"
      ]
     },
     "metadata": {},
     "output_type": "display_data"
    },
    {
     "data": {
      "text/plain": [
       "29.080475686125236"
      ]
     },
     "execution_count": 35,
     "metadata": {},
     "output_type": "execute_result"
    }
   ],
   "source": [
    "task3_newton(a,b,c,d,eps=eps,visual=True)"
   ]
  },
  {
   "cell_type": "code",
   "execution_count": 36,
   "metadata": {
    "collapsed": false,
    "jupyter": {
     "outputs_hidden": false
    },
    "pycharm": {
     "name": "#%%\n"
    }
   },
   "outputs": [
    {
     "data": {
      "application/vnd.jupyter.widget-view+json": {
       "model_id": "8d077b5b6d154b3ea2c1afbf11495a78",
       "version_major": 2,
       "version_minor": 0
      },
      "text/plain": [
       "HBox(children=(Button(description='Prev', style=ButtonStyle()), Button(description='Next', style=ButtonStyle()…"
      ]
     },
     "metadata": {},
     "output_type": "display_data"
    },
    {
     "data": {
      "application/vnd.jupyter.widget-view+json": {
       "model_id": "ce7ffed194284b24a06df21884bf9689",
       "version_major": 2,
       "version_minor": 0
      },
      "text/plain": [
       "interactive(children=(IntSlider(value=0, description='step', max=32), Output()), _dom_classes=('widget-interac…"
      ]
     },
     "metadata": {},
     "output_type": "display_data"
    },
    {
     "data": {
      "text/plain": [
       "29.080475686131575"
      ]
     },
     "execution_count": 36,
     "metadata": {},
     "output_type": "execute_result"
    }
   ],
   "source": [
    "task3_ternary(a,b,c,d,eps=eps,visual=True)"
   ]
  },
  {
   "cell_type": "code",
   "execution_count": null,
   "metadata": {
    "collapsed": false,
    "jupyter": {
     "outputs_hidden": false
    },
    "pycharm": {
     "name": "#%%\n"
    }
   },
   "outputs": [],
   "source": []
  }
 ],
 "metadata": {
  "kernelspec": {
   "display_name": "Python 3 (ipykernel)",
   "language": "python",
   "name": "python3"
  },
  "language_info": {
   "codemirror_mode": {
    "name": "ipython",
    "version": 3
   },
   "file_extension": ".py",
   "mimetype": "text/x-python",
   "name": "python",
   "nbconvert_exporter": "python",
   "pygments_lexer": "ipython3",
   "version": "3.8.3"
  },
  "widgets": {
   "application/vnd.jupyter.widget-state+json": {
    "state": {
     "003ab594fdbb4ca4835d0e141b3e697a": {
      "model_module": "@jupyter-widgets/controls",
      "model_module_version": "1.5.0",
      "model_name": "ButtonModel",
      "state": {
       "description": "Next",
       "layout": "IPY_MODEL_0f29f7efe17444c495504cd0df27823e",
       "style": "IPY_MODEL_033d86bdf9494b36a2a9c0815e021b48"
      }
     },
     "010be767b40a461e959447f8897e435f": {
      "model_module": "@jupyter-widgets/controls",
      "model_module_version": "1.5.0",
      "model_name": "ButtonModel",
      "state": {
       "description": "Prev",
       "layout": "IPY_MODEL_bad26b1bdf00459891ff723fc9c51a50",
       "style": "IPY_MODEL_f36c90ab5dda4730a29b1a4d01f99154"
      }
     },
     "0191199e53b7487e8d8b3d68de58178c": {
      "model_module": "@jupyter-widgets/base",
      "model_module_version": "1.2.0",
      "model_name": "LayoutModel",
      "state": {}
     },
     "01adf40435bf4361a893568b0b48bb22": {
      "model_module": "@jupyter-widgets/controls",
      "model_module_version": "1.5.0",
      "model_name": "ButtonStyleModel",
      "state": {}
     },
     "01b6eb5506ab4877a31fd6c384cbb3b7": {
      "model_module": "@jupyter-widgets/controls",
      "model_module_version": "1.5.0",
      "model_name": "VBoxModel",
      "state": {
       "_dom_classes": [
        "widget-interact"
       ],
       "children": [
        "IPY_MODEL_6255d6b2b5674fb79d9a6d29035323d5",
        "IPY_MODEL_594eac995cb24100bda9d5918f93ab96"
       ],
       "layout": "IPY_MODEL_62862d683fa04363ab0cfa0912f8f72e"
      }
     },
     "02e30c1b471a4b8ab3662a106a777a82": {
      "model_module": "@jupyter-widgets/controls",
      "model_module_version": "1.5.0",
      "model_name": "SliderStyleModel",
      "state": {
       "description_width": ""
      }
     },
     "031fdd84178947b88422014e9a567199": {
      "model_module": "@jupyter-widgets/base",
      "model_module_version": "1.2.0",
      "model_name": "LayoutModel",
      "state": {}
     },
     "032f641859af402cb411fdaecd9dbc6d": {
      "model_module": "@jupyter-widgets/base",
      "model_module_version": "1.2.0",
      "model_name": "LayoutModel",
      "state": {}
     },
     "033d86bdf9494b36a2a9c0815e021b48": {
      "model_module": "@jupyter-widgets/controls",
      "model_module_version": "1.5.0",
      "model_name": "ButtonStyleModel",
      "state": {}
     },
     "03954c2576c44b018330a9d0841e0be0": {
      "model_module": "@jupyter-widgets/controls",
      "model_module_version": "1.5.0",
      "model_name": "VBoxModel",
      "state": {
       "_dom_classes": [
        "widget-interact"
       ],
       "children": [
        "IPY_MODEL_86fc048c1e8e423fb14c69618a7d64f6",
        "IPY_MODEL_04ce6f1edf7f4be680373b6ba33edc23"
       ],
       "layout": "IPY_MODEL_92ca288f04664a1fb85aaa796a501fc1"
      }
     },
     "04181f3b13044019ba9df176256bf665": {
      "model_module": "@jupyter-widgets/base",
      "model_module_version": "1.2.0",
      "model_name": "LayoutModel",
      "state": {}
     },
     "04627b9e832543cbbc900579c00da1c8": {
      "model_module": "@jupyter-widgets/controls",
      "model_module_version": "1.5.0",
      "model_name": "HBoxModel",
      "state": {
       "children": [
        "IPY_MODEL_94ff27a713a74128a2e0304e64892e8e",
        "IPY_MODEL_fc6769e3425e4828a5a9d6e74b79412e"
       ],
       "layout": "IPY_MODEL_2683ac07dabd4b799270bfe7c4660e84"
      }
     },
     "0494c230112a4d55a58bfbcc3877988e": {
      "model_module": "@jupyter-widgets/controls",
      "model_module_version": "1.5.0",
      "model_name": "ButtonStyleModel",
      "state": {}
     },
     "04ce6f1edf7f4be680373b6ba33edc23": {
      "model_module": "@jupyter-widgets/output",
      "model_module_version": "1.0.0",
      "model_name": "OutputModel",
      "state": {
       "layout": "IPY_MODEL_6d6d55a17b0c4fe8b6d97ae86a891cbc",
       "outputs": [
        {
         "data": {
          "image/png": "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\n",
          "text/plain": "<Figure size 504x504 with 1 Axes>"
         },
         "metadata": {},
         "output_type": "display_data"
        }
       ]
      }
     },
     "061c5997d22f46be8b9612b6bae723a5": {
      "model_module": "@jupyter-widgets/controls",
      "model_module_version": "1.5.0",
      "model_name": "HBoxModel",
      "state": {
       "children": [
        "IPY_MODEL_eb1dfb8ae92f4d96acd656399a349495",
        "IPY_MODEL_ef6d038e737c4fc0b8cd5268f3aef540"
       ],
       "layout": "IPY_MODEL_1f771f4c84414bafbcf604dc3d6d911a"
      }
     },
     "072c2bd8d7ca4e3f9645619493b2bd66": {
      "model_module": "@jupyter-widgets/controls",
      "model_module_version": "1.5.0",
      "model_name": "SliderStyleModel",
      "state": {
       "description_width": ""
      }
     },
     "075aef483f24417193e26ef133dabd6b": {
      "model_module": "@jupyter-widgets/base",
      "model_module_version": "1.2.0",
      "model_name": "LayoutModel",
      "state": {}
     },
     "07bed683aea546818718b73407644457": {
      "model_module": "@jupyter-widgets/controls",
      "model_module_version": "1.5.0",
      "model_name": "ButtonStyleModel",
      "state": {}
     },
     "087b9bc44a2b4a9da70b4ee1f7567636": {
      "model_module": "@jupyter-widgets/base",
      "model_module_version": "1.2.0",
      "model_name": "LayoutModel",
      "state": {}
     },
     "08fd244c6c794a61945639d96e47ef03": {
      "model_module": "@jupyter-widgets/base",
      "model_module_version": "1.2.0",
      "model_name": "LayoutModel",
      "state": {}
     },
     "0a529a9861b64544b3283bb7122fd80a": {
      "model_module": "@jupyter-widgets/base",
      "model_module_version": "1.2.0",
      "model_name": "LayoutModel",
      "state": {}
     },
     "0a7941cc7be44da694d1bf3c64332831": {
      "model_module": "@jupyter-widgets/base",
      "model_module_version": "1.2.0",
      "model_name": "LayoutModel",
      "state": {}
     },
     "0a7dfe1b47444d71ae74aa9d94ee5fc6": {
      "model_module": "@jupyter-widgets/controls",
      "model_module_version": "1.5.0",
      "model_name": "IntSliderModel",
      "state": {
       "description": "step",
       "layout": "IPY_MODEL_dce9d0109bb843e6825f723eab3de4b1",
       "max": 0,
       "style": "IPY_MODEL_14448ccee370453580b49faf6b9bc4b3"
      }
     },
     "0b2cc14fb12f4a2cb8c52ae54e89c6da": {
      "model_module": "@jupyter-widgets/base",
      "model_module_version": "1.2.0",
      "model_name": "LayoutModel",
      "state": {}
     },
     "0be207e1f45044f3b149b734855a7bd2": {
      "model_module": "@jupyter-widgets/controls",
      "model_module_version": "1.5.0",
      "model_name": "ButtonModel",
      "state": {
       "description": "Prev",
       "layout": "IPY_MODEL_b8ccbafa589e4af095252f3199e92f82",
       "style": "IPY_MODEL_5a55428eb4bc4595aada2ecaa196ebc4"
      }
     },
     "0c219bec306447599e583da3b004d2b7": {
      "model_module": "@jupyter-widgets/controls",
      "model_module_version": "1.5.0",
      "model_name": "SliderStyleModel",
      "state": {
       "description_width": ""
      }
     },
     "0c7febac90d346d0b8a27212901fdb39": {
      "model_module": "@jupyter-widgets/base",
      "model_module_version": "1.2.0",
      "model_name": "LayoutModel",
      "state": {}
     },
     "0cec5a0ac1dc45c795fd63fdeb2ff88c": {
      "model_module": "@jupyter-widgets/base",
      "model_module_version": "1.2.0",
      "model_name": "LayoutModel",
      "state": {}
     },
     "0dc569caf0614ef5a2c9aaf74b7b43af": {
      "model_module": "@jupyter-widgets/base",
      "model_module_version": "1.2.0",
      "model_name": "LayoutModel",
      "state": {}
     },
     "0e20851911c146b5ad17ed2caa0bdece": {
      "model_module": "@jupyter-widgets/controls",
      "model_module_version": "1.5.0",
      "model_name": "ButtonStyleModel",
      "state": {}
     },
     "0eb3f50168434dcdb2671d8286e0bd8a": {
      "model_module": "@jupyter-widgets/controls",
      "model_module_version": "1.5.0",
      "model_name": "IntSliderModel",
      "state": {
       "description": "step",
       "layout": "IPY_MODEL_7550a1bf037844d8ba4e80fd09001daf",
       "max": 32,
       "style": "IPY_MODEL_b024c65d849b4c329fea66bdf31808a6"
      }
     },
     "0f29f7efe17444c495504cd0df27823e": {
      "model_module": "@jupyter-widgets/base",
      "model_module_version": "1.2.0",
      "model_name": "LayoutModel",
      "state": {}
     },
     "0f682748dace42709be3d16aa3b4601f": {
      "model_module": "@jupyter-widgets/controls",
      "model_module_version": "1.5.0",
      "model_name": "SliderStyleModel",
      "state": {
       "description_width": ""
      }
     },
     "10357bf43ef84273ad4259a27199e940": {
      "model_module": "@jupyter-widgets/base",
      "model_module_version": "1.2.0",
      "model_name": "LayoutModel",
      "state": {}
     },
     "103c26b15cd74360818c2f0dc61a6d13": {
      "model_module": "@jupyter-widgets/base",
      "model_module_version": "1.2.0",
      "model_name": "LayoutModel",
      "state": {}
     },
     "1104d9575e934d4ebba8985392ea94b7": {
      "model_module": "@jupyter-widgets/base",
      "model_module_version": "1.2.0",
      "model_name": "LayoutModel",
      "state": {}
     },
     "11c61d7c50744d729fa09d994f80bcd7": {
      "model_module": "@jupyter-widgets/output",
      "model_module_version": "1.0.0",
      "model_name": "OutputModel",
      "state": {
       "layout": "IPY_MODEL_763f9fcb8e764e72b286ce028b90693d",
       "outputs": [
        {
         "data": {
          "image/png": "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\n",
          "text/plain": "<Figure size 504x504 with 1 Axes>"
         },
         "metadata": {},
         "output_type": "display_data"
        }
       ]
      }
     },
     "11ec8ff96f9a4f72a72b1a3cb1747c15": {
      "model_module": "@jupyter-widgets/controls",
      "model_module_version": "1.5.0",
      "model_name": "SliderStyleModel",
      "state": {
       "description_width": ""
      }
     },
     "12f86f11b734409482f8bdd554512041": {
      "model_module": "@jupyter-widgets/controls",
      "model_module_version": "1.5.0",
      "model_name": "SliderStyleModel",
      "state": {
       "description_width": ""
      }
     },
     "140e1b2b6bff4113a9e4e4d29e946383": {
      "model_module": "@jupyter-widgets/controls",
      "model_module_version": "1.5.0",
      "model_name": "HBoxModel",
      "state": {
       "children": [
        "IPY_MODEL_9aa791b0dbd94b7e91bd8e5423bf0d28",
        "IPY_MODEL_f50f7ffbe24d4a3ca27f1c972b17088c"
       ],
       "layout": "IPY_MODEL_60e4b19d72c24bb4aea6b3c01a265e2d"
      }
     },
     "14448ccee370453580b49faf6b9bc4b3": {
      "model_module": "@jupyter-widgets/controls",
      "model_module_version": "1.5.0",
      "model_name": "SliderStyleModel",
      "state": {
       "description_width": ""
      }
     },
     "14aa0e6cb9f341acabcf24089883b2af": {
      "model_module": "@jupyter-widgets/controls",
      "model_module_version": "1.5.0",
      "model_name": "ButtonModel",
      "state": {
       "description": "Next",
       "layout": "IPY_MODEL_20a8d50b03a24d9da6f15afb4d29236a",
       "style": "IPY_MODEL_7b7b153fd6164918b86b668ae456899c"
      }
     },
     "1575049e29b646258c2b5bf7a966e63c": {
      "model_module": "@jupyter-widgets/base",
      "model_module_version": "1.2.0",
      "model_name": "LayoutModel",
      "state": {}
     },
     "15f4d06c83b54562b003d135c32a3812": {
      "model_module": "@jupyter-widgets/controls",
      "model_module_version": "1.5.0",
      "model_name": "ButtonModel",
      "state": {
       "description": "Prev",
       "layout": "IPY_MODEL_d4d248460db24063928cc4babd3739bc",
       "style": "IPY_MODEL_fe3085ff80ca423986aa98c3a18e32e5"
      }
     },
     "18fd2d2b6da643e9ae754e47d96616e3": {
      "model_module": "@jupyter-widgets/controls",
      "model_module_version": "1.5.0",
      "model_name": "IntSliderModel",
      "state": {
       "description": "step",
       "layout": "IPY_MODEL_e4c64066e7224eeab2be41fca0ef4c19",
       "max": 26,
       "style": "IPY_MODEL_98a1bbf5a1da471d9b79fc18205b2f48",
       "value": 8
      }
     },
     "1969b10c38724dcda993105f41876801": {
      "model_module": "@jupyter-widgets/base",
      "model_module_version": "1.2.0",
      "model_name": "LayoutModel",
      "state": {}
     },
     "197931cd628941cbbe80d173ca1a0ec3": {
      "model_module": "@jupyter-widgets/base",
      "model_module_version": "1.2.0",
      "model_name": "LayoutModel",
      "state": {}
     },
     "199ff6ea6a284b5ead1b854e21be8e82": {
      "model_module": "@jupyter-widgets/controls",
      "model_module_version": "1.5.0",
      "model_name": "ButtonStyleModel",
      "state": {}
     },
     "19dc64c702d541dba89f5f5324468733": {
      "model_module": "@jupyter-widgets/base",
      "model_module_version": "1.2.0",
      "model_name": "LayoutModel",
      "state": {}
     },
     "19f4bcc534be417ba19669adc1c1273e": {
      "model_module": "@jupyter-widgets/output",
      "model_module_version": "1.0.0",
      "model_name": "OutputModel",
      "state": {
       "layout": "IPY_MODEL_a986783c95b347b0bbb69ebc87efc55e",
       "outputs": [
        {
         "data": {
          "image/png": "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\n",
          "text/plain": "<Figure size 504x504 with 1 Axes>"
         },
         "metadata": {},
         "output_type": "display_data"
        }
       ]
      }
     },
     "1b049629c9a34d9cabadcc3622ae4218": {
      "model_module": "@jupyter-widgets/controls",
      "model_module_version": "1.5.0",
      "model_name": "VBoxModel",
      "state": {
       "_dom_classes": [
        "widget-interact"
       ],
       "children": [
        "IPY_MODEL_3b334c766eed473581e17314a452f101",
        "IPY_MODEL_19f4bcc534be417ba19669adc1c1273e"
       ],
       "layout": "IPY_MODEL_305921052b4841198d1234948af2bb48"
      }
     },
     "1b55ff0faf164df480dfefe20e46407b": {
      "model_module": "@jupyter-widgets/output",
      "model_module_version": "1.0.0",
      "model_name": "OutputModel",
      "state": {
       "layout": "IPY_MODEL_bda7be5813e442578e4a47bd10fe9b52",
       "outputs": [
        {
         "data": {
          "image/png": "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\n",
          "text/plain": "<Figure size 504x504 with 1 Axes>"
         },
         "metadata": {},
         "output_type": "display_data"
        }
       ]
      }
     },
     "1bb95f1d43f548fba5cce93fb6415953": {
      "model_module": "@jupyter-widgets/controls",
      "model_module_version": "1.5.0",
      "model_name": "ButtonStyleModel",
      "state": {}
     },
     "1c01ed5c0ffd40188e5abd2dafa0c18d": {
      "model_module": "@jupyter-widgets/controls",
      "model_module_version": "1.5.0",
      "model_name": "VBoxModel",
      "state": {
       "_dom_classes": [
        "widget-interact"
       ],
       "children": [
        "IPY_MODEL_0eb3f50168434dcdb2671d8286e0bd8a",
        "IPY_MODEL_6dad67e535d64321b9036bfa11869696"
       ],
       "layout": "IPY_MODEL_4d25e719192a4c96bc47fed7dd7ed50e"
      }
     },
     "1c10c27cc6ad4d10b23a3597ec071b4f": {
      "model_module": "@jupyter-widgets/base",
      "model_module_version": "1.2.0",
      "model_name": "LayoutModel",
      "state": {}
     },
     "1c5e3371906741629804291a0df5884f": {
      "model_module": "@jupyter-widgets/base",
      "model_module_version": "1.2.0",
      "model_name": "LayoutModel",
      "state": {}
     },
     "1d250d93b15c476792b809b72cc17617": {
      "model_module": "@jupyter-widgets/controls",
      "model_module_version": "1.5.0",
      "model_name": "SliderStyleModel",
      "state": {
       "description_width": ""
      }
     },
     "1da0bd3ce9f249c78622236e76931825": {
      "model_module": "@jupyter-widgets/controls",
      "model_module_version": "1.5.0",
      "model_name": "ButtonStyleModel",
      "state": {}
     },
     "1de5d3714fcd4d72a7059949258742f2": {
      "model_module": "@jupyter-widgets/base",
      "model_module_version": "1.2.0",
      "model_name": "LayoutModel",
      "state": {}
     },
     "1e21e278651c4cfdb369d7d3a7f11868": {
      "model_module": "@jupyter-widgets/output",
      "model_module_version": "1.0.0",
      "model_name": "OutputModel",
      "state": {
       "layout": "IPY_MODEL_21519d0d2c274d0f9aaf3416652cbf27",
       "outputs": [
        {
         "data": {
          "image/png": "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\n",
          "text/plain": "<Figure size 504x504 with 1 Axes>"
         },
         "metadata": {},
         "output_type": "display_data"
        }
       ]
      }
     },
     "1e565f40268a45b6a125625c65f32d02": {
      "model_module": "@jupyter-widgets/controls",
      "model_module_version": "1.5.0",
      "model_name": "ButtonStyleModel",
      "state": {}
     },
     "1e5c9988bbea4ea7bcbe7e3931684f23": {
      "model_module": "@jupyter-widgets/controls",
      "model_module_version": "1.5.0",
      "model_name": "VBoxModel",
      "state": {
       "_dom_classes": [
        "widget-interact"
       ],
       "children": [
        "IPY_MODEL_0a7dfe1b47444d71ae74aa9d94ee5fc6",
        "IPY_MODEL_4b4208302d034708b09379292a0f69f7"
       ],
       "layout": "IPY_MODEL_9c9edc3250e74b6aa706ccbd1e2ecf3b"
      }
     },
     "1e8afa124bb64d56af18e64baaae1500": {
      "model_module": "@jupyter-widgets/controls",
      "model_module_version": "1.5.0",
      "model_name": "VBoxModel",
      "state": {
       "_dom_classes": [
        "widget-interact"
       ],
       "children": [
        "IPY_MODEL_8d9cc1dbf3344628bd44b0d471ccf133",
        "IPY_MODEL_f56194e9a8bc4daaa58a92f01b2f9d54"
       ],
       "layout": "IPY_MODEL_ea00b2f7a8634a348390ca79c3e8e05d"
      }
     },
     "1ea0e22a1f1949e9bda2bc20f82f7df3": {
      "model_module": "@jupyter-widgets/base",
      "model_module_version": "1.2.0",
      "model_name": "LayoutModel",
      "state": {}
     },
     "1ec77268f2e84e17bd0fb3254bfe619d": {
      "model_module": "@jupyter-widgets/controls",
      "model_module_version": "1.5.0",
      "model_name": "IntSliderModel",
      "state": {
       "description": "step",
       "layout": "IPY_MODEL_e8c532e666b84b8d917a3d910361905d",
       "max": 9,
       "style": "IPY_MODEL_2bc0bb7b94114f6db886c4af9e5598f8"
      }
     },
     "1f54ead0bed7498fab2049981a80b8a8": {
      "model_module": "@jupyter-widgets/base",
      "model_module_version": "1.2.0",
      "model_name": "LayoutModel",
      "state": {}
     },
     "1f6051c35c154e8ab2b9e625d2aa1bf9": {
      "model_module": "@jupyter-widgets/base",
      "model_module_version": "1.2.0",
      "model_name": "LayoutModel",
      "state": {}
     },
     "1f771f4c84414bafbcf604dc3d6d911a": {
      "model_module": "@jupyter-widgets/base",
      "model_module_version": "1.2.0",
      "model_name": "LayoutModel",
      "state": {}
     },
     "1fb9e9fcef2a4a17ad004b729642215a": {
      "model_module": "@jupyter-widgets/base",
      "model_module_version": "1.2.0",
      "model_name": "LayoutModel",
      "state": {}
     },
     "205841c24c5f47cdb848f6faa0dbbe07": {
      "model_module": "@jupyter-widgets/base",
      "model_module_version": "1.2.0",
      "model_name": "LayoutModel",
      "state": {}
     },
     "20a8d50b03a24d9da6f15afb4d29236a": {
      "model_module": "@jupyter-widgets/base",
      "model_module_version": "1.2.0",
      "model_name": "LayoutModel",
      "state": {}
     },
     "20d70df7501041ce89f59e17bb64d8be": {
      "model_module": "@jupyter-widgets/output",
      "model_module_version": "1.0.0",
      "model_name": "OutputModel",
      "state": {
       "layout": "IPY_MODEL_367f70c9c9e64c7b9613bd32f19ad622",
       "outputs": [
        {
         "data": {
          "image/png": "iVBORw0KGgoAAAANSUhEUgAAAlMAAAIcCAYAAADSTytRAAAAOXRFWHRTb2Z0d2FyZQBNYXRwbG90bGliIHZlcnNpb24zLjQuMiwgaHR0cHM6Ly9tYXRwbG90bGliLm9yZy8rg+JYAAAACXBIWXMAAAsTAAALEwEAmpwYAAA9B0lEQVR4nO3deZxkVWH3/8+p6m16dmZhBmZzhh2CqAM/FVF4wAQMUYwCRvQnbqNGo8ZoEhcMBIkmUWMSoog+eVwACSokjzwSHogBFxRlk30bmGGGYZZep/fuqjrPH1XdU73MTM90d91aPu/Xq17Vfc+5t07f6p76zjnnnhtijEiSJOngpJJugCRJUiUzTEmSJE2BYUqSJGkKDFOSJElTYJiSJEmaAsOUJEnSFNQl3YBqs3jx4rhmzZqkmyFJkqbRvffe2xJjXDJRmWFqmq1Zs4Z77rkn6WZIkqRpFELYvLcyh/kkSZKmwDAlSZI0BYYpSZKkKTBMSZIkTYFhSpIkaQoMU5IkSVNgmJIkSZoCw5QkSdIUGKYkSZKmwDAlSZI0BYYpSZKkKTBMSZIkTYFhSpIkaQoMU5IkSVNgmJIkSZoCw5QkSdIUGKYkSZKmwDAlSZI0BYYpSZJU0a699lrWrFlDKpVizZo1XHvttSV9/bqSvpokSdI0uvbaa9mwYQMDAwPEGNm8eTMbNmwA4KKLLipJG0KMsSQvVCvWr18f77nnnqSbIUlSWRgYGGBoaGjkkclkmDVrFgsXLiSXy/Hwww+TyWRG1Vm5ciVHHHEEAwMD3HzzzaPKhoaGOPnkk3npS19KR0cHX/ziF0mn0/T29vLFL35x5HVXr17Npk2bpu3nCCHcG2NcP1GZPVOSJNWQGCPZbJa6unwE6OjooL+/f1RYaWxsZM2aNQDce++9dHd3jypfunQpL3/5ywG4/vrr6erqGglKQ0NDHH300Zx77rkAfPGLXySTyYxqw8te9rKR8ptuumlcG0899VSOOOIIALZt20Z9ff3IY9asWTQ2NgLQ1NTEPffcw+DgIP39/aOO8dxzz03TGds/w5QkSQkbDjjDgSSTybBw4UIAdu7cSUdHx6jemxACL3vZywC477772LZt26jy5uZmzjvvPABuvPFGNm3aNFKeyWRYtmwZ73vf+wC44YYbeOGFF0a1Z9WqVbzzne8E4Fe/+hUtLS2kUqmRQFM8qpVOp2lubh4pq6ur4/DDDx8pf+1rX0sIYVQgGv7ZUqkUH/rQh6irqxu1fwgBgMbGRv7kT/5kr+etqamJxx9/nM2bN48rW7Vq1QG9B1NhmJIkaR8ymQz9/f3jhqIOO+ww6uvr2bFjB88///y4oazXvOY1NDQ08NBDD/HII4+MKhsaGuL9738/6XSaW2+9lbvvvntUQEmlUlxyySUA3HXXXfz2t78d1aampqaRMLV582aefvrpUWElnU6P1F26dCnpdHpU+bx580bKzzrrLAYHB0eCzHDvz7ANGzaQTqdJpSa+Zu3888/f5/k75ZRT9lm+aNGifZbvzxVXXMGGDRvo7e0d2dbc3MwVV1wxpeMeCMOUJKmixBjJZDKkUinS6TSDg4O0traOCipDQ0OsWrWKefPm0draysMPPzwuzJx22mksWbKEjRs38pOf/GTc/hdffDHLli3j/vvv58c//vG4dnzoQx9i0aJFbNy4kdtuu21UWV1dHS9/+ctpaGigr6+Pjo6OUcNU9fX15HI50uk0a9asGRV0hkNNjJEQAqeddhonn3zyqN6b+vr6kdd64xvfuM/z9apXvWqf5WvXrt1nefFrlaPhSeaf/vSnee6551i1ahVXXHFFySafgxPQJxQCxwH/DLwC6AC+CVwWI9n97esEdEm1aHiYqjiMNDY2Mnv2bDKZDM8+++y4ScQrV65kxYoV9PT08N///d+j9s1kMpxyyikcc8wx7Ny5k2uuuWbUMBXkQ8SJJ57I5s2b+da3vjWuTRdccAHHHnssTz31FNddd92oYar6+nre+MY3snLlSjZt2sQvfvGLUUGmvr6el7/85SxYsICdO3eyefPmceUrVqygoaGB/v5+BgYGJhymUvVwAvoBCIGFwO3Ao8AbgHXAl8ivyfWZBJsmSQetp6eHwcHBcWFn2bJlADz44IP09fWN6p059NBDOfHEE4H8vJqBgYFR+x933HGcccYZZLNZrrjiCsb+5/zUU0/lrLPOYmhoiOuuu25cm04//XRWrFhBNpvlscceG9czk8vlgPyQ1rp168b13gy3fcmSJVx44YWjgk59fT3z588HYN26dVxyySV7HaZas2bNyGTriSxdupSlS5futbypqYmmpqa9lqv6GabGez8wC/jDGNkN3BYC84BLQ+DvCtsk6aAND1MNXyIO0NbWRk9Pz6iem3Q6zbHHHgvAAw88QEtLy6jemTlz5vDa174WyF8RtX379lH7H3744bz97W8H4F//9V9pa2sb1Y4jjzySt771rQDcdtttdHd3j5TV1dVxwgknjISp7u5uYozU19fT1NREXV3dSFhJpVKcdtpp4yYRH3rooUB+EvG73/3ucWFoePho3rx5fOITn9jr+Zo3bx5veMMb9lre3NzMMcccs9fyvYUoaboYpsY7B7h1TGi6Hvhb4DXAj5Jo1Ec/+lEAvvKVryTx8lKirr322hmfDzH2aqrhQLJkyRJSqRS7du1i165d4+bdvOpVryKEwEMPPcTGjRtHleVyOS6++GIAbrnlFh566KFRw1TNzc0jIeK2227j8ccfH9WmBQsWjISphx56iE2bNk0YVoaPtWjRolG9M8UTe8844wwymcyowDNnzpyR8uFJxnsbpnrXu96113MXQuCMM87Ya3kqlWLFihX7Ov1VIcZIJhfJZCOD2RxDw49MZDCbZTCT3z6YyT8GMtnCc/7rgUyO/qEsA0M5+jN7nvsG89vv+Pbfc9Shc7jpu99I+kfVGIap8Y4BflK8IUaeC4HeQlkiYeqBBx4YeRS74IIL+OM//mN6e3t53eteN26/iy++mIsvvpiWlhbe/OY3jyv/wAc+wIUXXsiWLVtG/gdb7M/+7M/4gz/4A5544omRy2iLfeYzn+Gss87igQceGAl8xf7mb/6GV77yldx111186lOfGlf+la98hZNOOonbb7+dz33uc+PKv/71r3P00Ufzox/9iC996Uvjyr/73e+ycuVK/u3f/o2vfe1r48p/8IMfsHjxYr71rW9NOKfixz/+Mc3NzXz1q1/lhhtuGFd+xx13APl1Um6++eZRZbNmzeKWW24B4PLLL+e//uu/RpUvWrSIH/7whwB88pOf5Je//OWo8hUrVnDNNdcA+bA89r096qijuPrqq4H8B92TTz45qvykk04aCddve9vb2Lp166jyV7ziFXz+858H4E1vehOtra2jys8888yRq4XOOecc+vr6RpWfe+65fPzjHwfywzFjnX/++bzv/R+gp7eX1597LpHRQzwXvf3/521vfwe7Wlp4+x9dCDCqxrvfs4E3vvl8tmzZwgfe865x+3/gTz7K753z+/zLlf/M5Z/9NKlUivkLF9HbN8BffPJT3Pfgo/zRRRexq6WVyz/7aZqbZ7F40aKRq45e+apXs3jpUkjV8eW/+zyLFy9izaqVpFJp0ukUhy5bTl06zeLDVnHVlf/Ii9as5ugjjxj3cy5fcxT/evVXOXLdWo5YN36i7n2PPs113/lXjly3lhWHLSebzZHNZVmz9giaZs3iC//4NW664ToOX76c+fPmkc1lyWVzvOGCP6J59hz+6gtf5pb/fRPz582lvr6ebDZHLpfl8i/9C3X19Xz8s5/jztv/c9TJa2yaxde++wMAPvjxT/PrX9w56uzNX7CQL379O0TgnR/8Ux689zej2rx02XL++itfp6UHPvzO9/PkYw9R/AatfNE6/vxzXyZG+LvPfIwtmzbuKY6w7tjj+dAnP0ck8jef+CC7dmyDuKeJx774ZVz8kU+Ri3DFx95DV0f7qPf3d04+lTe/56NE4Io/eTuDA/0jx45ETjr1TM5563vJ5SJf+NAfFe0ZiRFecvrrOO31b6W/r4+rPvXefElhiDECLz3zPF585nl0dbRxwxf+lFjU9kjkxLPOZ93Lf5eOlhe4/auXFJXlj3P0WX/Est95Fe0vbOL+6/6usD1fFoHDz7iIOWtfwu6tT7Plx18lArm4pw0LXv0OmlYcS//Wx+j46bfH/c4ccuYGGg5dS9+mB+i86/px5Yt+70M0LVnJ0DO/pv3um0iFQCpA97anCcf/zrj6Sp5haryF5Cedj9VeKBsnhLAB2AClXddClS1G6OwbonsgQ3vvIN0DGXK5SDZGchGe2dXNd3+1mYGhLI9s62RHey+5CLmY/0DpfmoXH73+foaykV8900p3W9fIP/Yxwrb7tvLIlT8nk43c+1QLg72dDE9piRE2/vQZfnTF7eQiPPl0C7nMIMQ9H3mP/ufjXN1xCzFGtj7bNqoM4KH/eIS/33ILuaF+dj7byliP3vQwn3/6VrK9neza1Dau/IkfPshljy4gs3sXLZvHl3/shgdovq+Roda51C8/iiNWLuf83z11VJ3/c9P3+dH2uTz8XDvHrp3NacccPVK27fmtbNn2Av97Sz1PP9fOkWEWyw+HoYFBMpksLekhco1N/OK+x3jhuXZ29gde6Cxc/p7J0nTc/yDOXsSTNz9G+5YOnm59lFm/fZpMJstQNsu8M98Pc5fS9eOf07Wlg99uuW9U25ac9zLSzfPpfuh2urd08NstHaPKf7r09aTqs3Td9zQ9WzsY+8/OW777KACddz9L39bOUWWhrp8/uPLnAHTcvZn+50eXp9sib/zqXQC037eVgW2jy5/oquf8q/Lhvu2hFxjcOXr2wlMDO/ntN+8GoPWJnQy1jS5/JreDe7+VD2gtz7SS6eoaVb75ke3cfW3+fOza0kG2b3T51oe388vv5y/137G9i5gZGFW+/eHt/PI/Hsl/3drDWK2P7uDupifzv3vt+cvhA0AIBOAXG1t4bO5z5Pp309IzyHAfWwj5ek/v6qZnaweDu7vpH8oCYaQsBMjGSDoVmNWQpi6dGtkeCvWOWTaXI45aSmtTO7fPbRzZniq8/nmvWM3RJx7L5sf6+eGjc/aUFZ4/+sYTOP7EF3PfXUP8z+cWkAr53r1Uofxrf/pqTjjuWH70oyxf2n7HyM/9QGsdi+c0jjsfSp5X840RAkPAx2PkH8dsfx74Vox8el/7z9TVfMM9A8M9JSov2VyktWeAnbsH2NU9wK7dA7T2DNLeO0hbzyDtPYN09g2xu38o/9yXoW9ovxeHjhICNKRTNNSlaKxL05AO1NelqEsF6tMp6tMp6tKB+lT+OZ0K1KXyz/mvU6RSgXSg8JzfHkIgnYJ0yH8dQv7rVGrPP/6pog+SUPjAGP5wGPmgGfk+/wyM+xDK/xxhpAwoOsbo/YYLP/jHf0yMkTlNDaxeMo9MNsdQNks2F/nTj/0ZDXMWUtfQQC6bIWYzpNJ1hFR6zPHGHnj8txO1a+z5H71vmHD72OMVv9a49ow59vjXDnspn7ito44/wT4TtSGE4vNd9D4P7xNGt50x5cW/G3uOVxQuAqTCnv1SRe1IFXZKpfb8Tg0Hi5Hfw8KLFX8fAqRTYVT9WuDnQLK8mu/AtAMLJtg+n4l7rFQDYoy09gyyqaWHTa29bGrpYUt7L9s6+tjW0c+O3f1kcuP/Y9JYl2LR7AYWNDewoLmedUvmMK+pnrlNdcxtqmd2Y5q5TXU0N9QxuzHNrPo6mhvSNDekaapP01ifoqk+TVNdmvp0qJkPjWKXtD3C5s2b6Qa2F21fvXo17z775KSaJUkjDFPjPU5+btSIEFgJzC6UqcoNZnI8sb2LB5/v4IntXfnHji46eodG6qRTgeXzmzh8wSz+vxcdwmELZnHovEaWzG1i6bxGlsxpZPGcRmY1pPfxSpqMcljdWJL2xTA13i3AJ0JgbowMD/RfCPQBdybXLM2Uzt4hfvlMK3c/28oDWzp4ZNtuBjP59W3mNNZx1KFzOOeE5Ry5dA4vWjKbNYtms2LhLOrTXm5dCuWwurEk7YtharyrgA8DN4bA3wJrgUuBL7vGVHXI5SL3b2nn/z66g7uebuXhbfmJ2U31KU48fAHveMVqTlq5kBNXzGfFwlk1ObRWbi666CLDk6SyZZgaI0baQ+BM4EryyyB0AP9APlCpQmVzkbs2tvDjh7Zz26M7aOkeoD4deMmqhXzkzCM59YjFvHjFAhrq7G2SJB0Yw9QEYuRR4H8k3Q5N3Za2Xr5/zxZ+cO9WtnX209yQ5oyjl/K7xx/KGccsZV5Ted/AU5JU/gxTqjoxRn71TBtX3bmRnz61C4DTjlzCp3//OM48dilN9U4KlyRNH8OUqkYuF/mvx3fy1Tue5v7nOlg8p4GPnHkk569fyeELZiXdPElSlTJMqSr8+tk2/vrmR3j4+d2sPGQWl593Aue/bIW9UJKkGWeYUkXb0tbLF255nP/z0AscNr+JL1/wYl7/4sOoc9kCSVKJGKZUkbK5yNd/upF/vP0pQoCPnnUk73v1OhfJlCSVnGFKFWdLWy8fu+EBfrOpnbOPX8Zn/+A4DnNOlCQpIYYpVYwYIzfd/zyfLdxN/ssXvJg3vuRwF9WUJCXKMKWKMJTN8dn/eITv/fo5Tl6zkC9fcBIrD2lOulmSJBmmVP529w/xwWvv42dPtfCB09fx8d89mnTK3ihJUnkwTKmsbW3v5V3f+g3P7Orh7950IhecvDLpJkmSNIphSmXrie1dvO1/3k3/UJZvv+sUTj1icdJNkiRpHMOUytKzLT1c9M27Safgxg+8kiMPnZt0kyRJmpBhSmVna3svF33jV8QYufY9r+CIpXOSbpIkSXvlMtEqKzt293PRN++meyDDd959ikFKklT2DFMqG519Q7ztm3fT0jXAt991CscfNj/pJkmStF8O86ks5HKRP7vhAZ5t6eE77z6Fl6xamHSTJEmaFHumVBa+esfT3P7YTj7z+8fyynVetSdJqhyGKSXup0/u4ku3Pcl5Jx3GO165JunmSJJ0QAxTStSWtl4+fP39HH3oXP7mD3/H++xJkiqOYUqJGcrm+OB195HNRa5628tobnAKnySp8vjppcR882fP8uDWTr520UtZs3h20s2RJOmg2DOlRDzb0sNXbn+Ss49fxjm/szzp5kiSdNAMUyq5GCOfvPFBGupSXPaG45NujiRJU2KYUsndcM8WfvVMG58851gOndeUdHMkSZoSw5RKamdXP1f8n8c45UWH8JaTVybdHEmSpswwpZL66x89Sn8mx+f/8HdIpVwGQZJU+QxTKpnfbung5gdf4P2vWce6Jd7AWJJUHQxTKpkv/t8nOGR2AxtevTbppkiSNG0MUyqJuza28LOnWvjj09cxp9HlzSRJ1cMwpRkXY+SLtz7BsnlNvO3lq5NujiRJ08owpRn3k8d3ct9zHXz4zCNpqk8n3RxJkqaVYUozKpeL/P2tT7B6UTPnr1+RdHMkSZp2hinNqJsfeoHHt3fxsdceRX3aXzdJUvXx000zJsbIv/zkaY46dA5/cOJhSTdHkqQZYZjSjPnlM608saOL95y21gU6JUlVyzClGfPtuzZxyOwGXv9ie6UkSdXLMKUZsaWtl9se3cFbTl7pFXySpKpmmNKMuOZXmwkhuK6UJKnqGaY07XoHM3zv189x9vHLOGzBrKSbI0nSjDJMadr9+/3b2N2f4eJT1yTdFEmSZpxhStMqxsi379rE8YfNY/3qhUk3R5KkGWeY0rQaXg7hHa9cQwguhyBJqn6GKU2r7/16Cwua610OQZJUMwxTmjY9Axlue3Q755643OUQJEk1wzClaXPbozvoH8rxhpMOT7opkiSVjGFK0+Y/HniewxfM4mWrnHguSaodhilNi7aeQX72VAvnvni59+GTJNUUw5SmxY8feoFMLvKGFzvEJ0mqLYYpTYv//cA2jlw6h2OXz026KZIklZRhSlP2fEcfv97UxhtOOsy1pSRJNccwpSn70W+3AfB6h/gkSTXIMKUp+48HtvGSVQtYtag56aZIklRyhilNyZM7unjshd2ueC5JqlmGKU3JLQ9tJwT4/ROXJ90USZISYZjSlNzx5E5OXLGApXObkm6KJEmJMEzpoLX1DPLAlg7OOHpJ0k2RJCkxhikdtJ89tYsY4fSjlybdFEmSEmOY0kH778d3smh2AycePj/ppkiSlBjDlA5KNhf56VMtvOaoJd6LT5JU0wxTOigPbu2grWeQ1zhfSpJU4wxTOih3PLGLVIBXH2mYkiTVNsOUDsodT+zkpJULWDi7IemmSJKUKMOUDlhL9wAPPt/JGV7FJ0mSYUoH7qdPuiSCJEnDDFM6YHc8sYvFcxo5/rB5STdFkqTEGaZ0QPJLIuzi9KNdEkGSJDBM6QD9dmsHHb1DnO6SCJIkAYYpHaC7n2kD4BVrFyXcEkmSyoNhSgfknk1trFsym0VzGpNuiiRJZcEwpUnL5SL3bG7n5DWHJN0USZLKhmFKk/bUzm46+4YMU5IkFTFMadJ+syk/X8owJUnSHoYpTdo9m9pYOreRlYfMSropkiSVDcOUJu03m/LzpUJwfSlJkoYZpjQp2zr6eL6jj5PXLEy6KZIklRXDlCZleL7UeudLSZI0imFKk3LPpnbmNNZxzLK5STdFkqSyYpjSpPxmUxsvWbWAurS/MpIkFfOTUfvV2TfEEzu6XBJBkqQJGKa0X/dtbidG15eSJGkihint1282tVGXCpy0ckHSTZEkqewYprRf92xq54TD5zOrIZ10UyRJKjuGKe3TQCbLA1s7XF9KkqS9MExpnx57oYvBTI6XrTZMSZI0EcOU9unh5zsBOP6w+Qm3RJKk8mSY0j49sm0382fVs2KhNzeWJGkihint06PbOjn+sHne3FiSpL0wTGmvhrI5HtvexfGHzUu6KZIkla3EwlQI3BECcYJH05h6h4fATSHQHQItIXBlCDRPcLz3hsBTIdAfAveGwJkT1Jm2Y9WCjbu6GczkOOFw50tJkrQ3dQm//n8DnxqzbWD4ixCoA24FBoELgQXAlwvPbyuq9xbgKuBS4OfAO4GbQ+DkGHl4uo9VKx55fjeAPVOSJO1D0mGqLUZ+tY/y84FjgSNi5FmAEBgCrg+By2LkqUK9y4Bvx8jlhTp3Ai8B/pI9QWk6j1UTHt7Wyaz6NC9aPCfppkiSVLbKfc7UOcBvhsNPwb+T7106GyAE1gJHATcMV4iRHPD9wv4zcaya8Mi23Ry7fC7plJPPJUnam6TD1O+GQG/hcWsInDim/Bjg8eINMTIIbCyUUfQ8qh7wGHBICCyZgWNVvVwu8ti23a4vJUnSfiQZpu4EPgL8HrABWAX8LATWFNVZCHRMsG97oYyi57H12seUT+exqt5zbb10DWScLyVJ0n5M25ypEJgPLN9fvRjzvT4x8ldFm38WAreT7xH6aOExsstELzfB9rHfhwm2T+ex9hSGsIF8IGTVqlUTVak4j2zLTz73Sj5JkvZtOiegnw98YxL1JpyAEyPbQ+AXwEuLNreTv9purAXs6T1qL9rWOaYOY+pN17FGiTFeDVwNsH79+gkDV6V5ZFsndanAkYc6+VySpH2ZtmG+GPlmjIT9PSZzqKKvH2fPPCYAQqABWMueeU3Dz6PqFb5vi5FdM3Csqvfwtt0ceehcGuvSSTdFkqSylvQE9BEhcChwKnBv0eZbgJNDYHXRttcDjcB/AsTIM8CT5HvGho+VKnx/ywwdq6rFGHl0WycnOF9KkqT9SmSdqcJVe58nv+TAZvKTzz8J5ICvFFX9AfBp4MYQuASYD/wDcF3RulCQX2DzmhDYBPwCeAdwJPDWGTpWVdvZNUBL96CTzyVJmoSkFu1sJT936vPAIqALuAM4L0aeG64UI0MhcDZwJfm1nwaA64FPFB8sRr4XAnOAvwAuAR4Bzi1esXw6j1XtHn4+P13seCefS5K0X4mEqRh5HnjdJOtuBc6bRL1vsJ8J8NN5rGr2yLbdhADHLrdnSpKk/SmbOVMqH49s6+RFi2YzpzHpuw1JklT+DFMa5+Hnd3Oc86UkSZoUw5RG6eof4vmOPof4JEmaJMOURtm4qweAI5e6WKckSZNhmNIoG3d2A7DOMCVJ0qQYpjTK07u6qU8HVh3SnHRTJEmqCIYpjbJxZzerF82mPu2vhiRJk+EnpkbZuKubdUtmJ90MSZIqhmFKI4ayOTa39nKE86UkSZo0w5RGbG7tJZOLrFtimJIkabIMUxrxdOFKPnumJEmaPMOURmzclQ9Ta+2ZkiRp0gxTGrFxVzfL5jV5Tz5Jkg6AYUojNu7sdohPkqQDZJgSADFGNu7qcVkESZIOkGFKAOzsGqB7IONtZCRJOkCGKQFFV/I5+VySpANimBKw50o+e6YkSTowhikB+Z6puY11LJ3bmHRTJEmqKIYpAfmeqbVL5xBCSLopkiRVFMOUANi40yv5JEk6GIYp0dU/xPbd/a4xJUnSQTBMiWd29QB4g2NJkg6CYUp7ruQzTEmSdMAMU+Lpnd3UpQKrFzUn3RRJkiqOYUps3NXN6kXN1Kf9dZAk6UD56anCPfkc4pMk6WAYpmpcLhd5rq2XNYtdFkGSpINhmKpxu7oHGMzkWLlwVtJNkSSpIhmmatyWtl4AVhzi5HNJkg6GYarGbWnPh6mVCw1TkiQdDMNUjdvS1gfACof5JEk6KIapGrelrZelcxtpqk8n3RRJkiqSYarGbWnvZaXzpSRJOmiGqRq3pa3PK/kkSZoCw1QNG8rmeKGzz54pSZKmwDBVw17o6CcXvZJPkqSpMEzVsOFlEVYc4jCfJEkHyzBVw4YX7LRnSpKkg2eYqmHPtfWSTgWWz29KuimSJFUsw1QN29Lex2ELmqhL+2sgSdLB8lO0hm1p63WIT5KkKTJM1bCt7YYpSZKmyjBVo3oHM7R0D7LSK/kkSZoSw1SN2tqev8GxC3ZKkjQ1hqkaNbwswgqH+SRJmhLDVI0aWWPKYT5JkqbEMFWjtrT30VSfYsmcxqSbIklSRTNM1ajhZRFCCEk3RZKkimaYqlFb2vucfC5J0jQwTNWgGCNb23pZudD5UpIkTZVhqgZ19g3RNZCxZ0qSpGlgmKpBW9rya0y5LIIkSVNnmKpBW9pdFkGSpOlimKpBz42sMWXPlCRJU2WYqkFb2nqZP6ueeU31STdFkqSKZ5iqQVvb+1jhlXySJE0Lw1QN2t7Zz/L5hilJkqaDYaoGbd/dz7L53kZGkqTpYJiqMf1DWTr7hlg2rynppkiSVBUMUzVme2c/AIcapiRJmhaGqRqzfXc+TC2bb5iSJGk6GKZqzI5CmFpumJIkaVoYpmqMw3ySJE0vw1SN2b67n9kNaea6YKckSdPCMFVjduzu51CH+CRJmjaGqRqzvbPfZREkSZpGhqkas2P3gGFKkqRpZJiqIblcdJhPkqRpZpiqIa09g2Ry0Z4pSZKmkWGqhrgsgiRJ088wVUNc/VySpOlnmKohI2HKnilJkqaNYaqG7OjsJxVg8ZyGpJsiSVLVMEzVkO27+1kyt5G6tG+7JEnTxU/VGrJjdz/L5s9KuhmSJFUVw1QNya9+3ph0MyRJqiqGqRqyfbe3kpEkaboZpmpE72CGrv6Mq59LkjTNDFM1YnjBTnumJEmaXoapGuEaU5IkzQzDVI3YUQhTDvNJkjS9DFM1YnvnAGDPlCRJ080wVSN27O5nbmMdsxvrkm6KJElVxTBVI7Z39jvEJ0nSDDBM1QjXmJIkaWYYpmrEjt39HGqYkiRp2hmmakA2F9nZNcCy+d5KRpKk6WaYqgGt3QNkc9GbHEuSNANmJEyFwIUhcGMIvBACMQQu3ku9w0PgphDoDoGWELgyBJonqPfeEHgqBPpD4N4QOLMcjlUpXnD1c0mSZsxM9Uy9GVgD3Ly3CiFQB9wKrAYuBD4CnA9cPabeW4CrgO8A5wCPADeHwAlJHquSuPq5JEkzZ6YWHbowRnIhMAd4z17qnA8cCxwRI88ChMAQcH0IXBYjTxXqXQZ8O0YuL9S5E3gJ8JfA2xI8VsXYs/q5c6YkSZpuM9IzFSO5SVQ7B/jNcGAp+HdgEDgbIATWAkcBN4w59vcL+ydyrEqzvbOfulRg8WzDlCRJ0y3JCejHAI8Xb4iRQWBjoYyi51H1gMeAQ0JgSULHqii7ugZYPKeRVCok3RRJkqpOkmFqIdAxwfb2QhlFz2PrtY8pL/WxKkprzyCL5zYk3QxJkqrSpOZMhcB8YPn+6sU4rtdnv7tM9HITbB/7fZhgexLHyheEsAHYALBq1aqJqiSqtXuARQ7xSZI0IyY7Af184BuTqHcg40jtwIIJti9gT89Qe9G2zjF1GFOvlMcaJcZ4NYWr/davXz9h4EpSS/cg65bOSboZkiRVpUkN88XIN2Mk7O9xgK/9OGPmIIVAA7CWPXOWhp/HzlU6BmiLkV0JHatixBhp6c7PmZIkSdMvyTlTtwAnh8Dqom2vBxqB/wSIkWeAJ8n3jAEQAqnC97ckdaxK0jOYZSCTY/Ec50xJkjQTZmSdqRA4DjgOGF4lcn0IdAO7YuTOwrYfAJ8GbgyBS4D5wD8A141Zy+lS4JoQ2AT8AngHcCTw1qI6SRyrIrR2DwA4Z0qSpBkyU4t2XgD8VdH3Hyw87gROB4iRoRA4G7iS/NpPA8D1wCeKDxQj3yss/vkXwCXkVy0/N0YeLqpT8mNVipbuQQAW2TMlSdKMmJEwFSOXku8F2l+9rcB5k6j3DfYzAT6JY1WC4Z4p50xJkjQzkpwzpRJo7bFnSpKkmWSYqnItXfmeqUNmG6YkSZoJhqkq19ozyLymOhrr0kk3RZKkqmSYqnKuMSVJ0swyTFW51u5B50tJkjSDDFNVrrXH+/JJkjSTDFNVzp4pSZJmlmGqimWyOdp6B1nknClJkmaMYaqKtfcOESMssWdKkqQZY5iqYq09hfvy2TMlSdKMMUxVsdbh+/K5YKckSTPGMFXFWrrtmZIkaaYZpqrYcM/UYudMSZI0YwxTVay1Z4C6VGBeU33STZEkqWoZpqpYS1d+jalUKiTdFEmSqpZhqoq5+rkkSTPPMFXFWlz9XJKkGWeYqmKtPQMs9ko+SZJmlGGqirV2D7rGlCRJM8wwVaV6BzP0DmZdY0qSpBlmmKpSrjElSVJpGKaq1PDq586ZkiRpZhmmqtTIffnsmZIkaUYZpqpUa4/35ZMkqRQMU1WqZbhnyqv5JEmaUYapKtXaPcicxjqa6tNJN0WSpKpmmKpS+QU77ZWSJGmmGaaqVEv3gPOlJEkqAcNUlXL1c0mSSsMwVaXyNzm2Z0qSpJlmmKpCuVykzTlTkiSVhGGqCnX0DZGLLosgSVIpGKaqUOvwrWTmOswnSdJMM0xVoV2FMLVotmFKkqSZZpiqQsP35XPOlCRJM88wVYWGh/kOcc6UJEkzzjBVhTr6hgBY0GyYkiRpphmmqlBH7xDzmupIp0LSTZEkqeoZpqpQR++gvVKSJJWIYaoKdfQNsbC5PulmSJJUEwxTVaijd4j59kxJklQShqkq1Nk3xIJZ9kxJklQKhqkqlJ8zZZiSJKkUDFNVJpeL9kxJklRChqkq09WfIRdxzpQkSSVimKoyHX35W8nYMyVJUmkYpqpMR+/w6ueGKUmSSsEwVWW8lYwkSaVlmKoyHb2FYT57piRJKgnDVJUZGeZzzpQkSSVhmKoyw2FqvmFKkqSSMExVmY6+QeY21lGX9q2VJKkU/MStMp29Q8x3vpQkSSVjmKoyHX1DTj6XJKmEDFNVpqN3kAWzXBZBkqRSMUxVGXumJEkqLcNUlenoNUxJklRKhqkqkstFh/kkSSoxw1QV6R7MkIuufi5JUikZpqpIpwt2SpJUcoapKjJyKxlvcixJUskYpqpIR583OZYkqdQMU1WkvdAztdAwJUlSyRimqkhnb75nar5X80mSVDKGqSrS4QR0SZJKzjBVRTr6hpjdkKahzrdVkqRS8VO3iuRXP3eIT5KkUjJMVZHOvkGH+CRJKjHDVBXxvnySJJWeYaqKtPcOGqYkSSoxw1QV6exzzpQkSaVmmKoSMcb8MJ9zpiRJKinDVJXoGcySyUWH+SRJKjHDVJXoKKx+vsDVzyVJKinDVJUYWf3cnilJkkrKMFUlhsOUc6YkSSotw1SV6OgrDPN5NZ8kSSVlmKoSIz1TDvNJklRShqkq0dlXmDPlMJ8kSSVlmKoSHb2DzKpP01SfTropkiTVFMNUlfC+fJIkJcMwVSXae4cc4pMkKQGGqSrR2edNjiVJSoJhqkrk78vnsgiSJJWaYapKdPQ5Z0qSpCQYpqpAjJHO3iFvJSNJUgIMU1WgbyjLYDbHQlc/lySp5AxTVcD78kmSlBzDVBVo7x2+L59hSpKkUpuRMBUCF4bAjSHwQgjEELh4gjqnF8rGPr4wQd33hsBTIdAfAveGwJkT1Dk8BG4Kge4QaAmBK0OgeSaPVS46e4dvJeMwnyRJpVY3Q8d9M7AGuBl4z37qXgQ8U/T988WFIfAW4CrgUuDnwDuBm0Pg5Bh5uFCnDrgVGAQuBBYAXy48v20mjlVOvC+fJEnJmakwdWGM5EJgDvsPUw8OB5m9uAz4doxcDhACdwIvAf6SPeHmfOBY4IgYebZQbwi4PgQui5GnZuBYZaOrPwPA3KaZejslSdLezMgwX4zkpuM4IbAWOAq4Ycyxvw+cU1T1HOA3w+Gn4N/J9y6dPd3HKje7+/M9U4YpSZJKrxwmoP8kBLIhsCkEPhMC6aKyYwrPj4/Z5zHgkBBYUlRvVJ0YGQQ2Fh1jOo9VVoZ7puY0GqYkSSq1JD99O4EvAD8j3+tzLvlhuCXARwp1FhaeO8bs215UvqvwPLbOcL2FRXWn61ijhBA2ABsAVq1aNVGVGdU9kKG5IU1duhyysSRJtWVSYSoE5gPL91cvxnG9Pvuqez9wf9Gm20NgAPhYCFweIy3F1cc2aYLtY+sM1xu7fTqPla8c49XA1QDr16+fsM5M6uofcohPkqSETPYT+HzgG5OoF/ZfZZ9+APw5cCLwE/b0Gi0g35NF0fewpwepvWgbY+oV15muY5WVrv4Mc5u8kk+SpCRMalwoRr4ZI2F/j2ls13DvznBP19i5SscAbTGyq6jeqDoh0ACsLTrGdB6rrOTDlD1TkiQlodwm2bwJyAAPAsTIM8CT5HvGAAiBVOH7W4r2uwU4OQRWF217PdAI/Od0H6vc5If57JmSJCkJM9KdEQLHAccBTYVN60OgG9gVI3cW6nyN/ITv35CfgP464EPAV2KktehwlwLXhMAm4BfAO4AjgbcW1fkB8GngxhC4BJgP/ANw3Zh1oabzWGWjqz/DioVlu0C7JElVbabGhi4A/qro+w8WHncCpxe2PUZ+Qc8/BRqAp4E/A/6p+EAx8r3C4p9/AVwCPAKcW7zQZ4wMhcDZwJXk15EaAK4HPjFTxyonXQMO80mSlJQZ+QSOkUvJ9wLtq84/MSY47aPuN9jPBPgY2QqcV8pjlQuv5pMkKTnlNmdKB2gom6N/KOecKUmSEmKYqnDel0+SpGQZpipc18h9+eyZkiQpCYapCmfPlCRJyTJMVbjdwz1T3uRYkqREGKYqXPdIz5TDfJIkJcEwVeEc5pMkKVmGqQq3ZwK6YUqSpCQYpipcl8N8kiQlyjBV4boGMjTWpWio862UJCkJfgJXuPytZOyVkiQpKYapCre735scS5KUJMNUhes2TEmSlCjDVIXLD/MZpiRJSophqsJ19WeY2+icKUmSkmKYqnBdDvNJkpQow1SF82o+SZKSZZiqYNlcpGcwa8+UJEkJMkxVsG7vyydJUuIMUxWsa8D78kmSlDTDVAXzvnySJCXPMFXBuhzmkyQpcYapCtbVPzzMZ8+UJElJMUxVMHumJElKnmGqgu3pmTJMSZKUFMNUBds93DPl7WQkSUqMYaqCdQ9kqEsFmup9GyVJSoqfwhUsfyuZOkIISTdFkqSaZZiqYPmbHDvEJ0lSkgxTFSwfppx8LklSkgxTFWx4mE+SJCXHMFXBHOaTJCl5hqkK1tWfYW6jPVOSJCXJMFXBHOaTJCl5hqkKFWOke8BhPkmSkmaYqlA9g1ly0VvJSJKUNMNUhdpzXz57piRJSpJhqkJ1Dd+Xz54pSZISZZiqUHt6pgxTkiQlyTBVoeyZkiSpPBimKtSeMOWcKUmSkmSYqlD2TEmSVB4MUxXKq/kkSSoPhqkK1dWfIRVgdkM66aZIklTTDFMVqqt/iDmNdYQQkm6KJEk1zTBVobr6vZWMJEnlwDBVoboGMk4+lySpDBimKlRX/5BhSpKkMmCYqlAO80mSVB4MUxUqH6bsmZIkKWmGqQrlMJ8kSeXBMFWBYowO80mSVCYMUxWofyhHJhftmZIkqQwYpipQ10DhVjKNhilJkpJmmKpAe25y7DCfJElJM0xVoN6BLACz7ZmSJClxhqkK1D2Q75nyJseSJCXPMFWBegcLYcqeKUmSEmeYqkA9g8PDfPZMSZKUNMNUBeotDPM1N9gzJUlS0gxTFWikZ8owJUlS4gxTFWi4Z2qWE9AlSUqcYaoC9QxmaUinaKjz7ZMkKWl+GlegnoGMk88lSSoThqkK1DOYcfK5JEllwjBVgXoHsvZMSZJUJgxTFcieKUmSyodhqgL1DtozJUlSuTBMVaCeAXumJEkqF4apCtQzmGGO9+WTJKksGKYqUO9AlmYX7JQkqSwYpipQz2CG2fZMSZJUFgxTFSabi/QP5eyZkiSpTBimKkzvYP6+fN7kWJKk8mCYqjC9g1kAml0aQZKksmCYqjDdA/ZMSZJUTgxTFaZ3IN8z5QR0SZLKg2GqwvSMzJlymE+SpHJgmKowwxPQm+2ZkiSpLBimKkzP8DCfPVOSJJUFw1SFsWdKkqTyYpiqMN32TEmSVFYMUxWmt7A0QrNLI0iSVBYMUxWmZzBLQzpFQ51vnSRJ5cBP5ArTO5hx9XNJksqIYarC9AxkXf1ckqQyYpiqML2DGZqdfC5JUtkwTFWYnsGsyyJIklRGpj1MhcC8ELgsBH4dAp0hsD0EbgqBoyaoe3ihrDsEWkLgyhBonqDee0PgqRDoD4F7Q+DMcjhWEnoGMsxxzpQkSWVjJnqmVgHvBW4F3gy8D1gO3B0CK4crhUBdoc5q4ELgI8D5wNXFBwuBtwBXAd8BzgEeAW4OgROSPFZSegYyLosgSVIZmYlP5WeBdTHSN7whBH4GPAe8C7issPl84FjgiBh5tlBvCLg+BC6LkacK9S4Dvh0jlxfq3Am8BPhL4G0JHisRvYNZF+yUJKmMTHvPVIz0FAepwrY2YDOwtGjzOcBvhgNLwb8Dg8DZACGwFjgKuKHoWDng+4X9EzlWkvJLI9gzJUlSuSjJBPQQWAIcATxatPkY4PHiejEyCGwslFH0PKoe8BhwSOG4SRwrMfmlEeyZkiSpXJTqar4vAd3A9UXbFgIdE9RtL5RR9Dy2XvuY8lIfKxER6BvKOmdKkqQyMqlP5RCYT34S+T7FOK7XhxD4APn5SG+Kkdaxu0z0chNsH/t9mGB7EsfKF4SwAdgAsGrVqomqTItcLv/ycxzmkySpbEz2U/l84BuTqBdGfRN4PfDPwF/EyE1j6rYDCyY4xgL29Ay1F23rHFOHMfVKeaxRYoxXU7jab/369RMGrumQjflDezsZSZLKx6SG+WLkmzES9vco3icEXkl+WO+qGPn7CQ77OGPmIIVAA7CWPXOWhp/HzlU6BmiLkV0JHSsRwz1T3k5GkqTyMSNzpkLgeOBm4D+BD++l2i3AySGwumjb64HGwn7EyDPAk+R7xoaPnSp8f0tSx0pKthCmvJ2MJEnlY9q7OEJgKfnQ0Q38E3BK2NNntTvGkSv6fgB8GrgxBC4B5gP/AFw3Zi2nS4FrQmAT8AvgHcCRwFuL6iRxrJIbHuab7ZwpSZLKxkx8Kh8HrCh8/d9jyu4ETgeIkaEQOBu4kvzaTwPkhwU/UbxDjHwvBOYAfwFcQn7V8nNj5OGiOiU/VhJyufyzPVOSJJWPaQ9TMXIHYyai76PuVuC8SdT7BvuZAJ/EsUpteJjPnilJkspHqdaZ0jRwmE+SpPJjmKoge67mc5hPkqRyYZiqICPrTLk0giRJZcMwVUGyuUh9OtBQ59smSVK58FO5guRy0V4pSZLKjGGqgmRjdL6UJEllxjBVQbK56JV8kiSVGcNUBclFaDZMSZJUVgxTFSSbc5hPkqRyY5iqIFknoEuSVHYMUxUkFyOzG+2ZkiSpnBimKog9U5IklR/DVAXJ5iJz7JmSJKmsGKYqRCQ/zGfPlCRJ5cUwVSFGbnJsz5QkSWXFMFUhct7kWJKksmSYqhBZe6YkSSpLhqkKMRym7JmSJKm8GKYqRLYwzDfH28lIklRWDFMVIpfLPzd7OxlJksqKYapCDPdMzbZnSpKksmKYqhC5kTlT9kxJklRODFMVYuRqPiegS5JUVgxTFWJ4mK/ZpREkSSorhqkKkc1FQgg01hmmJEkqJ4apCpHLRdIhJN0MSZI0hmGqQmRjJO27JUlS2fHjuULkcpFUyp4pSZLKjWGqQmQjDvNJklSGDFMVImvPlCRJZckwVSGcgC5JUnkyTFWI/AR0w5QkSeXGMFUhHOaTJKk8GaYqRC46zCdJUjkyTFWAXC6SzTnMJ0lSOfKuuRUgk4scd8KJrF7UnHRTJEkJOemkk5JugvYixMINdDU91q9fH++5556kmyFJkqZRCOHeGOP6icoc5pMkSZoCw5QkSdIUGKYkSZKmwDAlSZI0BYYpSZKkKTBMSZIkTYFhSpIkaQoMU5IkSVNgmJIkSZoCw5QkSdIUGKYkSZKmwDAlSZI0BYYpSZKkKTBMSZIkTYFhSpIkaQoMU5IkSVNgmJIkSZoCw5QkSdIUGKYkSZKmwDAlSZI0BYYpSZKkKQgxxqTbUFVCCLuAzTN0+MVAywwdW/vn+U+e70GyPP/J8z1IzuoY45KJCgxTFSSEcE+McX3S7ahVnv/k+R4ky/OfPN+D8uQwnyRJ0hQYpiRJkqbAMFVZrk66ATXO858834Nkef6T53tQhpwzJUmSNAX2TEmSJE2BYapMhcCFIXBjCLwQAjEELj6AfU8NgbtDoC8Eng2BD89gU6taCLw3BJ4Kgf4QuDcEzpzEPpcW3rOxj7NL0eZKFALHhcB/hUBvCGwLgb8OgfQk9psfAv8rBNpDoDMErg2BRaVoczU5mPMfAmv28nt+fanaXU1C4IgQ+HoI/DYEsiFwxyT382+gDNQl3QDt1ZuBNcDNwHsmu1MIHAHcWtjvk8ApwJdDoDdGvjkD7axaIfAW4CrgUuDnwDuBm0Pg5Bh5eD+7d8K48PTYtDeyCoTAQuB24FHgDcA64Evk/7P3mf3s/m/A0eT/RnLA3wL/Dpw2Q82tOlM8/wAfB35R9L1rIB2c44HXAb8CGg5gP/8GykGM0UcZPiCmCs9zIEaIF09yv69DfBJiXdG2r0LcAjEk/XNV0gPiExD/tfg9gfgQxGv2s9+lEFuSbn+lPCB+EmI7xHlF2/4cYm/xtgn2e0Xhb+PVRdtOKWw7K+mfq1IeUzj/awrn+tykf4ZqeAz/m1/4+gcQ75jEPv4NlMnDYb4yFSO5g9z1HODGGMkUbbseWAGcMOWG1YgQWAscBdwwvK3wnnyf/DnW9DkHuDVGdhdtux6YBbxmP/vtiJGfDm+IkV8Dz+J7dCAO9vxrGh3kv/n+DZQJw1QVCYHZwErg8TFFw8NLx5S2RRVt+FxNdC4PCYEJbylQZEEItITAUAjcHwJ/OP1NrBrHMOY8x8hzQC/7/p0dt1/BY/vZT6Md7Pkf9r8Kc3xeCIEvh8CsmWikJuTfQJkwTFWXBYXnjjHb2wvPC0vWkso3fK46xmyfzLl8Gvhz4ALgTcA24IcGqr1ayPjzDPlzva/zfLD7abSDPY8DwL8A7wbOBL4OfACcgF5C/g2UCSegl0gIzAeW769ejBP+L+NA7W3xsJpeVOwg34Ox5yzsZXvx/teMed0fAXcBnwVunFRja89E5zPsZft07KfRDvg8xsgLwIeKNt0RAjuAr4bASTHywPQ2UXvh30AZMEyVzvnANyZRL+y/yl51FJ4XjNm+t16WWnMg78FwD9QC8lfmUfQ9HMC5jJEYAjcCfxsC6RjJTnbfGtHO+N9ZgPns+zy3w4TDrQv2s59GO9jzP5EfAF8FXgqGqRLwb6BMOMxXIjHyzRgJ+3tM8TV6gC2MHyvf2/yfmnKA78HwuZroXLbFyK6DacJBN766Pc6Y8xwCK4HZ7Pt3dtx+BXubR6KJHez5n0gc86yZ5d9AmTBMVZ9bgDeOWXDvQvIha39rI6kgRp4BniTfmwVACKQK399yIMcKgQC8EfitvVITugX4vRCYW7TtQqAPuHM/+y0LgVcNbwiB9cBaDvA9qnEHe/4n8ubC873T0TDtl38DZcJhvjIVAscBxwFNhU3rQ6Ab2BVj/h+4EHgN8F/AmcPbgL8HLgK+GwLfAE4G3gd8IEb/t3iALgWuCYFN5BclfAdwJPDW4QoTvQchcCfwQ/L/M5wNvBd4OXBe6ZpeUa4CPgzcGAJ/S/6D4FLgy8WX64fA08CdMfJugBj5ZQjcCnwnBD7OngULfx4jt5f4Z6hkB3X+Q+BSYC75v43dwKuBT5BfmuXBUv4A1SAEmskv2glwODAvhJFw+uMY6fVvoIwlvdCVj4kfhYUf4wSPO4rqnF7YdvqYfV8F8dcQ+yFugvjhpH+eSn1AfC/EpyEOQLwP4pljyse9BxD/J8RnIPZB7IH4M4jnJP2zlPMD4nEQf1I4Zy9AvBxiekydTRC/NWbbAoj/C2IHxN0Qr4O4OOmfp9IeB3P+Ib4F4j0QOyEOFv5O/hpiY9I/TyU+ihZBneixZqL3oLDNv4EyeIT8myFJkqSD4ZwpSZKkKTBMSZIkTYFhSpIkaQoMU5IkSVNgmJIkSZoCw5QkSdIUGKYkSZKmwDAlSZI0BYYpSZKkKfh/ob7pliTqQwwAAAAASUVORK5CYII=\n",
          "text/plain": "<Figure size 504x504 with 1 Axes>"
         },
         "metadata": {},
         "output_type": "display_data"
        }
       ]
      }
     },
     "21282d50a6084e6ea0baae98c73a07ff": {
      "model_module": "@jupyter-widgets/base",
      "model_module_version": "1.2.0",
      "model_name": "LayoutModel",
      "state": {}
     },
     "21519d0d2c274d0f9aaf3416652cbf27": {
      "model_module": "@jupyter-widgets/base",
      "model_module_version": "1.2.0",
      "model_name": "LayoutModel",
      "state": {}
     },
     "216c196cc44e42e4a7559754d03d97c5": {
      "model_module": "@jupyter-widgets/controls",
      "model_module_version": "1.5.0",
      "model_name": "ButtonStyleModel",
      "state": {}
     },
     "2175fbad8b1940b888bc93ddfa3aadf0": {
      "model_module": "@jupyter-widgets/controls",
      "model_module_version": "1.5.0",
      "model_name": "ButtonModel",
      "state": {
       "description": "Prev",
       "layout": "IPY_MODEL_86fea26075314f42946a1c27586bf6c2",
       "style": "IPY_MODEL_c9d2e08868054491bc74bd4a19dbde4e"
      }
     },
     "22a5725804a6402a8fd2a9e6544c6230": {
      "model_module": "@jupyter-widgets/controls",
      "model_module_version": "1.5.0",
      "model_name": "ButtonStyleModel",
      "state": {}
     },
     "22b218da916441d4ace061bc9f8892fe": {
      "model_module": "@jupyter-widgets/base",
      "model_module_version": "1.2.0",
      "model_name": "LayoutModel",
      "state": {}
     },
     "2366320682f44adb90c656d8ae12a0ea": {
      "model_module": "@jupyter-widgets/controls",
      "model_module_version": "1.5.0",
      "model_name": "VBoxModel",
      "state": {
       "_dom_classes": [
        "widget-interact"
       ],
       "children": [
        "IPY_MODEL_a509eb6c8ff24820a6fa5816abe447f9",
        "IPY_MODEL_e0383dc0c3bc402faf61f4686681d161"
       ],
       "layout": "IPY_MODEL_e97a9491fd38412f9dd50c907068bc17"
      }
     },
     "23dc7a6501a146c29c91437b44a4e684": {
      "model_module": "@jupyter-widgets/controls",
      "model_module_version": "1.5.0",
      "model_name": "ButtonStyleModel",
      "state": {}
     },
     "241e78035297400c97d25ad220d1e063": {
      "model_module": "@jupyter-widgets/controls",
      "model_module_version": "1.5.0",
      "model_name": "VBoxModel",
      "state": {
       "_dom_classes": [
        "widget-interact"
       ],
       "children": [
        "IPY_MODEL_ca822b4be26e4c75aa104c9a71631f88",
        "IPY_MODEL_2770a8fbf33b41a6bf7e476c84718d42"
       ],
       "layout": "IPY_MODEL_628ee4b6545e44e99c98920626867f10"
      }
     },
     "2524e0080e8248d387c8bd0989ce5925": {
      "model_module": "@jupyter-widgets/controls",
      "model_module_version": "1.5.0",
      "model_name": "ButtonStyleModel",
      "state": {}
     },
     "25d3f4a777674545bc934f98b9b92cdc": {
      "model_module": "@jupyter-widgets/base",
      "model_module_version": "1.2.0",
      "model_name": "LayoutModel",
      "state": {}
     },
     "25e64fcb84cb47ec80aa05ec0be1b8c1": {
      "model_module": "@jupyter-widgets/controls",
      "model_module_version": "1.5.0",
      "model_name": "ButtonStyleModel",
      "state": {}
     },
     "26029f833071411e90827d08e3ca9b38": {
      "model_module": "@jupyter-widgets/controls",
      "model_module_version": "1.5.0",
      "model_name": "SliderStyleModel",
      "state": {
       "description_width": ""
      }
     },
     "26348ec223ad468c834b42dd36f71433": {
      "model_module": "@jupyter-widgets/controls",
      "model_module_version": "1.5.0",
      "model_name": "SliderStyleModel",
      "state": {
       "description_width": ""
      }
     },
     "2683ac07dabd4b799270bfe7c4660e84": {
      "model_module": "@jupyter-widgets/base",
      "model_module_version": "1.2.0",
      "model_name": "LayoutModel",
      "state": {}
     },
     "2770a8fbf33b41a6bf7e476c84718d42": {
      "model_module": "@jupyter-widgets/output",
      "model_module_version": "1.0.0",
      "model_name": "OutputModel",
      "state": {
       "layout": "IPY_MODEL_5a0a4b55003e48e4982189ee4ca5c40d",
       "outputs": [
        {
         "data": {
          "image/png": "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\n",
          "text/plain": "<Figure size 504x504 with 1 Axes>"
         },
         "metadata": {},
         "output_type": "display_data"
        }
       ]
      }
     },
     "27c6b906da644ec78ae7e8078d06a262": {
      "model_module": "@jupyter-widgets/base",
      "model_module_version": "1.2.0",
      "model_name": "LayoutModel",
      "state": {}
     },
     "27cf60dd9c6540f3bff379c8eddafd3b": {
      "model_module": "@jupyter-widgets/base",
      "model_module_version": "1.2.0",
      "model_name": "LayoutModel",
      "state": {}
     },
     "288fdf0ffc04427c8593bf79178db0f2": {
      "model_module": "@jupyter-widgets/base",
      "model_module_version": "1.2.0",
      "model_name": "LayoutModel",
      "state": {}
     },
     "2999f3e342ee4f3ca2d0948d5bc28821": {
      "model_module": "@jupyter-widgets/controls",
      "model_module_version": "1.5.0",
      "model_name": "SliderStyleModel",
      "state": {
       "description_width": ""
      }
     },
     "2a047ff659d14920997e39fa20e6947e": {
      "model_module": "@jupyter-widgets/controls",
      "model_module_version": "1.5.0",
      "model_name": "VBoxModel",
      "state": {
       "_dom_classes": [
        "widget-interact"
       ],
       "children": [
        "IPY_MODEL_58b8c6dae51b499e884e742977266989",
        "IPY_MODEL_cc208359bcab40c58d27f9a99f69f4c0"
       ],
       "layout": "IPY_MODEL_9564b463662a47e99c3735b2e4e2fb7e"
      }
     },
     "2a0738300a0344199e0ef9e60dd48356": {
      "model_module": "@jupyter-widgets/controls",
      "model_module_version": "1.5.0",
      "model_name": "ButtonModel",
      "state": {
       "description": "Prev",
       "layout": "IPY_MODEL_f498de5096334270b64271cf9e653756",
       "style": "IPY_MODEL_75e3fd26f0ea4ef289d2e3fc4f4bf0c2"
      }
     },
     "2a3a0903710f48ff882e654b3bc3fa71": {
      "model_module": "@jupyter-widgets/controls",
      "model_module_version": "1.5.0",
      "model_name": "ButtonModel",
      "state": {
       "description": "Prev",
       "layout": "IPY_MODEL_27c6b906da644ec78ae7e8078d06a262",
       "style": "IPY_MODEL_0494c230112a4d55a58bfbcc3877988e"
      }
     },
     "2b039171159a415dae77ef963f9c4a5d": {
      "model_module": "@jupyter-widgets/base",
      "model_module_version": "1.2.0",
      "model_name": "LayoutModel",
      "state": {}
     },
     "2b871c9188334501aa4a7529a80dd62c": {
      "model_module": "@jupyter-widgets/controls",
      "model_module_version": "1.5.0",
      "model_name": "IntSliderModel",
      "state": {
       "description": "step",
       "layout": "IPY_MODEL_fc44940e0daa4d5199119a216dea812c",
       "max": 1,
       "style": "IPY_MODEL_26029f833071411e90827d08e3ca9b38"
      }
     },
     "2bc0bb7b94114f6db886c4af9e5598f8": {
      "model_module": "@jupyter-widgets/controls",
      "model_module_version": "1.5.0",
      "model_name": "SliderStyleModel",
      "state": {
       "description_width": ""
      }
     },
     "2bdbbad8135b4daeb23d7c19147dbd98": {
      "model_module": "@jupyter-widgets/base",
      "model_module_version": "1.2.0",
      "model_name": "LayoutModel",
      "state": {}
     },
     "2d2198a3fe6b4711aadddc9f701c30f0": {
      "model_module": "@jupyter-widgets/output",
      "model_module_version": "1.0.0",
      "model_name": "OutputModel",
      "state": {
       "layout": "IPY_MODEL_a0c4250963564c93aeeeaa961f724d88",
       "outputs": [
        {
         "data": {
          "image/png": "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\n",
          "text/plain": "<Figure size 504x504 with 1 Axes>"
         },
         "metadata": {},
         "output_type": "display_data"
        }
       ]
      }
     },
     "2d328bd2a41d4721834115d2049c926d": {
      "model_module": "@jupyter-widgets/controls",
      "model_module_version": "1.5.0",
      "model_name": "SliderStyleModel",
      "state": {
       "description_width": ""
      }
     },
     "2d3846e4c3ce48a9a6e614869271199c": {
      "model_module": "@jupyter-widgets/controls",
      "model_module_version": "1.5.0",
      "model_name": "SliderStyleModel",
      "state": {
       "description_width": ""
      }
     },
     "2da8cbe5906140c4aea3fa7e56e0be01": {
      "model_module": "@jupyter-widgets/controls",
      "model_module_version": "1.5.0",
      "model_name": "ButtonModel",
      "state": {
       "description": "Prev",
       "layout": "IPY_MODEL_4e6036c31a084eb0b91c9eb42a97cfef",
       "style": "IPY_MODEL_22a5725804a6402a8fd2a9e6544c6230"
      }
     },
     "2db33002837b411ea50a95755049a080": {
      "model_module": "@jupyter-widgets/controls",
      "model_module_version": "1.5.0",
      "model_name": "ButtonModel",
      "state": {
       "description": "Next",
       "layout": "IPY_MODEL_2b039171159a415dae77ef963f9c4a5d",
       "style": "IPY_MODEL_f2a35aa9bf1b4e13b4c7ee317d11a9f2"
      }
     },
     "2df3743bdc5d4eee996c7368e7e744e7": {
      "model_module": "@jupyter-widgets/base",
      "model_module_version": "1.2.0",
      "model_name": "LayoutModel",
      "state": {}
     },
     "2e0ef0cf519442ee8e8654de51343842": {
      "model_module": "@jupyter-widgets/controls",
      "model_module_version": "1.5.0",
      "model_name": "SliderStyleModel",
      "state": {
       "description_width": ""
      }
     },
     "2e532324dec54986a056f6da5582ce80": {
      "model_module": "@jupyter-widgets/controls",
      "model_module_version": "1.5.0",
      "model_name": "IntSliderModel",
      "state": {
       "description": "step",
       "layout": "IPY_MODEL_04181f3b13044019ba9df176256bf665",
       "max": 1,
       "style": "IPY_MODEL_1d250d93b15c476792b809b72cc17617"
      }
     },
     "2eeedf6866de4575937acc6dcf6d5c8c": {
      "model_module": "@jupyter-widgets/base",
      "model_module_version": "1.2.0",
      "model_name": "LayoutModel",
      "state": {}
     },
     "305921052b4841198d1234948af2bb48": {
      "model_module": "@jupyter-widgets/base",
      "model_module_version": "1.2.0",
      "model_name": "LayoutModel",
      "state": {}
     },
     "3061449b60cc46bd8582b067c46c108c": {
      "model_module": "@jupyter-widgets/base",
      "model_module_version": "1.2.0",
      "model_name": "LayoutModel",
      "state": {}
     },
     "30ad1c9db2624ccaad7ba8e8b5c8a19f": {
      "model_module": "@jupyter-widgets/controls",
      "model_module_version": "1.5.0",
      "model_name": "HBoxModel",
      "state": {
       "children": [
        "IPY_MODEL_f0b8eeb0d87042639b2414c498fbdfad",
        "IPY_MODEL_f9fa55202a67476fa06abb23af7d1615"
       ],
       "layout": "IPY_MODEL_700006bbad5648a990c5a50d8300b51d"
      }
     },
     "30bdcbc517a548ab86880f6a38f0c830": {
      "model_module": "@jupyter-widgets/base",
      "model_module_version": "1.2.0",
      "model_name": "LayoutModel",
      "state": {}
     },
     "30f8225aa179447aaae4f50ce19daff4": {
      "model_module": "@jupyter-widgets/controls",
      "model_module_version": "1.5.0",
      "model_name": "SliderStyleModel",
      "state": {
       "description_width": ""
      }
     },
     "310f28d6ccff4ca599cbe040de2f2ee1": {
      "model_module": "@jupyter-widgets/base",
      "model_module_version": "1.2.0",
      "model_name": "LayoutModel",
      "state": {}
     },
     "31263a2a2f584e1aaf5624d150c85816": {
      "model_module": "@jupyter-widgets/controls",
      "model_module_version": "1.5.0",
      "model_name": "IntSliderModel",
      "state": {
       "description": "step",
       "layout": "IPY_MODEL_310f28d6ccff4ca599cbe040de2f2ee1",
       "max": 18,
       "style": "IPY_MODEL_0c219bec306447599e583da3b004d2b7"
      }
     },
     "337fca4193f94ac7b157f8fec8a2f8ed": {
      "model_module": "@jupyter-widgets/controls",
      "model_module_version": "1.5.0",
      "model_name": "HBoxModel",
      "state": {
       "children": [
        "IPY_MODEL_82bac8acafc34117ae672a8f6a9d5365",
        "IPY_MODEL_fb82fcb607d74af8afdea439efddff42"
       ],
       "layout": "IPY_MODEL_1fb9e9fcef2a4a17ad004b729642215a"
      }
     },
     "338fbac5c8cc4a8eae92438255b61c01": {
      "model_module": "@jupyter-widgets/controls",
      "model_module_version": "1.5.0",
      "model_name": "VBoxModel",
      "state": {
       "_dom_classes": [
        "widget-interact"
       ],
       "children": [
        "IPY_MODEL_2e532324dec54986a056f6da5582ce80",
        "IPY_MODEL_a6adf585b4dd48d89924f6123fab6f0d"
       ],
       "layout": "IPY_MODEL_3472643169454f5f96328bb9f451b509"
      }
     },
     "3472643169454f5f96328bb9f451b509": {
      "model_module": "@jupyter-widgets/base",
      "model_module_version": "1.2.0",
      "model_name": "LayoutModel",
      "state": {}
     },
     "34e8e8a1ac324596b5eadb262f0dfa27": {
      "model_module": "@jupyter-widgets/controls",
      "model_module_version": "1.5.0",
      "model_name": "HBoxModel",
      "state": {
       "children": [
        "IPY_MODEL_ec79a6d21c5843139f0b40d5c102a5cf",
        "IPY_MODEL_6b0d215c0ed24272866372c364cd415d"
       ],
       "layout": "IPY_MODEL_f619553f53f548c4aa70af01132baba6"
      }
     },
     "35ed5cfc105540ecabe717001be8780f": {
      "model_module": "@jupyter-widgets/controls",
      "model_module_version": "1.5.0",
      "model_name": "ButtonModel",
      "state": {
       "description": "Next",
       "layout": "IPY_MODEL_d857b0be28a04f35979efbf254b552d0",
       "style": "IPY_MODEL_0e20851911c146b5ad17ed2caa0bdece"
      }
     },
     "367f70c9c9e64c7b9613bd32f19ad622": {
      "model_module": "@jupyter-widgets/base",
      "model_module_version": "1.2.0",
      "model_name": "LayoutModel",
      "state": {}
     },
     "3a156a6c7cb441f088d72566127faa34": {
      "model_module": "@jupyter-widgets/controls",
      "model_module_version": "1.5.0",
      "model_name": "ButtonStyleModel",
      "state": {}
     },
     "3b334c766eed473581e17314a452f101": {
      "model_module": "@jupyter-widgets/controls",
      "model_module_version": "1.5.0",
      "model_name": "IntSliderModel",
      "state": {
       "description": "step",
       "layout": "IPY_MODEL_5c97a2dd8980458183820203efb12f58",
       "max": 4,
       "style": "IPY_MODEL_f66730b1493743468cdbe36bd6256e20"
      }
     },
     "3b7a02d4439940509d1dcd44b44ff493": {
      "model_module": "@jupyter-widgets/controls",
      "model_module_version": "1.5.0",
      "model_name": "ButtonModel",
      "state": {
       "description": "Prev",
       "layout": "IPY_MODEL_4f194274a8d9403da6eb87978eebc2c5",
       "style": "IPY_MODEL_e742bf7c7457471a93832da874ee0cd4"
      }
     },
     "3bb55091b6dc432e809ca69c3531062f": {
      "model_module": "@jupyter-widgets/controls",
      "model_module_version": "1.5.0",
      "model_name": "ButtonModel",
      "state": {
       "description": "Next",
       "layout": "IPY_MODEL_f75d9171b40349498c6c791883868892",
       "style": "IPY_MODEL_1e565f40268a45b6a125625c65f32d02"
      }
     },
     "3c4620b1e07d402e8fd3aee59f628d3e": {
      "model_module": "@jupyter-widgets/controls",
      "model_module_version": "1.5.0",
      "model_name": "VBoxModel",
      "state": {
       "_dom_classes": [
        "widget-interact"
       ],
       "children": [
        "IPY_MODEL_6735edd5650148e5aa6bc895aad84005",
        "IPY_MODEL_1b55ff0faf164df480dfefe20e46407b"
       ],
       "layout": "IPY_MODEL_97ed5916d7a848dd81eb976822815ac2"
      }
     },
     "3e8b9861a3eb4913af6e7e9cb09da75e": {
      "model_module": "@jupyter-widgets/base",
      "model_module_version": "1.2.0",
      "model_name": "LayoutModel",
      "state": {}
     },
     "3f15ad5e3f7b434f8a2d276f41035139": {
      "model_module": "@jupyter-widgets/controls",
      "model_module_version": "1.5.0",
      "model_name": "HBoxModel",
      "state": {
       "children": [
        "IPY_MODEL_d6da7e6210bb475a9da4dd6d7a0e48cf",
        "IPY_MODEL_e684cd5831564829aee37f4782d857f4"
       ],
       "layout": "IPY_MODEL_65e6945445184e00894635c14ff239ae"
      }
     },
     "4006c96e623d4fbba1d489d26569d359": {
      "model_module": "@jupyter-widgets/controls",
      "model_module_version": "1.5.0",
      "model_name": "ButtonModel",
      "state": {
       "description": "Prev",
       "layout": "IPY_MODEL_864754e0735a4ad8b59d0b73f1766578",
       "style": "IPY_MODEL_7b1d436a578d4e3ab52d853e4c93146c"
      }
     },
     "40fcf5ea625e4cbbb5a4ba0873a274ee": {
      "model_module": "@jupyter-widgets/controls",
      "model_module_version": "1.5.0",
      "model_name": "SliderStyleModel",
      "state": {
       "description_width": ""
      }
     },
     "411511a78b7f4d4f9269ec1b494e6a03": {
      "model_module": "@jupyter-widgets/base",
      "model_module_version": "1.2.0",
      "model_name": "LayoutModel",
      "state": {}
     },
     "41c0adc5678844f6aa09109a7ba3cd4e": {
      "model_module": "@jupyter-widgets/base",
      "model_module_version": "1.2.0",
      "model_name": "LayoutModel",
      "state": {}
     },
     "41f7c3ca79124887b6323f904c339d06": {
      "model_module": "@jupyter-widgets/base",
      "model_module_version": "1.2.0",
      "model_name": "LayoutModel",
      "state": {}
     },
     "4293790ab53b4c85a1f6286fe8f6b14a": {
      "model_module": "@jupyter-widgets/controls",
      "model_module_version": "1.5.0",
      "model_name": "SliderStyleModel",
      "state": {
       "description_width": ""
      }
     },
     "43ac913323cd459997cd944767a86d68": {
      "model_module": "@jupyter-widgets/base",
      "model_module_version": "1.2.0",
      "model_name": "LayoutModel",
      "state": {}
     },
     "43c595491c3b46a19cb709896e9b2f0f": {
      "model_module": "@jupyter-widgets/controls",
      "model_module_version": "1.5.0",
      "model_name": "ButtonModel",
      "state": {
       "description": "Prev",
       "layout": "IPY_MODEL_1f54ead0bed7498fab2049981a80b8a8",
       "style": "IPY_MODEL_f2fd64bc22bd471f8280b105f38e20ca"
      }
     },
     "43dcd403ef0843318501117b9df59aad": {
      "model_module": "@jupyter-widgets/base",
      "model_module_version": "1.2.0",
      "model_name": "LayoutModel",
      "state": {}
     },
     "443a97e48ad846949d033b7b739d31c8": {
      "model_module": "@jupyter-widgets/base",
      "model_module_version": "1.2.0",
      "model_name": "LayoutModel",
      "state": {}
     },
     "44d266d3f7674655b6c7c7a579429fbd": {
      "model_module": "@jupyter-widgets/controls",
      "model_module_version": "1.5.0",
      "model_name": "ButtonStyleModel",
      "state": {}
     },
     "44fe6b7672514d25bc28ac66e198becc": {
      "model_module": "@jupyter-widgets/controls",
      "model_module_version": "1.5.0",
      "model_name": "ButtonStyleModel",
      "state": {}
     },
     "4510d1fd0a41441b9a57e96943d1b1d8": {
      "model_module": "@jupyter-widgets/base",
      "model_module_version": "1.2.0",
      "model_name": "LayoutModel",
      "state": {}
     },
     "451e8d4e4d994bf5a5b7186476599f26": {
      "model_module": "@jupyter-widgets/controls",
      "model_module_version": "1.5.0",
      "model_name": "SliderStyleModel",
      "state": {
       "description_width": ""
      }
     },
     "46368bef23994d7092bc19e10994de62": {
      "model_module": "@jupyter-widgets/controls",
      "model_module_version": "1.5.0",
      "model_name": "VBoxModel",
      "state": {
       "_dom_classes": [
        "widget-interact"
       ],
       "children": [
        "IPY_MODEL_d84b17c7edee44b08c43fbf7cfef2916",
        "IPY_MODEL_c0e8ad2cd7084dc3be5bd8d2785e93d2"
       ],
       "layout": "IPY_MODEL_eb89e628d1f146e89f5a6d70381fd92f"
      }
     },
     "46a8b11763cb4d07b52839cf8846bde0": {
      "model_module": "@jupyter-widgets/base",
      "model_module_version": "1.2.0",
      "model_name": "LayoutModel",
      "state": {}
     },
     "4715244f2c8d4f83b3c6f4303930fb37": {
      "model_module": "@jupyter-widgets/base",
      "model_module_version": "1.2.0",
      "model_name": "LayoutModel",
      "state": {}
     },
     "48d220019c804d72a1a830534a738e5a": {
      "model_module": "@jupyter-widgets/base",
      "model_module_version": "1.2.0",
      "model_name": "LayoutModel",
      "state": {}
     },
     "48f5e508ceae4cd9b7c971373ac4cf1c": {
      "model_module": "@jupyter-widgets/base",
      "model_module_version": "1.2.0",
      "model_name": "LayoutModel",
      "state": {}
     },
     "49ed1d251be84384ad2edc37ab657a75": {
      "model_module": "@jupyter-widgets/base",
      "model_module_version": "1.2.0",
      "model_name": "LayoutModel",
      "state": {}
     },
     "4a15874c3d0f45a9b21f5b9cf60d69e5": {
      "model_module": "@jupyter-widgets/controls",
      "model_module_version": "1.5.0",
      "model_name": "ButtonStyleModel",
      "state": {}
     },
     "4b4208302d034708b09379292a0f69f7": {
      "model_module": "@jupyter-widgets/output",
      "model_module_version": "1.0.0",
      "model_name": "OutputModel",
      "state": {
       "layout": "IPY_MODEL_d2e823965fef4a35b75b2d7a96d8b592",
       "outputs": [
        {
         "data": {
          "image/png": "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\n",
          "text/plain": "<Figure size 504x504 with 1 Axes>"
         },
         "metadata": {},
         "output_type": "display_data"
        }
       ]
      }
     },
     "4bac7124372d49c3941484baf39f3b11": {
      "model_module": "@jupyter-widgets/output",
      "model_module_version": "1.0.0",
      "model_name": "OutputModel",
      "state": {
       "layout": "IPY_MODEL_de9e77fd3539450f923f69324ab3f666",
       "outputs": [
        {
         "data": {
          "image/png": "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\n",
          "text/plain": "<Figure size 504x504 with 1 Axes>"
         },
         "metadata": {},
         "output_type": "display_data"
        }
       ]
      }
     },
     "4be5cf44193643c8be410aea95c6a4a0": {
      "model_module": "@jupyter-widgets/base",
      "model_module_version": "1.2.0",
      "model_name": "LayoutModel",
      "state": {}
     },
     "4d25e719192a4c96bc47fed7dd7ed50e": {
      "model_module": "@jupyter-widgets/base",
      "model_module_version": "1.2.0",
      "model_name": "LayoutModel",
      "state": {}
     },
     "4de9beb526ca4c7f88fb1bbb10d5cc3b": {
      "model_module": "@jupyter-widgets/controls",
      "model_module_version": "1.5.0",
      "model_name": "IntSliderModel",
      "state": {
       "description": "step",
       "layout": "IPY_MODEL_0191199e53b7487e8d8b3d68de58178c",
       "max": 7,
       "style": "IPY_MODEL_0f682748dace42709be3d16aa3b4601f"
      }
     },
     "4e6036c31a084eb0b91c9eb42a97cfef": {
      "model_module": "@jupyter-widgets/base",
      "model_module_version": "1.2.0",
      "model_name": "LayoutModel",
      "state": {}
     },
     "4e726ef4fc58443db33f8d629c5a2cf2": {
      "model_module": "@jupyter-widgets/base",
      "model_module_version": "1.2.0",
      "model_name": "LayoutModel",
      "state": {}
     },
     "4eee99f9050e49d0b03b55a802534f12": {
      "model_module": "@jupyter-widgets/controls",
      "model_module_version": "1.5.0",
      "model_name": "ButtonModel",
      "state": {
       "description": "Prev",
       "layout": "IPY_MODEL_baf626a2df5d481c99fa928d8d3aa573",
       "style": "IPY_MODEL_44d266d3f7674655b6c7c7a579429fbd"
      }
     },
     "4f194274a8d9403da6eb87978eebc2c5": {
      "model_module": "@jupyter-widgets/base",
      "model_module_version": "1.2.0",
      "model_name": "LayoutModel",
      "state": {}
     },
     "51851281610d4bf495c5e8ca617a87ec": {
      "model_module": "@jupyter-widgets/controls",
      "model_module_version": "1.5.0",
      "model_name": "ButtonModel",
      "state": {
       "description": "Prev",
       "layout": "IPY_MODEL_dba4b8aebe5a4a879eda1340b3087afe",
       "style": "IPY_MODEL_b2c2827689ab4e3bab46dd7f783ae76e"
      }
     },
     "518becf2003d45b6b6c11374bb37da9c": {
      "model_module": "@jupyter-widgets/base",
      "model_module_version": "1.2.0",
      "model_name": "LayoutModel",
      "state": {}
     },
     "528d78ca4db04111938ed19870f03692": {
      "model_module": "@jupyter-widgets/base",
      "model_module_version": "1.2.0",
      "model_name": "LayoutModel",
      "state": {}
     },
     "53bea99966384028b8f803e59eb661dd": {
      "model_module": "@jupyter-widgets/controls",
      "model_module_version": "1.5.0",
      "model_name": "ButtonStyleModel",
      "state": {}
     },
     "54adba0f21a44be595c6a3669aac0343": {
      "model_module": "@jupyter-widgets/controls",
      "model_module_version": "1.5.0",
      "model_name": "ButtonModel",
      "state": {
       "description": "Next",
       "layout": "IPY_MODEL_fda3ef28a22c4f6f89785fa328af7425",
       "style": "IPY_MODEL_216c196cc44e42e4a7559754d03d97c5"
      }
     },
     "5618adf982db414e82b0fdcfafb45cca": {
      "model_module": "@jupyter-widgets/base",
      "model_module_version": "1.2.0",
      "model_name": "LayoutModel",
      "state": {}
     },
     "5636ac926c2a4bdb9d0cc48ae4f66bab": {
      "model_module": "@jupyter-widgets/controls",
      "model_module_version": "1.5.0",
      "model_name": "ButtonModel",
      "state": {
       "description": "Next",
       "layout": "IPY_MODEL_1de5d3714fcd4d72a7059949258742f2",
       "style": "IPY_MODEL_a13276199e024caea2c2b33992c09675"
      }
     },
     "5717b0b87b094879a0456a254a8276c6": {
      "model_module": "@jupyter-widgets/base",
      "model_module_version": "1.2.0",
      "model_name": "LayoutModel",
      "state": {}
     },
     "581d4f12af8d4bf5b38681e04b693886": {
      "model_module": "@jupyter-widgets/output",
      "model_module_version": "1.0.0",
      "model_name": "OutputModel",
      "state": {
       "layout": "IPY_MODEL_0dc569caf0614ef5a2c9aaf74b7b43af",
       "outputs": [
        {
         "data": {
          "image/png": "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\n",
          "text/plain": "<Figure size 504x504 with 1 Axes>"
         },
         "metadata": {},
         "output_type": "display_data"
        }
       ]
      }
     },
     "583dc2b010b4481fabb3827a0562dee3": {
      "model_module": "@jupyter-widgets/controls",
      "model_module_version": "1.5.0",
      "model_name": "HBoxModel",
      "state": {
       "children": [
        "IPY_MODEL_2a0738300a0344199e0ef9e60dd48356",
        "IPY_MODEL_54adba0f21a44be595c6a3669aac0343"
       ],
       "layout": "IPY_MODEL_77a51dc6d01a420fac023bec8985d478"
      }
     },
     "58a9cb5914c84dc8b524e4faa857232b": {
      "model_module": "@jupyter-widgets/base",
      "model_module_version": "1.2.0",
      "model_name": "LayoutModel",
      "state": {}
     },
     "58b8c6dae51b499e884e742977266989": {
      "model_module": "@jupyter-widgets/controls",
      "model_module_version": "1.5.0",
      "model_name": "IntSliderModel",
      "state": {
       "description": "step",
       "layout": "IPY_MODEL_94e4ee0e43ce4ed49a2930b0946d434a",
       "max": 1,
       "style": "IPY_MODEL_072c2bd8d7ca4e3f9645619493b2bd66"
      }
     },
     "594eac995cb24100bda9d5918f93ab96": {
      "model_module": "@jupyter-widgets/output",
      "model_module_version": "1.0.0",
      "model_name": "OutputModel",
      "state": {
       "layout": "IPY_MODEL_ebad9178e4ee46ba85f057431cbcd3a2",
       "outputs": [
        {
         "data": {
          "image/png": "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\n",
          "text/plain": "<Figure size 504x504 with 1 Axes>"
         },
         "metadata": {},
         "output_type": "display_data"
        }
       ]
      }
     },
     "5a0a4b55003e48e4982189ee4ca5c40d": {
      "model_module": "@jupyter-widgets/base",
      "model_module_version": "1.2.0",
      "model_name": "LayoutModel",
      "state": {}
     },
     "5a55428eb4bc4595aada2ecaa196ebc4": {
      "model_module": "@jupyter-widgets/controls",
      "model_module_version": "1.5.0",
      "model_name": "ButtonStyleModel",
      "state": {}
     },
     "5ad4a8abb4564e0284834ca1381ad6e0": {
      "model_module": "@jupyter-widgets/base",
      "model_module_version": "1.2.0",
      "model_name": "LayoutModel",
      "state": {}
     },
     "5b30c5406b704cdb86e1970a23c908ce": {
      "model_module": "@jupyter-widgets/base",
      "model_module_version": "1.2.0",
      "model_name": "LayoutModel",
      "state": {}
     },
     "5c751034cf464bb781ea68480b738702": {
      "model_module": "@jupyter-widgets/controls",
      "model_module_version": "1.5.0",
      "model_name": "ButtonStyleModel",
      "state": {}
     },
     "5c8b74b3dc824581acf6d2bd52e04d17": {
      "model_module": "@jupyter-widgets/controls",
      "model_module_version": "1.5.0",
      "model_name": "SliderStyleModel",
      "state": {
       "description_width": ""
      }
     },
     "5c97a2dd8980458183820203efb12f58": {
      "model_module": "@jupyter-widgets/base",
      "model_module_version": "1.2.0",
      "model_name": "LayoutModel",
      "state": {}
     },
     "5d5e1d7c6a48450d97c308c77bd40c5f": {
      "model_module": "@jupyter-widgets/base",
      "model_module_version": "1.2.0",
      "model_name": "LayoutModel",
      "state": {}
     },
     "5e0196e92dfb49bf8420376ccfbcdf7f": {
      "model_module": "@jupyter-widgets/base",
      "model_module_version": "1.2.0",
      "model_name": "LayoutModel",
      "state": {}
     },
     "605a3f5e536b42f88241d3248fbeca0e": {
      "model_module": "@jupyter-widgets/controls",
      "model_module_version": "1.5.0",
      "model_name": "VBoxModel",
      "state": {
       "_dom_classes": [
        "widget-interact"
       ],
       "children": [
        "IPY_MODEL_94f6f0b61dec4e09a7029adc8b605755",
        "IPY_MODEL_581d4f12af8d4bf5b38681e04b693886"
       ],
       "layout": "IPY_MODEL_cde35b7dfbc74fe2b7b5910ae57a26cd"
      }
     },
     "6098b32a337c422db23508db241b70b4": {
      "model_module": "@jupyter-widgets/base",
      "model_module_version": "1.2.0",
      "model_name": "LayoutModel",
      "state": {}
     },
     "60e4b19d72c24bb4aea6b3c01a265e2d": {
      "model_module": "@jupyter-widgets/base",
      "model_module_version": "1.2.0",
      "model_name": "LayoutModel",
      "state": {}
     },
     "61fbdfd36ff04548b3c03311b7c8ed3f": {
      "model_module": "@jupyter-widgets/base",
      "model_module_version": "1.2.0",
      "model_name": "LayoutModel",
      "state": {}
     },
     "6255d6b2b5674fb79d9a6d29035323d5": {
      "model_module": "@jupyter-widgets/controls",
      "model_module_version": "1.5.0",
      "model_name": "IntSliderModel",
      "state": {
       "description": "step",
       "layout": "IPY_MODEL_bdf2ac4255584f6d9e324eeeea7ecc8a",
       "max": 1,
       "style": "IPY_MODEL_a6727ed681b044b6a014ce2e0ff78458"
      }
     },
     "62862d683fa04363ab0cfa0912f8f72e": {
      "model_module": "@jupyter-widgets/base",
      "model_module_version": "1.2.0",
      "model_name": "LayoutModel",
      "state": {}
     },
     "628ee4b6545e44e99c98920626867f10": {
      "model_module": "@jupyter-widgets/base",
      "model_module_version": "1.2.0",
      "model_name": "LayoutModel",
      "state": {}
     },
     "62d9ee59abf0411c8ec50ea77bf66aee": {
      "model_module": "@jupyter-widgets/base",
      "model_module_version": "1.2.0",
      "model_name": "LayoutModel",
      "state": {}
     },
     "631580d8cbdf4b53801cba545b3e52de": {
      "model_module": "@jupyter-widgets/base",
      "model_module_version": "1.2.0",
      "model_name": "LayoutModel",
      "state": {}
     },
     "63ed10f4ccb44db49bda8ec7024fc142": {
      "model_module": "@jupyter-widgets/base",
      "model_module_version": "1.2.0",
      "model_name": "LayoutModel",
      "state": {}
     },
     "648e6822f4804c1c9b43643558e2301c": {
      "model_module": "@jupyter-widgets/base",
      "model_module_version": "1.2.0",
      "model_name": "LayoutModel",
      "state": {}
     },
     "6574238e9f744b488603cd846ea6ad67": {
      "model_module": "@jupyter-widgets/controls",
      "model_module_version": "1.5.0",
      "model_name": "ButtonModel",
      "state": {
       "description": "Next",
       "layout": "IPY_MODEL_1ea0e22a1f1949e9bda2bc20f82f7df3",
       "style": "IPY_MODEL_9e2b9e231a584de7b3984e428f0dc89b"
      }
     },
     "65e6945445184e00894635c14ff239ae": {
      "model_module": "@jupyter-widgets/base",
      "model_module_version": "1.2.0",
      "model_name": "LayoutModel",
      "state": {}
     },
     "65f309ccc127485ea6002ef2da5eaa35": {
      "model_module": "@jupyter-widgets/base",
      "model_module_version": "1.2.0",
      "model_name": "LayoutModel",
      "state": {}
     },
     "65fb1b9cb40a442198e30d9b970c36e0": {
      "model_module": "@jupyter-widgets/controls",
      "model_module_version": "1.5.0",
      "model_name": "HBoxModel",
      "state": {
       "children": [
        "IPY_MODEL_2da8cbe5906140c4aea3fa7e56e0be01",
        "IPY_MODEL_a1ba66d7a15a43be832a8ed66f5e546b"
       ],
       "layout": "IPY_MODEL_411511a78b7f4d4f9269ec1b494e6a03"
      }
     },
     "66a551bafdb54b40a69d466794e07937": {
      "model_module": "@jupyter-widgets/controls",
      "model_module_version": "1.5.0",
      "model_name": "ButtonModel",
      "state": {
       "description": "Next",
       "layout": "IPY_MODEL_631580d8cbdf4b53801cba545b3e52de",
       "style": "IPY_MODEL_23dc7a6501a146c29c91437b44a4e684"
      }
     },
     "66e0c2714ef2475cb495cee0f7830601": {
      "model_module": "@jupyter-widgets/controls",
      "model_module_version": "1.5.0",
      "model_name": "ButtonStyleModel",
      "state": {}
     },
     "6735edd5650148e5aa6bc895aad84005": {
      "model_module": "@jupyter-widgets/controls",
      "model_module_version": "1.5.0",
      "model_name": "IntSliderModel",
      "state": {
       "description": "step",
       "layout": "IPY_MODEL_27cf60dd9c6540f3bff379c8eddafd3b",
       "max": 19,
       "style": "IPY_MODEL_91d63edc75c5410a9b163dec9e8873be"
      }
     },
     "67be0b38fa21441b9828c28159dcc735": {
      "model_module": "@jupyter-widgets/controls",
      "model_module_version": "1.5.0",
      "model_name": "ButtonStyleModel",
      "state": {}
     },
     "68286cbf348a4889bcaa1da5130e29b5": {
      "model_module": "@jupyter-widgets/controls",
      "model_module_version": "1.5.0",
      "model_name": "ButtonStyleModel",
      "state": {}
     },
     "6839b9c922a3486f86eb7dce1c8806ae": {
      "model_module": "@jupyter-widgets/controls",
      "model_module_version": "1.5.0",
      "model_name": "VBoxModel",
      "state": {
       "_dom_classes": [
        "widget-interact"
       ],
       "children": [
        "IPY_MODEL_7153895154584c809ea5ca80c9110d4a",
        "IPY_MODEL_9027ed412c34495e9f9f039cdffdbf06"
       ],
       "layout": "IPY_MODEL_4be5cf44193643c8be410aea95c6a4a0"
      }
     },
     "68ae6015cc704faa928b66b6f7c5c557": {
      "model_module": "@jupyter-widgets/controls",
      "model_module_version": "1.5.0",
      "model_name": "ButtonModel",
      "state": {
       "description": "Next",
       "layout": "IPY_MODEL_e07b124c6cde4b06998ebe9c0cef0d60",
       "style": "IPY_MODEL_f522c4f67744432dbb53af1a6ab1815d"
      }
     },
     "69932fda925a44b0bad702bdeb555e5d": {
      "model_module": "@jupyter-widgets/controls",
      "model_module_version": "1.5.0",
      "model_name": "ButtonStyleModel",
      "state": {}
     },
     "6ab235c572884d7eb7a31ea878d9c158": {
      "model_module": "@jupyter-widgets/base",
      "model_module_version": "1.2.0",
      "model_name": "LayoutModel",
      "state": {}
     },
     "6ac6134075ec4d09a092d1e1a4c61397": {
      "model_module": "@jupyter-widgets/controls",
      "model_module_version": "1.5.0",
      "model_name": "HBoxModel",
      "state": {
       "children": [
        "IPY_MODEL_2a3a0903710f48ff882e654b3bc3fa71",
        "IPY_MODEL_d2fa639e5f884d999573f56f4cb58ab2"
       ],
       "layout": "IPY_MODEL_9469482e29f240e0936e480bbb7b564d"
      }
     },
     "6b00425bd7854c4687b0e7c23729677a": {
      "model_module": "@jupyter-widgets/controls",
      "model_module_version": "1.5.0",
      "model_name": "ButtonStyleModel",
      "state": {}
     },
     "6b0d215c0ed24272866372c364cd415d": {
      "model_module": "@jupyter-widgets/controls",
      "model_module_version": "1.5.0",
      "model_name": "ButtonModel",
      "state": {
       "description": "Next",
       "layout": "IPY_MODEL_a8ea53b254b5466bbb2ace10780daf14",
       "style": "IPY_MODEL_9cef856d064f4bf389ba1584f5e09738"
      }
     },
     "6b1118f59a28424aa4753fad4aec2073": {
      "model_module": "@jupyter-widgets/base",
      "model_module_version": "1.2.0",
      "model_name": "LayoutModel",
      "state": {}
     },
     "6c9e7f4ca8ab4d19aa826a1ff7916812": {
      "model_module": "@jupyter-widgets/controls",
      "model_module_version": "1.5.0",
      "model_name": "ButtonModel",
      "state": {
       "description": "Next",
       "layout": "IPY_MODEL_db2b749521534f4289cb349e9a8209e1",
       "style": "IPY_MODEL_2524e0080e8248d387c8bd0989ce5925"
      }
     },
     "6d328a7f9f23485cb0eedc4c44b34751": {
      "model_module": "@jupyter-widgets/base",
      "model_module_version": "1.2.0",
      "model_name": "LayoutModel",
      "state": {}
     },
     "6d6d55a17b0c4fe8b6d97ae86a891cbc": {
      "model_module": "@jupyter-widgets/base",
      "model_module_version": "1.2.0",
      "model_name": "LayoutModel",
      "state": {}
     },
     "6dad67e535d64321b9036bfa11869696": {
      "model_module": "@jupyter-widgets/output",
      "model_module_version": "1.0.0",
      "model_name": "OutputModel",
      "state": {
       "layout": "IPY_MODEL_62d9ee59abf0411c8ec50ea77bf66aee",
       "outputs": [
        {
         "data": {
          "image/png": "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\n",
          "text/plain": "<Figure size 504x504 with 1 Axes>"
         },
         "metadata": {},
         "output_type": "display_data"
        }
       ]
      }
     },
     "6e133336f3294116b54c3926e3cbbb83": {
      "model_module": "@jupyter-widgets/output",
      "model_module_version": "1.0.0",
      "model_name": "OutputModel",
      "state": {
       "layout": "IPY_MODEL_70bb494f0a894607a8b700bde53b940b",
       "outputs": [
        {
         "data": {
          "image/png": "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\n",
          "text/plain": "<Figure size 504x504 with 1 Axes>"
         },
         "metadata": {},
         "output_type": "display_data"
        }
       ]
      }
     },
     "6e5f99545b6e4e27a668bc5286aaf52f": {
      "model_module": "@jupyter-widgets/controls",
      "model_module_version": "1.5.0",
      "model_name": "VBoxModel",
      "state": {
       "_dom_classes": [
        "widget-interact"
       ],
       "children": [
        "IPY_MODEL_a210b2ea8dec4354b2f48b4dbeff1363",
        "IPY_MODEL_6e133336f3294116b54c3926e3cbbb83"
       ],
       "layout": "IPY_MODEL_a8191143b4f74bdc8c78b8ff0b8c154b"
      }
     },
     "6e914b439e314e9394cfda228643ae1c": {
      "model_module": "@jupyter-widgets/controls",
      "model_module_version": "1.5.0",
      "model_name": "ButtonModel",
      "state": {
       "description": "Next",
       "layout": "IPY_MODEL_bf1fa8b5aa804722a08c9d795ea03ec1",
       "style": "IPY_MODEL_6b00425bd7854c4687b0e7c23729677a"
      }
     },
     "6eca976a3fdc4058a3e53737ba7dd34d": {
      "model_module": "@jupyter-widgets/controls",
      "model_module_version": "1.5.0",
      "model_name": "ButtonStyleModel",
      "state": {}
     },
     "700006bbad5648a990c5a50d8300b51d": {
      "model_module": "@jupyter-widgets/base",
      "model_module_version": "1.2.0",
      "model_name": "LayoutModel",
      "state": {}
     },
     "7019bc16f5544f8089b953b269899e18": {
      "model_module": "@jupyter-widgets/controls",
      "model_module_version": "1.5.0",
      "model_name": "HBoxModel",
      "state": {
       "children": [
        "IPY_MODEL_e584ba5edafb4caab7f93fa631295bb7",
        "IPY_MODEL_5636ac926c2a4bdb9d0cc48ae4f66bab"
       ],
       "layout": "IPY_MODEL_7cb29dbabf3141cfa8750927194c3cfc"
      }
     },
     "70bb494f0a894607a8b700bde53b940b": {
      "model_module": "@jupyter-widgets/base",
      "model_module_version": "1.2.0",
      "model_name": "LayoutModel",
      "state": {}
     },
     "70e088d685a948e3a81d06c0907f5613": {
      "model_module": "@jupyter-widgets/controls",
      "model_module_version": "1.5.0",
      "model_name": "IntSliderModel",
      "state": {
       "description": "step",
       "layout": "IPY_MODEL_1f6051c35c154e8ab2b9e625d2aa1bf9",
       "max": 17,
       "style": "IPY_MODEL_02e30c1b471a4b8ab3662a106a777a82"
      }
     },
     "710471d38c504bcca9af0ad7286ab155": {
      "model_module": "@jupyter-widgets/controls",
      "model_module_version": "1.5.0",
      "model_name": "ButtonModel",
      "state": {
       "description": "Prev",
       "layout": "IPY_MODEL_48f5e508ceae4cd9b7c971373ac4cf1c",
       "style": "IPY_MODEL_66e0c2714ef2475cb495cee0f7830601"
      }
     },
     "7153895154584c809ea5ca80c9110d4a": {
      "model_module": "@jupyter-widgets/controls",
      "model_module_version": "1.5.0",
      "model_name": "IntSliderModel",
      "state": {
       "description": "step",
       "layout": "IPY_MODEL_1575049e29b646258c2b5bf7a966e63c",
       "max": 19,
       "style": "IPY_MODEL_9aff95858d6c4a02ae044fddf708a46f"
      }
     },
     "71f18299b575496c94a3f7c7333b6cd2": {
      "model_module": "@jupyter-widgets/controls",
      "model_module_version": "1.5.0",
      "model_name": "IntSliderModel",
      "state": {
       "description": "step",
       "layout": "IPY_MODEL_5b30c5406b704cdb86e1970a23c908ce",
       "max": 1,
       "style": "IPY_MODEL_883b579a334242eea29958b08b07d487"
      }
     },
     "720d08139c9046ff9a550d796ba65332": {
      "model_module": "@jupyter-widgets/controls",
      "model_module_version": "1.5.0",
      "model_name": "ButtonModel",
      "state": {
       "description": "Next",
       "layout": "IPY_MODEL_90ce537f53fc4d67ab1525aefe4b9132",
       "style": "IPY_MODEL_92a05f7a71264a0abac7d8b80dd33606"
      }
     },
     "7316e8c84bb4406b9268d465e398fd04": {
      "model_module": "@jupyter-widgets/controls",
      "model_module_version": "1.5.0",
      "model_name": "HBoxModel",
      "state": {
       "children": [
        "IPY_MODEL_010be767b40a461e959447f8897e435f",
        "IPY_MODEL_ac50aab610394a8dba46194be1d28485"
       ],
       "layout": "IPY_MODEL_41f7c3ca79124887b6323f904c339d06"
      }
     },
     "73d405cd28e846de86a19f5d695edaff": {
      "model_module": "@jupyter-widgets/base",
      "model_module_version": "1.2.0",
      "model_name": "LayoutModel",
      "state": {}
     },
     "742922f68b8a4446be7eec424c1fabe6": {
      "model_module": "@jupyter-widgets/controls",
      "model_module_version": "1.5.0",
      "model_name": "VBoxModel",
      "state": {
       "_dom_classes": [
        "widget-interact"
       ],
       "children": [
        "IPY_MODEL_7d6933c956c44676b2236c5bf9fbcd68",
        "IPY_MODEL_1e21e278651c4cfdb369d7d3a7f11868"
       ],
       "layout": "IPY_MODEL_eccc8cbbdea74b7897369953c0efe9e3"
      }
     },
     "74474b9c588a40acbc8847d1b10b705b": {
      "model_module": "@jupyter-widgets/controls",
      "model_module_version": "1.5.0",
      "model_name": "ButtonStyleModel",
      "state": {}
     },
     "74d59227dcc841979e9bff316d4b883b": {
      "model_module": "@jupyter-widgets/base",
      "model_module_version": "1.2.0",
      "model_name": "LayoutModel",
      "state": {}
     },
     "7550a1bf037844d8ba4e80fd09001daf": {
      "model_module": "@jupyter-widgets/base",
      "model_module_version": "1.2.0",
      "model_name": "LayoutModel",
      "state": {}
     },
     "758afb248eac4c7784ef10c98f50a95c": {
      "model_module": "@jupyter-widgets/controls",
      "model_module_version": "1.5.0",
      "model_name": "ButtonModel",
      "state": {
       "description": "Prev",
       "layout": "IPY_MODEL_f7608b7d9876416693e527ee17eb5f7a",
       "style": "IPY_MODEL_efb459447af84f5db2400a0b2223b328"
      }
     },
     "75a4f615e4ae4435a72e486cb40e8d45": {
      "model_module": "@jupyter-widgets/base",
      "model_module_version": "1.2.0",
      "model_name": "LayoutModel",
      "state": {}
     },
     "75dc07f17b994f07b4dc870070065a47": {
      "model_module": "@jupyter-widgets/controls",
      "model_module_version": "1.5.0",
      "model_name": "HBoxModel",
      "state": {
       "children": [
        "IPY_MODEL_2175fbad8b1940b888bc93ddfa3aadf0",
        "IPY_MODEL_9258c4188b3d450f80aec6539acaad0c"
       ],
       "layout": "IPY_MODEL_087b9bc44a2b4a9da70b4ee1f7567636"
      }
     },
     "75e3fd26f0ea4ef289d2e3fc4f4bf0c2": {
      "model_module": "@jupyter-widgets/controls",
      "model_module_version": "1.5.0",
      "model_name": "ButtonStyleModel",
      "state": {}
     },
     "76284abe8d864313b010d968d0044dcc": {
      "model_module": "@jupyter-widgets/controls",
      "model_module_version": "1.5.0",
      "model_name": "VBoxModel",
      "state": {
       "_dom_classes": [
        "widget-interact"
       ],
       "children": [
        "IPY_MODEL_ce91943ea99c467eac3625767c142678",
        "IPY_MODEL_11c61d7c50744d729fa09d994f80bcd7"
       ],
       "layout": "IPY_MODEL_cc1da1f863f44ae7b6a6b94b8e6b26cd"
      }
     },
     "763f9fcb8e764e72b286ce028b90693d": {
      "model_module": "@jupyter-widgets/base",
      "model_module_version": "1.2.0",
      "model_name": "LayoutModel",
      "state": {}
     },
     "76ad56cbf7894b5caef85cd1d6436b0a": {
      "model_module": "@jupyter-widgets/controls",
      "model_module_version": "1.5.0",
      "model_name": "HBoxModel",
      "state": {
       "children": [
        "IPY_MODEL_783915152dc6468b8de74a2fcf10ae54",
        "IPY_MODEL_2db33002837b411ea50a95755049a080"
       ],
       "layout": "IPY_MODEL_4e726ef4fc58443db33f8d629c5a2cf2"
      }
     },
     "76c6215faa1b4ed4ae9feda3ce89091d": {
      "model_module": "@jupyter-widgets/controls",
      "model_module_version": "1.5.0",
      "model_name": "ButtonModel",
      "state": {
       "description": "Prev",
       "layout": "IPY_MODEL_6ab235c572884d7eb7a31ea878d9c158",
       "style": "IPY_MODEL_3a156a6c7cb441f088d72566127faa34"
      }
     },
     "76f751919c80474cb4fdc14371e62399": {
      "model_module": "@jupyter-widgets/base",
      "model_module_version": "1.2.0",
      "model_name": "LayoutModel",
      "state": {}
     },
     "77a51dc6d01a420fac023bec8985d478": {
      "model_module": "@jupyter-widgets/base",
      "model_module_version": "1.2.0",
      "model_name": "LayoutModel",
      "state": {}
     },
     "77b7954e445b47fd942e2e2e77ea16a9": {
      "model_module": "@jupyter-widgets/controls",
      "model_module_version": "1.5.0",
      "model_name": "ButtonModel",
      "state": {
       "description": "Prev",
       "layout": "IPY_MODEL_a01630e3929041a1b00b1afe36af9f46",
       "style": "IPY_MODEL_cc25849c0c6c443e8750e42e87d39710"
      }
     },
     "77bfda3d8ee14431a5b6eab31730eed3": {
      "model_module": "@jupyter-widgets/base",
      "model_module_version": "1.2.0",
      "model_name": "LayoutModel",
      "state": {}
     },
     "783915152dc6468b8de74a2fcf10ae54": {
      "model_module": "@jupyter-widgets/controls",
      "model_module_version": "1.5.0",
      "model_name": "ButtonModel",
      "state": {
       "description": "Prev",
       "layout": "IPY_MODEL_1969b10c38724dcda993105f41876801",
       "style": "IPY_MODEL_a68b0c289af942189c0377238bccab68"
      }
     },
     "7996b20a052140cca4188ce227bf5e1c": {
      "model_module": "@jupyter-widgets/controls",
      "model_module_version": "1.5.0",
      "model_name": "SliderStyleModel",
      "state": {
       "description_width": ""
      }
     },
     "7a0987a9c4be43549eee2f744f1b42b0": {
      "model_module": "@jupyter-widgets/controls",
      "model_module_version": "1.5.0",
      "model_name": "HBoxModel",
      "state": {
       "children": [
        "IPY_MODEL_0be207e1f45044f3b149b734855a7bd2",
        "IPY_MODEL_68ae6015cc704faa928b66b6f7c5c557"
       ],
       "layout": "IPY_MODEL_f48406e213bc420b83023f98f3c36766"
      }
     },
     "7b1d436a578d4e3ab52d853e4c93146c": {
      "model_module": "@jupyter-widgets/controls",
      "model_module_version": "1.5.0",
      "model_name": "ButtonStyleModel",
      "state": {}
     },
     "7b7b153fd6164918b86b668ae456899c": {
      "model_module": "@jupyter-widgets/controls",
      "model_module_version": "1.5.0",
      "model_name": "ButtonStyleModel",
      "state": {}
     },
     "7b7bf27aee24429c827f035763ad7d62": {
      "model_module": "@jupyter-widgets/controls",
      "model_module_version": "1.5.0",
      "model_name": "IntSliderModel",
      "state": {
       "description": "step",
       "layout": "IPY_MODEL_41c0adc5678844f6aa09109a7ba3cd4e",
       "max": 4,
       "style": "IPY_MODEL_2e0ef0cf519442ee8e8654de51343842"
      }
     },
     "7c504b0f55ac47218da6f2643d5d90b6": {
      "model_module": "@jupyter-widgets/controls",
      "model_module_version": "1.5.0",
      "model_name": "VBoxModel",
      "state": {
       "_dom_classes": [
        "widget-interact"
       ],
       "children": [
        "IPY_MODEL_c827cd94d0ce41018e14a46a45edb157",
        "IPY_MODEL_4bac7124372d49c3941484baf39f3b11"
       ],
       "layout": "IPY_MODEL_2bdbbad8135b4daeb23d7c19147dbd98"
      }
     },
     "7c887305e7904348afa0f424159595ad": {
      "model_module": "@jupyter-widgets/controls",
      "model_module_version": "1.5.0",
      "model_name": "ButtonStyleModel",
      "state": {}
     },
     "7cb29dbabf3141cfa8750927194c3cfc": {
      "model_module": "@jupyter-widgets/base",
      "model_module_version": "1.2.0",
      "model_name": "LayoutModel",
      "state": {}
     },
     "7d6933c956c44676b2236c5bf9fbcd68": {
      "model_module": "@jupyter-widgets/controls",
      "model_module_version": "1.5.0",
      "model_name": "IntSliderModel",
      "state": {
       "description": "step",
       "layout": "IPY_MODEL_e457ced687eb46709264edcb4a9137db",
       "max": 13,
       "style": "IPY_MODEL_aee819790a08488994584e3d808d8d5c"
      }
     },
     "7dd09917c24748ad9ad78aa0d7ce35fb": {
      "model_module": "@jupyter-widgets/controls",
      "model_module_version": "1.5.0",
      "model_name": "IntSliderModel",
      "state": {
       "description": "step",
       "layout": "IPY_MODEL_7f0895eaba9c4c0287df6ddd385bae31",
       "max": 16,
       "style": "IPY_MODEL_12f86f11b734409482f8bdd554512041"
      }
     },
     "7f0895eaba9c4c0287df6ddd385bae31": {
      "model_module": "@jupyter-widgets/base",
      "model_module_version": "1.2.0",
      "model_name": "LayoutModel",
      "state": {}
     },
     "7f281771414244a189c0c85d5e94a1e0": {
      "model_module": "@jupyter-widgets/base",
      "model_module_version": "1.2.0",
      "model_name": "LayoutModel",
      "state": {}
     },
     "800071da7d9e4d31aa7b406f0bb95aa1": {
      "model_module": "@jupyter-widgets/base",
      "model_module_version": "1.2.0",
      "model_name": "LayoutModel",
      "state": {}
     },
     "80802c4bcbcb4ef886a5b4a44993523b": {
      "model_module": "@jupyter-widgets/base",
      "model_module_version": "1.2.0",
      "model_name": "LayoutModel",
      "state": {}
     },
     "82bac8acafc34117ae672a8f6a9d5365": {
      "model_module": "@jupyter-widgets/controls",
      "model_module_version": "1.5.0",
      "model_name": "ButtonModel",
      "state": {
       "description": "Prev",
       "layout": "IPY_MODEL_8f55a22b602844049aaa45c969e57a0f",
       "style": "IPY_MODEL_8c55d4a65e434886a42e8ecb6cca6d3f"
      }
     },
     "864754e0735a4ad8b59d0b73f1766578": {
      "model_module": "@jupyter-widgets/base",
      "model_module_version": "1.2.0",
      "model_name": "LayoutModel",
      "state": {}
     },
     "86fc048c1e8e423fb14c69618a7d64f6": {
      "model_module": "@jupyter-widgets/controls",
      "model_module_version": "1.5.0",
      "model_name": "IntSliderModel",
      "state": {
       "description": "step",
       "layout": "IPY_MODEL_9b7bd6054dc3489c9cdd1e1188ff230e",
       "max": 18,
       "style": "IPY_MODEL_e1e5468a24324087b5ae265444847506"
      }
     },
     "86fea26075314f42946a1c27586bf6c2": {
      "model_module": "@jupyter-widgets/base",
      "model_module_version": "1.2.0",
      "model_name": "LayoutModel",
      "state": {}
     },
     "870f4ee592ac4275bced53d9d1831b87": {
      "model_module": "@jupyter-widgets/controls",
      "model_module_version": "1.5.0",
      "model_name": "HBoxModel",
      "state": {
       "children": [
        "IPY_MODEL_e27c0fc0896c42718ead9a736a9ca3e5",
        "IPY_MODEL_bb1a588d8dd44771bf19d79eba69c8ad"
       ],
       "layout": "IPY_MODEL_0a7941cc7be44da694d1bf3c64332831"
      }
     },
     "883b579a334242eea29958b08b07d487": {
      "model_module": "@jupyter-widgets/controls",
      "model_module_version": "1.5.0",
      "model_name": "SliderStyleModel",
      "state": {
       "description_width": ""
      }
     },
     "88ab436455bf45d588eef5a47c13971a": {
      "model_module": "@jupyter-widgets/controls",
      "model_module_version": "1.5.0",
      "model_name": "SliderStyleModel",
      "state": {
       "description_width": ""
      }
     },
     "89578081a1f54c4583df162f464dd11f": {
      "model_module": "@jupyter-widgets/output",
      "model_module_version": "1.0.0",
      "model_name": "OutputModel",
      "state": {
       "layout": "IPY_MODEL_3061449b60cc46bd8582b067c46c108c",
       "outputs": [
        {
         "data": {
          "image/png": "iVBORw0KGgoAAAANSUhEUgAAAi0AAAIcCAYAAAA6z556AAAAOXRFWHRTb2Z0d2FyZQBNYXRwbG90bGliIHZlcnNpb24zLjQuMiwgaHR0cHM6Ly9tYXRwbG90bGliLm9yZy8rg+JYAAAACXBIWXMAAAsTAAALEwEAmpwYAABHs0lEQVR4nO3dd3xV5eHH8c+TQICwIeyNgAiCqGG6N1hRcaF14cLaYbXa1tnWtra2tlXrqMVZFQfuPYp7I8gSZO+9Rwhknt8fif1hBFm5Obk3n/frlRfJOefefL1eki/Pec5zQhRFSJIkVXZpcQeQJEnaGZYWSZKUFCwtkiQpKVhaJElSUrC0SJKkpGBpkSRJSaFa3AF2V1ZWVtS+ffu4Y0iSpHI0bty4VVEUNdnWvqQtLe3bt2fs2LFxx5AkSeUohDB/e/s8PSRJkpKCpUWSJCUFS4skSUoKlhZJkpQULC2SJCkpWFokSVJSsLRIkqSkYGmRJElJwdIiSZKSgqVFkiQlBUuLJElKCpYWSZKUFCwtkiQpKVhaJElSUrC0SJKkpGBpkSRJScHSIkmSkoKlRZIkJQVLiyRJ2ikjR46kffv2pKWl0b59e0aOHFmh379ahX43SZKUlEaOHMnw4cPZXBgRatRm/vz5DB8+HICzzz67QjKEKIoq5BuVt+zs7Gjs2LHl/rxXXHEFALfffnu5P7ckScmqffv2pDdqzYG99uOVD8aweXbJ7+B27doxb968cvs+IYRxURRlb2ufIy1lTJgwIe4IkiRVKvkFhXQ7bDC9O2SxfmMONdYvZHPpvgULFlRYDkuLJEnarq/mLOLRJ56mb8cspq4q4MX77iIvb8v/9rdt27bCslhaJEnSNr00YTHvvvAEtchnc91WvPLXn3+rsGRmZnLzzTdXWB5LiyRJ+pZlq9fy1//O4bkJy+jfsge/PekAurZrSo/mtbjooovIy8ujXbt23HzzzRU2CRcsLZIkaSuvfTSOj99+k0WFjfj5UUfysyM7US29ZIWUs88+m/vuuw+A9957r8KzWVokSRK5m7dwx3+eIX/5bPJCbX586lEc3qtz3LG+xdIiSVIVN37aXJ5+5hkyCnPJa9yJ6y44hUZ1asUd6zssLZIkVVFRFPHsl4v524sTOCitmO6HnMDZRx0Yd6ztsrRIklQFzV+8gruee4enF9ehT4fmXHnGcbRumBl3rO9laZEkqQqJoohn3vqQSZ99QEYEVx1+Aj8+dj/S00Lc0XbI0iJJUhWxdsNG7nz4KaK1i9mY1oAzTz+Ffl3bxB1rp1laJEmqAqYv28AD942gZlEuUct9ufn8E6ldo3rcsXaJpUWSpBSWl5fPyC8W8pc3ZtAhox2XHdeNk/p3jzvWbrG0SJKUoqbMms/jTz3NxM0NOahTT/5y6pE0qVsj7li7zdIiSVKKKS4u5qHn3mTBlC8ojKpxYr9uXPKDbEKo/JNtv4+lRZKkFLJ4+SrufeRJquWuZn1GU4afcxrd2jSJO1a5sLRIkpQixsxdw++f/JCeeevI7NSXv555DBnV0uOOVW4sLZIkJbn1Gzdx94sfct+UIto0bMCJZ19Mv87N445V7iwtkiQlsQ+/nMLrr7xMteJ8hvY8lhtOyaZOjdT89Z6a/1WSJKW4/PwC7hr5AhsXTCWfWhx49BBOPbhH3LESytIiSVKSWbIul3/eM4JaBevZWKctV15wGq0a1Y07VsJZWiRJShJRFPHKpKVc//xkWhc3Zkjv3lx8woCkv5R5Z1laJElKAouWr+beR57k43V12avVXtx2xsG0z6odd6wKZWmRJKmSe/btz/jyo7dJi4r5QfdOXDG0P9XS0+KOVeEsLZIkVVLrc3K5/aFRsGY+W9LqcuopQxjQvUPcsWJjaZEkqRKavGg9fxg5mn02zye02IebzjuZOrUy4o4VK0uLJEmVSF5+AXe/+gX3fLGOrDoNuHDw2Qw8sFPcsSoFS4skSZXEhJkLeGLUM2QU5HBC16O56bTe1M+sHnesSsPSIklSzIqLi7nnmf+yfOoY0kmjc9+jOG/QgLhjVTqWFkmSYrR0XS63/ftham9ZSV7NLC49byh7tcyKO1alZGmRJCkmr0xawg0vfEWnouoc3q0PN55+HGlpVe9S5p1laZEkqYKtXLeJfzz8NO+uqEG7Vm356xln0bFJnbhjVXqWFkmSKtDLn0zmw/++Rma0hVP23p9fnFM1F4rbHQl7lULgzBD4MgRyQmBxCDwSAi3LHBNC4LoQWBgCm0PggxDolahMkiTFJWdLPr+9dxRj33qO9BBx2Amn8avzT7Sw7IKEvFIhcCLwBPAJcBLwa+BQ4JUQvvU9rwFuBP4CDAZygNEh0DwRuSRJisO4+Wu56LbnSFv+NemN23LNlT/jiOzuccdKOok6PfRD4Mso4qffbAiBDcCLwN7A1yFQk5LS8uco4q7SYz4F5gE/BW5IUDZJkipEXkERt706nhGfL6dFvSace1RXTji4V9yxklaiSkt1YH2ZbetK//zm/tkDgHrAqG8OiCI2hcDLwCAsLZKkJDZ+zjIefuJZahes5fSex3DDkAOoW9OF4vZEokrLg8ALIXAe8ALQHPgj8G4UMbX0mK5AETCzzGO/BoYmKJckSQlVVBxx5/MfsmzyR9QPhezVqx/nndSHEMKOH6zvlZDSEkW8GgLDgAeA/5Ru/gQ4cavDGgI5UURRmYevBTJDICOKyN96RwhhODAcoG3btomILknSbpu7ciO3PfQ0jTcvpFpGXc4+63T27tAm7lgpI1ETcY8A7gXuAI4AzgQaAc+HQPpWh0bbevj29kVRNCKKouwoirKbNGlSzqklSdo9URTx2Gfz+cGdH5OTu5msjt357S9/ZmEpZ4k6PfR34KUo4tffbAiBCcA0Sq4meo6SEZW6IZBeZrSlAZAbRRQkKJskSeVmydpcbvnPi3ywvDoH7NWGP5x6Aa0aZsYdKyUlqrR0peSS5/+JIqaHwGZgr9JN04B0oBMwvcxjpyUolyRJ5SKKIp7+dDofvvUaWWEjw/bpweXn9CEtzbkriZKo0jIfOGDrDSGwD1CLkkuaoWSOywbgdEom6RICmZSs1zIiQbkkSdpjq3PyuPnRN6i1fBIN0wIHHTWIowb0drJtgiWqtNwL3BYCS4DXgWbAbygpLK8BRBFbQuAW4MYQWEvJ6MovKJlnc2eCckmStEfe/no5dz79NvtHM6neoAmXnncWjRs1jDtWlZCo0vJPIB+4DPgRJWu0fARcG0Vs2uq4WygpKdcCjYGxwDFRxPIE5ZIkabds3FLAH16cxKjxy9inWUsO6NmWHxwxwLsyV6BEXfIcAf8q/djRcTeXfkiSVCl9OGMZD456hcYFK7ns4BO4YmA3alRL3/EDVa68y7MkSduxOb+Ivzz/Geumfkz7tM2069aTs4/rSnULSywsLZIkbcOX89dw++Ov0j5vLg0yMjj1lKHsu0/XuGNVaZYWSZK2kl9YzB1vz+Bf783ihFqrad6mPeefeSq1a9eOO1qVZ2mRJKnU10s38MfH/suXq9M45cCOXHPcETSum+mlzJWEpUWSVOUVFhVz77vT+OKDd+iSvprD99uPS07fL+5YKsPSIkmq0uaszOE3I9+jxdrJdEgvoE//gznu6CPijqVtsLRIkqqk4uKIRz6dx+NvfsyAtNnUqFuPc4aeQ5s23uSwsrK0SJKqnEVrc/nV0xP5ZM4ajuzcgV7NGnP8sUeRkZERdzR9D0uLJKnKiKKIUWMX8vgr79ImrOZPJw/hrL7tnWibJCwtkqQqYcWGLVw/6gtYMJYD0jfQul0HhuzX3MKSRCwtkqSU98qkJdz9/Pv0iuZQq3rEwOOOp3fvbAtLkrG0SJJS1tpN+dz44le8OmkxQ+sspmXDRpw19HSysrLijqbdYGmRJKWk0VOXc8uzn7B4SzWuOrYrP+x1MPXr1yM93fsGJStLiyQppWzYUsAfXvqKmZO+4ODqS9k7+0DOOrJz3LFUDiwtkqSU8cmsVfx21Ofsnfc1+1ffxL49e3LC8cfEHUvlxNIiSUp6m/OL+Msb0xj92QSOrDGHmjWrc9KJp9G9e/e4o6kcWVokSUlt3Py1XP30ROau2sQF2Z3pXJDOCT84nnr16sUdTeXM0iJJSkp5hUXcPnomr3w4jn1qbuSPF5/KQZ2aAH3ijqYEsbRIkpLOV4vX88unvqT+2q85OmMlWY2bsH/L2nHHUoJZWiRJSaOwqJh73pvNY+9M4LCMudSptpn+/ftz5JFHUq2av9JSnf+HJUlJYdaKjVw1aiKTFq3l3LpzqV+rGqcMOY8OHTrEHU0VxNIiSarUioojHvp4Lne/OYlQvSZ3n53N/lnZNGjQgFq1asUdTxXI0iJJqrQWrM7l6lETWLNoJifWWETffv04vkeLuGMpJpYWSVKlE0URj49ZwK2vTqJ32jy6Z6yhbZu2DOhzYNzRFCNLiySpUlm6fjO/emYSM2bPZXCteWRQwJFHHk3//v1JS0uLO55iZGmRJFUKURTxwoTF/ObFKRQWRVx1WGcK567jpJNOokULTwnJ0iJJqgRW5eRx/fOTGTN1Lgc3zufXw06mfVZtougAQghxx1MlYWmRJMXqja+Wcf1zk2hdsIiTay2mTsikaWZJUbGwaGuWFklSLNZvLuCml6bw5oS5DKyzgHrROrru3ZXBgweTmZkZdzxVQpYWSVKF+2DGSn71zCRW52zm3HqzqE4hA088kV69ejm6ou2ytEiSKsymvEL+/PrXPPnZXNo3qceI8w6mZm4XsrKyaNSoUdzxVMlZWiRJFeKLeWu4+umJ5K9bxrn1FnLcIUfQs3UDoEHMyZQsLC2SpITaUlDEbf+dwf0fzuLQOiton7GIRnUb0aZVy7ijKclYWiRJCfPV4vX8YtQEVqxYyTkNFpG2ZT0HHnggxx57LBkZGXHHU5KxtEiSyl1hUTH3vDebf749k0a1M7jx2HbMHTePwWeeyd577x13PCUpS4skqVzNWpHDVaMmMGPRSoZ0rMb15xxKg8wM8g/az9EV7RFLiySpXBQXRzz48VxufXM6naqv4+x686m2BmqEowEsLNpjlhZJ0h5buCaXq5+eyJdzVzKkyQpq5yymaVYLTjnlFGrVqhV3PKUIS4skabdFUcSosQv5/ctTSQ8RF2bNpmDTRg4+5BAOO+ww0tPT446oFGJpkSTtlhUbt3DNs5N5Z9py+nVszN9O349ls5vQtGlT2rZtG3c8pSBLiyRpl702eSnXPz+Z9PwcLm22hFMO60zrhpm0zs6OO5pSmKVFkrTT1ucW8JuXvuLFCYs5KiuHDumzSS+oHncsVRGWFknSTvnmJoc5OTlc0nIFhWuX0K5jR04++WTq1q0bdzxVAZYWSdL3ys0v5E+vfc1jny2gU9M63NCvCRM+mczAgQPp06ePd2VWhbG0SJK2a9z8tVw1agKL12zkol4N+OWpB1GjWhoHH9CNBg0axB1PVYylRZL0HfmFxdw+egb3vj+bvesWMrzJXArnboaiPoTqNS0sioWlRZL0LdOWbeDKpyYybel6fth2EzVWTadaqMvpZ51FzZo1446nKszSIkkCoKg44v4P5/D3t2bQoGYaP2u9iI0rl7Nvjx4cf/zxFhbFztIiSWLhmlyuGjWRMfPWcFz3ZvxpSA++/DSN5s0PokePHnHHkwBIS9QTh0C1ELgmBGaGQF4ILAqB28ocE0LguhBYGAKbQ+CDEOiVqEySpG+LooinvljAwNs/YPbS1fy842p+c2QLGtepwTHHHGNhUaWSyJGWh4CjgJuAaUAboFuZY64BbgR+WXrML4DRIbBvFLEsgdkkqcpbuTGPa5+bxOivV3B0q4guW6aRs3wzK1asoFWrVnHHk74jIaUlBAYCZwL7RRFTt3NMTUpKy5+jiLtKt30KzAN+CtyQiGySJHhzyjKufW4ym/Py+VnnHHIWTaNOkyacd+45NG/ePO540jYlaqTlQuCd7RWWUgOAesCobzZEEZtC4GVgEJYWSSp3G7cUcNPLU3lm3CL2bVWPH+2TwbiPx9K3b1+OOuooqld3SX5VXokqLX2Bl0LgLuC80u/zBvDTKGJJ6TFdgSJgZpnHfg0MTVAuSaqyPpuzmqtGTWTZ+lx+MqA5Pz/+AKqlQc8uHbwrs5JCoibiNgeGAb0oOU10AXAg8HwIfLPec0MgJ4ooKvPYtUBmCGQkKJskVSl5hUX86bWvOeu+z6gT8riy/TLSZr5PcWE+aWlpFhYljUSNtITSj5OiiNUAIbAUeB84Eni79LhoO4/d5r4QwnBgOOBfMknaCV8v3cCVT01g2rKNnNMFaq+YyMY1Eccffzw1atSIO560SxJVWtYCc74pLKU+AvIpuYLo7dJj6oZAepnRlgZAbhRRUPZJoygaAYwAyM7O3lbhkSRRslDcfR/O4e9vTadRrWr8au91rFwwi2Zt2jBkyBAaNmwYd0RplyWqtHwNbKvCB6C49PNpQDrQCZi+1TFdS/dJknbD1gvFDdq3OX88eV9Gv/oC+x5xBAcffDBpaQlboktKqESVlleAm0IgK4pYVbrtUKA6MLH060+ADcDpwB8BQiATGEzpaIokaedFUcQz4xZx08tTSaeYX+6bz1nHd6BRnRqcccYZhBB2/CRSJZao0jICuBx4OQT+BNQF/gKMjiI+AogitoTALcCNIbCW/19cLg24M0G5JCklrdmUz7XPTeLNKcs5tHV1eoe5rJq9khkzWtCvXz8Li1JCQkpLFLEhBI4E/gk8SclclheBK8scegslJeVaoDEwFjgmilieiFySlIrenb6CXz49iQ2b8/l5j4hNc8eQV7MmZ511Fl26dIk7nlRuEraMfxQxCzh+B8dEwM2lH5KkXbA5v4ibX5vKY58toGvzutzQuxoTP3ufLl26cOKJJ1K7du24I0rlyrs8S1ISmrhwHVc+NYG5qzdx8YDWXD1oX9KiIjo0b0jPnj09HaSU5BRySUoihUXF/PPtmZz6r08oyM/j2m45NFz4EekUk5GRwX777WdhUcpypEWSksT81Zu48qkJfLlgHad2qUHrDV+xbO4GDjnkEC9jVpVgaZGkSi6KIp4eu4ibXp5CelrENT0LWDFrHOkNGnDBBRfQpk2buCNKFcLSIkmV2JpN+Vz33GTemLKMfh0bceupPXjjuSfYb7/9GDhwoEvxq0qxtEhSJfX+jJX88umJrM3N44pe1bhk8H7Urp3JsGHDqF69etzxpArnSVBJqmS2FBTxu5emcP6DY8iqUczVe61i/fTPGD/+SwALi6osR1okqRKZumQDVzw1nhnLcxjWLYPMZRNYtTSfQYMG0bt377jjSbGytEhSJVBcHPHAR3O59c3p1M+szp8OyWTm2A+o37w5p5xyCk2aNIk7ohQ7S4skxWzZ+i1c9fQEPp61mmP3acotp+1HRpTP2NqBQw45hPT09LgjSpWCpUWSYvTa5KVc+9xkCgqLuLpHEfWKvqZBrQNJS8vg8MMPjzueVKlYWiQpBjl5hdz00hSeHreI3i2qc3iNhayatZRWPXtSVFTkYnHSNlhaJKmCjV+wliuemsDCNZu4tHs60cKx5GxJ59RTT2XfffeNO55UaVlaJKmCFBVH3PPuLG5/eybN69Vk5IW9GfPakzRs3ZqTTjqJ+vXrxx1RqtQsLZJUARatzeXKpybwxby1nNI5g+vP6E/jurXoNmwY9erV8yaH0k7wpKkkJdhLE5cw6I4PmbF0HVfvs4n6iz7h64njAKhfv76FRdpJjrRIUoLk5BXymxe/4rkvFzOgRRp9wmxWz1tDv3796NevX9zxpKRjaZGkBPj/yba5XNajGvlzxlBcuzbnnnsuHTt2jDuelJQsLZJUjoqKI+59fza3/XcGzerV5KlL+9O+dhEffZTLwIEDqVWrVtwRpaRlaZGkcrJk3WaufGoCn89dzantizioeSG92zcCYMiQITGnk5KfpUWSysEbXy3l189OJhTl8/OOa9iwdC7ra7QlPz+fjIyMuONJKcHSIkl7YHN+Eb9/ZQpPjFnIQc2K6FU0k5zluRx55JEcdNBBrmwrlSNLiyTtpqlLNnD5k+OZtSKH4Qe3odrXb1KrVi3O/uFZtGzZMu54UsqxtEjSLoqiiP98Mo8/vT6NljULefTCfhzSpQlLDsiiSZMmVK9ePe6IUkqytEjSLlizKZ9fPj2Rt6ct56SWm8jaMJOMtU2BJo6uSAlmaZGknfTJ7FVc8eQE8nI3cVnLZWxZu4zOe+/tTQ6lCmJpkaQdKCgq5o7RM7n7vVlkN9jM/nVmUZRTzODBg9l///1dhl+qIJYWSfoeC9fk8vMnx/PlgnWckd2ai3rV5eMPNnDyySfTqFGjuONJVYqlRZK247XJS/n1s5PIijZwfXYdLjltPwC67NXB0RUpBpYWSSpjS0ERv39lKk9+Po/jGq2h+eZ5bFnaiIKCAqpXr25hkWJiaZGkrcxYvpGfPv4ly1esZFjjxUS569h///0ZOHCglzJLMbO0SBIla688+cVCbnp5CvUzAmfUm0UG6QweOpSuXbvGHU8SlhZJYsOWAq57bjJvTVpIn07N+cfQ/Vi7pAOtWrWiTp06cceTVMrSIqlKm7RoHT99fDxpG5ZwTt2FDOm7F03r1qTp3nvHHU1SGZYWSVVSFEU88NFc/v7GFA6uuZjW1ZfTvEkLWrRoHnc0SdthaZFU5azdlM8vn5nIxGlzOK3OAqoV5nLwwQdz+OGHk56eHnc8SdthaZFUpYydt4bLnxjPypw8ft67KYULljJkyDDatWsXdzRJO2BpkVQlFBdH3PvBbEb8dxKdahdy72XH0rN1AwoKDvZSZilJWFokpbzVOXn84qkJLJ3zNSfXWESdGrXYp1ltAAuLlEQsLZJS2pi5a7jq8c/YO38mB2Wso0P7Dpx88smWFSkJWVokpaTi4oh/vT+bO/87lVNqTqFW9SKOOfo4+vbt6zL8UpKytEhKOWs25XPlk+N5f+YqTujZmoHtsti70140a9Ys7miS9oClRVJKGTtvDdc99gH7Fk7n+kMP5+JB+zuyIqUIS4uklFBcHDHig1m8/vb79K+2hNp1anNs9+YWFimFWFokJb11ufn8auSnVFs4lgOq5dCl6z6cfOJgatWqFXc0SeXI0iIpqU1YuI6fjPySRpvm0btGHiefOIQePXo4wiKlIEuLpKQURREPvT+d+0ZPJK1OE35/yRD2apBOvXr14o4mKUEsLZKSzsYtBdz46DtkLB7H0TXT+PmPB5NVLzPuWJISzNIiKalMWbSG2//zHK0LF5Neux4X/HCohUWqIiqktIRAK2A6UBuoG0XklG4PwLXAZUAW8AVweRQxoSJySUouoz6bzadvPEvrsJm2e/fknFNPcGVbqQpJq6DvcyuUFJUyrgFuBP4CDC49ZnQINK+gXJIqsZEjR9K+fXvSqteg/WnX8qsXplFUuwk/GHI6F5w5xMIiVTEJLy0hcAgwEPhbme01KSktf44i7ooiRgOnAxHw00TnklS5jRw5kuHDh7OxMJ1hv/gN9TsfSO64F8hukUF2z25xx5MUg4SWlhBIB+4Efg+sKrN7AFAPGPXNhihiE/AyMCiRuSRVftdffz3FzbvR5czraFGrmOiz/7By9P385obr444mKSaJntPyI6AmcDdwdpl9XYEiYGaZ7V8DQxOcS1IlVlQcsb7tITQbcCbzl8/hzpEPsHHZfAAWLFgQczpJcUlYaQmBxsAfgHOiiIJtrPPUEMiJIorKbF8LZIZARhSRn6h8kiqntZvyufzJ8dQfcCY5k//Lmrf+RVT4/z8K2rZtG2M6SXFK5Omhm4HPo4jXvueYaBvbwvb2hRCGhxDGhhDGrly5sjwySqpEJi1axwl3fsTnc9ZwcqtcNr9337cKS2ZmJjfffHOMCSXFKSGlJQS6AxcCN4VAgxBoAHyzkEL9EKhFyYhK3dJ5L1trAORGEQVlnzeKohFRFGVHUZTdpEmTRESXFJMnxyzgtH99CsAzl/Xn9p+dzogRI2jXrh0hBNq1a8eIESM4++yyZ5olVRWJOj3UGagOfLqNfYuAB4DHgXSgEyVruHyjKzAtQbkkVTJbCor47YtTeGrsQg7pnMUdZ+5Po9oZAJx99tmWFEn/k6jS8hFwRJltA4FfA8cDc4D5wAZKLnP+I0AIZFKyXsuIBOWSVIksWpvLj0d+yaRF6/nJEXvxi2P2Jj3NGx1K2raElJYoYhXw3tbbQqB96acfbrUi7i3AjSGwlpLRlV9QcsrqzkTkklR5fDRzFT974ksKiyJGnHsgx3Z3TUlJ3y/uew/dQklJuRZoDIwFjokilseaSlLCRFHEiA/m8Jc3prFXkzr8+9wD6dikTtyxJCWBCistUcTDwMNltkWUXGXk5QBSFbApr5BfPTOJVycv5fgezbn1tP2oXSPufztJShb+tJBUIeat2sTwR8cya0UO1w7qyvBDOxK2sYCTJG2PpUVSwr07fQWXPzGeammBRy7sy8Gds+KOJCkJWVokJUwURdzz3mz+9tZ09mlej3+feyBtGmXu+IGStA2WFkkJsSmvkKufnsjrXy3jpF4tueWUntTKKLuWpCTtPEuLpHK39fyVG36wDxcd3MH5K5L2mKVFUrn6YMZKfvr4l6Q5f0VSObO0SCoXURRx34dzuOX1aXRpVpcR52bTtrHzVySVH0uLpD22paCIa56dxAsTljBo3+b87XTXX5FU/vypImmPLF2/meGPjGPy4vVcdUwXfnpkJ+evSEoIS4uk3TZu/loufXQcm/MLue+8bI7p1izuSJJSmKVF0m55euxCrn/+K1o0qMnjl/SlS7O6cUeSlOIsLZJ2SWFRMX9+fRoPfDSXgzo15u4fHkCDzIy4Y0mqAiwtknba+s0F/OyJ8XwwYyXDBrTnhh/sQ7X0tLhjSaoiLC2SdsrcVZu46D9fsGB1Ln8+pQdn9WkbdyRJVYylRdIOfTRzFT95/EvSAjx2cV/6dWwcdyRJVZClRdL3evTTefzu5ans1aQ2D5zf2xseSoqNpUXSNhUWFfP7V6byyKfzOaprU24/sxd1a1aPO5akKszSIuk71m8u4KePf8mHM1cx/NCO/HpgV9LTXDBOUrwsLZK+ZV7phNv5q3P5y6k9GNrbCbeSKgdLi6T/+XzOai59bBzghFtJlY+lRRIAz4xbxLXPTaJNo0wePL837bNqxx1Jkr7F0iJVccXFEf/47wzuencWA/ZqzL/OPpD6mU64lVT5WFqkKmxLQRFXjZrIq5OXcmbvNvzh5H2p7gq3kiopS4tURa3cmMclj4xl4qJ1XDuoK8MP7UgIXiEkqfKytEhV0KwVGxn20BesysnjX2cfwMB9W8QdSZJ2yNIiVTGfzF7Fjx4dR0a1dJ4a3p/92jSIO5Ik7RRLi1SFPDNuEdc8O4kOWbV5cJhL8ktKLpYWqQqIoojbRs/kn2/P5KBOjbnn7AOpX8srhCQlF0uLlOLyC4u55rlJPPflYk4/sDU3D+lBRjWvEJKUfCwtUgrbsKWAHz06jk9mr+YXx3ThZ0d28gohSUnL0iKlqCXrNnPBQ18we2UOfzt9P047sHXckSRpj1hapBQ0dckGLnh4DLl5Rfznwj4c1Ckr7kiStMcsLVKK+XjWKi59dBx1a1bj6cv607V5vbgjSVK5sLRIKeSF8Yv55TMT6ZhVh4cv7E2L+rXijiRJ5cbSIqWAKIq49/05/OWNafTr2Ih/n5vtJc2SUo6lRUpyRcURv395Cv/5dD6D92vJ307vSY1q6XHHkqRyZ2mRktiWgiJ+MWoCr01exiWHdODaQfuQluYlzZJSk6VFSlIbthQw/JGxfDZnDTf8YB8uPqRj3JEkKaEsLVISWr5hC+c/OIbZK3O448xenNSrVdyRJCnhLC1SkpmzModzHxjDutx8HhzWm0M6N4k7kiRVCEuLlEQmLVrHsIe+IABPDu9Pj9b1444kSRXG0iIliY9nrWL4I2NpWDuDRy/qS4es2nFHkqQKZWmRksBrk5dyxZMT6JBVm0cu6kOzejXjjiRJFc7SIlVyIz+fzw0vfMWBbRvywPm9qZ/ponGSqiZLi1RJRVHEPe/N5tY3p3Nk16bc/cMDqJXhonGSqi5Li1QJRVHEn1+fxogP5jBk/1b89bSeVE9PizuWJMXK0iJVMkXFEdc9N5mnxi7k/P7t+O3g7q5yK0lYWqRKJa+wiCuenMDrXy3j8qM6c+XRnQnBwiJJYGmRKo3c/EIufXQcH85cxY0ndOOigzvEHUmSKhVLi1QJbNhSwIUPfcGXC9Zy62k9OT27TdyRJKnSScjMvhA4PQReCoHFIZATAuNC4Kwyx4QQuC4EFobA5hD4IAR6JSKPVJmtzsnjh/d9xsRF67jrhwdYWCRpOxJ1OcIvgBzgSuBE4F3g8RD42VbHXAPcCPwFGFx6/OgQaJ6gTFKls3zDFoaO+IyZy3MYcW42x/doEXckSaq0EnV6aHAUsWqrr98JgZaUlJk7Q6AmJaXlz1HEXQAh8CkwD/gpcEOCckmVxsI1uZx9/+eszsnj4Qv60H+vxnFHkqRKLSEjLWUKyzfGA01LPx8A1ANGbfWYTcDLwKBEZJIqk7mrNnHGvz9lXW4+j13c18IiSTuhIlerGgBMLf28K1AEzCxzzNel+6SUNXP5Rs7496fkFRbzxPB+7N+2YdyRJCkpVEhpCYGjgJOAu0s3NQRyooiiMoeuBTJDIGPbzxOGhxDGhhDGrly5MnGBpQSZsmQ9Q0d8BsBTw/vRvWX9mBNJUvJIeGkJgfbA48CLUcTDW+2KtnX49+wjiqIRURRlR1GU3aRJk3LNKSXahIXrOGvEZ9SslsaoS/vTuVnduCNJUlJJ6DotIdAIeB1YAJyz1a61QN0QSC8z2tIAyI0iChKZS6po4+av4fwHv6Bh7eo8fnE/2jTKjDuSJCWdhI20hEAm8AqQAfygdKLtN6YB6UCnMg/rWrpPShlj5q7hvAfGkFUng1GX9rewSNJuStTictWAp4HOwKAoYkWZQz4BNgCnb/WYTErWa3k9EZmkOHw6ezXnPziGZvVr8tSl/WlRv1bckSQpaSXq9NA9wPHAz4FGIdBvq33jo4gtIXALcGMIrKVkdOUXlJSoOxOUSapQH89axUX/+YI2DTMZeUlfmtatGXckSUpqiSotx5b+ecc29nWgZBG5WygpKdcCjYGxwDFRxPIEZZIqzAczVnLJI2PpkFWbxy7uS1adGnFHkqSkl5DSEkW034ljIuDm0g8pZXxTWDo2qcPIi/vSqPY2r+CXJO2iilxcTkp5FhZJShxLi1ROLCySlFiWFqkcWFgkKfEsLdIe+mjmKguLJFUAS4u0Bz6dvZqLH/mCDlm1LSySlGCWFmk3fTFvzf/WYXnMwiJJCWdpkXbDuPlrGfbgGJrXr8nIS1yHRZIqgqVF2kUTF65j2INjaFqvJk9c0s+VbiWpglhapF0wZcl6zn3gcxrWzuDxS/rSrJ6FRZIqiqVF2kkzl2/k3AfGUKdGNUZe3NebH0pSBbO0SDth3qpNnH3/56SnBUZe0o82jTLjjiRJVY6lRdqBRWtzOfv+zyksjnj84r50yKoddyRJqpIsLdL3WL5hC2ff/zkbtxTw6EV96NysbtyRJKnKsrRI27F2Uz7nPvA5qzbm8Z8L+9C9Zf24I0lSlVYt7gBSZbRxSwHnPzSGeatz+c8Ffdi/bcO4I0lSledIi1TGloIiLvrPWKYu2cC/zj6A/ns1jjuSJAlHWqRvyS8s5rLHxvHFvDXcceb+HLVPs7gjSZJKOdIilSoqjrjq6Ym8O30lN5/cgxP3axl3JEnSViwtEhBFEb97aQovT1zCtYO68sO+beOOJEkqw9IiAbeNnsmjn83nR4ftxaWH7RV3HEnSNlhaVOU99PFc/vn2TIZmt+HXA/eOO44kaTssLarSXhi/mJtensrA7s25eci+hBDijiRJ2g5Li6qsd6ev4OqnJzJgr8bcfmYvqqX710GSKjN/SqtKGr9gLT9+7Eu6tqjLiPOyqVk9Pe5IkqQdsLSoypm9MocLH/6CpvVq8PAFfahTw+WKJCkZWFpUpSzfsIXzHhhDelrgkQv7kFWnRtyRJEk7ydKiKmP95gLOf3AM63LzefiCPrRrXDvuSJKkXeC4uKqEvMIihj8yltkrc3hoWB/2beUdmyUp2VhalPKKiyOuGjWRz+eu4Y4ze3Fw56y4I0mSdoOnh5TybnljGq9MWso1g7pyUq9WcceRJO0mS4tS2sMfz2XEB3M4r387Lj20Y9xxJEl7wNKilPXGV8u46ZWpHNOtGb8d3N3VbiUpyVlalJLGzV/Lz58cT682DfjnmfuTnmZhkaRkZ2lRypm/ehOXPDKWFvVrcv952dTKcLVbSUoFlhallHW5+Vzw0BcURxEPXdCHxi4eJ0kpw9KilJFXWMTwR8exaO1m7jsvmw5ZLh4nSanEdVqUEqIo4ppnJzOmdC2W3u0bxR1JklTOHGlRSrh99EyeH7+Yq47p4loskpSiLC1Kei+MX8wdb8/ktANb89MjO8UdR5KUIJYWJbVx89fwq2cm0bdDI/40pIdrsUhSCrO0KGktXJPL8EfG0aJBTe4950Ayqvl2lqRU5k95JaWNWwq4+D9jyS8q5oHze9OwdkbckSRJCebVQ0o6RcURP39yArNW5vCfC/rQqWmduCNJkiqAIy1KOn9+7WvembaCm07szsGds+KOI0mqIJYWJZVRYxdy/0dzGTagPef0axd3HElSBbK0KGmMm7+GG57/ioM7ZXHDD/aJO44kqYJZWpQUlqzbzKWPfkmLBjW564f7Uy3dt64kVTVOxFWltzm/iOGPjmVLQRFPXNKXBpleKSRJVZGlRZVaFEX88pmJTFmygQfOz6Zzs7pxR5IkxSTWMfYQ6BYCb4dAbggsCYHfh0B6nJlUufzr/dm8MmkpvzquK0d2bRZ3HElSjGIbaQmBhsBoYCpwErAX8HdKitQNceVS5fHe9BXc+uZ0TtyvJT86rGPccSRJMYvz9NCPgFrAKVHEBuC/IVAP+F0I/LV0m6qoeas2cfkT4+navB5/ObWn9xSSJMV6emgQ8GaZcvIkJUXmsHgiqTLIyStk+KNjSUsLjDj3QGpleMZQkhRvaekKTNt6QxSxAMgt3acqKIoifvn0RGatyOGusw6gTaPMuCNJkiqJOE8PNQTWbWP72tJ9sZkwYQKHH374t7adccYZ/PjHPyY3N5fjjz/+O48ZNmwYw4YNY9WqVZx22mnf2X/ZZZcxdOhQFi5cyLnnnvud/VdddRWDBw9m+vTpXHrppd/Zf8MNN3D00UczYcIErrjiiu/s/9Of/sSAAQP45JNPuO66676z//bbb6dXr16MHj2aP/7xj9/Z/+9//5u9996bl19+mb///e/f2f/oo4/Spk0bnnrqKf71r399Z/8zzzxDVlYWDz/8MA8//PB39r/22mtkZmZyzz33MGrUqO/sf++99wA45bJref21V2nXuDY3fFoTgFq1avH6668D8Ic//IG33377W49t3Lgxzz77LADXXnstn3766bf2t27dmsceewyAK664ggkTJnxrf5cuXRgxYgQAw4cPZ8aMGd/a36tXL26//XYAzjnnHBYtWvSt/f379+fPf/4zAKeeeiqrV6/+1v6jjjqKG2+8EYBBgwaxefPmb+0/4YQTuPrqqwG+874D33sV9d7729/+xiuvvPKtfb73fO/53vvue2/ChAn06tXrO/89FSHuFbqibWwL29lOCGF4CGFsCGHsypUrE5tMFe6DGSt5f8ZKsurUoEX9mnHHkSRVMiGKttkPEv+NAyuAu6OIm8pszwFuiiJu/b7HZ2dnR2PHji33XN/8a+ObBqyKsWhtLoPv/IimdWvy/E8GkJnhEkKSVBkl+vdkCGFcFEXZ29oX50jLNMrMXQmBNkBtysx1UWrbUlDEj0d+SWFRxL3nHmhhkSRtU5yl5XXguBDYeonTocBm4P14IikON708hUmL1vP3M/ajQ1btuONIkiqpOEvLvUAe8FwIHB0Cw4HfAf9wjZaqY9QXC3lizEJ+csReHNu9edxxJEmVWGzj8FHE2hA4CrgLeJmSK4luo6S4qAr4avF6bnjxKw7ulMUvjtk77jiSpEou1skDUcRU4Mg4Myge6zcXcNnIcTSuncEdZ/YiPc0VbyVJ388Zj6pw3ywgt3TdFp66tD+N69SIO5IkKQnEvU6LqqAHPprLW1OXc82grhzYLtZ1BCVJScTSogo1bv4abnl9GgO7N+eigzvEHUeSlEQsLaowq3Py+MnI8bRsUIu/nu6dmyVJu8Y5LaoQxcURVzw1gTW5+Tx32QDq1awedyRJUpJxpEUV4l/vz+bDmav47eBu7NuqftxxJElJyNKihBs7bw3/+O8MTujZgh/2aRt3HElSkrK0KKHW5eZz+RPjadWgFn8+pYfzWCRJu805LUqYKIq4+ulJrMzJ49nLBlDXeSySpD3gSIsS5uFP5jH66+VcM2gferZuEHccSVKSs7QoISYvWs+fXvuao/dpxoUHtY87jiQpBVhaVO425RVy+ZPjyapTg1tPcz0WSVL5cE6Lyt3vXprCvNWbePKSfjSsnRF3HElSinCkReXq5YlLeHrcIn56RCf6dmwcdxxJUgqxtKjcLFyTy3XPT2b/tg24/KjOcceRJKUYS4vKRWFRMVc+NYEogjuG7k/1dN9akqTy5ZwWlYs735nF2PlruePMXrRtnBl3HElSCvKfw9pj4+av4c53ZnLK/q04qVeruONIklKUpUV7JCevkCufmkjLBrW46aTucceRJKUwTw9pj/z+5SksWpvLU5f2d5l+SVJCOdKi3fbmlGWMGruIHx22F73bN4o7jiQpxVlatFtWbNjCNc9OYt9W9bji6C5xx5EkVQGWFu2yKIr41bOTyM0v4vahvcio5ttIkpR4/rbRLnvss/m8N30l1x2/D52a1o07jiSpirC0aJfMXbWJP702jUO7NOG8/u3ijiNJqkIsLdppRcURVz89kerpgb+e6t2bJUkVy0uetdPu/3AO4+av5fahvWhev2bccSRJVYwjLdopM5Zv5O9vzWBg9+ac1Ktl3HEkSVWQpUU7VFBUzC9GTaBuzWr8cci+nhaSJMXC00PaobvemcVXizdw7zkHkFWnRtxxJElVlCMt+l5fLV7PXe/OYsj+rRi4b4u440iSqjBLi7Yrv7CYq5+eSOPaGfxusDdDlCTFy9ND2q67353FtGUbuf+8bOpnejNESVK8HGnRNk1dsoG7353Fyb1acnS3ZnHHkSTJ0qLvKigqOS3UIDOD33paSJJUSXh6SN9x73uzmbq05GqhhrUz4o4jSRLgSIvKmL5sI/98ZyY/6NnCq4UkSZWKpUX/U1Qc8atnJlK3ZnV+f6KnhSRJlYunh/Q/D308l4mL1vPPs/ansYvISZIqGUdaBMDCNbn8/a0ZHNW1KYN7elpIklT5WFpEFEVc9/xk0gL84WTvLSRJqpwsLeK5Lxfz4cxV/HpQV1o2qBV3HEmStsnSUsWtysnjD69O5YC2DTinb7u440iStF2Wliru9y9PZVNeIX85tSdpaZ4WkiRVXpaWKuzdaSt4aeISfnJEJzo3qxt3HEmSvpelpYrKzS/khhe+olPTOlx2+F5xx5EkaYdcp6WKuuPtmSxet5mnhvejRrX0uONIkrRDjrRUQdOWbeCBD+dyRnZr+nZsHHccSZJ2iqWliikujrjuucnUq1WdawftE3ccSZJ2WrmXlhCoFwI3hcCYEFgfAstC4PkQ6LKNY1uV7ssJgVUhcFcIZJZ3Jv2/J79YyJcL1nHd8ft4B2dJUlJJxEhLW+AS4E3gNOBSoAXweQi0+eagEKhWekw7YCjwc+B0YEQCMglYuTGPW17/mn4dG3HqAa3ijiNJ0i5JxETcucBeUcTmbzaEwIfAAuBC4KbSzacD+wCdooi5pccVAE+GwE1RxMwEZKvSbn51KlsKirl5SA+X6pckJZ1yH2mJIjZtXVhKt60B5gNNt9o8CPjim8JS6gUgHxhY3rmquk9mreKFCUv40eF7sVeTOnHHkSRpl1XIRNwQaAJ0AqZutbkrMG3r46KIfGB26T6Vk/zCYn7z0hTaNsrkx67JIklKUhW1TsvfgRzgya22NQTWbePYtaX7VE4e+ngus1bk8OCwbGpWd00WSVJy2qnSEgL1KZlM+72i6NsjJ6WPvQw4Bzg1ilhd9iHb+nbb2U4IYTgwHKBt27Y7iiNg6frN3PH2TI7p1owjuzaLO44kSbttZ0daTgfu24njvjW7MwROBO4Efh1FPF/m2LVAg208RwO2PQJDFEUjKL26KDs7e5vFRt/2x1e+pqg44jcndIs7iiRJe2Sn5rREEfdHEWFHH1s/JgQGUHI66N4o4tZtPO00ysxdCYEMoCN8d8RGu+6DGSt5dfJSfnpEJ9o0cvkbSVJyS8hE3BDoDrwCvAFcvp3DXgd6h0C7rbadCNQofZz2QF5hEb97aQrtG2cy/LCOcceRJGmPlftE3BBoSknpyAH+CfTZakmQDVH0vyuIngGuB54LgRuB+sBtwOOu0bLn7v9wLnNWbeLhC3p7Q0RJUkpIxNVD3YDWpZ+/W2bf+8DhAFFEQQgMBO4CRgF5lJxO+mUCMlUpS9dv5q53ZnFst2YcvnfTHT9AkqQkUO6lJYp4jzITcr/n2EXAyeWdoaq75fVpFEURNzr5VpKUQrzLc4oZO28NL05YwqWHdnTyrSQppVhaUkhRccTvXp5Ci/o1ucyVbyVJKcbSkkJGjV3IV4s3cO3x+5CZUVGLHUuSVDEsLSli/eYCbn1zOn3aN2Jwzx0uXixJUtKxtKSI20fPYG1uPr8Z3I0QdmoetCRJScXSkgJmrdjII5/O56w+bdm3Vf2440iSlBCWlhRw86tfk5mRzlXHdIk7iiRJCWNpSXIfzFjJu9NX8rMjO9G4To2440iSlDCWliRWWFTMH1+dSrvGmZw/oH3ccSRJSihLSxJ7auxCZizP4dpBXb2/kCQp5VlaktSGLQX8460Z9OnQiOO6N487jiRJCecKZEnq7ndnsSY3n4d/4CXOkqSqwZGWJLRwTS4PfTSPU/ZvTY/WXuIsSaoaLC1J6JY3ppGeFvjlcXvHHUWSpApjaUky4xes5dVJSxl+aEea168ZdxxJkiqMpSWJRFHEn1+bRladGgw/tGPccSRJqlCWliQy+usVjJm3hiuP6UztGs6hliRVLZaWJFFYVMwtr39Nxya1GZrdJu44kiRVOEtLknhq7EJmr9zENQO7Ui3d/22SpKrH335JYFNeIbf9dybZ7RpyTLdmcceRJCkWlpYkcN+Hc1iVk8e1x+/jQnKSpCrL0lLJrdi4hREfzGHQvs05sF3DuONIkhQbS0sld+fbs8grLHYhOUlSlWdpqcQWrM7liTELGNq7DR2b1Ik7jiRJsbK0VGK3jZ5Belrg50d1jjuKJEmxs7RUUtOWbeCFCYsZdlB7mtVzuX5JkiwtldTf3pxOnRrVuOywveKOIklSpWBpqYTGzV/D6K9X8KPD9qJBZkbccSRJqhQsLZVMFEX85Y3pZNWpwQUHtY87jiRJlYalpZJ5f8ZKxsxdw+VHdSIzw5siSpL0DUtLJVJcHHHrm9Np06gWZ/ZuG3ccSZIqFUtLJfLmlGVMWbKBK47qQkY1/9dIkrQ1fzNWEkXFEbeNnkHHJrU5ef9WcceRJKnSsbRUEq9MWsKM5TlccXQX0tO8KaIkSWVZWiqBwqJi7hg9k72b1eWEHi3ijiNJUqVkaakEXpiwhDmrNnHlMZ1Jc5RFkqRtsrTErKComH++PZPuLetxXPfmcceRJKnSsrTE7Nlxi1iwJpdfHNOFEBxlkSRpeywtMcorLOLOd2bRq00DjuzaNO44kiRVapaWGI0au4jF6zY7yiJJ0k6wtMQkr7CIe96dxYHtGnJI56y440iSVOlZWmLyzLhFLF2/hZ8f1dlRFkmSdoKlJQb5hcXc8+5s9m/bwFEWSZJ2kqUlBs99WTKX5XJHWSRJ2mmWlgpWUFTM3e/NYr/W9Tm8S5O440iSlDQsLRXs+fGLWbjGURZJknaVpaUCFRYVc/e7s9i3VT3XZZEkaRdZWirQSxOXMH91Lpcf6SiLJEm7ytJSQYqKI+56Zxb7tKjHMd2axR1HkqSkY2mpIK9NXsqcVZu4/MhOjrJIkrQbEl5aQuCKEIhC4Jlt7GsVAs+HQE4IrAqBu0IgM9GZKloURdz97iw6Na3jnZwlSdpN1RL55CHQFPgNsHIb+6oBbwL5wFCgAfCP0j/PSWSuivbu9BVMW7aRv5++H2lpjrJIkrQ7ElpagD8DrwJttrHvdGAfoFMUMRcgBAqAJ0PgpihiZoKzVYgoKpnL0qpBLU7s1TLuOJIkJa2EnR4Kgd7AGcA12zlkEPDFN4Wl1AuUjLwMTFSuivbZnDV8uWAdPzqsI9XTnUIkSdLuSshv0RAIwF3AX6OIxds5rCswbesNUUQ+MLt0X0q4571ZZNWpwenZ2xpskiRJOytR//S/AGgO/O17jmkIrNvG9rWl+74jhDA8hDA2hDB25crvTJOpdCYuXMeHM1dx8SEdqFk9Pe44kiQltZ2a0xIC9YEWOzouiphWeuyfgMujiM07esi2vt12thNF0QhgBEB2dvY2j6lM7nlvFvVqVuPsvm3jjiJJUtLb2Ym4pwP37cRxAbgOWAi8FQINtvo+1Uu/3hhFFFEyotJgG8/RgG2PwCSVmcs38uaU5Vx+ZCfq1qwedxxJkpLeTp0eiiLujyLCjj5KD98byKaklHzzcRBwYunn/UuPm0aZuSshkAF0pMxcl2T0r/dmU6t6OsMO6hB3FEmSUkIi5rTcABxR5mMi8EHp55NLj3sd6B0C7bZ67IlADeCNBOSqMEvWbealiUs4s08bGtXOiDuOJEkpodzXaYkiviq7LQTWAauiiPe22vwMcD3wXAjcCNQHbgMeT/Y1Wh78aC4RcNHBjrJIklReYls4JIoooGQ9loXAKEoukX4WGB5XpvKwPreAJ8YsYHDPFrRumHJ3JJAkKTaJXhEXgCji8O1sXwScXBEZKspjn89nU34Rww/dK+4okiSlFJdoLUdbCop46ON5HNqlCd1a1os7jiRJKcXSUo6eH7+YVTl5/OjQjnFHkSQp5VhayklxccR9H8yhR6v69N+rcdxxJElKOZaWcvLfr5czZ9Umhh/akRDCjh8gSZJ2iaWlHERRxL3vz6ZNo1oM2rd53HEkSUpJlpZyMG7+WsYvWMclh3SkWrovqSRJieBv2HJw/4dzaZBZndMObB13FEmSUpalZQ/NX72JN6cu44d92pKZUSHL3kiSVCVZWvbQQx/Po1pa4PwB7eOOIklSSrO07IH1mwt4euxCBvdsSbN6NeOOI0lSSrO07IGnvljApvwiLvTGiJIkJZylZTcVFhXz8Mfz6NexEfu2qh93HEmSUp6lZTe9/tUylqzfwsUHu2S/JEkVwdKyG6Io4v6P5tIhqzZHdm0adxxJkqoES8tu+HLBWiYuXMeFB7UnLc0l+yVJqgiWlt1w/4dzqV+rOqe6mJwkSRXG0rKLFq3N5c0pyzizTxsXk5MkqQJZWnbRY58tAOC8/u3jDSJJUhVjadkFWwqKePKLBRzbrTmtGtSKO44kSVWKpWUXvDhhMetyCxh2UPu4o0iSVOVYWnZSFEU89PE8ujavS98OjeKOI0lSlWNp2Ulj5q5h2rKNDBvQnhC8zFmSpIpmadlJD38yjwaZ1TmpV6u4o0iSVCVZWnbC4nWbeWvqcob2bkOtjPS440iSVCVZWnbCY5/NJ4oizu3XLu4okiRVWZaWHdhSUMSTYxZwTLdmtG6YGXccSZKqLEvLDrw0YQlrcwsYNqBD3FEkSarSLC078Ohn8+nSrA79OnqZsyRJcbK0fI+JC9cxefF6zunXzsucJUmKmaXlezz62XwyM9IZsr+XOUuSFDdLy3asy83n5YlLOHn/VtStWT3uOJIkVXmWlu14Ztwi8gqLOaevlzlLklQZWFq247HP5pPdriHdWtaLO4okScLSsk3rNxcwb3Uu57iYnCRJlYalZRuWb9hCo9oZDOrRPO4okiSplKWljPzCYtZuyueM7DbUqOZ9hiRJqiwsLWWs2LiFCDi7b9u4o0iSpK1YWrZSUFTM8g15NMzMoE0j7zMkSVJlUi3uAJXJprxC9u7egw6Na8cdRZKkSqlXr16xfe8QRVFs33xPZGdnR2PHjo07hiRJKkchhHFRFGVva5+nhyRJUlKwtEiSpKRgaZEkSUnB0iJJkpKCpUWSJCUFS4skSUoKlhZJkpQULC2SJCkpWFokSVJSSFhpCYF2IfBECKwJgdwQmBgCA8sc0yoEng+BnBBYFQJ3hYA3/ZEkSd+RkHsPhUAb4FNgInABsAnoBdTa6phqwJtAPjAUaAD8o/TPcxKRS5IkJa9E3TDxVmA28IMoorh02+gyx5wO7AN0iiLmAoRAAfBkCNwURcxMUDZJkpSEyv30UAjUB04B7tmqsGzLIOCLbwpLqRcoGXkZuM1HSJKkKisRc1oOAKoDUQh8HAIFIbAoBK4NgbDVcV2BaVs/MIrIp2SEpmsCckmSpCSWiNLSvPTPfwMfAscCDwJ/BC7b6riGwLptPH5t6T5JkqT/2ak5LaWnfFrs6LgoYhr/X4RejyKuKf383RBoDVwL3LP1Q7b17baznRDCcGA4QNu2bXcmuiRJShE7OxH3dOC+nTguAGtKP3+3zL53gAtCoF4UsYGSEZUG23iOBmx7BIYoikYAIwCys7O3WWwkSVJq2qnTQ1HE/VFE2NFH6eFfb+dpvtn/zeTcaZSZuxICGUBHysx1kSRJKvc5LVHEPGAKcFSZXUcBs6OInNKvXwd6h0C7rY45EagBvFHeuSRJUnJL1DotNwLPhsCtwFvA4cC5wHlbHfMMcD3wXAjcCNQHbgMed40WSZJUVkKW8Y8inqekoJwAvErJirc/iSJGbnVMASXrsSwERgF3Ac9SOtFWkiRpayGKknM+awhhJTA/QU+fBaxK0HPr23ytK5avd8Xy9a44vtYVK5Gvd7soippsa0fSlpZECiGMjaIoO+4cVYGvdcXy9a5Yvt4Vx9e6YsX1eifsLs+SJEnlydIiSZKSgqVl20bEHaAK8bWuWL7eFcvXu+L4WlesWF5v57RIkqSk4EiLJElKCpaWnRQCV4RAFALPxJ0lVYXAvSEwLQRyQmBtCHwQAkfHnSsVhUC9ELgpBMaEwPoQWBYCz4dAl7izpaIQGBoCz4XA0tKfI8PizpQqQqBbCLwdArkhsCQEfh8C6XHnSkUh0CkE/h0CE0OgKATeq+gMlpadEAJNgd8AK+POkuJqUbLI4BDgHErWAHg9BPrFmio1tQUuAd4ETgMupeRO7p+HQJs4g6Wo04D2wCsx50gpIdAQGA1EwEnA74GrgJvizJXCugPHAzNKPyqcc1p2Qgg8AGQAbYBVUcRpMUeqEkr/tTQXeCGKuDzuPKkkBGoDxVHE5q22NQIWALdGkT/0y1MIpEURxSFQB9gIXBBFPBxzrKQXAtcCvwLaRREbSrf9Cvgd0PybbSof37yPSz9/BsiKIg6vyAyOtOxACPQGzgCuiTtLVRNFFAHrKCmMKkdRxKatC0vptjWUrDLdNJ5UqeubH/Qqd4OAN8uUkycpGbU9LJ5IqasyvI8tLd8jBAIlpyv+GkUsjjtPVRACIQSqhUDjELgS6Aw8GHeuqiAEmgCdgKlxZ5F2Uldg2tYboogFQG7pPqWYRN3lOVVcADQH/hZ3kCpkKPBE6eebgKFRxJgY81QlfwdyKPmXqpQMGlIyGlvW2tJ9SjFVqrSEQH1KJht+ryhiWumxfwIuLzuMrp2zK6/3Vl++CfSm5GZcZwNPhsDxUVTxs9STzW6+3t889jJKJj+fGkWsTkC8lLInr7XK3bYmZobtbFeSq1KlBTgduG8njgvAdcBC4K0QaFC6vRpQvfTrjaVzLrR9u/J6AxBFrAXGln75Rgi0pOSKgEPLP17K2eXXGyAETgTuBH4dRTyfiGApaLdea5W7tfC/n89bq8+2R2CU5KrUnJYo4v4oIuzoo/TwvYFsSv5SfPNxEHBi6ef9Y/mPSCK7+Hpvz3igY0XkTXa783qHwABKTgfdG0XcGk/y5FNO723tuWmUmbtSesl+bXCUKxVVtZGWXXEDcHuZbbcD64HfApMrOE+VUzoRuj8llz2rnIVAd0rWDXkDvKRcSel14JchUDeK2Fi6bSiwGXg/vlhKFEvLdkQRX5XdFgLrKFmn5b0KD5TiQuAQShaFeo6StUIaA+cD/YDBMUZLSaULJr5BycTbfwJ9wv+PC2yIIq8gKk8h0A3oBtQs3ZQdAjnAyijyl+seuJeSwv1cCPyFklHZ3wH/cI2W8hcCmZQsLgfQCqgXwv/WLXstishNeAYXl9t5pUsWu7hcAoRAe0qu0uoHNKFk9eEJwM1RxKfxJUtNIXA48O52dr9f0QtGpboQ+B0lI7Rl+VrvodJCeBclo7LrgPuB3znnsPyV/pze3sh3hyhiXsIzWFokSVIyqFITcSVJUvKytEiSpKRgaZEkSUnB0iJJkpKCpUWSJCUFS4skSUoKlhZJkpQULC2SJCkpWFokSVJS+D+8ImgrXNIxHgAAAABJRU5ErkJggg==\n",
          "text/plain": "<Figure size 504x504 with 1 Axes>"
         },
         "metadata": {},
         "output_type": "display_data"
        }
       ]
      }
     },
     "8aa5d0797f6b40afb44cb38c7322bd2b": {
      "model_module": "@jupyter-widgets/output",
      "model_module_version": "1.0.0",
      "model_name": "OutputModel",
      "state": {
       "layout": "IPY_MODEL_6d328a7f9f23485cb0eedc4c44b34751",
       "outputs": [
        {
         "data": {
          "image/png": "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\n",
          "text/plain": "<Figure size 504x504 with 1 Axes>"
         },
         "metadata": {},
         "output_type": "display_data"
        }
       ]
      }
     },
     "8c18d9107cf849b88db5457085ee62a4": {
      "model_module": "@jupyter-widgets/base",
      "model_module_version": "1.2.0",
      "model_name": "LayoutModel",
      "state": {}
     },
     "8c55d4a65e434886a42e8ecb6cca6d3f": {
      "model_module": "@jupyter-widgets/controls",
      "model_module_version": "1.5.0",
      "model_name": "ButtonStyleModel",
      "state": {}
     },
     "8c9dc955025b4020bc7cfd2be09211f6": {
      "model_module": "@jupyter-widgets/controls",
      "model_module_version": "1.5.0",
      "model_name": "ButtonModel",
      "state": {
       "description": "Next",
       "layout": "IPY_MODEL_ba69603c12b54b1ba6b9488e339dee45",
       "style": "IPY_MODEL_fc7f2b146b944e6abafbfafb5315dbeb"
      }
     },
     "8cdde6b7e48241e7a6f929bf50932437": {
      "model_module": "@jupyter-widgets/output",
      "model_module_version": "1.0.0",
      "model_name": "OutputModel",
      "state": {
       "layout": "IPY_MODEL_d73ab3af8a164b4983d93830073433f6",
       "outputs": [
        {
         "data": {
          "image/png": "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\n",
          "text/plain": "<Figure size 504x504 with 1 Axes>"
         },
         "metadata": {},
         "output_type": "display_data"
        }
       ]
      }
     },
     "8d077b5b6d154b3ea2c1afbf11495a78": {
      "model_module": "@jupyter-widgets/controls",
      "model_module_version": "1.5.0",
      "model_name": "HBoxModel",
      "state": {
       "children": [
        "IPY_MODEL_4006c96e623d4fbba1d489d26569d359",
        "IPY_MODEL_8c9dc955025b4020bc7cfd2be09211f6"
       ],
       "layout": "IPY_MODEL_0cec5a0ac1dc45c795fd63fdeb2ff88c"
      }
     },
     "8d47fab68ad745c98d00aee722bdbd17": {
      "model_module": "@jupyter-widgets/controls",
      "model_module_version": "1.5.0",
      "model_name": "ButtonModel",
      "state": {
       "description": "Next",
       "layout": "IPY_MODEL_2eeedf6866de4575937acc6dcf6d5c8c",
       "style": "IPY_MODEL_f35faba89fc349f6997631a1e8073dcd"
      }
     },
     "8d9cc1dbf3344628bd44b0d471ccf133": {
      "model_module": "@jupyter-widgets/controls",
      "model_module_version": "1.5.0",
      "model_name": "IntSliderModel",
      "state": {
       "description": "step",
       "layout": "IPY_MODEL_58a9cb5914c84dc8b524e4faa857232b",
       "max": 4,
       "style": "IPY_MODEL_30f8225aa179447aaae4f50ce19daff4"
      }
     },
     "8f55a22b602844049aaa45c969e57a0f": {
      "model_module": "@jupyter-widgets/base",
      "model_module_version": "1.2.0",
      "model_name": "LayoutModel",
      "state": {}
     },
     "9027ed412c34495e9f9f039cdffdbf06": {
      "model_module": "@jupyter-widgets/output",
      "model_module_version": "1.0.0",
      "model_name": "OutputModel",
      "state": {
       "layout": "IPY_MODEL_fedc8c96b073480e8a5bb4e785071491",
       "outputs": [
        {
         "data": {
          "image/png": "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\n",
          "text/plain": "<Figure size 504x504 with 1 Axes>"
         },
         "metadata": {},
         "output_type": "display_data"
        }
       ]
      }
     },
     "90ce537f53fc4d67ab1525aefe4b9132": {
      "model_module": "@jupyter-widgets/base",
      "model_module_version": "1.2.0",
      "model_name": "LayoutModel",
      "state": {}
     },
     "91d63edc75c5410a9b163dec9e8873be": {
      "model_module": "@jupyter-widgets/controls",
      "model_module_version": "1.5.0",
      "model_name": "SliderStyleModel",
      "state": {
       "description_width": ""
      }
     },
     "91fb6f58de6642019c8be28bdefa41c5": {
      "model_module": "@jupyter-widgets/controls",
      "model_module_version": "1.5.0",
      "model_name": "HBoxModel",
      "state": {
       "children": [
        "IPY_MODEL_96e7fd76addf42e6a83f82a76471e880",
        "IPY_MODEL_cda6dd16ebef4bfd98d5eb5c8ce0f4cc"
       ],
       "layout": "IPY_MODEL_bff541ad549d49bcac99372bb27bef38"
      }
     },
     "9258c4188b3d450f80aec6539acaad0c": {
      "model_module": "@jupyter-widgets/controls",
      "model_module_version": "1.5.0",
      "model_name": "ButtonModel",
      "state": {
       "description": "Next",
       "layout": "IPY_MODEL_9da41ac2fbb647caacbf7ae1dafef17f",
       "style": "IPY_MODEL_1bb95f1d43f548fba5cce93fb6415953"
      }
     },
     "9270f346da66401d8a14a7e6723900be": {
      "model_module": "@jupyter-widgets/controls",
      "model_module_version": "1.5.0",
      "model_name": "ButtonStyleModel",
      "state": {}
     },
     "92a05f7a71264a0abac7d8b80dd33606": {
      "model_module": "@jupyter-widgets/controls",
      "model_module_version": "1.5.0",
      "model_name": "ButtonStyleModel",
      "state": {}
     },
     "92ca288f04664a1fb85aaa796a501fc1": {
      "model_module": "@jupyter-widgets/base",
      "model_module_version": "1.2.0",
      "model_name": "LayoutModel",
      "state": {}
     },
     "93a3cff359e94bbaafff24fbd1721fba": {
      "model_module": "@jupyter-widgets/controls",
      "model_module_version": "1.5.0",
      "model_name": "ButtonStyleModel",
      "state": {}
     },
     "94658c9e871147aabc4ddc1a329e4410": {
      "model_module": "@jupyter-widgets/controls",
      "model_module_version": "1.5.0",
      "model_name": "HBoxModel",
      "state": {
       "children": [
        "IPY_MODEL_758afb248eac4c7784ef10c98f50a95c",
        "IPY_MODEL_35ed5cfc105540ecabe717001be8780f"
       ],
       "layout": "IPY_MODEL_25d3f4a777674545bc934f98b9b92cdc"
      }
     },
     "9469482e29f240e0936e480bbb7b564d": {
      "model_module": "@jupyter-widgets/base",
      "model_module_version": "1.2.0",
      "model_name": "LayoutModel",
      "state": {}
     },
     "94d2fe0e7049401e995992c439dbab2b": {
      "model_module": "@jupyter-widgets/controls",
      "model_module_version": "1.5.0",
      "model_name": "HBoxModel",
      "state": {
       "children": [
        "IPY_MODEL_710471d38c504bcca9af0ad7286ab155",
        "IPY_MODEL_6574238e9f744b488603cd846ea6ad67"
       ],
       "layout": "IPY_MODEL_30bdcbc517a548ab86880f6a38f0c830"
      }
     },
     "94e4ee0e43ce4ed49a2930b0946d434a": {
      "model_module": "@jupyter-widgets/base",
      "model_module_version": "1.2.0",
      "model_name": "LayoutModel",
      "state": {}
     },
     "94f6f0b61dec4e09a7029adc8b605755": {
      "model_module": "@jupyter-widgets/controls",
      "model_module_version": "1.5.0",
      "model_name": "IntSliderModel",
      "state": {
       "description": "step",
       "layout": "IPY_MODEL_032f641859af402cb411fdaecd9dbc6d",
       "max": 4,
       "style": "IPY_MODEL_5c8b74b3dc824581acf6d2bd52e04d17"
      }
     },
     "94ff27a713a74128a2e0304e64892e8e": {
      "model_module": "@jupyter-widgets/controls",
      "model_module_version": "1.5.0",
      "model_name": "ButtonModel",
      "state": {
       "description": "Prev",
       "layout": "IPY_MODEL_d1282b075c8a4f39b1835f0ae03a1885",
       "style": "IPY_MODEL_a6167bed25994da09c60388e3f38bba7"
      }
     },
     "9506502052804b168675d5e840423ddb": {
      "model_module": "@jupyter-widgets/base",
      "model_module_version": "1.2.0",
      "model_name": "LayoutModel",
      "state": {}
     },
     "95118b00182046be82d203a1e7071f6e": {
      "model_module": "@jupyter-widgets/base",
      "model_module_version": "1.2.0",
      "model_name": "LayoutModel",
      "state": {}
     },
     "9564b463662a47e99c3735b2e4e2fb7e": {
      "model_module": "@jupyter-widgets/base",
      "model_module_version": "1.2.0",
      "model_name": "LayoutModel",
      "state": {}
     },
     "9661dbf8f14140bd892f4e14c8304e6d": {
      "model_module": "@jupyter-widgets/controls",
      "model_module_version": "1.5.0",
      "model_name": "HBoxModel",
      "state": {
       "children": [
        "IPY_MODEL_43c595491c3b46a19cb709896e9b2f0f",
        "IPY_MODEL_cf1a5097c9134f32bf901bb996450db5"
       ],
       "layout": "IPY_MODEL_63ed10f4ccb44db49bda8ec7024fc142"
      }
     },
     "96c0ad6043c34105a452593d281950fb": {
      "model_module": "@jupyter-widgets/controls",
      "model_module_version": "1.5.0",
      "model_name": "HBoxModel",
      "state": {
       "children": [
        "IPY_MODEL_15f4d06c83b54562b003d135c32a3812",
        "IPY_MODEL_6c9e7f4ca8ab4d19aa826a1ff7916812"
       ],
       "layout": "IPY_MODEL_e828f5b572284f87b8eff34f674f6a88"
      }
     },
     "96e7fd76addf42e6a83f82a76471e880": {
      "model_module": "@jupyter-widgets/controls",
      "model_module_version": "1.5.0",
      "model_name": "ButtonModel",
      "state": {
       "description": "Prev",
       "layout": "IPY_MODEL_1c10c27cc6ad4d10b23a3597ec071b4f",
       "style": "IPY_MODEL_5c751034cf464bb781ea68480b738702"
      }
     },
     "97ed5916d7a848dd81eb976822815ac2": {
      "model_module": "@jupyter-widgets/base",
      "model_module_version": "1.2.0",
      "model_name": "LayoutModel",
      "state": {}
     },
     "98a1bbf5a1da471d9b79fc18205b2f48": {
      "model_module": "@jupyter-widgets/controls",
      "model_module_version": "1.5.0",
      "model_name": "SliderStyleModel",
      "state": {
       "description_width": ""
      }
     },
     "9969f6bcb0924d48a7905d834921937f": {
      "model_module": "@jupyter-widgets/output",
      "model_module_version": "1.0.0",
      "model_name": "OutputModel",
      "state": {
       "layout": "IPY_MODEL_1c5e3371906741629804291a0df5884f",
       "outputs": [
        {
         "data": {
          "image/png": "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\n",
          "text/plain": "<Figure size 504x504 with 1 Axes>"
         },
         "metadata": {},
         "output_type": "display_data"
        }
       ]
      }
     },
     "9aa791b0dbd94b7e91bd8e5423bf0d28": {
      "model_module": "@jupyter-widgets/controls",
      "model_module_version": "1.5.0",
      "model_name": "ButtonModel",
      "state": {
       "description": "Prev",
       "layout": "IPY_MODEL_443a97e48ad846949d033b7b739d31c8",
       "style": "IPY_MODEL_74474b9c588a40acbc8847d1b10b705b"
      }
     },
     "9aff95858d6c4a02ae044fddf708a46f": {
      "model_module": "@jupyter-widgets/controls",
      "model_module_version": "1.5.0",
      "model_name": "SliderStyleModel",
      "state": {
       "description_width": ""
      }
     },
     "9b7bd6054dc3489c9cdd1e1188ff230e": {
      "model_module": "@jupyter-widgets/base",
      "model_module_version": "1.2.0",
      "model_name": "LayoutModel",
      "state": {}
     },
     "9bf3b61a3b804c73b4cf7be3c29feeab": {
      "model_module": "@jupyter-widgets/controls",
      "model_module_version": "1.5.0",
      "model_name": "ButtonStyleModel",
      "state": {}
     },
     "9c57a8ad5f1944668d66087085d3b237": {
      "model_module": "@jupyter-widgets/controls",
      "model_module_version": "1.5.0",
      "model_name": "ButtonStyleModel",
      "state": {}
     },
     "9c9edc3250e74b6aa706ccbd1e2ecf3b": {
      "model_module": "@jupyter-widgets/base",
      "model_module_version": "1.2.0",
      "model_name": "LayoutModel",
      "state": {}
     },
     "9cef856d064f4bf389ba1584f5e09738": {
      "model_module": "@jupyter-widgets/controls",
      "model_module_version": "1.5.0",
      "model_name": "ButtonStyleModel",
      "state": {}
     },
     "9d49000e962042c18927c834d48c2cb2": {
      "model_module": "@jupyter-widgets/output",
      "model_module_version": "1.0.0",
      "model_name": "OutputModel",
      "state": {
       "layout": "IPY_MODEL_9d57e4349fa0413f95ff0663b18e6b4d",
       "outputs": [
        {
         "data": {
          "image/png": "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\n",
          "text/plain": "<Figure size 504x504 with 1 Axes>"
         },
         "metadata": {},
         "output_type": "display_data"
        }
       ]
      }
     },
     "9d57e4349fa0413f95ff0663b18e6b4d": {
      "model_module": "@jupyter-widgets/base",
      "model_module_version": "1.2.0",
      "model_name": "LayoutModel",
      "state": {}
     },
     "9da41ac2fbb647caacbf7ae1dafef17f": {
      "model_module": "@jupyter-widgets/base",
      "model_module_version": "1.2.0",
      "model_name": "LayoutModel",
      "state": {}
     },
     "9e211eae39804c679c780055ae3a3298": {
      "model_module": "@jupyter-widgets/controls",
      "model_module_version": "1.5.0",
      "model_name": "VBoxModel",
      "state": {
       "_dom_classes": [
        "widget-interact"
       ],
       "children": [
        "IPY_MODEL_b42f11d9e5f84c89960fb9d9f73fdf44",
        "IPY_MODEL_e7a16d4bab14497eb7678c210fe2c5aa"
       ],
       "layout": "IPY_MODEL_9fbbc600fb0442fc84c6c099ae5eacad"
      }
     },
     "9e2b9e231a584de7b3984e428f0dc89b": {
      "model_module": "@jupyter-widgets/controls",
      "model_module_version": "1.5.0",
      "model_name": "ButtonStyleModel",
      "state": {}
     },
     "9e511b4f6c3445b3afe11534901d0505": {
      "model_module": "@jupyter-widgets/base",
      "model_module_version": "1.2.0",
      "model_name": "LayoutModel",
      "state": {}
     },
     "9fbbc600fb0442fc84c6c099ae5eacad": {
      "model_module": "@jupyter-widgets/base",
      "model_module_version": "1.2.0",
      "model_name": "LayoutModel",
      "state": {}
     },
     "a01630e3929041a1b00b1afe36af9f46": {
      "model_module": "@jupyter-widgets/base",
      "model_module_version": "1.2.0",
      "model_name": "LayoutModel",
      "state": {}
     },
     "a055f9ccb4a649e89fcaeb0380e2652c": {
      "model_module": "@jupyter-widgets/base",
      "model_module_version": "1.2.0",
      "model_name": "LayoutModel",
      "state": {}
     },
     "a0c4250963564c93aeeeaa961f724d88": {
      "model_module": "@jupyter-widgets/base",
      "model_module_version": "1.2.0",
      "model_name": "LayoutModel",
      "state": {}
     },
     "a0e36c9b51b04dccbf9921223f33ffc8": {
      "model_module": "@jupyter-widgets/output",
      "model_module_version": "1.0.0",
      "model_name": "OutputModel",
      "state": {
       "layout": "IPY_MODEL_3e8b9861a3eb4913af6e7e9cb09da75e",
       "outputs": [
        {
         "data": {
          "image/png": "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\n",
          "text/plain": "<Figure size 504x504 with 1 Axes>"
         },
         "metadata": {},
         "output_type": "display_data"
        }
       ]
      }
     },
     "a13276199e024caea2c2b33992c09675": {
      "model_module": "@jupyter-widgets/controls",
      "model_module_version": "1.5.0",
      "model_name": "ButtonStyleModel",
      "state": {}
     },
     "a14a0a8d7e364a53bae418a1e0e8452a": {
      "model_module": "@jupyter-widgets/controls",
      "model_module_version": "1.5.0",
      "model_name": "VBoxModel",
      "state": {
       "_dom_classes": [
        "widget-interact"
       ],
       "children": [
        "IPY_MODEL_2b871c9188334501aa4a7529a80dd62c",
        "IPY_MODEL_9d49000e962042c18927c834d48c2cb2"
       ],
       "layout": "IPY_MODEL_e225e336470a4234866ed94d19725a79"
      }
     },
     "a1ba66d7a15a43be832a8ed66f5e546b": {
      "model_module": "@jupyter-widgets/controls",
      "model_module_version": "1.5.0",
      "model_name": "ButtonModel",
      "state": {
       "description": "Next",
       "layout": "IPY_MODEL_c7bcb7a4a6024ff9b4f5ee079857a449",
       "style": "IPY_MODEL_01adf40435bf4361a893568b0b48bb22"
      }
     },
     "a210b2ea8dec4354b2f48b4dbeff1363": {
      "model_module": "@jupyter-widgets/controls",
      "model_module_version": "1.5.0",
      "model_name": "IntSliderModel",
      "state": {
       "description": "step",
       "layout": "IPY_MODEL_031fdd84178947b88422014e9a567199",
       "max": 46,
       "style": "IPY_MODEL_11ec8ff96f9a4f72a72b1a3cb1747c15"
      }
     },
     "a2d21dc2f5474a3cbe67491803e02c2d": {
      "model_module": "@jupyter-widgets/controls",
      "model_module_version": "1.5.0",
      "model_name": "HBoxModel",
      "state": {
       "children": [
        "IPY_MODEL_51851281610d4bf495c5e8ca617a87ec",
        "IPY_MODEL_14aa0e6cb9f341acabcf24089883b2af"
       ],
       "layout": "IPY_MODEL_b5838990e3634bb2a550df94cec76068"
      }
     },
     "a509eb6c8ff24820a6fa5816abe447f9": {
      "model_module": "@jupyter-widgets/controls",
      "model_module_version": "1.5.0",
      "model_name": "IntSliderModel",
      "state": {
       "description": "step",
       "layout": "IPY_MODEL_a055f9ccb4a649e89fcaeb0380e2652c",
       "max": 5,
       "style": "IPY_MODEL_451e8d4e4d994bf5a5b7186476599f26"
      }
     },
     "a6167bed25994da09c60388e3f38bba7": {
      "model_module": "@jupyter-widgets/controls",
      "model_module_version": "1.5.0",
      "model_name": "ButtonStyleModel",
      "state": {}
     },
     "a6727ed681b044b6a014ce2e0ff78458": {
      "model_module": "@jupyter-widgets/controls",
      "model_module_version": "1.5.0",
      "model_name": "SliderStyleModel",
      "state": {
       "description_width": ""
      }
     },
     "a68b0c289af942189c0377238bccab68": {
      "model_module": "@jupyter-widgets/controls",
      "model_module_version": "1.5.0",
      "model_name": "ButtonStyleModel",
      "state": {}
     },
     "a6adf585b4dd48d89924f6123fab6f0d": {
      "model_module": "@jupyter-widgets/output",
      "model_module_version": "1.0.0",
      "model_name": "OutputModel",
      "state": {
       "layout": "IPY_MODEL_61fbdfd36ff04548b3c03311b7c8ed3f",
       "outputs": [
        {
         "data": {
          "image/png": "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\n",
          "text/plain": "<Figure size 504x504 with 1 Axes>"
         },
         "metadata": {},
         "output_type": "display_data"
        }
       ]
      }
     },
     "a8191143b4f74bdc8c78b8ff0b8c154b": {
      "model_module": "@jupyter-widgets/base",
      "model_module_version": "1.2.0",
      "model_name": "LayoutModel",
      "state": {}
     },
     "a8ea53b254b5466bbb2ace10780daf14": {
      "model_module": "@jupyter-widgets/base",
      "model_module_version": "1.2.0",
      "model_name": "LayoutModel",
      "state": {}
     },
     "a91a9598f8e64d929278e8bf5340d9a0": {
      "model_module": "@jupyter-widgets/controls",
      "model_module_version": "1.5.0",
      "model_name": "ButtonStyleModel",
      "state": {}
     },
     "a986783c95b347b0bbb69ebc87efc55e": {
      "model_module": "@jupyter-widgets/base",
      "model_module_version": "1.2.0",
      "model_name": "LayoutModel",
      "state": {}
     },
     "aa1b64a992e64c16b958b1d7d2f1ee2c": {
      "model_module": "@jupyter-widgets/base",
      "model_module_version": "1.2.0",
      "model_name": "LayoutModel",
      "state": {}
     },
     "aa904a1e88154c5c8c23abc81a4004e4": {
      "model_module": "@jupyter-widgets/controls",
      "model_module_version": "1.5.0",
      "model_name": "ButtonStyleModel",
      "state": {}
     },
     "ab0ba0c2be49474db61e8d05f8c1498a": {
      "model_module": "@jupyter-widgets/controls",
      "model_module_version": "1.5.0",
      "model_name": "ButtonModel",
      "state": {
       "description": "Next",
       "layout": "IPY_MODEL_b16570c764d9442d8644f665169cbe10",
       "style": "IPY_MODEL_4a15874c3d0f45a9b21f5b9cf60d69e5"
      }
     },
     "ab7ff4e2833e4a26972434c0617a9ac1": {
      "model_module": "@jupyter-widgets/controls",
      "model_module_version": "1.5.0",
      "model_name": "ButtonModel",
      "state": {
       "description": "Prev",
       "layout": "IPY_MODEL_f6dc72858a3342cf8c74937efc402338",
       "style": "IPY_MODEL_69932fda925a44b0bad702bdeb555e5d"
      }
     },
     "ac50aab610394a8dba46194be1d28485": {
      "model_module": "@jupyter-widgets/controls",
      "model_module_version": "1.5.0",
      "model_name": "ButtonModel",
      "state": {
       "description": "Next",
       "layout": "IPY_MODEL_48d220019c804d72a1a830534a738e5a",
       "style": "IPY_MODEL_25e64fcb84cb47ec80aa05ec0be1b8c1"
      }
     },
     "aee819790a08488994584e3d808d8d5c": {
      "model_module": "@jupyter-widgets/controls",
      "model_module_version": "1.5.0",
      "model_name": "SliderStyleModel",
      "state": {
       "description_width": ""
      }
     },
     "b024c65d849b4c329fea66bdf31808a6": {
      "model_module": "@jupyter-widgets/controls",
      "model_module_version": "1.5.0",
      "model_name": "SliderStyleModel",
      "state": {
       "description_width": ""
      }
     },
     "b11be807a479488bbfc88926ceddd14d": {
      "model_module": "@jupyter-widgets/controls",
      "model_module_version": "1.5.0",
      "model_name": "HBoxModel",
      "state": {
       "children": [
        "IPY_MODEL_b61ba9caf83145d2ba48f050cadea5ce",
        "IPY_MODEL_6e914b439e314e9394cfda228643ae1c"
       ],
       "layout": "IPY_MODEL_0c7febac90d346d0b8a27212901fdb39"
      }
     },
     "b16570c764d9442d8644f665169cbe10": {
      "model_module": "@jupyter-widgets/base",
      "model_module_version": "1.2.0",
      "model_name": "LayoutModel",
      "state": {}
     },
     "b2c2827689ab4e3bab46dd7f783ae76e": {
      "model_module": "@jupyter-widgets/controls",
      "model_module_version": "1.5.0",
      "model_name": "ButtonStyleModel",
      "state": {}
     },
     "b42f11d9e5f84c89960fb9d9f73fdf44": {
      "model_module": "@jupyter-widgets/controls",
      "model_module_version": "1.5.0",
      "model_name": "IntSliderModel",
      "state": {
       "description": "step",
       "layout": "IPY_MODEL_1104d9575e934d4ebba8985392ea94b7",
       "max": 9,
       "style": "IPY_MODEL_2d3846e4c3ce48a9a6e614869271199c",
       "value": 8
      }
     },
     "b5838990e3634bb2a550df94cec76068": {
      "model_module": "@jupyter-widgets/base",
      "model_module_version": "1.2.0",
      "model_name": "LayoutModel",
      "state": {}
     },
     "b5aa4c9f2d994cccaaf16c99c96bc33c": {
      "model_module": "@jupyter-widgets/controls",
      "model_module_version": "1.5.0",
      "model_name": "ButtonModel",
      "state": {
       "description": "Next",
       "layout": "IPY_MODEL_800071da7d9e4d31aa7b406f0bb95aa1",
       "style": "IPY_MODEL_edc5a3c6d09c4f3f98e41c5c77451999"
      }
     },
     "b61ba9caf83145d2ba48f050cadea5ce": {
      "model_module": "@jupyter-widgets/controls",
      "model_module_version": "1.5.0",
      "model_name": "ButtonModel",
      "state": {
       "description": "Prev",
       "layout": "IPY_MODEL_de70f7cf1d2247958bdd5bb221e871a2",
       "style": "IPY_MODEL_9270f346da66401d8a14a7e6723900be"
      }
     },
     "b71b418cb59c4f4d819a6f2555e4b8af": {
      "model_module": "@jupyter-widgets/base",
      "model_module_version": "1.2.0",
      "model_name": "LayoutModel",
      "state": {}
     },
     "b8ccbafa589e4af095252f3199e92f82": {
      "model_module": "@jupyter-widgets/base",
      "model_module_version": "1.2.0",
      "model_name": "LayoutModel",
      "state": {}
     },
     "ba173ce07a3448c698af472fade05bdd": {
      "model_module": "@jupyter-widgets/output",
      "model_module_version": "1.0.0",
      "model_name": "OutputModel",
      "state": {
       "layout": "IPY_MODEL_da4979a53ffd451983aa66677aaf050a",
       "outputs": [
        {
         "data": {
          "image/png": "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\n",
          "text/plain": "<Figure size 504x504 with 1 Axes>"
         },
         "metadata": {},
         "output_type": "display_data"
        }
       ]
      }
     },
     "ba2a4b78060e4267aeadea5d9377669b": {
      "model_module": "@jupyter-widgets/base",
      "model_module_version": "1.2.0",
      "model_name": "LayoutModel",
      "state": {}
     },
     "ba69603c12b54b1ba6b9488e339dee45": {
      "model_module": "@jupyter-widgets/base",
      "model_module_version": "1.2.0",
      "model_name": "LayoutModel",
      "state": {}
     },
     "bad26b1bdf00459891ff723fc9c51a50": {
      "model_module": "@jupyter-widgets/base",
      "model_module_version": "1.2.0",
      "model_name": "LayoutModel",
      "state": {}
     },
     "baf626a2df5d481c99fa928d8d3aa573": {
      "model_module": "@jupyter-widgets/base",
      "model_module_version": "1.2.0",
      "model_name": "LayoutModel",
      "state": {}
     },
     "bb1a588d8dd44771bf19d79eba69c8ad": {
      "model_module": "@jupyter-widgets/controls",
      "model_module_version": "1.5.0",
      "model_name": "ButtonModel",
      "state": {
       "description": "Next",
       "layout": "IPY_MODEL_e38f080245ab4cc8b54c1353fcf23f8c",
       "style": "IPY_MODEL_ea42e096c81247a9a677996c4e0853b3"
      }
     },
     "bc4b567bc5cb4f228d9480f71e826d07": {
      "model_module": "@jupyter-widgets/base",
      "model_module_version": "1.2.0",
      "model_name": "LayoutModel",
      "state": {}
     },
     "bda7be5813e442578e4a47bd10fe9b52": {
      "model_module": "@jupyter-widgets/base",
      "model_module_version": "1.2.0",
      "model_name": "LayoutModel",
      "state": {}
     },
     "bdf2ac4255584f6d9e324eeeea7ecc8a": {
      "model_module": "@jupyter-widgets/base",
      "model_module_version": "1.2.0",
      "model_name": "LayoutModel",
      "state": {}
     },
     "bf094fb2b2d54ab6916edba1c556bb92": {
      "model_module": "@jupyter-widgets/controls",
      "model_module_version": "1.5.0",
      "model_name": "HBoxModel",
      "state": {
       "children": [
        "IPY_MODEL_cd09979db8c4477880c119fd79542ab4",
        "IPY_MODEL_ab0ba0c2be49474db61e8d05f8c1498a"
       ],
       "layout": "IPY_MODEL_de3db0f6fa6c4375b03da2ff49d16f71"
      }
     },
     "bf1fa8b5aa804722a08c9d795ea03ec1": {
      "model_module": "@jupyter-widgets/base",
      "model_module_version": "1.2.0",
      "model_name": "LayoutModel",
      "state": {}
     },
     "bff541ad549d49bcac99372bb27bef38": {
      "model_module": "@jupyter-widgets/base",
      "model_module_version": "1.2.0",
      "model_name": "LayoutModel",
      "state": {}
     },
     "c07bd3c6b3954ab59c778f17e2e85fde": {
      "model_module": "@jupyter-widgets/base",
      "model_module_version": "1.2.0",
      "model_name": "LayoutModel",
      "state": {}
     },
     "c0e8ad2cd7084dc3be5bd8d2785e93d2": {
      "model_module": "@jupyter-widgets/output",
      "model_module_version": "1.0.0",
      "model_name": "OutputModel",
      "state": {
       "layout": "IPY_MODEL_e24d7cf097644679b257cdc6a4cce868",
       "outputs": [
        {
         "data": {
          "image/png": "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\n",
          "text/plain": "<Figure size 504x504 with 1 Axes>"
         },
         "metadata": {},
         "output_type": "display_data"
        }
       ]
      }
     },
     "c1a0f3867cd8419ca25c5386bccce55b": {
      "model_module": "@jupyter-widgets/controls",
      "model_module_version": "1.5.0",
      "model_name": "VBoxModel",
      "state": {
       "_dom_classes": [
        "widget-interact"
       ],
       "children": [
        "IPY_MODEL_ccd858a0203843adbf6fdd630bee226d",
        "IPY_MODEL_8aa5d0797f6b40afb44cb38c7322bd2b"
       ],
       "layout": "IPY_MODEL_648e6822f4804c1c9b43643558e2301c"
      }
     },
     "c4471cdaa50e456fb1db1869d417a29c": {
      "model_module": "@jupyter-widgets/controls",
      "model_module_version": "1.5.0",
      "model_name": "VBoxModel",
      "state": {
       "_dom_classes": [
        "widget-interact"
       ],
       "children": [
        "IPY_MODEL_4de9beb526ca4c7f88fb1bbb10d5cc3b",
        "IPY_MODEL_20d70df7501041ce89f59e17bb64d8be"
       ],
       "layout": "IPY_MODEL_b71b418cb59c4f4d819a6f2555e4b8af"
      }
     },
     "c4f51c258ada4b56b3839ef3873b40d2": {
      "model_module": "@jupyter-widgets/controls",
      "model_module_version": "1.5.0",
      "model_name": "VBoxModel",
      "state": {
       "_dom_classes": [
        "widget-interact"
       ],
       "children": [
        "IPY_MODEL_cf42973c610a4b11a19fcd9e6f82e2aa",
        "IPY_MODEL_9969f6bcb0924d48a7905d834921937f"
       ],
       "layout": "IPY_MODEL_f0b3be14fe1243558414c5722f64cf17"
      }
     },
     "c6b2c712759b47a686e61697b9a6d882": {
      "model_module": "@jupyter-widgets/controls",
      "model_module_version": "1.5.0",
      "model_name": "ButtonModel",
      "state": {
       "description": "Prev",
       "layout": "IPY_MODEL_205841c24c5f47cdb848f6faa0dbbe07",
       "style": "IPY_MODEL_f7e2e15664ef4633b97c002cccd9c6e5"
      }
     },
     "c7bcb7a4a6024ff9b4f5ee079857a449": {
      "model_module": "@jupyter-widgets/base",
      "model_module_version": "1.2.0",
      "model_name": "LayoutModel",
      "state": {}
     },
     "c827cd94d0ce41018e14a46a45edb157": {
      "model_module": "@jupyter-widgets/controls",
      "model_module_version": "1.5.0",
      "model_name": "IntSliderModel",
      "state": {
       "description": "step",
       "layout": "IPY_MODEL_0b2cc14fb12f4a2cb8c52ae54e89c6da",
       "max": 18,
       "style": "IPY_MODEL_2999f3e342ee4f3ca2d0948d5bc28821"
      }
     },
     "c85de055c67343d8afd6282b3a121c99": {
      "model_module": "@jupyter-widgets/controls",
      "model_module_version": "1.5.0",
      "model_name": "HBoxModel",
      "state": {
       "children": [
        "IPY_MODEL_4eee99f9050e49d0b03b55a802534f12",
        "IPY_MODEL_fca15d388195497c90cf4ec8a16740dc"
       ],
       "layout": "IPY_MODEL_6098b32a337c422db23508db241b70b4"
      }
     },
     "c9302e023ae4421c812fb7877a2b56d6": {
      "model_module": "@jupyter-widgets/base",
      "model_module_version": "1.2.0",
      "model_name": "LayoutModel",
      "state": {}
     },
     "c9d2e08868054491bc74bd4a19dbde4e": {
      "model_module": "@jupyter-widgets/controls",
      "model_module_version": "1.5.0",
      "model_name": "ButtonStyleModel",
      "state": {}
     },
     "ca790cfb094d426787c5f2a139a63cfb": {
      "model_module": "@jupyter-widgets/controls",
      "model_module_version": "1.5.0",
      "model_name": "IntSliderModel",
      "state": {
       "description": "step",
       "layout": "IPY_MODEL_2df3743bdc5d4eee996c7368e7e744e7",
       "max": 32,
       "style": "IPY_MODEL_40fcf5ea625e4cbbb5a4ba0873a274ee"
      }
     },
     "ca822b4be26e4c75aa104c9a71631f88": {
      "model_module": "@jupyter-widgets/controls",
      "model_module_version": "1.5.0",
      "model_name": "IntSliderModel",
      "state": {
       "description": "step",
       "layout": "IPY_MODEL_4715244f2c8d4f83b3c6f4303930fb37",
       "max": 7,
       "style": "IPY_MODEL_26348ec223ad468c834b42dd36f71433"
      }
     },
     "cb0e4399bb884666a2e23b59d2fc5fcc": {
      "model_module": "@jupyter-widgets/controls",
      "model_module_version": "1.5.0",
      "model_name": "VBoxModel",
      "state": {
       "_dom_classes": [
        "widget-interact"
       ],
       "children": [
        "IPY_MODEL_7dd09917c24748ad9ad78aa0d7ce35fb",
        "IPY_MODEL_e727ef8bb4f646a4a4a6c21837c178e5"
       ],
       "layout": "IPY_MODEL_76f751919c80474cb4fdc14371e62399"
      }
     },
     "cc1da1f863f44ae7b6a6b94b8e6b26cd": {
      "model_module": "@jupyter-widgets/base",
      "model_module_version": "1.2.0",
      "model_name": "LayoutModel",
      "state": {}
     },
     "cc208359bcab40c58d27f9a99f69f4c0": {
      "model_module": "@jupyter-widgets/output",
      "model_module_version": "1.0.0",
      "model_name": "OutputModel",
      "state": {
       "layout": "IPY_MODEL_c9302e023ae4421c812fb7877a2b56d6",
       "outputs": [
        {
         "data": {
          "image/png": "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\n",
          "text/plain": "<Figure size 504x504 with 1 Axes>"
         },
         "metadata": {},
         "output_type": "display_data"
        }
       ]
      }
     },
     "cc25849c0c6c443e8750e42e87d39710": {
      "model_module": "@jupyter-widgets/controls",
      "model_module_version": "1.5.0",
      "model_name": "ButtonStyleModel",
      "state": {}
     },
     "ccd858a0203843adbf6fdd630bee226d": {
      "model_module": "@jupyter-widgets/controls",
      "model_module_version": "1.5.0",
      "model_name": "IntSliderModel",
      "state": {
       "description": "step",
       "layout": "IPY_MODEL_43ac913323cd459997cd944767a86d68",
       "max": 30,
       "style": "IPY_MODEL_7996b20a052140cca4188ce227bf5e1c"
      }
     },
     "cd09979db8c4477880c119fd79542ab4": {
      "model_module": "@jupyter-widgets/controls",
      "model_module_version": "1.5.0",
      "model_name": "ButtonModel",
      "state": {
       "description": "Prev",
       "layout": "IPY_MODEL_f781c391f1204f33a44a5dbf1a26c5fc",
       "style": "IPY_MODEL_199ff6ea6a284b5ead1b854e21be8e82"
      }
     },
     "cda6dd16ebef4bfd98d5eb5c8ce0f4cc": {
      "model_module": "@jupyter-widgets/controls",
      "model_module_version": "1.5.0",
      "model_name": "ButtonModel",
      "state": {
       "description": "Next",
       "layout": "IPY_MODEL_5d5e1d7c6a48450d97c308c77bd40c5f",
       "style": "IPY_MODEL_fc46bab3a8204883ab4ff333b6777995"
      }
     },
     "cde35b7dfbc74fe2b7b5910ae57a26cd": {
      "model_module": "@jupyter-widgets/base",
      "model_module_version": "1.2.0",
      "model_name": "LayoutModel",
      "state": {}
     },
     "ce6f21f1d60641e5818853d4040c441d": {
      "model_module": "@jupyter-widgets/controls",
      "model_module_version": "1.5.0",
      "model_name": "VBoxModel",
      "state": {
       "_dom_classes": [
        "widget-interact"
       ],
       "children": [
        "IPY_MODEL_7b7bf27aee24429c827f035763ad7d62",
        "IPY_MODEL_f4f5798ff5fe4ce58b66fc3748e33840"
       ],
       "layout": "IPY_MODEL_5618adf982db414e82b0fdcfafb45cca"
      }
     },
     "ce7ffed194284b24a06df21884bf9689": {
      "model_module": "@jupyter-widgets/controls",
      "model_module_version": "1.5.0",
      "model_name": "VBoxModel",
      "state": {
       "_dom_classes": [
        "widget-interact"
       ],
       "children": [
        "IPY_MODEL_ca790cfb094d426787c5f2a139a63cfb",
        "IPY_MODEL_d32ae6c0289c4eeebecce1038c869948"
       ],
       "layout": "IPY_MODEL_5ad4a8abb4564e0284834ca1381ad6e0"
      }
     },
     "ce91943ea99c467eac3625767c142678": {
      "model_module": "@jupyter-widgets/controls",
      "model_module_version": "1.5.0",
      "model_name": "IntSliderModel",
      "state": {
       "description": "step",
       "layout": "IPY_MODEL_19dc64c702d541dba89f5f5324468733",
       "max": 1,
       "style": "IPY_MODEL_fa16f76e98c64ceb874acd41e15d6b03"
      }
     },
     "cf1a5097c9134f32bf901bb996450db5": {
      "model_module": "@jupyter-widgets/controls",
      "model_module_version": "1.5.0",
      "model_name": "ButtonModel",
      "state": {
       "description": "Next",
       "layout": "IPY_MODEL_ba2a4b78060e4267aeadea5d9377669b",
       "style": "IPY_MODEL_1da0bd3ce9f249c78622236e76931825"
      }
     },
     "cf42973c610a4b11a19fcd9e6f82e2aa": {
      "model_module": "@jupyter-widgets/controls",
      "model_module_version": "1.5.0",
      "model_name": "IntSliderModel",
      "state": {
       "description": "step",
       "layout": "IPY_MODEL_6b1118f59a28424aa4753fad4aec2073",
       "max": 1,
       "style": "IPY_MODEL_2d328bd2a41d4721834115d2049c926d"
      }
     },
     "d08f1ff3b90145118a9dc77c2827ca17": {
      "model_module": "@jupyter-widgets/controls",
      "model_module_version": "1.5.0",
      "model_name": "HBoxModel",
      "state": {
       "children": [
        "IPY_MODEL_76c6215faa1b4ed4ae9feda3ce89091d",
        "IPY_MODEL_720d08139c9046ff9a550d796ba65332"
       ],
       "layout": "IPY_MODEL_9506502052804b168675d5e840423ddb"
      }
     },
     "d1282b075c8a4f39b1835f0ae03a1885": {
      "model_module": "@jupyter-widgets/base",
      "model_module_version": "1.2.0",
      "model_name": "LayoutModel",
      "state": {}
     },
     "d1650cb96eb04d84a8b29bd598a8081d": {
      "model_module": "@jupyter-widgets/controls",
      "model_module_version": "1.5.0",
      "model_name": "VBoxModel",
      "state": {
       "_dom_classes": [
        "widget-interact"
       ],
       "children": [
        "IPY_MODEL_70e088d685a948e3a81d06c0907f5613",
        "IPY_MODEL_8cdde6b7e48241e7a6f929bf50932437"
       ],
       "layout": "IPY_MODEL_43dcd403ef0843318501117b9df59aad"
      }
     },
     "d2e823965fef4a35b75b2d7a96d8b592": {
      "model_module": "@jupyter-widgets/base",
      "model_module_version": "1.2.0",
      "model_name": "LayoutModel",
      "state": {}
     },
     "d2fa639e5f884d999573f56f4cb58ab2": {
      "model_module": "@jupyter-widgets/controls",
      "model_module_version": "1.5.0",
      "model_name": "ButtonModel",
      "state": {
       "description": "Next",
       "layout": "IPY_MODEL_22b218da916441d4ace061bc9f8892fe",
       "style": "IPY_MODEL_68286cbf348a4889bcaa1da5130e29b5"
      }
     },
     "d32ae6c0289c4eeebecce1038c869948": {
      "model_module": "@jupyter-widgets/output",
      "model_module_version": "1.0.0",
      "model_name": "OutputModel",
      "state": {
       "layout": "IPY_MODEL_74d59227dcc841979e9bff316d4b883b",
       "outputs": [
        {
         "data": {
          "image/png": "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\n",
          "text/plain": "<Figure size 504x504 with 1 Axes>"
         },
         "metadata": {},
         "output_type": "display_data"
        }
       ]
      }
     },
     "d4d248460db24063928cc4babd3739bc": {
      "model_module": "@jupyter-widgets/base",
      "model_module_version": "1.2.0",
      "model_name": "LayoutModel",
      "state": {}
     },
     "d6da7e6210bb475a9da4dd6d7a0e48cf": {
      "model_module": "@jupyter-widgets/controls",
      "model_module_version": "1.5.0",
      "model_name": "ButtonModel",
      "state": {
       "description": "Prev",
       "layout": "IPY_MODEL_103c26b15cd74360818c2f0dc61a6d13",
       "style": "IPY_MODEL_9bf3b61a3b804c73b4cf7be3c29feeab"
      }
     },
     "d73ab3af8a164b4983d93830073433f6": {
      "model_module": "@jupyter-widgets/base",
      "model_module_version": "1.2.0",
      "model_name": "LayoutModel",
      "state": {}
     },
     "d84b17c7edee44b08c43fbf7cfef2916": {
      "model_module": "@jupyter-widgets/controls",
      "model_module_version": "1.5.0",
      "model_name": "IntSliderModel",
      "state": {
       "description": "step",
       "layout": "IPY_MODEL_21282d50a6084e6ea0baae98c73a07ff",
       "max": 46,
       "style": "IPY_MODEL_4293790ab53b4c85a1f6286fe8f6b14a",
       "value": 3
      }
     },
     "d857b0be28a04f35979efbf254b552d0": {
      "model_module": "@jupyter-widgets/base",
      "model_module_version": "1.2.0",
      "model_name": "LayoutModel",
      "state": {}
     },
     "d9d00c8b860c4cebaff0e3bca6e84c03": {
      "model_module": "@jupyter-widgets/controls",
      "model_module_version": "1.5.0",
      "model_name": "HBoxModel",
      "state": {
       "children": [
        "IPY_MODEL_c6b2c712759b47a686e61697b9a6d882",
        "IPY_MODEL_8d47fab68ad745c98d00aee722bdbd17"
       ],
       "layout": "IPY_MODEL_288fdf0ffc04427c8593bf79178db0f2"
      }
     },
     "da4979a53ffd451983aa66677aaf050a": {
      "model_module": "@jupyter-widgets/base",
      "model_module_version": "1.2.0",
      "model_name": "LayoutModel",
      "state": {}
     },
     "db2b749521534f4289cb349e9a8209e1": {
      "model_module": "@jupyter-widgets/base",
      "model_module_version": "1.2.0",
      "model_name": "LayoutModel",
      "state": {}
     },
     "dba4b8aebe5a4a879eda1340b3087afe": {
      "model_module": "@jupyter-widgets/base",
      "model_module_version": "1.2.0",
      "model_name": "LayoutModel",
      "state": {}
     },
     "dce9d0109bb843e6825f723eab3de4b1": {
      "model_module": "@jupyter-widgets/base",
      "model_module_version": "1.2.0",
      "model_name": "LayoutModel",
      "state": {}
     },
     "dd10086197c04371ae497bb90c0f49f3": {
      "model_module": "@jupyter-widgets/controls",
      "model_module_version": "1.5.0",
      "model_name": "ButtonStyleModel",
      "state": {}
     },
     "de3db0f6fa6c4375b03da2ff49d16f71": {
      "model_module": "@jupyter-widgets/base",
      "model_module_version": "1.2.0",
      "model_name": "LayoutModel",
      "state": {}
     },
     "de70f7cf1d2247958bdd5bb221e871a2": {
      "model_module": "@jupyter-widgets/base",
      "model_module_version": "1.2.0",
      "model_name": "LayoutModel",
      "state": {}
     },
     "de9e77fd3539450f923f69324ab3f666": {
      "model_module": "@jupyter-widgets/base",
      "model_module_version": "1.2.0",
      "model_name": "LayoutModel",
      "state": {}
     },
     "df165ec5f8fc453782008bf75a32c6ca": {
      "model_module": "@jupyter-widgets/controls",
      "model_module_version": "1.5.0",
      "model_name": "HBoxModel",
      "state": {
       "children": [
        "IPY_MODEL_77b7954e445b47fd942e2e2e77ea16a9",
        "IPY_MODEL_003ab594fdbb4ca4835d0e141b3e697a"
       ],
       "layout": "IPY_MODEL_fc9b32ecaa4244a9ad9e60779aeb36f5"
      }
     },
     "e002305e9f4b436e9f84168bf7126609": {
      "model_module": "@jupyter-widgets/controls",
      "model_module_version": "1.5.0",
      "model_name": "HBoxModel",
      "state": {
       "children": [
        "IPY_MODEL_3b7a02d4439940509d1dcd44b44ff493",
        "IPY_MODEL_b5aa4c9f2d994cccaaf16c99c96bc33c"
       ],
       "layout": "IPY_MODEL_518becf2003d45b6b6c11374bb37da9c"
      }
     },
     "e0383dc0c3bc402faf61f4686681d161": {
      "model_module": "@jupyter-widgets/output",
      "model_module_version": "1.0.0",
      "model_name": "OutputModel",
      "state": {
       "layout": "IPY_MODEL_77bfda3d8ee14431a5b6eab31730eed3",
       "outputs": [
        {
         "data": {
          "image/png": "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\n",
          "text/plain": "<Figure size 504x504 with 1 Axes>"
         },
         "metadata": {},
         "output_type": "display_data"
        }
       ]
      }
     },
     "e07b124c6cde4b06998ebe9c0cef0d60": {
      "model_module": "@jupyter-widgets/base",
      "model_module_version": "1.2.0",
      "model_name": "LayoutModel",
      "state": {}
     },
     "e13f3f8ff80646d2b93e9b3f08a29169": {
      "model_module": "@jupyter-widgets/controls",
      "model_module_version": "1.5.0",
      "model_name": "VBoxModel",
      "state": {
       "_dom_classes": [
        "widget-interact"
       ],
       "children": [
        "IPY_MODEL_18fd2d2b6da643e9ae754e47d96616e3",
        "IPY_MODEL_a0e36c9b51b04dccbf9921223f33ffc8"
       ],
       "layout": "IPY_MODEL_75a4f615e4ae4435a72e486cb40e8d45"
      }
     },
     "e1695384148f4d959614326c0967903b": {
      "model_module": "@jupyter-widgets/controls",
      "model_module_version": "1.5.0",
      "model_name": "VBoxModel",
      "state": {
       "_dom_classes": [
        "widget-interact"
       ],
       "children": [
        "IPY_MODEL_1ec77268f2e84e17bd0fb3254bfe619d",
        "IPY_MODEL_e2ed90e1d1d8469eab40c3585810a0f0"
       ],
       "layout": "IPY_MODEL_46a8b11763cb4d07b52839cf8846bde0"
      }
     },
     "e1e5468a24324087b5ae265444847506": {
      "model_module": "@jupyter-widgets/controls",
      "model_module_version": "1.5.0",
      "model_name": "SliderStyleModel",
      "state": {
       "description_width": ""
      }
     },
     "e1fed0acf923419e9c9113915d44e50d": {
      "model_module": "@jupyter-widgets/base",
      "model_module_version": "1.2.0",
      "model_name": "LayoutModel",
      "state": {}
     },
     "e225e336470a4234866ed94d19725a79": {
      "model_module": "@jupyter-widgets/base",
      "model_module_version": "1.2.0",
      "model_name": "LayoutModel",
      "state": {}
     },
     "e24d7cf097644679b257cdc6a4cce868": {
      "model_module": "@jupyter-widgets/base",
      "model_module_version": "1.2.0",
      "model_name": "LayoutModel",
      "state": {}
     },
     "e27c0fc0896c42718ead9a736a9ca3e5": {
      "model_module": "@jupyter-widgets/controls",
      "model_module_version": "1.5.0",
      "model_name": "ButtonModel",
      "state": {
       "description": "Prev",
       "layout": "IPY_MODEL_197931cd628941cbbe80d173ca1a0ec3",
       "style": "IPY_MODEL_93a3cff359e94bbaafff24fbd1721fba"
      }
     },
     "e2ed90e1d1d8469eab40c3585810a0f0": {
      "model_module": "@jupyter-widgets/output",
      "model_module_version": "1.0.0",
      "model_name": "OutputModel",
      "state": {
       "layout": "IPY_MODEL_08fd244c6c794a61945639d96e47ef03",
       "outputs": [
        {
         "data": {
          "image/png": "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\n",
          "text/plain": "<Figure size 504x504 with 1 Axes>"
         },
         "metadata": {},
         "output_type": "display_data"
        }
       ]
      }
     },
     "e38f080245ab4cc8b54c1353fcf23f8c": {
      "model_module": "@jupyter-widgets/base",
      "model_module_version": "1.2.0",
      "model_name": "LayoutModel",
      "state": {}
     },
     "e3ae7f061da64251bed8964fbcf4b3f0": {
      "model_module": "@jupyter-widgets/base",
      "model_module_version": "1.2.0",
      "model_name": "LayoutModel",
      "state": {}
     },
     "e457ced687eb46709264edcb4a9137db": {
      "model_module": "@jupyter-widgets/base",
      "model_module_version": "1.2.0",
      "model_name": "LayoutModel",
      "state": {}
     },
     "e4c64066e7224eeab2be41fca0ef4c19": {
      "model_module": "@jupyter-widgets/base",
      "model_module_version": "1.2.0",
      "model_name": "LayoutModel",
      "state": {}
     },
     "e584ba5edafb4caab7f93fa631295bb7": {
      "model_module": "@jupyter-widgets/controls",
      "model_module_version": "1.5.0",
      "model_name": "ButtonModel",
      "state": {
       "description": "Prev",
       "layout": "IPY_MODEL_95118b00182046be82d203a1e7071f6e",
       "style": "IPY_MODEL_07bed683aea546818718b73407644457"
      }
     },
     "e66dd9409f6c47319763041cfefb028d": {
      "model_module": "@jupyter-widgets/controls",
      "model_module_version": "1.5.0",
      "model_name": "HBoxModel",
      "state": {
       "children": [
        "IPY_MODEL_f0d281b3e05d4cc5aec5ebda5b51665e",
        "IPY_MODEL_66a551bafdb54b40a69d466794e07937"
       ],
       "layout": "IPY_MODEL_0a529a9861b64544b3283bb7122fd80a"
      }
     },
     "e684cd5831564829aee37f4782d857f4": {
      "model_module": "@jupyter-widgets/controls",
      "model_module_version": "1.5.0",
      "model_name": "ButtonModel",
      "state": {
       "description": "Next",
       "layout": "IPY_MODEL_10357bf43ef84273ad4259a27199e940",
       "style": "IPY_MODEL_a91a9598f8e64d929278e8bf5340d9a0"
      }
     },
     "e727ef8bb4f646a4a4a6c21837c178e5": {
      "model_module": "@jupyter-widgets/output",
      "model_module_version": "1.0.0",
      "model_name": "OutputModel",
      "state": {
       "layout": "IPY_MODEL_075aef483f24417193e26ef133dabd6b",
       "outputs": [
        {
         "data": {
          "image/png": "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\n",
          "text/plain": "<Figure size 504x504 with 1 Axes>"
         },
         "metadata": {},
         "output_type": "display_data"
        }
       ]
      }
     },
     "e742bf7c7457471a93832da874ee0cd4": {
      "model_module": "@jupyter-widgets/controls",
      "model_module_version": "1.5.0",
      "model_name": "ButtonStyleModel",
      "state": {}
     },
     "e7a16d4bab14497eb7678c210fe2c5aa": {
      "model_module": "@jupyter-widgets/output",
      "model_module_version": "1.0.0",
      "model_name": "OutputModel",
      "state": {
       "layout": "IPY_MODEL_5e0196e92dfb49bf8420376ccfbcdf7f",
       "outputs": [
        {
         "data": {
          "image/png": "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\n",
          "text/plain": "<Figure size 504x504 with 1 Axes>"
         },
         "metadata": {},
         "output_type": "display_data"
        }
       ]
      }
     },
     "e828f5b572284f87b8eff34f674f6a88": {
      "model_module": "@jupyter-widgets/base",
      "model_module_version": "1.2.0",
      "model_name": "LayoutModel",
      "state": {}
     },
     "e8c532e666b84b8d917a3d910361905d": {
      "model_module": "@jupyter-widgets/base",
      "model_module_version": "1.2.0",
      "model_name": "LayoutModel",
      "state": {}
     },
     "e97a9491fd38412f9dd50c907068bc17": {
      "model_module": "@jupyter-widgets/base",
      "model_module_version": "1.2.0",
      "model_name": "LayoutModel",
      "state": {}
     },
     "e9e178e2488a4d8bbde2eae621e035b6": {
      "model_module": "@jupyter-widgets/controls",
      "model_module_version": "1.5.0",
      "model_name": "VBoxModel",
      "state": {
       "_dom_classes": [
        "widget-interact"
       ],
       "children": [
        "IPY_MODEL_71f18299b575496c94a3f7c7333b6cd2",
        "IPY_MODEL_ba173ce07a3448c698af472fade05bdd"
       ],
       "layout": "IPY_MODEL_e1fed0acf923419e9c9113915d44e50d"
      }
     },
     "ea00b2f7a8634a348390ca79c3e8e05d": {
      "model_module": "@jupyter-widgets/base",
      "model_module_version": "1.2.0",
      "model_name": "LayoutModel",
      "state": {}
     },
     "ea42e096c81247a9a677996c4e0853b3": {
      "model_module": "@jupyter-widgets/controls",
      "model_module_version": "1.5.0",
      "model_name": "ButtonStyleModel",
      "state": {}
     },
     "eb1dfb8ae92f4d96acd656399a349495": {
      "model_module": "@jupyter-widgets/controls",
      "model_module_version": "1.5.0",
      "model_name": "ButtonModel",
      "state": {
       "description": "Prev",
       "layout": "IPY_MODEL_8c18d9107cf849b88db5457085ee62a4",
       "style": "IPY_MODEL_67be0b38fa21441b9828c28159dcc735"
      }
     },
     "eb89e628d1f146e89f5a6d70381fd92f": {
      "model_module": "@jupyter-widgets/base",
      "model_module_version": "1.2.0",
      "model_name": "LayoutModel",
      "state": {}
     },
     "ebad9178e4ee46ba85f057431cbcd3a2": {
      "model_module": "@jupyter-widgets/base",
      "model_module_version": "1.2.0",
      "model_name": "LayoutModel",
      "state": {}
     },
     "ec79a6d21c5843139f0b40d5c102a5cf": {
      "model_module": "@jupyter-widgets/controls",
      "model_module_version": "1.5.0",
      "model_name": "ButtonModel",
      "state": {
       "description": "Prev",
       "layout": "IPY_MODEL_528d78ca4db04111938ed19870f03692",
       "style": "IPY_MODEL_7c887305e7904348afa0f424159595ad"
      }
     },
     "eccc8cbbdea74b7897369953c0efe9e3": {
      "model_module": "@jupyter-widgets/base",
      "model_module_version": "1.2.0",
      "model_name": "LayoutModel",
      "state": {}
     },
     "edc5a3c6d09c4f3f98e41c5c77451999": {
      "model_module": "@jupyter-widgets/controls",
      "model_module_version": "1.5.0",
      "model_name": "ButtonStyleModel",
      "state": {}
     },
     "ef6d038e737c4fc0b8cd5268f3aef540": {
      "model_module": "@jupyter-widgets/controls",
      "model_module_version": "1.5.0",
      "model_name": "ButtonModel",
      "state": {
       "description": "Next",
       "layout": "IPY_MODEL_4510d1fd0a41441b9a57e96943d1b1d8",
       "style": "IPY_MODEL_6eca976a3fdc4058a3e53737ba7dd34d"
      }
     },
     "efb459447af84f5db2400a0b2223b328": {
      "model_module": "@jupyter-widgets/controls",
      "model_module_version": "1.5.0",
      "model_name": "ButtonStyleModel",
      "state": {}
     },
     "f0b3be14fe1243558414c5722f64cf17": {
      "model_module": "@jupyter-widgets/base",
      "model_module_version": "1.2.0",
      "model_name": "LayoutModel",
      "state": {}
     },
     "f0b8eeb0d87042639b2414c498fbdfad": {
      "model_module": "@jupyter-widgets/controls",
      "model_module_version": "1.5.0",
      "model_name": "ButtonModel",
      "state": {
       "description": "Prev",
       "layout": "IPY_MODEL_fe55737eaab34001816d408882866127",
       "style": "IPY_MODEL_fd9f5b3ede624d958f8385d33b651427"
      }
     },
     "f0d281b3e05d4cc5aec5ebda5b51665e": {
      "model_module": "@jupyter-widgets/controls",
      "model_module_version": "1.5.0",
      "model_name": "ButtonModel",
      "state": {
       "description": "Prev",
       "layout": "IPY_MODEL_9e511b4f6c3445b3afe11534901d0505",
       "style": "IPY_MODEL_f16b981537544b73b253d0665cbb4190"
      }
     },
     "f16b981537544b73b253d0665cbb4190": {
      "model_module": "@jupyter-widgets/controls",
      "model_module_version": "1.5.0",
      "model_name": "ButtonStyleModel",
      "state": {}
     },
     "f2a35aa9bf1b4e13b4c7ee317d11a9f2": {
      "model_module": "@jupyter-widgets/controls",
      "model_module_version": "1.5.0",
      "model_name": "ButtonStyleModel",
      "state": {}
     },
     "f2fd64bc22bd471f8280b105f38e20ca": {
      "model_module": "@jupyter-widgets/controls",
      "model_module_version": "1.5.0",
      "model_name": "ButtonStyleModel",
      "state": {}
     },
     "f35faba89fc349f6997631a1e8073dcd": {
      "model_module": "@jupyter-widgets/controls",
      "model_module_version": "1.5.0",
      "model_name": "ButtonStyleModel",
      "state": {}
     },
     "f36c90ab5dda4730a29b1a4d01f99154": {
      "model_module": "@jupyter-widgets/controls",
      "model_module_version": "1.5.0",
      "model_name": "ButtonStyleModel",
      "state": {}
     },
     "f48406e213bc420b83023f98f3c36766": {
      "model_module": "@jupyter-widgets/base",
      "model_module_version": "1.2.0",
      "model_name": "LayoutModel",
      "state": {}
     },
     "f498de5096334270b64271cf9e653756": {
      "model_module": "@jupyter-widgets/base",
      "model_module_version": "1.2.0",
      "model_name": "LayoutModel",
      "state": {}
     },
     "f4f5798ff5fe4ce58b66fc3748e33840": {
      "model_module": "@jupyter-widgets/output",
      "model_module_version": "1.0.0",
      "model_name": "OutputModel",
      "state": {
       "layout": "IPY_MODEL_80802c4bcbcb4ef886a5b4a44993523b",
       "outputs": [
        {
         "data": {
          "image/png": "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\n",
          "text/plain": "<Figure size 504x504 with 1 Axes>"
         },
         "metadata": {},
         "output_type": "display_data"
        }
       ]
      }
     },
     "f50f7ffbe24d4a3ca27f1c972b17088c": {
      "model_module": "@jupyter-widgets/controls",
      "model_module_version": "1.5.0",
      "model_name": "ButtonModel",
      "state": {
       "description": "Next",
       "layout": "IPY_MODEL_65f309ccc127485ea6002ef2da5eaa35",
       "style": "IPY_MODEL_44fe6b7672514d25bc28ac66e198becc"
      }
     },
     "f522c4f67744432dbb53af1a6ab1815d": {
      "model_module": "@jupyter-widgets/controls",
      "model_module_version": "1.5.0",
      "model_name": "ButtonStyleModel",
      "state": {}
     },
     "f56194e9a8bc4daaa58a92f01b2f9d54": {
      "model_module": "@jupyter-widgets/output",
      "model_module_version": "1.0.0",
      "model_name": "OutputModel",
      "state": {
       "layout": "IPY_MODEL_49ed1d251be84384ad2edc37ab657a75",
       "outputs": [
        {
         "data": {
          "image/png": "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\n",
          "text/plain": "<Figure size 504x504 with 1 Axes>"
         },
         "metadata": {},
         "output_type": "display_data"
        }
       ]
      }
     },
     "f619553f53f548c4aa70af01132baba6": {
      "model_module": "@jupyter-widgets/base",
      "model_module_version": "1.2.0",
      "model_name": "LayoutModel",
      "state": {}
     },
     "f66730b1493743468cdbe36bd6256e20": {
      "model_module": "@jupyter-widgets/controls",
      "model_module_version": "1.5.0",
      "model_name": "SliderStyleModel",
      "state": {
       "description_width": ""
      }
     },
     "f6dc72858a3342cf8c74937efc402338": {
      "model_module": "@jupyter-widgets/base",
      "model_module_version": "1.2.0",
      "model_name": "LayoutModel",
      "state": {}
     },
     "f75d9171b40349498c6c791883868892": {
      "model_module": "@jupyter-widgets/base",
      "model_module_version": "1.2.0",
      "model_name": "LayoutModel",
      "state": {}
     },
     "f7608b7d9876416693e527ee17eb5f7a": {
      "model_module": "@jupyter-widgets/base",
      "model_module_version": "1.2.0",
      "model_name": "LayoutModel",
      "state": {}
     },
     "f781c391f1204f33a44a5dbf1a26c5fc": {
      "model_module": "@jupyter-widgets/base",
      "model_module_version": "1.2.0",
      "model_name": "LayoutModel",
      "state": {}
     },
     "f7e2e15664ef4633b97c002cccd9c6e5": {
      "model_module": "@jupyter-widgets/controls",
      "model_module_version": "1.5.0",
      "model_name": "ButtonStyleModel",
      "state": {}
     },
     "f9f6e306c5904478ae5b336c61c361aa": {
      "model_module": "@jupyter-widgets/base",
      "model_module_version": "1.2.0",
      "model_name": "LayoutModel",
      "state": {}
     },
     "f9fa55202a67476fa06abb23af7d1615": {
      "model_module": "@jupyter-widgets/controls",
      "model_module_version": "1.5.0",
      "model_name": "ButtonModel",
      "state": {
       "description": "Next",
       "layout": "IPY_MODEL_5717b0b87b094879a0456a254a8276c6",
       "style": "IPY_MODEL_53bea99966384028b8f803e59eb661dd"
      }
     },
     "fa16f76e98c64ceb874acd41e15d6b03": {
      "model_module": "@jupyter-widgets/controls",
      "model_module_version": "1.5.0",
      "model_name": "SliderStyleModel",
      "state": {
       "description_width": ""
      }
     },
     "fb82fcb607d74af8afdea439efddff42": {
      "model_module": "@jupyter-widgets/controls",
      "model_module_version": "1.5.0",
      "model_name": "ButtonModel",
      "state": {
       "description": "Next",
       "layout": "IPY_MODEL_73d405cd28e846de86a19f5d695edaff",
       "style": "IPY_MODEL_9c57a8ad5f1944668d66087085d3b237"
      }
     },
     "fb9ecce0a47443699addf6d921f17261": {
      "model_module": "@jupyter-widgets/controls",
      "model_module_version": "1.5.0",
      "model_name": "IntSliderModel",
      "state": {
       "description": "step",
       "layout": "IPY_MODEL_f9f6e306c5904478ae5b336c61c361aa",
       "max": 1,
       "style": "IPY_MODEL_88ab436455bf45d588eef5a47c13971a"
      }
     },
     "fc44940e0daa4d5199119a216dea812c": {
      "model_module": "@jupyter-widgets/base",
      "model_module_version": "1.2.0",
      "model_name": "LayoutModel",
      "state": {}
     },
     "fc46bab3a8204883ab4ff333b6777995": {
      "model_module": "@jupyter-widgets/controls",
      "model_module_version": "1.5.0",
      "model_name": "ButtonStyleModel",
      "state": {}
     },
     "fc6769e3425e4828a5a9d6e74b79412e": {
      "model_module": "@jupyter-widgets/controls",
      "model_module_version": "1.5.0",
      "model_name": "ButtonModel",
      "state": {
       "description": "Next",
       "layout": "IPY_MODEL_aa1b64a992e64c16b958b1d7d2f1ee2c",
       "style": "IPY_MODEL_aa904a1e88154c5c8c23abc81a4004e4"
      }
     },
     "fc7f2b146b944e6abafbfafb5315dbeb": {
      "model_module": "@jupyter-widgets/controls",
      "model_module_version": "1.5.0",
      "model_name": "ButtonStyleModel",
      "state": {}
     },
     "fc9b32ecaa4244a9ad9e60779aeb36f5": {
      "model_module": "@jupyter-widgets/base",
      "model_module_version": "1.2.0",
      "model_name": "LayoutModel",
      "state": {}
     },
     "fca15d388195497c90cf4ec8a16740dc": {
      "model_module": "@jupyter-widgets/controls",
      "model_module_version": "1.5.0",
      "model_name": "ButtonModel",
      "state": {
       "description": "Next",
       "layout": "IPY_MODEL_7f281771414244a189c0c85d5e94a1e0",
       "style": "IPY_MODEL_dd10086197c04371ae497bb90c0f49f3"
      }
     },
     "fd26eb4cbd224299b21664a159e8db0b": {
      "model_module": "@jupyter-widgets/controls",
      "model_module_version": "1.5.0",
      "model_name": "VBoxModel",
      "state": {
       "_dom_classes": [
        "widget-interact"
       ],
       "children": [
        "IPY_MODEL_31263a2a2f584e1aaf5624d150c85816",
        "IPY_MODEL_89578081a1f54c4583df162f464dd11f"
       ],
       "layout": "IPY_MODEL_e3ae7f061da64251bed8964fbcf4b3f0"
      }
     },
     "fd9f5b3ede624d958f8385d33b651427": {
      "model_module": "@jupyter-widgets/controls",
      "model_module_version": "1.5.0",
      "model_name": "ButtonStyleModel",
      "state": {}
     },
     "fda3ef28a22c4f6f89785fa328af7425": {
      "model_module": "@jupyter-widgets/base",
      "model_module_version": "1.2.0",
      "model_name": "LayoutModel",
      "state": {}
     },
     "fddc40474ff9460aa21980893d2bfd67": {
      "model_module": "@jupyter-widgets/controls",
      "model_module_version": "1.5.0",
      "model_name": "VBoxModel",
      "state": {
       "_dom_classes": [
        "widget-interact"
       ],
       "children": [
        "IPY_MODEL_fb9ecce0a47443699addf6d921f17261",
        "IPY_MODEL_2d2198a3fe6b4711aadddc9f701c30f0"
       ],
       "layout": "IPY_MODEL_bc4b567bc5cb4f228d9480f71e826d07"
      }
     },
     "fe3085ff80ca423986aa98c3a18e32e5": {
      "model_module": "@jupyter-widgets/controls",
      "model_module_version": "1.5.0",
      "model_name": "ButtonStyleModel",
      "state": {}
     },
     "fe55737eaab34001816d408882866127": {
      "model_module": "@jupyter-widgets/base",
      "model_module_version": "1.2.0",
      "model_name": "LayoutModel",
      "state": {}
     },
     "fedc8c96b073480e8a5bb4e785071491": {
      "model_module": "@jupyter-widgets/base",
      "model_module_version": "1.2.0",
      "model_name": "LayoutModel",
      "state": {}
     },
     "ff132100569e4453afeb05d188a6ae13": {
      "model_module": "@jupyter-widgets/controls",
      "model_module_version": "1.5.0",
      "model_name": "HBoxModel",
      "state": {
       "children": [
        "IPY_MODEL_ab7ff4e2833e4a26972434c0617a9ac1",
        "IPY_MODEL_3bb55091b6dc432e809ca69c3531062f"
       ],
       "layout": "IPY_MODEL_c07bd3c6b3954ab59c778f17e2e85fde"
      }
     }
    },
    "version_major": 2,
    "version_minor": 0
   }
  }
 },
 "nbformat": 4,
 "nbformat_minor": 4
}
