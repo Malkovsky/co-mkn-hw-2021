{
 "cells": [
  {
   "cell_type": "code",
   "execution_count": 1,
   "metadata": {
    "collapsed": true
   },
   "outputs": [],
   "source": [
    "import numpy as np\n",
    "import scipy.linalg as slin\n",
    "from matplotlib import pyplot as plt"
   ]
  },
  {
   "cell_type": "code",
   "execution_count": 2,
   "outputs": [],
   "source": [
    "MAGIC = 1\n",
    "EPS = 1e-5"
   ],
   "metadata": {
    "collapsed": false,
    "pycharm": {
     "name": "#%%\n"
    }
   }
  },
  {
   "cell_type": "markdown",
   "source": [
    "### SparseMatrix"
   ],
   "metadata": {
    "collapsed": false
   }
  },
  {
   "cell_type": "code",
   "execution_count": 3,
   "outputs": [],
   "source": [
    "class SparseMatrix:\n",
    "    __array_priority__ = MAGIC\n",
    "    def __init__(self, arr, size=None):\n",
    "        if isinstance(arr, tuple):  # SparseMatrix form\n",
    "            self._rows, self._cols, self._vals = arr\n",
    "            assert (size != None)\n",
    "            self.size = size  # (h, w)\n",
    "        else:\n",
    "            if not isinstance(arr, np.ndarray):\n",
    "                arr = np.array(arr)\n",
    "            rows_cols = np.where(arr != 0)\n",
    "            self._rows, self._cols = rows_cols\n",
    "            self._vals = arr[rows_cols]\n",
    "            self.size = arr.shape\n",
    "\n",
    "    def __mul__(self, other):\n",
    "        assert (other.size == self.size[1])\n",
    "        other.reshape(-1,)\n",
    "        res_vec = [0] * self.size[0]\n",
    "        for i, col in enumerate(self._rows):\n",
    "            res_vec[col] += other[self._cols[i]] * self._vals[i]\n",
    "        return np.array(res_vec)\n",
    "\n",
    "    def __rmul__(self, other):\n",
    "        assert (other.size == self.size[0])\n",
    "        other.reshape(-1,)\n",
    "        res_vec = [0] * self.size[1]\n",
    "        for i, row in enumerate(self._cols):\n",
    "            res_vec[row] += other[self._rows[i]] * self._vals[i]\n",
    "        return np.array(res_vec)"
   ],
   "metadata": {
    "collapsed": false,
    "pycharm": {
     "name": "#%%\n"
    }
   }
  },
  {
   "cell_type": "markdown",
   "source": [
    "### CGD"
   ],
   "metadata": {
    "collapsed": false
   }
  },
  {
   "cell_type": "code",
   "execution_count": 4,
   "outputs": [],
   "source": [
    "def conjugate_gradient_method(A, b, x0):\n",
    "    x = x0\n",
    "    v = (A * x - b)\n",
    "    d = v\n",
    "    v_norm = np.dot(v, v)\n",
    "    result = [x]\n",
    "    for i in range(len(b)):\n",
    "        Ad = A * d\n",
    "        alpha = v_norm / np.dot(d, Ad)\n",
    "        x = x - alpha * d\n",
    "        v = v - alpha * Ad\n",
    "        v_norm_new = np.dot(v, v)\n",
    "        d = v + (v_norm_new / v_norm) * d\n",
    "        v_norm = v_norm_new\n",
    "        result.append(x)\n",
    "    return result"
   ],
   "metadata": {
    "collapsed": false,
    "pycharm": {
     "name": "#%%\n"
    }
   }
  },
  {
   "cell_type": "markdown",
   "source": [
    "### Tests"
   ],
   "metadata": {
    "collapsed": false,
    "pycharm": {
     "name": "#%% md\n"
    }
   }
  },
  {
   "cell_type": "code",
   "execution_count": 9,
   "outputs": [],
   "source": [
    "def test_sparse_matrix_not_sparse():\n",
    "    np.random.seed(0)\n",
    "    for _ in range(100):\n",
    "        [h,w] = np.random.randint(1, 15, size=2)\n",
    "        A = np.random.rand(h,w)\n",
    "        b = np.random.rand(h)\n",
    "        c = np.random.rand(w)\n",
    "        assert (np.linalg.norm(A @ c - SparseMatrix(A) * c) < EPS)\n",
    "        assert (np.linalg.norm(b @ A - b * SparseMatrix(A)) < EPS)\n",
    "\n",
    "def test_sparse_matrix_sparse():\n",
    "    np.random.seed(0)\n",
    "    for _ in range(100):\n",
    "        [h, w] = np.random.randint(25, 100, size=2)\n",
    "        kol = np.random.randint(1, h * w // 10)\n",
    "        cols = np.random.randint(w, size=kol)\n",
    "        rows = np.random.randint(h, size=kol)\n",
    "        rows, cols = np.unique(np.vstack((rows, cols)), axis=1)  # filter (row1, col1) = (row2, col2)\n",
    "        vals = np.random.randint(-100, 100, size=rows.size)\n",
    "        sparseA = SparseMatrix((rows, cols, vals), size=(h, w))\n",
    "        A = np.zeros((h, w))\n",
    "        A[rows, cols] = vals\n",
    "        b = np.random.rand(h)\n",
    "        c = np.random.rand(w)\n",
    "        assert (np.linalg.norm(A @ c - sparseA * c) < EPS)\n",
    "        assert (np.linalg.norm(b @ A - b * sparseA) < EPS)\n",
    "\n",
    "def test_conjugate_gradient(sz=5):\n",
    "    A = np.random.rand(sz, sz)\n",
    "    A = A @ A.T\n",
    "    sD = slin.sqrtm(np.linalg.inv(np.diag(np.diag(A))))\n",
    "    A = sD.T @ A @ sD\n",
    "    A = SparseMatrix(A)\n",
    "    b = np.random.rand(sz)\n",
    "    ans = conjugate_gradient_method(A, b, np.zeros_like(b))\n",
    "    fig, axs = plt.subplots(1, 1, figsize=(10, 7))\n",
    "    axs.plot([i for i in range(len(ans))], [np.linalg.norm(A * x - b) for x in ans], label='CGD')\n",
    "    axs.legend()\n",
    "    axs.set_ylabel(r\"$\\||Ax_k-b\\||$\", fontsize=20)\n",
    "    axs.set_xlabel(r\"$k$\", fontsize=20)\n",
    "    axs.set_yscale(\"log\")\n",
    "    plt.show()"
   ],
   "metadata": {
    "collapsed": false,
    "pycharm": {
     "name": "#%%\n"
    }
   }
  },
  {
   "cell_type": "code",
   "execution_count": 6,
   "outputs": [],
   "source": [
    "test_sparse_matrix_not_sparse()"
   ],
   "metadata": {
    "collapsed": false,
    "pycharm": {
     "name": "#%%\n"
    }
   }
  },
  {
   "cell_type": "code",
   "execution_count": 7,
   "outputs": [],
   "source": [
    "test_sparse_matrix_sparse()"
   ],
   "metadata": {
    "collapsed": false,
    "pycharm": {
     "name": "#%%\n"
    }
   }
  },
  {
   "cell_type": "code",
   "execution_count": 10,
   "outputs": [
    {
     "data": {
      "text/plain": "<Figure size 720x504 with 1 Axes>",
      "image/png": "[encoded data removed]"
     },
     "metadata": {
      "needs_background": "light"
     },
     "output_type": "display_data"
    }
   ],
   "source": [
    "test_conjugate_gradient()"
   ],
   "metadata": {
    "collapsed": false,
    "pycharm": {
     "name": "#%%\n"
    }
   }
  },
  {
   "cell_type": "code",
   "execution_count": 8,
   "outputs": [],
   "source": [],
   "metadata": {
    "collapsed": false,
    "pycharm": {
     "name": "#%%\n"
    }
   }
  }
 ],
 "metadata": {
  "kernelspec": {
   "display_name": "Python 3",
   "language": "python",
   "name": "python3"
  },
  "language_info": {
   "codemirror_mode": {
    "name": "ipython",
    "version": 2
   },
   "file_extension": ".py",
   "mimetype": "text/x-python",
   "name": "python",
   "nbconvert_exporter": "python",
   "pygments_lexer": "ipython2",
   "version": "2.7.6"
  }
 },
 "nbformat": 4,
 "nbformat_minor": 0
}